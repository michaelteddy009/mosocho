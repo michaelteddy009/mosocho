{
 "cells": [
  {
   "cell_type": "code",
   "execution_count": 1,
   "metadata": {},
   "outputs": [],
   "source": [
    "import pandas as pd"
   ]
  },
  {
   "cell_type": "code",
   "execution_count": 2,
   "metadata": {},
   "outputs": [
    {
     "data": {
      "text/html": [
       "<div>\n",
       "<style scoped>\n",
       "    .dataframe tbody tr th:only-of-type {\n",
       "        vertical-align: middle;\n",
       "    }\n",
       "\n",
       "    .dataframe tbody tr th {\n",
       "        vertical-align: top;\n",
       "    }\n",
       "\n",
       "    .dataframe thead th {\n",
       "        text-align: right;\n",
       "    }\n",
       "</style>\n",
       "<table border=\"1\" class=\"dataframe\">\n",
       "  <thead>\n",
       "    <tr style=\"text-align: right;\">\n",
       "      <th></th>\n",
       "      <th>Date</th>\n",
       "      <th>Code</th>\n",
       "      <th>Debit</th>\n",
       "      <th>Credit</th>\n",
       "      <th>Description</th>\n",
       "      <th>Reference</th>\n",
       "      <th>Reference 2</th>\n",
       "      <th>Note</th>\n",
       "    </tr>\n",
       "  </thead>\n",
       "  <tbody>\n",
       "    <tr>\n",
       "      <th>114</th>\n",
       "      <td>2018-12-13</td>\n",
       "      <td>JNL</td>\n",
       "      <td>0.0</td>\n",
       "      <td>13000.0</td>\n",
       "      <td>Car fuel for Dec 2018 and garbage collection</td>\n",
       "      <td>PV 2125</td>\n",
       "      <td>123</td>\n",
       "      <td>NaN</td>\n",
       "    </tr>\n",
       "    <tr>\n",
       "      <th>115</th>\n",
       "      <td>2018-12-19</td>\n",
       "      <td>CASH</td>\n",
       "      <td>5500.0</td>\n",
       "      <td>0.0</td>\n",
       "      <td>Inwarcd cheque payment</td>\n",
       "      <td>Bank statement</td>\n",
       "      <td>CBR00320</td>\n",
       "      <td>NaN</td>\n",
       "    </tr>\n",
       "    <tr>\n",
       "      <th>116</th>\n",
       "      <td>2018-12-19</td>\n",
       "      <td>JNL</td>\n",
       "      <td>0.0</td>\n",
       "      <td>5500.0</td>\n",
       "      <td>Payment of Bible readin marathon</td>\n",
       "      <td>Cheque No.00524</td>\n",
       "      <td>123</td>\n",
       "      <td>NaN</td>\n",
       "    </tr>\n",
       "    <tr>\n",
       "      <th>117</th>\n",
       "      <td>2018-12-19</td>\n",
       "      <td>CASH</td>\n",
       "      <td>124550.0</td>\n",
       "      <td>0.0</td>\n",
       "      <td>Cheque Encashment</td>\n",
       "      <td>Cheque No.00964</td>\n",
       "      <td>CBR00367</td>\n",
       "      <td>NaN</td>\n",
       "    </tr>\n",
       "    <tr>\n",
       "      <th>118</th>\n",
       "      <td>2018-12-19</td>\n",
       "      <td>JNL</td>\n",
       "      <td>0.0</td>\n",
       "      <td>124550.0</td>\n",
       "      <td>Isinya costs</td>\n",
       "      <td>PV 2133</td>\n",
       "      <td>123</td>\n",
       "      <td>NaN</td>\n",
       "    </tr>\n",
       "  </tbody>\n",
       "</table>\n",
       "</div>"
      ],
      "text/plain": [
       "          Date  Code     Debit    Credit  \\\n",
       "114 2018-12-13   JNL       0.0   13000.0   \n",
       "115 2018-12-19  CASH    5500.0       0.0   \n",
       "116 2018-12-19   JNL       0.0    5500.0   \n",
       "117 2018-12-19  CASH  124550.0       0.0   \n",
       "118 2018-12-19   JNL       0.0  124550.0   \n",
       "\n",
       "                                      Description        Reference  \\\n",
       "114  Car fuel for Dec 2018 and garbage collection          PV 2125   \n",
       "115                        Inwarcd cheque payment   Bank statement   \n",
       "116              Payment of Bible readin marathon  Cheque No.00524   \n",
       "117                             Cheque Encashment  Cheque No.00964   \n",
       "118                                  Isinya costs          PV 2133   \n",
       "\n",
       "    Reference 2  Note  \n",
       "114         123   NaN  \n",
       "115    CBR00320   NaN  \n",
       "116         123   NaN  \n",
       "117    CBR00367   NaN  \n",
       "118         123   NaN  "
      ]
     },
     "execution_count": 2,
     "metadata": {},
     "output_type": "execute_result"
    }
   ],
   "source": [
    "file = \"SUBC/SUK unacategorized expense.xlsx\"\n",
    "frame = pd.read_excel(file)\n",
    "frame.tail()"
   ]
  },
  {
   "cell_type": "code",
   "execution_count": null,
   "metadata": {},
   "outputs": [],
   "source": [
    "credit_list = frame[\"Credit\"].tolist() #creates a list from a column\n",
    "\n",
    "credit = []\n",
    "for cred in credit_list:  #appends the non zero to the credit list\n",
    "    if cred != 0:\n",
    "        credit.append(cred)\n",
    "print(credit)"
   ]
  },
  {
   "cell_type": "code",
   "execution_count": null,
   "metadata": {},
   "outputs": [],
   "source": [
    "debit_list = frame[\"Debit\"].tolist()\n",
    "\n",
    "debit = []\n",
    "for deb in debit_list:\n",
    "    if deb != 0:\n",
    "        debit.append(deb)\n",
    "        pass\n",
    "print(debit)"
   ]
  },
  {
   "cell_type": "code",
   "execution_count": null,
   "metadata": {},
   "outputs": [],
   "source": [
    "#sum(set(debit).intersection(credit))"
   ]
  },
  {
   "cell_type": "code",
   "execution_count": null,
   "metadata": {},
   "outputs": [],
   "source": [
    "#mike = list(set(debit) - set(credit))"
   ]
  },
  {
   "cell_type": "code",
   "execution_count": null,
   "metadata": {},
   "outputs": [],
   "source": [
    "def list_difference(b, a): # Removes the numbers from b for those that are found in a\n",
    "    c = list(b)\n",
    "    for item in a:\n",
    "       try:\n",
    "           c.remove(item)\n",
    "       except ValueError:\n",
    "           pass            #or maybe you want to keep a values here\n",
    "    return c\n"
   ]
  },
  {
   "cell_type": "code",
   "execution_count": null,
   "metadata": {},
   "outputs": [],
   "source": [
    "list_difference(credit, debit)"
   ]
  },
  {
   "cell_type": "code",
   "execution_count": null,
   "metadata": {},
   "outputs": [],
   "source": [
    "list_difference(debit, credit)"
   ]
  },
  {
   "cell_type": "code",
   "execution_count": null,
   "metadata": {},
   "outputs": [],
   "source": [
    "debit_nonrepeat = list_difference(debit, credit)\n",
    "credit_nonrepeat = list_difference(credit, debit)\n",
    "print(\"These are the non repeat debit : \" + str(debit_nonrepeat))\n",
    "print(\"\\n\\nThese are the non repeat credit : \" + str(credit_nonrepeat))"
   ]
  },
  {
   "cell_type": "code",
   "execution_count": null,
   "metadata": {},
   "outputs": [],
   "source": [
    "total_debit = sum(debit_nonrepeat)\n",
    "total_credit = sum(credit_nonrepeat)\n",
    "Difference = total_debit - total_credit\n",
    "total_debit\n",
    "total_credit\n",
    "Difference"
   ]
  },
  {
   "cell_type": "code",
   "execution_count": null,
   "metadata": {},
   "outputs": [],
   "source": [
    "final = frame[frame[\"Debit\"].isin(debit)]\n",
    "final.to_excel('debit_uncatego.xlsx')"
   ]
  },
  {
   "cell_type": "code",
   "execution_count": null,
   "metadata": {},
   "outputs": [],
   "source": [
    "final = frame[frame[\"Credit\"].isin(credit)]\n",
    "final.to_excel('credit_uncatego.xlsx')"
   ]
  },
  {
   "cell_type": "code",
   "execution_count": null,
   "metadata": {},
   "outputs": [],
   "source": []
  },
  {
   "cell_type": "code",
   "execution_count": null,
   "metadata": {},
   "outputs": [],
   "source": []
  }
 ],
 "metadata": {
  "kernelspec": {
   "display_name": "Python 3",
   "language": "python",
   "name": "python3"
  },
  "language_info": {
   "codemirror_mode": {
    "name": "ipython",
    "version": 3
   },
   "file_extension": ".py",
   "mimetype": "text/x-python",
   "name": "python",
   "nbconvert_exporter": "python",
   "pygments_lexer": "ipython3",
   "version": "3.7.1"
  }
 },
 "nbformat": 4,
 "nbformat_minor": 2
}
