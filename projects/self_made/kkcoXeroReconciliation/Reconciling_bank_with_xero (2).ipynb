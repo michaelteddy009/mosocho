{
 "cells": [
  {
   "cell_type": "code",
   "execution_count": null,
   "metadata": {},
   "outputs": [],
   "source": [
    "import pandas as pd\n"
   ]
  },
  {
   "cell_type": "code",
   "execution_count": null,
   "metadata": {},
   "outputs": [],
   "source": [
    "\n",
    "file_bank = \"Cop1128/Copbank.xls\" #Create the Bank frame\n",
    "bank = pd.read_excel(file_bank)\n",
    "#bank.set_index('Date', inplace=True)\n",
    "\n",
    "file_xero = \"Cop1128/Copxero.xls\" #Create xero frame\n",
    "xero = pd.read_excel(file_xero)\n",
    "#xero.set_index('Date', inplace=True)  #the inplace makes sure the change remains intack"
   ]
  },
  {
   "cell_type": "code",
   "execution_count": null,
   "metadata": {},
   "outputs": [],
   "source": [
    "#Creat lists of credit and Debit \n",
    "bankIncome = bank[\"Debit\"].tolist()\n",
    "bankExpense = bank[\"Credit\"].tolist()\n",
    "xeroIncome = xero[\"Debit\"].tolist()\n",
    "xeroExpense = xero[\"Credit\"].tolist()"
   ]
  },
  {
   "cell_type": "code",
   "execution_count": null,
   "metadata": {},
   "outputs": [],
   "source": [
    "#Clean The Lists\n",
    "bankIncome1 = [x for x in bankIncome if str(x) != '-']\n",
    "bankExpense1 = [x for x in bankExpense if str(x) != '-']\n",
    "       \n",
    "xeroIncome1 = [x for x in xeroIncome if str(x) != 'nan']\n",
    "xeroExpense1 = [x for x in xeroExpense if str(x) != 'nan']\n"
   ]
  },
  {
   "cell_type": "code",
   "execution_count": null,
   "metadata": {},
   "outputs": [],
   "source": [
    "def list_difference(b, a): # Removes the numbers from b for those that are found in a\n",
    "    c = b.copy()  # or list(b)\n",
    "    for item in a:\n",
    "       try:\n",
    "           c.remove(item)\n",
    "       except ValueError:\n",
    "           pass            #or maybe you want to keep a values here\n",
    "    return c\n",
    "\n",
    "\n",
    "\n",
    "def list_similar(b, a): # Removes the numbers from b for those that are found in a\n",
    "    c = b.copy()  # or list(b)\n",
    "    same = []\n",
    "    for item in a:\n",
    "       try:\n",
    "        if item in c:\n",
    "            same.append(item)\n",
    "            c.remove(item)\n",
    "       except ValueError:\n",
    "           pass            #or maybe you want to keep a values here\n",
    "    return same\n",
    " "
   ]
  },
  {
   "cell_type": "code",
   "execution_count": null,
   "metadata": {},
   "outputs": [],
   "source": [
    "#differences between xero and bank  (values that dont unify postings and actual banks)\n",
    "\n",
    "xero_unmatched_income = list_difference(xeroIncome1, bankIncome1)\n",
    "one = pd.Series(xero_unmatched_income) #xero income not matching\n",
    "xero_unmatched_expense = list_difference(xeroExpense1, bankExpense1)\n",
    "two = pd.Series(xero_unmatched_expense)#xero expense not matching\n",
    "\n",
    "\n",
    "bank_unmatched_income = list_difference(bankIncome1, xeroIncome1)\n",
    "three = pd.Series(bank_unmatched_income) #bank income not matching\n",
    "bank_unmatched_expense = list_difference(bankExpense1, xeroExpense1)\n",
    "four = pd.Series(bank_unmatched_expense) #bank expense not matching"
   ]
  },
  {
   "cell_type": "code",
   "execution_count": null,
   "metadata": {},
   "outputs": [],
   "source": [
    "#WRITE TO EXCEL THE DIFFERENCES\n",
    "writer = pd.ExcelWriter('Cop1128/UnreconcilingAmounts.xlsx', engine='xlsxwriter')\n",
    "\n",
    "one1 = xero[xero[\"Debit\"].isin(one)]\n",
    "one1.to_excel(writer, sheet_name=\"xeroIncome\")\n",
    "\n",
    "two1 = xero[xero[\"Credit\"].isin(two)]\n",
    "two1.to_excel(writer, sheet_name=\"xeroExpense\")\n",
    "\n",
    "three1 = bank[bank[\"Debit\"].isin(three)]\n",
    "three1.to_excel(writer, sheet_name=\"bankIncome\")\n",
    "\n",
    "four1 = bank[bank[\"Credit\"].isin(four)]\n",
    "four1.to_excel(writer, sheet_name=\"bankExpense\")\n",
    "\n",
    "writer.close()"
   ]
  },
  {
   "cell_type": "code",
   "execution_count": null,
   "metadata": {},
   "outputs": [],
   "source": [
    "writer1 = pd.ExcelWriter('Cop1128/ReconcilingAmounts.xlsx', engine='xlsxwriter')\n",
    "\n",
    "#PRODUCE THE INCOME RECONCILIATION WHERE RECONCILIED\n",
    "similarIncome = list_similar(xeroIncome1, bankIncome1)\n",
    "\n",
    "bankIncomeFrame = bank[bank['Debit'].isin(similarIncome)]  #These are similar Income\n",
    "xeroIncomeFrame = xero[xero['Debit'].isin(similarIncome)] \n",
    "\n",
    "'''#bankIncomeFrame['Debit'].astype(int)\n",
    "#bankIncomeFrame['Debit'].astype(int)\n",
    "#IncomeReconciliation = pd.merge(bankIncomeFrame, xeroIncomeFrame, on=\"Debit\", how='outer')'''\n",
    "\n",
    "xeroIncomeFrame.to_excel(writer1, sheet_name='xeroIncome')\n",
    "bankIncomeFrame.to_excel(writer1, sheet_name='bankIncome')\n",
    "\n",
    "\n",
    "#PRODUCE THE EXPENSE RECONCILIATION WHERE RECONCILIED\n",
    "\n",
    "similarExpense = list_similar(xeroExpense1, bankExpense1)\n",
    "\n",
    "bankExpenseFrame = bank[bank['Credit'].isin(similarExpense)]  #These are similar Expense frames from bank and xero\n",
    "xeroExpenseFrame = xero[xero['Credit'].isin(similarExpense)] \n",
    "\n",
    "xeroExpenseFrame.to_excel(writer1, sheet_name='xeroExpense')\n",
    "bankExpenseFrame.to_excel(writer1, sheet_name='bankExpense')\n",
    "\n",
    "writer1.close()"
   ]
  },
  {
   "cell_type": "code",
   "execution_count": null,
   "metadata": {},
   "outputs": [],
   "source": []
  },
  {
   "cell_type": "code",
   "execution_count": null,
   "metadata": {},
   "outputs": [],
   "source": []
  },
  {
   "cell_type": "code",
   "execution_count": null,
   "metadata": {},
   "outputs": [],
   "source": []
  },
  {
   "cell_type": "code",
   "execution_count": null,
   "metadata": {},
   "outputs": [],
   "source": []
  },
  {
   "cell_type": "code",
   "execution_count": null,
   "metadata": {},
   "outputs": [],
   "source": []
  },
  {
   "cell_type": "code",
   "execution_count": null,
   "metadata": {},
   "outputs": [],
   "source": []
  },
  {
   "cell_type": "code",
   "execution_count": null,
   "metadata": {},
   "outputs": [],
   "source": []
  },
  {
   "cell_type": "code",
   "execution_count": null,
   "metadata": {},
   "outputs": [],
   "source": []
  },
  {
   "cell_type": "code",
   "execution_count": null,
   "metadata": {},
   "outputs": [],
   "source": []
  },
  {
   "cell_type": "code",
   "execution_count": null,
   "metadata": {},
   "outputs": [],
   "source": [
    "\n"
   ]
  },
  {
   "cell_type": "code",
   "execution_count": null,
   "metadata": {},
   "outputs": [],
   "source": []
  }
 ],
 "metadata": {
  "kernelspec": {
   "display_name": "Python 3",
   "language": "python",
   "name": "python3"
  },
  "language_info": {
   "codemirror_mode": {
    "name": "ipython",
    "version": 3
   },
   "file_extension": ".py",
   "mimetype": "text/x-python",
   "name": "python",
   "nbconvert_exporter": "python",
   "pygments_lexer": "ipython3",
   "version": "3.7.1"
  }
 },
 "nbformat": 4,
 "nbformat_minor": 2
}
