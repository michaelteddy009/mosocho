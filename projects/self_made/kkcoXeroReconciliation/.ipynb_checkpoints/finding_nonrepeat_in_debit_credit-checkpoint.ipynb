{
 "cells": [
  {
   "cell_type": "code",
   "execution_count": 74,
   "metadata": {},
   "outputs": [],
   "source": [
    "import pandas as pd"
   ]
  },
  {
   "cell_type": "code",
   "execution_count": 76,
   "metadata": {},
   "outputs": [
    {
     "data": {
      "text/html": [
       "<div>\n",
       "<style scoped>\n",
       "    .dataframe tbody tr th:only-of-type {\n",
       "        vertical-align: middle;\n",
       "    }\n",
       "\n",
       "    .dataframe tbody tr th {\n",
       "        vertical-align: top;\n",
       "    }\n",
       "\n",
       "    .dataframe thead th {\n",
       "        text-align: right;\n",
       "    }\n",
       "</style>\n",
       "<table border=\"1\" class=\"dataframe\">\n",
       "  <thead>\n",
       "    <tr style=\"text-align: right;\">\n",
       "      <th></th>\n",
       "      <th>Date</th>\n",
       "      <th>Code</th>\n",
       "      <th>Debit</th>\n",
       "      <th>Credit</th>\n",
       "      <th>Description</th>\n",
       "      <th>Reference</th>\n",
       "      <th>Reference 2</th>\n",
       "      <th>Note</th>\n",
       "    </tr>\n",
       "  </thead>\n",
       "  <tbody>\n",
       "    <tr>\n",
       "      <th>0</th>\n",
       "      <td>2018-10-05</td>\n",
       "      <td>CASH</td>\n",
       "      <td>26157.0</td>\n",
       "      <td>0.0</td>\n",
       "      <td>Sales banked</td>\n",
       "      <td>Cheque No.001198</td>\n",
       "      <td>CBR00499</td>\n",
       "      <td>NaN</td>\n",
       "    </tr>\n",
       "    <tr>\n",
       "      <th>1</th>\n",
       "      <td>2018-10-05</td>\n",
       "      <td>CASH</td>\n",
       "      <td>26157.0</td>\n",
       "      <td>0.0</td>\n",
       "      <td>Sales banked</td>\n",
       "      <td>Cheque No.001197</td>\n",
       "      <td>CBR00499</td>\n",
       "      <td>NaN</td>\n",
       "    </tr>\n",
       "    <tr>\n",
       "      <th>2</th>\n",
       "      <td>2018-10-05</td>\n",
       "      <td>CASH</td>\n",
       "      <td>52800.0</td>\n",
       "      <td>0.0</td>\n",
       "      <td>Sales banked</td>\n",
       "      <td>Cheque No.01205</td>\n",
       "      <td>CBR00499</td>\n",
       "      <td>NaN</td>\n",
       "    </tr>\n",
       "    <tr>\n",
       "      <th>3</th>\n",
       "      <td>2018-10-05</td>\n",
       "      <td>CASH</td>\n",
       "      <td>0.0</td>\n",
       "      <td>26157.0</td>\n",
       "      <td>Simon Njaria salaries - August 2018</td>\n",
       "      <td>PV 1606 - Cheque No.001198</td>\n",
       "      <td>JBR00259</td>\n",
       "      <td>NaN</td>\n",
       "    </tr>\n",
       "    <tr>\n",
       "      <th>4</th>\n",
       "      <td>2018-10-05</td>\n",
       "      <td>CASH</td>\n",
       "      <td>0.0</td>\n",
       "      <td>26157.0</td>\n",
       "      <td>Simon Njaria salaries - September 2018</td>\n",
       "      <td>PV 1604 - Cheque No.001198</td>\n",
       "      <td>JBR00259</td>\n",
       "      <td>NaN</td>\n",
       "    </tr>\n",
       "  </tbody>\n",
       "</table>\n",
       "</div>"
      ],
      "text/plain": [
       "        Date  Code    Debit   Credit                             Description  \\\n",
       "0 2018-10-05  CASH  26157.0      0.0                            Sales banked   \n",
       "1 2018-10-05  CASH  26157.0      0.0                            Sales banked   \n",
       "2 2018-10-05  CASH  52800.0      0.0                            Sales banked   \n",
       "3 2018-10-05  CASH      0.0  26157.0     Simon Njaria salaries - August 2018   \n",
       "4 2018-10-05  CASH      0.0  26157.0  Simon Njaria salaries - September 2018   \n",
       "\n",
       "                    Reference Reference 2  Note  \n",
       "0            Cheque No.001198    CBR00499   NaN  \n",
       "1            Cheque No.001197    CBR00499   NaN  \n",
       "2             Cheque No.01205    CBR00499   NaN  \n",
       "3  PV 1606 - Cheque No.001198    JBR00259   NaN  \n",
       "4  PV 1604 - Cheque No.001198    JBR00259   NaN  "
      ]
     },
     "execution_count": 76,
     "metadata": {},
     "output_type": "execute_result"
    }
   ],
   "source": [
    "file = \"SUBC/Expenses Oct- Dec 2018.xlsx\"\n",
    "frame = pd.read_excel(file)\n",
    "frame.head()"
   ]
  },
  {
   "cell_type": "code",
   "execution_count": 61,
   "metadata": {},
   "outputs": [
    {
     "name": "stdout",
     "output_type": "stream",
     "text": [
      "[26157.0, 26157.0, 52800.0, 49100.0, 49100.0, 36960.0, 16650.0, 10380.0, 90000.0, 77700.0, 139976.0, 11000.0, 66006.0, 62006.0, 16650.0, 12500.0, 327082.0, 69655.0, 10000.0, 22340.0, 79344.0, 4050.0, 2250.0, 6750.0, 808663.0, 90000.0, 90000.0, 10699.0, 326169.0, 32812.0, 23000.0, 23275.0, 9307.0, 7257.0, 26816.0, 3450.0, 200000.0, 400000.0, 6200.0, 17400.0, 108000.0, 400000.0, 400000.0, 15006.0, 50115.0, 67725.0, 25000.0, 8800.0, 207361.0, 12750.0, 31320.0, 49100.0, 32100.0, 294720.0, 113286.0, 50872.0, 12498.0, 7200.0, 7033.0, 50000.0, 60298.0, 21715.0, 15570.0, 68300.8, 15000.0, 35000.0, 22050.0, 30000.0, 21715.0, 760500.0, 21715.2, 400000.0, 21715.2, 8800.0, 60000.0, 45000.0, 45000.0, 66000.0, 35000.0, 35700.0, 535416.0, 294720.0, 150000.0, 82219.0, 383000.0, 335333.0, 82639.0, 23560.0, 12496.0, 401870.4, 401870.4, 401870.4, 401870.4, 201376.0, 12496.0, 12000.0]\n"
     ]
    }
   ],
   "source": [
    "credit_list = frame[\"Credit\"].tolist()\n",
    "\n",
    "credit = []\n",
    "for cred in credit_list:\n",
    "    if cred != 0:\n",
    "        credit.append(cred)\n",
    "print(credit)"
   ]
  },
  {
   "cell_type": "code",
   "execution_count": 62,
   "metadata": {},
   "outputs": [
    {
     "name": "stdout",
     "output_type": "stream",
     "text": [
      "[26157.0, 26157.0, 52800.0, 49100.0, 139976.1, 36960.0, 90000.0, 77700.0, 11000.0, 10380.0, 16650.0, 16650.0, 11000.0, 66006.0, 62006.0, 66006.0, 62006.0, 12500.0, 69655.0, 327082.0, 79344.0, 4050.0, 10000.0, 22340.0, 6750.0, 2250.0, 2250.0, 90000.0, 90000.0, 244708.0, 563955.0, 10699.0, 326169.0, 32812.0, 3450.0, 9307.0, 7257.0, 23275.0, 26816.0, 23000.0, 200000.0, 400000.0, 22050.0, 6200.0, 108000.0, 400000.0, 400000.0, 15000.0, 15006.0, 50115.0, 67725.0, 25000.0, 8800.0, 8800.0, 207361.0, 12750.0, 31320.0, 1320.0, 49100.0, 32100.0, 12498.0, 50872.0, 294720.0, 12498.0, 7200.0, 113286.0, 7033.0, 27353.0, 50000.0, 21715.2, 60298.0, 15570.0, 68300.8, 15000.0, 35000.0, 22050.0, 30000.0, 22050.0, 21715.0, 760500.0, 21715.2, 400000.0, 21715.2, 8800.0, 45000.0, 45000.0, 35700.0, 60000.0, 8800.0, 35000.0, 535416.0, 294720.0, 66000.0, 335333.0, 150000.0, 82219.0, 383000.0, 82639.0, 23560.0, 12000.0, 13600.0, 12496.0, 201376.0, 401870.4, 401870.4, 401870.4, 401870.4, 12496.0, 12000.0]\n"
     ]
    }
   ],
   "source": [
    "debit_list = frame[\"Debit\"].tolist()\n",
    "\n",
    "debit = []\n",
    "for deb in debit_list:\n",
    "    if deb != 0:\n",
    "        debit.append(deb)\n",
    "print(debit)"
   ]
  },
  {
   "cell_type": "code",
   "execution_count": null,
   "metadata": {},
   "outputs": [],
   "source": [
    "#sum(set(debit).intersection(credit))"
   ]
  },
  {
   "cell_type": "code",
   "execution_count": null,
   "metadata": {},
   "outputs": [],
   "source": [
    "#mike = list(set(debit) - set(credit))"
   ]
  },
  {
   "cell_type": "code",
   "execution_count": 57,
   "metadata": {},
   "outputs": [],
   "source": [
    "def list_difference(b, a):\n",
    "    c = list(b)\n",
    "    for item in a:\n",
    "       try:\n",
    "           c.remove(item)\n",
    "       except ValueError:\n",
    "           pass            #or maybe you want to keep a values here\n",
    "    return c\n"
   ]
  },
  {
   "cell_type": "code",
   "execution_count": 63,
   "metadata": {},
   "outputs": [
    {
     "data": {
      "text/plain": [
       "[139976.0, 808663.0, 17400.0, 49100.0, 21715.0]"
      ]
     },
     "execution_count": 63,
     "metadata": {},
     "output_type": "execute_result"
    }
   ],
   "source": [
    "list_difference(credit, debit)"
   ]
  },
  {
   "cell_type": "code",
   "execution_count": 64,
   "metadata": {},
   "outputs": [
    {
     "data": {
      "text/plain": [
       "[139976.1,\n",
       " 11000.0,\n",
       " 66006.0,\n",
       " 62006.0,\n",
       " 2250.0,\n",
       " 244708.0,\n",
       " 563955.0,\n",
       " 1320.0,\n",
       " 12498.0,\n",
       " 27353.0,\n",
       " 15000.0,\n",
       " 22050.0,\n",
       " 22050.0,\n",
       " 21715.2,\n",
       " 8800.0,\n",
       " 8800.0,\n",
       " 13600.0,\n",
       " 12000.0]"
      ]
     },
     "execution_count": 64,
     "metadata": {},
     "output_type": "execute_result"
    }
   ],
   "source": [
    "list_difference(debit, credit)"
   ]
  },
  {
   "cell_type": "code",
   "execution_count": 71,
   "metadata": {},
   "outputs": [
    {
     "name": "stdout",
     "output_type": "stream",
     "text": [
      "These are the non repeat debit : [139976.1, 11000.0, 66006.0, 62006.0, 2250.0, 244708.0, 563955.0, 1320.0, 12498.0, 27353.0, 15000.0, 22050.0, 22050.0, 21715.2, 8800.0, 8800.0, 13600.0, 12000.0]\n",
      "\n",
      "\n",
      "These are the non repeat credit : [139976.0, 808663.0, 17400.0, 49100.0, 21715.0]\n"
     ]
    }
   ],
   "source": [
    "debit_nonrepeat = list_difference(debit, credit)\n",
    "credit_nonrepeat = list_difference(credit, debit)\n",
    "print(\"These are the non repeat debit : \" + str(debit_nonrepeat))\n",
    "print(\"\\n\\nThese are the non repeat credit : \" + str(credit_nonrepeat))"
   ]
  },
  {
   "cell_type": "code",
   "execution_count": 68,
   "metadata": {},
   "outputs": [
    {
     "data": {
      "text/plain": [
       "218233.30000000005"
      ]
     },
     "execution_count": 68,
     "metadata": {},
     "output_type": "execute_result"
    }
   ],
   "source": [
    "total_debit = sum(debit_nonrepeat)\n",
    "total_credit = sum(credit_nonrepeat)\n",
    "Difference = total_debit - total_credit\n",
    "total_debit\n",
    "total_credit\n",
    "Difference"
   ]
  },
  {
   "cell_type": "code",
   "execution_count": 72,
   "metadata": {},
   "outputs": [],
   "source": [
    "final = frame[frame[\"Debit\"].isin(debit)]\n",
    "final.to_excel('debit_uncatego.xlsx')"
   ]
  },
  {
   "cell_type": "code",
   "execution_count": 73,
   "metadata": {},
   "outputs": [],
   "source": [
    "final = frame[frame[\"Credit\"].isin(credit)]\n",
    "final.to_excel('credit_uncatego.xlsx')"
   ]
  },
  {
   "cell_type": "code",
   "execution_count": null,
   "metadata": {},
   "outputs": [],
   "source": []
  },
  {
   "cell_type": "code",
   "execution_count": null,
   "metadata": {},
   "outputs": [],
   "source": []
  }
 ],
 "metadata": {
  "kernelspec": {
   "display_name": "Python 3",
   "language": "python",
   "name": "python3"
  },
  "language_info": {
   "codemirror_mode": {
    "name": "ipython",
    "version": 3
   },
   "file_extension": ".py",
   "mimetype": "text/x-python",
   "name": "python",
   "nbconvert_exporter": "python",
   "pygments_lexer": "ipython3",
   "version": "3.7.1"
  }
 },
 "nbformat": 4,
 "nbformat_minor": 2
}
