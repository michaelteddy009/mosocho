{
 "cells": [
  {
   "cell_type": "code",
   "execution_count": null,
   "metadata": {},
   "outputs": [],
   "source": [
    "import pandas as pd\n"
   ]
  },
  {
   "cell_type": "code",
   "execution_count": null,
   "metadata": {},
   "outputs": [],
   "source": [
    "file_bank = \"Cop1128/Copbank.xls\" #Create the Bank frame\n",
    "bank = pd.read_excel(file_bank)\n",
    "\n",
    "file_xero = \"Cop1128/Copxero.xls\" #Create xero frame\n",
    "xero = pd.read_excel(file_xero)\n",
    "xero.head()"
   ]
  },
  {
   "cell_type": "code",
   "execution_count": null,
   "metadata": {},
   "outputs": [],
   "source": [
    "#Creat lists of credit and Debit \n",
    "bankIncome = bank[\"Credit Amount\"].tolist()\n",
    "bankExpense = bank[\"Debit Amount\"].tolist()\n",
    "xeroIncome = xero[\"Debit\"].tolist()\n",
    "xeroExpense = xero[\"Credit\"].tolist()\n",
    "xeroIncome"
   ]
  },
  {
   "cell_type": "code",
   "execution_count": null,
   "metadata": {},
   "outputs": [],
   "source": [
    "#Clean The Lists\n",
    "bankIncome1 = [x for x in bankIncome if str(x) != '-']\n",
    "bankExpense1 = [x for x in bankExpense if str(x) != '-']\n",
    "       \n",
    "xeroIncome1 = [x for x in xeroIncome if str(x) != 'nan']\n",
    "xeroExpense1 = [x for x in xeroExpense if str(x) != 'nan']"
   ]
  },
  {
   "cell_type": "code",
   "execution_count": null,
   "metadata": {},
   "outputs": [],
   "source": [
    "def list_difference(b, a): # Removes the numbers from b for those that are found in a\n",
    "    c = b.copy()  # or list(b)\n",
    "    for item in a:\n",
    "       try:\n",
    "           c.remove(item)\n",
    "       except ValueError:\n",
    "           pass            #or maybe you want to keep a values here\n",
    "    return c\n"
   ]
  },
  {
   "cell_type": "code",
   "execution_count": null,
   "metadata": {},
   "outputs": [],
   "source": [
    "\n",
    "\n",
    "xero_unmatched_income = list_difference(xeroIncome1, bankIncome1)\n",
    "one = pd.Series(xero_unmatched_income) #xero income not matching\n",
    "xero_unmatched_expense = list_difference(xeroExpense1, bankExpense1)\n",
    "two = pd.Series(xero_unmatched_expense)#xero expense not matching\n",
    "\n",
    "\n",
    "bank_unmatched_income = list_difference(bankIncome1, xeroIncome1)\n",
    "three = pd.Series(bank_unmatched_income) #bank income not matching\n",
    "bank_unmatched_expense = list_difference(bankExpense1, xeroExpense1)\n",
    "four = pd.Series(bank_unmatched_expense) #bank expense not matching\n",
    "four"
   ]
  },
  {
   "cell_type": "code",
   "execution_count": null,
   "metadata": {},
   "outputs": [],
   "source": [
    "#one.to_excel('xero_unmatched_income.xls')\n",
    "#two.to_excel('xero_unmatched_expense.xls')\n",
    "#three.to_excel('bank_unmatched_income.xlsx')\n",
    "four.to_excel('bank_unmatched_expense.xlsx')"
   ]
  },
  {
   "cell_type": "code",
   "execution_count": null,
   "metadata": {},
   "outputs": [],
   "source": []
  },
  {
   "cell_type": "code",
   "execution_count": null,
   "metadata": {},
   "outputs": [],
   "source": []
  },
  {
   "cell_type": "code",
   "execution_count": null,
   "metadata": {},
   "outputs": [],
   "source": []
  },
  {
   "cell_type": "code",
   "execution_count": null,
   "metadata": {},
   "outputs": [],
   "source": []
  },
  {
   "cell_type": "code",
   "execution_count": null,
   "metadata": {},
   "outputs": [],
   "source": []
  },
  {
   "cell_type": "code",
   "execution_count": null,
   "metadata": {},
   "outputs": [],
   "source": []
  },
  {
   "cell_type": "code",
   "execution_count": null,
   "metadata": {},
   "outputs": [],
   "source": []
  },
  {
   "cell_type": "code",
   "execution_count": null,
   "metadata": {},
   "outputs": [],
   "source": []
  },
  {
   "cell_type": "code",
   "execution_count": null,
   "metadata": {},
   "outputs": [],
   "source": []
  },
  {
   "cell_type": "code",
   "execution_count": null,
   "metadata": {},
   "outputs": [],
   "source": [
    "\n"
   ]
  },
  {
   "cell_type": "code",
   "execution_count": null,
   "metadata": {},
   "outputs": [],
   "source": []
  }
 ],
 "metadata": {
  "kernelspec": {
   "display_name": "Python 3",
   "language": "python",
   "name": "python3"
  },
  "language_info": {
   "codemirror_mode": {
    "name": "ipython",
    "version": 3
   },
   "file_extension": ".py",
   "mimetype": "text/x-python",
   "name": "python",
   "nbconvert_exporter": "python",
   "pygments_lexer": "ipython3",
   "version": "3.7.1"
  }
 },
 "nbformat": 4,
 "nbformat_minor": 2
}
