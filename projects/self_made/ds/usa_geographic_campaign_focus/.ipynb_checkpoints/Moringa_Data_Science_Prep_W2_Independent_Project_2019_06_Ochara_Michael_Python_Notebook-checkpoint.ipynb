{
 "cells": [
  {
   "cell_type": "code",
   "execution_count": 0,
   "metadata": {
    "colab": {},
    "colab_type": "code",
    "id": "ALi4AKezmlfh"
   },
   "outputs": [],
   "source": [
    "contact_book = {'Parul' : 'parul@moringa.org',\n",
    "\n",
    "        'Thomas' : 'thomas@moringa.org',\n",
    "\n",
    "        'Ashley' : 'ashley@moringa.org',\n",
    "\n",
    "        'Kellen' : 'kellen@moringa.org',\n",
    "\n",
    "        'June' : 'june@moringa.org',\n",
    "\n",
    "        'Joseph' : 'joe@moringa.org',\n",
    "\n",
    "        'Lillian' : 'lillian@moringa.org',\n",
    "\n",
    "        'Arnold' : 'arnold@moringa.org' \n",
    "}"
   ]
  },
  {
   "cell_type": "code",
   "execution_count": 2,
   "metadata": {
    "colab": {
     "base_uri": "https://localhost:8080/",
     "height": 52
    },
    "colab_type": "code",
    "executionInfo": {
     "elapsed": 39134,
     "status": "ok",
     "timestamp": 1584013440518,
     "user": {
      "displayName": "Michael Teddy",
      "photoUrl": "",
      "userId": "05465468862126933935"
     },
     "user_tz": -180
    },
    "id": "CTSOU5hxnnrz",
    "outputId": "44132288-a20d-4a2c-cf5b-0c2d3015fd17"
   },
   "outputs": [
    {
     "name": "stdout",
     "output_type": "stream",
     "text": [
      "Delete a contact (input user name) : Arnold\n",
      "Arnold has been deleted form the contacts list.\n"
     ]
    }
   ],
   "source": [
    "#Question 1\n",
    "#Delete a contact from the dictionary when the user specifies the its key \n",
    "\n",
    "user_input = input(\"Delete a contact (input user name) : \")\n",
    "\n",
    "#deleteing the contact resquested\n",
    "if user_input in contact_book:\n",
    "  del contact_book[user_input]\n",
    "  print(f\"{user_input} has been deleted form the contacts list.\")\n",
    "else:\n",
    "  print(f\"{user_input} does not exist in the contacts list\")"
   ]
  },
  {
   "cell_type": "code",
   "execution_count": 4,
   "metadata": {
    "colab": {
     "base_uri": "https://localhost:8080/",
     "height": 123
    },
    "colab_type": "code",
    "executionInfo": {
     "elapsed": 2075,
     "status": "ok",
     "timestamp": 1584013448501,
     "user": {
      "displayName": "Michael Teddy",
      "photoUrl": "",
      "userId": "05465468862126933935"
     },
     "user_tz": -180
    },
    "id": "9ehSTV5dnwzh",
    "outputId": "021b5020-df09-4fbd-b87a-a771afaa9ea0"
   },
   "outputs": [
    {
     "name": "stdout",
     "output_type": "stream",
     "text": [
      "Name : Parul \n",
      "Contact : parul@moringa.org\n",
      "\n",
      "Name : Thomas \n",
      "Contact : thomas@moringa.org\n",
      "\n"
     ]
    }
   ],
   "source": [
    "#Question 2\n",
    "#Print out the first 2 contacts.\n",
    "\n",
    "#looping through the dictionary for the first two only\n",
    "count = 0\n",
    "for x, y in contact_book.items():\n",
    "  if count < 2:\n",
    "    print(f\"Name : {x} \\nContact : {y}\\n\")\n",
    "  else:\n",
    "    break\n",
    "  count += 1"
   ]
  },
  {
   "cell_type": "code",
   "execution_count": 5,
   "metadata": {
    "colab": {
     "base_uri": "https://localhost:8080/",
     "height": 34
    },
    "colab_type": "code",
    "executionInfo": {
     "elapsed": 1780,
     "status": "ok",
     "timestamp": 1584013452665,
     "user": {
      "displayName": "Michael Teddy",
      "photoUrl": "",
      "userId": "05465468862126933935"
     },
     "user_tz": -180
    },
    "id": "T640N6W0n5OP",
    "outputId": "983031a0-869b-4978-d975-022bc606c043"
   },
   "outputs": [
    {
     "data": {
      "text/plain": [
       "7"
      ]
     },
     "execution_count": 5,
     "metadata": {
      "tags": []
     },
     "output_type": "execute_result"
    }
   ],
   "source": [
    "#Question 3\n",
    "#Display the total no. of contacts left in the dictionary.\n",
    "\n",
    "len(contact_book)"
   ]
  },
  {
   "cell_type": "code",
   "execution_count": 0,
   "metadata": {
    "colab": {},
    "colab_type": "code",
    "id": "dfiG_7kroA37"
   },
   "outputs": [],
   "source": [
    "#Question 4\n",
    "#Add 2 new contacts in the dictionary.\n",
    "\n",
    "#first contact\n",
    "contact_book[\"Michael\"] = \"michael@moringa.org\"\n",
    "\n",
    "#second contact\n",
    "contact_book[\"\"] = \"michael@moringa.org\""
   ]
  },
  {
   "cell_type": "code",
   "execution_count": 0,
   "metadata": {
    "colab": {
     "base_uri": "https://localhost:8080/",
     "height": 496
    },
    "colab_type": "code",
    "executionInfo": {
     "elapsed": 1028,
     "status": "ok",
     "timestamp": 1584004435749,
     "user": {
      "displayName": "Michael Teddy",
      "photoUrl": "",
      "userId": "05465468862126933935"
     },
     "user_tz": -180
    },
    "id": "f_FWkryQoH37",
    "outputId": "182ba12a-e5ef-4ac8-fe00-4c4a58c59085"
   },
   "outputs": [
    {
     "name": "stdout",
     "output_type": "stream",
     "text": [
      "Name : Parul \n",
      "Contact : parul@moringa.org\n",
      "\n",
      "Name : Thomas \n",
      "Contact : thomas@moringa.org\n",
      "\n",
      "Name : Ashley \n",
      "Contact : ashley@moringa.org\n",
      "\n",
      "Name : Kellen \n",
      "Contact : kellen@moringa.org\n",
      "\n",
      "Name : June \n",
      "Contact : june@moringa.org\n",
      "\n",
      "Name : Lillian \n",
      "Contact : lillian@moringa.org\n",
      "\n",
      "Name : Arnold \n",
      "Contact : arnold@moringa.org\n",
      "\n",
      "Name : Michael \n",
      "Contact : michael@moringa.org\n",
      "\n",
      "Name :  \n",
      "Contact : michael@moringa.org\n",
      "\n"
     ]
    }
   ],
   "source": [
    "#Question 5\n",
    "#Print out all the contacts.\n",
    "\n",
    "#looping through the dictionary item at a time using the for loop\n",
    "for name, contact in contact_book.items():\n",
    "  print(f\"Name : {name} \\nContact : {contact}\\n\")"
   ]
  },
  {
   "cell_type": "code",
   "execution_count": 0,
   "metadata": {
    "colab": {},
    "colab_type": "code",
    "id": "aEwmDqIQBYqO"
   },
   "outputs": [],
   "source": []
  }
 ],
 "metadata": {
  "colab": {
   "authorship_tag": "ABX9TyPJ6uRdrH4pDiR2NWwRfFjI",
   "collapsed_sections": [],
   "name": "Moringa_Data_Science_Prep_W2_Independent_Project_2019_06_Ochara_Michael_Python_Notebook.ipynb",
   "provenance": []
  },
  "kernelspec": {
   "display_name": "Python 3",
   "language": "python",
   "name": "python3"
  },
  "language_info": {
   "codemirror_mode": {
    "name": "ipython",
    "version": 3
   },
   "file_extension": ".py",
   "mimetype": "text/x-python",
   "name": "python",
   "nbconvert_exporter": "python",
   "pygments_lexer": "ipython3",
   "version": "3.8.3"
  }
 },
 "nbformat": 4,
 "nbformat_minor": 1
}
