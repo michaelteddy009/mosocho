{
 "cells": [
  {
   "cell_type": "code",
   "execution_count": 5,
   "metadata": {},
   "outputs": [],
   "source": [
    "#pip install ipython-sql"
   ]
  },
  {
   "cell_type": "code",
   "execution_count": 6,
   "metadata": {
    "colab": {
     "base_uri": "https://localhost:8080/",
     "height": 34
    },
    "colab_type": "code",
    "executionInfo": {
     "elapsed": 4545,
     "status": "ok",
     "timestamp": 1584435440132,
     "user": {
      "displayName": "Michael Teddy",
      "photoUrl": "",
      "userId": "05465468862126933935"
     },
     "user_tz": -180
    },
    "id": "Hh4Ry50535Qf",
    "outputId": "585cc07d-bc77-480d-f7bc-23b7348edab6"
   },
   "outputs": [
    {
     "name": "stdout",
     "output_type": "stream",
     "text": [
      "The sql extension is already loaded. To reload it, use:\n",
      "  %reload_ext sql\n"
     ]
    }
   ],
   "source": [
    "#loading the extension\n",
    "%load_ext sql\n",
    "\n",
    "#connectin to sqlite database\n",
    "%sql sqlite://"
   ]
  },
  {
   "cell_type": "code",
   "execution_count": 7,
   "metadata": {
    "colab": {},
    "colab_type": "code",
    "id": "j5qbuDIK0Z4B"
   },
   "outputs": [],
   "source": [
    "#importing pandas module\n",
    "import pandas as pd"
   ]
  },
  {
   "cell_type": "code",
   "execution_count": 8,
   "metadata": {
    "colab": {
     "base_uri": "https://localhost:8080/",
     "height": 86
    },
    "colab_type": "code",
    "executionInfo": {
     "elapsed": 8496,
     "status": "ok",
     "timestamp": 1584435444488,
     "user": {
      "displayName": "Michael Teddy",
      "photoUrl": "",
      "userId": "05465468862126933935"
     },
     "user_tz": -180
    },
    "id": "41FgqRM356-J",
    "outputId": "5f535bce-41a0-4af8-cb6e-352ab41bc667"
   },
   "outputs": [
    {
     "ename": "FileNotFoundError",
     "evalue": "[Errno 2] No such file or directory: 'GrandElectors_by_state.csv'",
     "output_type": "error",
     "traceback": [
      "\u001b[1;31m---------------------------------------------------------------------------\u001b[0m",
      "\u001b[1;31mFileNotFoundError\u001b[0m                         Traceback (most recent call last)",
      "\u001b[1;32m<ipython-input-8-71e929e22cee>\u001b[0m in \u001b[0;36m<module>\u001b[1;34m\u001b[0m\n\u001b[0;32m      1\u001b[0m \u001b[1;31m#loading grand electors\u001b[0m\u001b[1;33m\u001b[0m\u001b[1;33m\u001b[0m\u001b[1;33m\u001b[0m\u001b[0m\n\u001b[1;32m----> 2\u001b[1;33m \u001b[1;32mwith\u001b[0m \u001b[0mopen\u001b[0m\u001b[1;33m(\u001b[0m\u001b[1;34m'GrandElectors_by_state.csv'\u001b[0m\u001b[1;33m,\u001b[0m \u001b[1;34m'r'\u001b[0m\u001b[1;33m)\u001b[0m \u001b[1;32mas\u001b[0m \u001b[0mf\u001b[0m\u001b[1;33m:\u001b[0m\u001b[1;33m\u001b[0m\u001b[1;33m\u001b[0m\u001b[0m\n\u001b[0m\u001b[0;32m      3\u001b[0m   \u001b[0melectors\u001b[0m \u001b[1;33m=\u001b[0m \u001b[0mpd\u001b[0m\u001b[1;33m.\u001b[0m\u001b[0mread_csv\u001b[0m\u001b[1;33m(\u001b[0m\u001b[0mf\u001b[0m\u001b[1;33m,\u001b[0m \u001b[0mencoding\u001b[0m\u001b[1;33m=\u001b[0m\u001b[1;34m'utf-8'\u001b[0m\u001b[1;33m,\u001b[0m \u001b[0mindex_col\u001b[0m\u001b[1;33m=\u001b[0m\u001b[1;36m0\u001b[0m\u001b[1;33m)\u001b[0m\u001b[1;33m\u001b[0m\u001b[1;33m\u001b[0m\u001b[0m\n\u001b[0;32m      4\u001b[0m \u001b[1;33m\u001b[0m\u001b[0m\n\u001b[0;32m      5\u001b[0m \u001b[1;31m#cheking if a table with the same name grand if yes drop it and persist a new one we just loaded\u001b[0m\u001b[1;33m\u001b[0m\u001b[1;33m\u001b[0m\u001b[1;33m\u001b[0m\u001b[0m\n",
      "\u001b[1;31mFileNotFoundError\u001b[0m: [Errno 2] No such file or directory: 'GrandElectors_by_state.csv'"
     ]
    }
   ],
   "source": [
    "#loading grand electors\n",
    "with open('GrandElectors_by_state.csv', 'r') as f:\n",
    "  electors = pd.read_csv(f, encoding='utf-8', index_col=0)\n",
    "\n",
    "#cheking if a table with the same name grand if yes drop it and persist a new one we just loaded\n",
    "%sql DROP TABLE if EXISTS electors\n",
    "%sql PERSIST electors"
   ]
  },
  {
   "cell_type": "code",
   "execution_count": null,
   "metadata": {
    "colab": {
     "base_uri": "https://localhost:8080/",
     "height": 86
    },
    "colab_type": "code",
    "executionInfo": {
     "elapsed": 8340,
     "status": "ok",
     "timestamp": 1584435444510,
     "user": {
      "displayName": "Michael Teddy",
      "photoUrl": "",
      "userId": "05465468862126933935"
     },
     "user_tz": -180
    },
    "id": "hmvlzvBJ0_nS",
    "outputId": "9ae7b9bc-2bf1-4f7e-9514-51cb666ff4d9"
   },
   "outputs": [],
   "source": [
    "#loading populations by state\n",
    "with open('Population_by_state.csv', 'r') as f:\n",
    "  statePopulation = pd.read_csv(f, encoding='utf-8', index_col=0)\n",
    "\n",
    "#cheking if a table with the same name grand if yes drop it and persist a new one we just loaded\n",
    "%sql DROP TABLE if EXISTS statePopulation\n",
    "%sql PERSIST statePopulation"
   ]
  },
  {
   "cell_type": "code",
   "execution_count": null,
   "metadata": {
    "colab": {
     "base_uri": "https://localhost:8080/",
     "height": 69
    },
    "colab_type": "code",
    "executionInfo": {
     "elapsed": 8169,
     "status": "ok",
     "timestamp": 1584435444534,
     "user": {
      "displayName": "Michael Teddy",
      "photoUrl": "",
      "userId": "05465468862126933935"
     },
     "user_tz": -180
    },
    "id": "klqq5HEd1751",
    "outputId": "43cda6b8-9935-44af-a4cf-823b73d0dbd6"
   },
   "outputs": [],
   "source": [
    "#changing the grand electors on column state to uppercase to allow joining\n",
    "\n",
    "%%sql \n",
    "UPDATE electors\n",
    "SET `State` = UPPER(`State`);"
   ]
  },
  {
   "cell_type": "code",
   "execution_count": null,
   "metadata": {
    "colab": {
     "base_uri": "https://localhost:8080/",
     "height": 69
    },
    "colab_type": "code",
    "executionInfo": {
     "elapsed": 8061,
     "status": "ok",
     "timestamp": 1584435444554,
     "user": {
      "displayName": "Michael Teddy",
      "photoUrl": "",
      "userId": "05465468862126933935"
     },
     "user_tz": -180
    },
    "id": "2VIFO0va4UnV",
    "outputId": "74fbc980-decd-4ed4-9488-89034730c366"
   },
   "outputs": [],
   "source": [
    "#Forming a new table called state_data to contain all our data\n",
    "\n",
    "%%sql\n",
    "\n",
    "CREATE TABLE state_data as \n",
    "SELECT electors.State, Population, electors.GrandElectors From statePopulation INNER JOIN electors\n",
    "ON statePopulation.State = electors.State;\n"
   ]
  },
  {
   "cell_type": "code",
   "execution_count": null,
   "metadata": {
    "colab": {
     "base_uri": "https://localhost:8080/",
     "height": 165
    },
    "colab_type": "code",
    "executionInfo": {
     "elapsed": 7915,
     "status": "ok",
     "timestamp": 1584435444566,
     "user": {
      "displayName": "Michael Teddy",
      "photoUrl": "",
      "userId": "05465468862126933935"
     },
     "user_tz": -180
    },
    "id": "MNnUF8oH5BMd",
    "outputId": "5082a152-e536-45c6-facc-13812973abfb"
   },
   "outputs": [],
   "source": [
    "#viewing the first 5 data of our state_data table to verify the inner join was a success\n",
    "%%sql\n",
    "\n",
    "SELECT * FROM state_data\n",
    "limit 5;"
   ]
  },
  {
   "cell_type": "code",
   "execution_count": null,
   "metadata": {
    "colab": {
     "base_uri": "https://localhost:8080/",
     "height": 69
    },
    "colab_type": "code",
    "executionInfo": {
     "elapsed": 7777,
     "status": "ok",
     "timestamp": 1584435444576,
     "user": {
      "displayName": "Michael Teddy",
      "photoUrl": "",
      "userId": "05465468862126933935"
     },
     "user_tz": -180
    },
    "id": "kINxndco9jTq",
    "outputId": "89068857-8973-457c-f621-a71056248976"
   },
   "outputs": [],
   "source": [
    "#updating the state DISTRICT OF COLUMBIA to DC\n",
    "%%sql\n",
    "\n",
    "UPDATE state_data\n",
    "SET State = \"DC\"\n",
    "WHERE State = \"DISTRICT OF COLUMBIA\";"
   ]
  },
  {
   "cell_type": "code",
   "execution_count": null,
   "metadata": {
    "colab": {
     "base_uri": "https://localhost:8080/",
     "height": 69
    },
    "colab_type": "code",
    "executionInfo": {
     "elapsed": 7640,
     "status": "ok",
     "timestamp": 1584435444589,
     "user": {
      "displayName": "Michael Teddy",
      "photoUrl": "",
      "userId": "05465468862126933935"
     },
     "user_tz": -180
    },
    "id": "U0iZmkkfXttO",
    "outputId": "83f71f1a-40d2-41d9-e2cd-f5e4057d6cdc"
   },
   "outputs": [],
   "source": [
    "#To compute the ratio between the number of grand electors and the population. Please create a new column with that ratio.\n",
    "\n",
    "#Creating a column nammed Ratio \n",
    "%%sql\n",
    "ALTER TABLE `state_data` ADD COLUMN Ratio DECIMAL(38,38);"
   ]
  },
  {
   "cell_type": "code",
   "execution_count": null,
   "metadata": {
    "colab": {
     "base_uri": "https://localhost:8080/",
     "height": 69
    },
    "colab_type": "code",
    "executionInfo": {
     "elapsed": 7474,
     "status": "ok",
     "timestamp": 1584435444598,
     "user": {
      "displayName": "Michael Teddy",
      "photoUrl": "",
      "userId": "05465468862126933935"
     },
     "user_tz": -180
    },
    "id": "7rMG1bkIEpQT",
    "outputId": "95a6d3e5-7225-4a06-8754-3341d22f9a29"
   },
   "outputs": [],
   "source": [
    "#computing the ratio of grandelectors to population then we update this ratio to the Ratio column\n",
    "%%sql\n",
    "UPDATE `state_data`\n",
    "SET `Ratio` = CAST(`GrandElectors` AS FLOAT) / CAST(`Population` AS FLOAT) ;\n"
   ]
  },
  {
   "cell_type": "code",
   "execution_count": null,
   "metadata": {
    "colab": {
     "base_uri": "https://localhost:8080/",
     "height": 69
    },
    "colab_type": "code",
    "executionInfo": {
     "elapsed": 7321,
     "status": "ok",
     "timestamp": 1584435444607,
     "user": {
      "displayName": "Michael Teddy",
      "photoUrl": "",
      "userId": "05465468862126933935"
     },
     "user_tz": -180
    },
    "id": "0nBPPdw_HSGY",
    "outputId": "66e5378f-bfa1-4610-bd5b-f6c1c00aae73"
   },
   "outputs": [],
   "source": [
    "#To order the states by decreasing ratio of Grand Electors per capita.\n",
    "\n",
    "#To list the states in decreasing ratio we will be forced to create a new table called decreasing_per_capita\n",
    "\n",
    "%%sql\n",
    "\n",
    "CREATE TABLE decreasing_per_capita as\n",
    "SELECT * FROM `state_data`\n",
    "ORDER BY `Ratio` DESC;"
   ]
  },
  {
   "cell_type": "code",
   "execution_count": null,
   "metadata": {
    "colab": {
     "base_uri": "https://localhost:8080/",
     "height": 1000
    },
    "colab_type": "code",
    "executionInfo": {
     "elapsed": 7167,
     "status": "ok",
     "timestamp": 1584435444617,
     "user": {
      "displayName": "Michael Teddy",
      "photoUrl": "",
      "userId": "05465468862126933935"
     },
     "user_tz": -180
    },
    "id": "7DF6zgCAZtDz",
    "outputId": "ee95973a-554b-476c-f446-6d30d62eb4a6"
   },
   "outputs": [],
   "source": [
    "#a view of the table with decreasing Grand electors per capita\n",
    "%%sql\n",
    "SELECT * FROM decreasing_per_capita;"
   ]
  },
  {
   "cell_type": "code",
   "execution_count": null,
   "metadata": {
    "colab": {
     "base_uri": "https://localhost:8080/",
     "height": 69
    },
    "colab_type": "code",
    "executionInfo": {
     "elapsed": 6961,
     "status": "ok",
     "timestamp": 1584435444623,
     "user": {
      "displayName": "Michael Teddy",
      "photoUrl": "",
      "userId": "05465468862126933935"
     },
     "user_tz": -180
    },
    "id": "nZJY6m8yYlsa",
    "outputId": "413f71a1-e631-4b5d-ce43-3f7bcfe3578c"
   },
   "outputs": [],
   "source": [
    "#To compute the running total of Grand Electors in that sorted list\n",
    "\n",
    "#we now create a table with a column for our running total. We call this table with_running_total\n",
    "%%sql\n",
    "CREATE TABLE `with_running_total` as\n",
    "SELECT *, (SELECT SUM(r.GrandElectors) FROM decreasing_per_capita as r WHERE r.Ratio >= t.Ratio) as `Running Total`\n",
    "FROM decreasing_per_capita as t;"
   ]
  },
  {
   "cell_type": "code",
   "execution_count": null,
   "metadata": {
    "colab": {
     "base_uri": "https://localhost:8080/",
     "height": 1000
    },
    "colab_type": "code",
    "executionInfo": {
     "elapsed": 6765,
     "status": "ok",
     "timestamp": 1584435444630,
     "user": {
      "displayName": "Michael Teddy",
      "photoUrl": "",
      "userId": "05465468862126933935"
     },
     "user_tz": -180
    },
    "id": "2k-kl0gyemJ1",
    "outputId": "5feab569-9075-4bd1-9df4-9bff6f104d30"
   },
   "outputs": [],
   "source": [
    "#We now query the table to view what we have done on th running total\n",
    "%%sql\n",
    "SELECT * FROM `with_running_total`;"
   ]
  },
  {
   "cell_type": "code",
   "execution_count": null,
   "metadata": {
    "colab": {
     "base_uri": "https://localhost:8080/",
     "height": 90
    },
    "colab_type": "code",
    "executionInfo": {
     "elapsed": 6590,
     "status": "ok",
     "timestamp": 1584435444639,
     "user": {
      "displayName": "Michael Teddy",
      "photoUrl": "",
      "userId": "05465468862126933935"
     },
     "user_tz": -180
    },
    "id": "7ZYtncaIilys",
    "outputId": "584a406e-fa3d-4f1b-d17a-6cf0fd148c9f"
   },
   "outputs": [],
   "source": [
    "#Independently, to compute the half of the total of Grand Electors overall (in the whole country):\n",
    "#This is the threshold we need to reach for winning the presidential election.\n",
    "\n",
    "#From our running total we see that it sums to 538 (grandelectors) this means half way will have attained our desirable\n",
    "#threshold\n",
    "\n",
    "%%sql\n",
    "SELECT (SUM(`GrandElectors`)/2) as `Threshold Target` FROM `with_running_total`;"
   ]
  },
  {
   "cell_type": "code",
   "execution_count": null,
   "metadata": {
    "colab": {
     "base_uri": "https://localhost:8080/",
     "height": 818
    },
    "colab_type": "code",
    "executionInfo": {
     "elapsed": 6474,
     "status": "ok",
     "timestamp": 1584435444646,
     "user": {
      "displayName": "Michael Teddy",
      "photoUrl": "",
      "userId": "05465468862126933935"
     },
     "user_tz": -180
    },
    "id": "Mcky-6g8jxVn",
    "outputId": "fef784ac-7fe7-4f76-c2a7-8e31bb618ff5"
   },
   "outputs": [],
   "source": [
    "#To filter our sorted list of states in order to keep only the (top) ones enabling us to reach the computed threshold. \n",
    "\n",
    "#to perform this operation we make sure we have all the state with running total below 269 the query the minimum value\n",
    "#From the list that had running total above our threshold\n",
    "%%sql\n",
    "SELECT * FROM `with_running_total`\n",
    "where `Running Total` < 269 or `Running Total` in (select MIN(`Running Total`) FROM `with_running_total` where `Running Total` > 269 )\n"
   ]
  },
  {
   "cell_type": "code",
   "execution_count": null,
   "metadata": {
    "colab": {
     "base_uri": "https://localhost:8080/",
     "height": 90
    },
    "colab_type": "code",
    "executionInfo": {
     "elapsed": 6334,
     "status": "ok",
     "timestamp": 1584435444654,
     "user": {
      "displayName": "Michael Teddy",
      "photoUrl": "",
      "userId": "05465468862126933935"
     },
     "user_tz": -180
    },
    "id": "tYGtsdXQnDqV",
    "outputId": "88f600db-d856-4ae6-e19b-0cb69173ee26"
   },
   "outputs": [],
   "source": [
    "#number of state to target\n",
    "%%sql\n",
    "SELECT count(state) as `States To Target` FROM `with_running_total`\n",
    "where `Running Total` < 269 or `Running Total` in (select MIN(`Running Total`) FROM `with_running_total` where `Running Total` > 269 )\n",
    "\n"
   ]
  },
  {
   "cell_type": "markdown",
   "metadata": {
    "colab": {
     "base_uri": "https://localhost:8080/",
     "height": 152
    },
    "colab_type": "code",
    "executionInfo": {
     "elapsed": 1138,
     "status": "ok",
     "timestamp": 1584435835016,
     "user": {
      "displayName": "Michael Teddy",
      "photoUrl": "",
      "userId": "05465468862126933935"
     },
     "user_tz": -180
    },
    "id": "BWcINU8xqk2j",
    "outputId": "4f75a8d4-3e3d-45e4-ef42-8d1ad7b77cff"
   },
   "source": [
    "<h1 style='color':red>CONCLUSIONS</h1>\n",
    "<p><b>We end up with 40 states to focus on from our analysis. This is based on assumption that the ratio of grand electors\n",
    "to population will produce the desirable result. It is evident that this proportioning was not a real reflection to \n",
    "acquaring the optimal strategy since the rationing of grand electors to population is not linear. A good example is \n",
    "focusing on califonia alone will free us from 14 states. We hereby conclude that this analysis doesn't give the desirable\n",
    "optimal stratey since focusing on 40 states (70.43%) out of the possible 51 is not cost effective. <b></p>"
   ]
  },
  {
   "cell_type": "code",
   "execution_count": null,
   "metadata": {},
   "outputs": [],
   "source": []
  }
 ],
 "metadata": {
  "colab": {
   "authorship_tag": "ABX9TyNGExQ6WlfJ7O3nSzdWBAkH",
   "collapsed_sections": [],
   "name": "Moringa_Data_Science_Prep_W2_Independent_Project_2019_06_Ochara_Michael_SQL_Notebook.ipynb",
   "provenance": []
  },
  "kernelspec": {
   "display_name": "Python 3",
   "language": "python",
   "name": "python3"
  },
  "language_info": {
   "codemirror_mode": {
    "name": "ipython",
    "version": 3
   },
   "file_extension": ".py",
   "mimetype": "text/x-python",
   "name": "python",
   "nbconvert_exporter": "python",
   "pygments_lexer": "ipython3",
   "version": "3.8.3"
  }
 },
 "nbformat": 4,
 "nbformat_minor": 1
}
