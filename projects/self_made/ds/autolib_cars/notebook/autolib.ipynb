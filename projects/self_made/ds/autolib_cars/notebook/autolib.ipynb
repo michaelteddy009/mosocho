{
 "cells": [
  {
   "cell_type": "markdown",
   "metadata": {
    "colab_type": "text",
    "id": "D8XEjPSQHdtO"
   },
   "source": [
    "## Research Questions\n",
    "\n",
    "-Identify the most popular hour of the day for picking up a shared electric car (Bluecar) in the city of Paris over the month of April 2018.\n",
    "\n",
    "-\n"
   ]
  },
  {
   "cell_type": "markdown",
   "metadata": {
    "colab_type": "text",
    "id": "CNyMwDaIHi05"
   },
   "source": [
    "# Importing our Modules"
   ]
  },
  {
   "cell_type": "code",
   "execution_count": 1,
   "metadata": {
    "colab": {},
    "colab_type": "code",
    "id": "HAhdB9RPJg4E"
   },
   "outputs": [],
   "source": [
    "# Importing pandas\n",
    "#\n",
    "import pandas as pd\n",
    "\n"
   ]
  },
  {
   "cell_type": "markdown",
   "metadata": {
    "colab_type": "text",
    "id": "laGqQFJbJQv9"
   },
   "source": [
    "# Importing our CSV files and creating our dataset."
   ]
  },
  {
   "cell_type": "code",
   "execution_count": 2,
   "metadata": {
    "colab": {
     "base_uri": "https://localhost:8080/",
     "height": 445
    },
    "colab_type": "code",
    "executionInfo": {
     "elapsed": 24880,
     "status": "ok",
     "timestamp": 1586075247801,
     "user": {
      "displayName": "paul mwaura",
      "photoUrl": "",
      "userId": "05571276976991411894"
     },
     "user_tz": -180
    },
    "id": "5LfVAQh_ICEK",
    "outputId": "890e3611-c902-43c1-ab25-4a0cf18c0764"
   },
   "outputs": [
    {
     "data": {
      "text/html": [
       "<div>\n",
       "<style scoped>\n",
       "    .dataframe tbody tr th:only-of-type {\n",
       "        vertical-align: middle;\n",
       "    }\n",
       "\n",
       "    .dataframe tbody tr th {\n",
       "        vertical-align: top;\n",
       "    }\n",
       "\n",
       "    .dataframe thead th {\n",
       "        text-align: right;\n",
       "    }\n",
       "</style>\n",
       "<table border=\"1\" class=\"dataframe\">\n",
       "  <thead>\n",
       "    <tr style=\"text-align: right;\">\n",
       "      <th></th>\n",
       "      <th>Address</th>\n",
       "      <th>Cars</th>\n",
       "      <th>Bluecar counter</th>\n",
       "      <th>Utilib counter</th>\n",
       "      <th>Utilib 1.4 counter</th>\n",
       "      <th>Charge Slots</th>\n",
       "      <th>Charging Status</th>\n",
       "      <th>City</th>\n",
       "      <th>Displayed comment</th>\n",
       "      <th>ID</th>\n",
       "      <th>...</th>\n",
       "      <th>Scheduled at</th>\n",
       "      <th>Slots</th>\n",
       "      <th>Station type</th>\n",
       "      <th>Status</th>\n",
       "      <th>Subscription status</th>\n",
       "      <th>year</th>\n",
       "      <th>month</th>\n",
       "      <th>day</th>\n",
       "      <th>hour</th>\n",
       "      <th>minute</th>\n",
       "    </tr>\n",
       "  </thead>\n",
       "  <tbody>\n",
       "    <tr>\n",
       "      <th>0</th>\n",
       "      <td>2 Avenue de Suffren</td>\n",
       "      <td>0</td>\n",
       "      <td>0</td>\n",
       "      <td>0</td>\n",
       "      <td>0</td>\n",
       "      <td>0</td>\n",
       "      <td>nonexistent</td>\n",
       "      <td>Paris</td>\n",
       "      <td>NaN</td>\n",
       "      <td>paris-suffren-2</td>\n",
       "      <td>...</td>\n",
       "      <td>NaN</td>\n",
       "      <td>2</td>\n",
       "      <td>station</td>\n",
       "      <td>ok</td>\n",
       "      <td>nonexistent</td>\n",
       "      <td>2018</td>\n",
       "      <td>4</td>\n",
       "      <td>8</td>\n",
       "      <td>11</td>\n",
       "      <td>43</td>\n",
       "    </tr>\n",
       "    <tr>\n",
       "      <th>1</th>\n",
       "      <td>145 Rue Raymond Losserand</td>\n",
       "      <td>6</td>\n",
       "      <td>6</td>\n",
       "      <td>0</td>\n",
       "      <td>0</td>\n",
       "      <td>0</td>\n",
       "      <td>operational</td>\n",
       "      <td>Paris</td>\n",
       "      <td>NaN</td>\n",
       "      <td>paris-raymondlosserand-145</td>\n",
       "      <td>...</td>\n",
       "      <td>NaN</td>\n",
       "      <td>0</td>\n",
       "      <td>station</td>\n",
       "      <td>ok</td>\n",
       "      <td>nonexistent</td>\n",
       "      <td>2018</td>\n",
       "      <td>4</td>\n",
       "      <td>6</td>\n",
       "      <td>7</td>\n",
       "      <td>24</td>\n",
       "    </tr>\n",
       "    <tr>\n",
       "      <th>2</th>\n",
       "      <td>2 Avenue John Fitzgerald Kennedy</td>\n",
       "      <td>3</td>\n",
       "      <td>3</td>\n",
       "      <td>0</td>\n",
       "      <td>2</td>\n",
       "      <td>0</td>\n",
       "      <td>operational</td>\n",
       "      <td>Le Bourget</td>\n",
       "      <td>NaN</td>\n",
       "      <td>lebourget-johnfitzgeraldkennedy-2</td>\n",
       "      <td>...</td>\n",
       "      <td>NaN</td>\n",
       "      <td>1</td>\n",
       "      <td>station</td>\n",
       "      <td>ok</td>\n",
       "      <td>nonexistent</td>\n",
       "      <td>2018</td>\n",
       "      <td>4</td>\n",
       "      <td>3</td>\n",
       "      <td>20</td>\n",
       "      <td>14</td>\n",
       "    </tr>\n",
       "    <tr>\n",
       "      <th>3</th>\n",
       "      <td>51 Rue EugÃ¨ne OudinÃ©</td>\n",
       "      <td>3</td>\n",
       "      <td>3</td>\n",
       "      <td>1</td>\n",
       "      <td>0</td>\n",
       "      <td>1</td>\n",
       "      <td>operational</td>\n",
       "      <td>Paris</td>\n",
       "      <td>NaN</td>\n",
       "      <td>paris-eugeneoudine-51</td>\n",
       "      <td>...</td>\n",
       "      <td>NaN</td>\n",
       "      <td>2</td>\n",
       "      <td>station</td>\n",
       "      <td>ok</td>\n",
       "      <td>nonexistent</td>\n",
       "      <td>2018</td>\n",
       "      <td>4</td>\n",
       "      <td>4</td>\n",
       "      <td>4</td>\n",
       "      <td>37</td>\n",
       "    </tr>\n",
       "    <tr>\n",
       "      <th>4</th>\n",
       "      <td>6 avenue de la Porte de Champerret</td>\n",
       "      <td>3</td>\n",
       "      <td>3</td>\n",
       "      <td>0</td>\n",
       "      <td>0</td>\n",
       "      <td>0</td>\n",
       "      <td>nonexistent</td>\n",
       "      <td>Paris</td>\n",
       "      <td>NaN</td>\n",
       "      <td>paris-portedechamperret-6</td>\n",
       "      <td>...</td>\n",
       "      <td>NaN</td>\n",
       "      <td>3</td>\n",
       "      <td>station</td>\n",
       "      <td>ok</td>\n",
       "      <td>nonexistent</td>\n",
       "      <td>2018</td>\n",
       "      <td>4</td>\n",
       "      <td>8</td>\n",
       "      <td>17</td>\n",
       "      <td>23</td>\n",
       "    </tr>\n",
       "  </tbody>\n",
       "</table>\n",
       "<p>5 rows × 25 columns</p>\n",
       "</div>"
      ],
      "text/plain": [
       "                              Address  Cars  Bluecar counter  Utilib counter  \\\n",
       "0                 2 Avenue de Suffren     0                0               0   \n",
       "1           145 Rue Raymond Losserand     6                6               0   \n",
       "2    2 Avenue John Fitzgerald Kennedy     3                3               0   \n",
       "3              51 Rue EugÃ¨ne OudinÃ©     3                3               1   \n",
       "4  6 avenue de la Porte de Champerret     3                3               0   \n",
       "\n",
       "   Utilib 1.4 counter  Charge Slots Charging Status        City  \\\n",
       "0                   0             0     nonexistent       Paris   \n",
       "1                   0             0     operational       Paris   \n",
       "2                   2             0     operational  Le Bourget   \n",
       "3                   0             1     operational       Paris   \n",
       "4                   0             0     nonexistent       Paris   \n",
       "\n",
       "  Displayed comment                                 ID  ... Scheduled at  \\\n",
       "0               NaN                    paris-suffren-2  ...          NaN   \n",
       "1               NaN         paris-raymondlosserand-145  ...          NaN   \n",
       "2               NaN  lebourget-johnfitzgeraldkennedy-2  ...          NaN   \n",
       "3               NaN              paris-eugeneoudine-51  ...          NaN   \n",
       "4               NaN          paris-portedechamperret-6  ...          NaN   \n",
       "\n",
       "  Slots  Station type Status Subscription status  year  month day hour minute  \n",
       "0     2       station     ok         nonexistent  2018      4   8   11     43  \n",
       "1     0       station     ok         nonexistent  2018      4   6    7     24  \n",
       "2     1       station     ok         nonexistent  2018      4   3   20     14  \n",
       "3     2       station     ok         nonexistent  2018      4   4    4     37  \n",
       "4     3       station     ok         nonexistent  2018      4   8   17     23  \n",
       "\n",
       "[5 rows x 25 columns]"
      ]
     },
     "execution_count": 2,
     "metadata": {},
     "output_type": "execute_result"
    }
   ],
   "source": [
    "url = \"./dataset/autolib.csv\"\n",
    "df = pd.read_csv(url)\n",
    "df.head()"
   ]
  },
  {
   "cell_type": "markdown",
   "metadata": {
    "colab_type": "text",
    "id": "-sBTS-bm1Nhh"
   },
   "source": [
    "# View our data info"
   ]
  },
  {
   "cell_type": "code",
   "execution_count": 3,
   "metadata": {
    "colab": {
     "base_uri": "https://localhost:8080/",
     "height": 561
    },
    "colab_type": "code",
    "executionInfo": {
     "elapsed": 24800,
     "status": "ok",
     "timestamp": 1586075247802,
     "user": {
      "displayName": "paul mwaura",
      "photoUrl": "",
      "userId": "05571276976991411894"
     },
     "user_tz": -180
    },
    "id": "Af-1j0Jh4jR0",
    "outputId": "9f574b1d-8127-4054-908a-225c8a4b8f3f"
   },
   "outputs": [
    {
     "name": "stdout",
     "output_type": "stream",
     "text": [
      "<class 'pandas.core.frame.DataFrame'>\n",
      "RangeIndex: 5000 entries, 0 to 4999\n",
      "Data columns (total 25 columns):\n",
      " #   Column               Non-Null Count  Dtype \n",
      "---  ------               --------------  ----- \n",
      " 0   Address              5000 non-null   object\n",
      " 1   Cars                 5000 non-null   int64 \n",
      " 2   Bluecar counter      5000 non-null   int64 \n",
      " 3   Utilib counter       5000 non-null   int64 \n",
      " 4   Utilib 1.4 counter   5000 non-null   int64 \n",
      " 5   Charge Slots         5000 non-null   int64 \n",
      " 6   Charging Status      5000 non-null   object\n",
      " 7   City                 5000 non-null   object\n",
      " 8   Displayed comment    111 non-null    object\n",
      " 9   ID                   5000 non-null   object\n",
      " 10  Kind                 5000 non-null   object\n",
      " 11  Geo point            5000 non-null   object\n",
      " 12  Postal code          5000 non-null   int64 \n",
      " 13  Public name          5000 non-null   object\n",
      " 14  Rental status        5000 non-null   object\n",
      " 15  Scheduled at         47 non-null     object\n",
      " 16  Slots                5000 non-null   int64 \n",
      " 17  Station type         5000 non-null   object\n",
      " 18  Status               5000 non-null   object\n",
      " 19  Subscription status  5000 non-null   object\n",
      " 20  year                 5000 non-null   int64 \n",
      " 21  month                5000 non-null   int64 \n",
      " 22  day                  5000 non-null   int64 \n",
      " 23  hour                 5000 non-null   int64 \n",
      " 24  minute               5000 non-null   int64 \n",
      "dtypes: int64(12), object(13)\n",
      "memory usage: 976.7+ KB\n"
     ]
    }
   ],
   "source": [
    "# Getting information from our dataset.\n",
    "#\n",
    "df.info()"
   ]
  },
  {
   "cell_type": "code",
   "execution_count": 4,
   "metadata": {
    "colab": {
     "base_uri": "https://localhost:8080/",
     "height": 334
    },
    "colab_type": "code",
    "executionInfo": {
     "elapsed": 24743,
     "status": "ok",
     "timestamp": 1586075247803,
     "user": {
      "displayName": "paul mwaura",
      "photoUrl": "",
      "userId": "05571276976991411894"
     },
     "user_tz": -180
    },
    "id": "_G5heXc410Hf",
    "outputId": "21e07565-7142-4c9c-d62b-cbeffb1acd26"
   },
   "outputs": [
    {
     "data": {
      "text/html": [
       "<div>\n",
       "<style scoped>\n",
       "    .dataframe tbody tr th:only-of-type {\n",
       "        vertical-align: middle;\n",
       "    }\n",
       "\n",
       "    .dataframe tbody tr th {\n",
       "        vertical-align: top;\n",
       "    }\n",
       "\n",
       "    .dataframe thead th {\n",
       "        text-align: right;\n",
       "    }\n",
       "</style>\n",
       "<table border=\"1\" class=\"dataframe\">\n",
       "  <thead>\n",
       "    <tr style=\"text-align: right;\">\n",
       "      <th></th>\n",
       "      <th>Cars</th>\n",
       "      <th>Bluecar counter</th>\n",
       "      <th>Utilib counter</th>\n",
       "      <th>Utilib 1.4 counter</th>\n",
       "      <th>Charge Slots</th>\n",
       "      <th>Postal code</th>\n",
       "      <th>Slots</th>\n",
       "      <th>year</th>\n",
       "      <th>month</th>\n",
       "      <th>day</th>\n",
       "      <th>hour</th>\n",
       "      <th>minute</th>\n",
       "    </tr>\n",
       "  </thead>\n",
       "  <tbody>\n",
       "    <tr>\n",
       "      <th>count</th>\n",
       "      <td>5000.000000</td>\n",
       "      <td>5000.000000</td>\n",
       "      <td>5000.000000</td>\n",
       "      <td>5000.000000</td>\n",
       "      <td>5000.000000</td>\n",
       "      <td>5000.000000</td>\n",
       "      <td>5000.000000</td>\n",
       "      <td>5000.0</td>\n",
       "      <td>5000.0</td>\n",
       "      <td>5000.000000</td>\n",
       "      <td>5000.000000</td>\n",
       "      <td>5000.000000</td>\n",
       "    </tr>\n",
       "    <tr>\n",
       "      <th>mean</th>\n",
       "      <td>2.333600</td>\n",
       "      <td>2.333600</td>\n",
       "      <td>0.059600</td>\n",
       "      <td>0.123000</td>\n",
       "      <td>0.253400</td>\n",
       "      <td>82634.878400</td>\n",
       "      <td>1.932400</td>\n",
       "      <td>2018.0</td>\n",
       "      <td>4.0</td>\n",
       "      <td>4.941600</td>\n",
       "      <td>11.509200</td>\n",
       "      <td>29.270000</td>\n",
       "    </tr>\n",
       "    <tr>\n",
       "      <th>std</th>\n",
       "      <td>2.035274</td>\n",
       "      <td>2.035274</td>\n",
       "      <td>0.246698</td>\n",
       "      <td>0.356506</td>\n",
       "      <td>0.546304</td>\n",
       "      <td>8835.865721</td>\n",
       "      <td>1.905402</td>\n",
       "      <td>0.0</td>\n",
       "      <td>0.0</td>\n",
       "      <td>2.597063</td>\n",
       "      <td>6.893549</td>\n",
       "      <td>17.231741</td>\n",
       "    </tr>\n",
       "    <tr>\n",
       "      <th>min</th>\n",
       "      <td>0.000000</td>\n",
       "      <td>0.000000</td>\n",
       "      <td>0.000000</td>\n",
       "      <td>0.000000</td>\n",
       "      <td>0.000000</td>\n",
       "      <td>75001.000000</td>\n",
       "      <td>0.000000</td>\n",
       "      <td>2018.0</td>\n",
       "      <td>4.0</td>\n",
       "      <td>1.000000</td>\n",
       "      <td>0.000000</td>\n",
       "      <td>0.000000</td>\n",
       "    </tr>\n",
       "    <tr>\n",
       "      <th>25%</th>\n",
       "      <td>0.000000</td>\n",
       "      <td>0.000000</td>\n",
       "      <td>0.000000</td>\n",
       "      <td>0.000000</td>\n",
       "      <td>0.000000</td>\n",
       "      <td>75012.000000</td>\n",
       "      <td>0.000000</td>\n",
       "      <td>2018.0</td>\n",
       "      <td>4.0</td>\n",
       "      <td>3.000000</td>\n",
       "      <td>6.000000</td>\n",
       "      <td>14.000000</td>\n",
       "    </tr>\n",
       "    <tr>\n",
       "      <th>50%</th>\n",
       "      <td>2.000000</td>\n",
       "      <td>2.000000</td>\n",
       "      <td>0.000000</td>\n",
       "      <td>0.000000</td>\n",
       "      <td>0.000000</td>\n",
       "      <td>75019.000000</td>\n",
       "      <td>1.000000</td>\n",
       "      <td>2018.0</td>\n",
       "      <td>4.0</td>\n",
       "      <td>5.000000</td>\n",
       "      <td>11.000000</td>\n",
       "      <td>29.000000</td>\n",
       "    </tr>\n",
       "    <tr>\n",
       "      <th>75%</th>\n",
       "      <td>4.000000</td>\n",
       "      <td>4.000000</td>\n",
       "      <td>0.000000</td>\n",
       "      <td>0.000000</td>\n",
       "      <td>0.000000</td>\n",
       "      <td>92320.000000</td>\n",
       "      <td>3.000000</td>\n",
       "      <td>2018.0</td>\n",
       "      <td>4.0</td>\n",
       "      <td>7.000000</td>\n",
       "      <td>18.000000</td>\n",
       "      <td>44.000000</td>\n",
       "    </tr>\n",
       "    <tr>\n",
       "      <th>max</th>\n",
       "      <td>7.000000</td>\n",
       "      <td>7.000000</td>\n",
       "      <td>2.000000</td>\n",
       "      <td>3.000000</td>\n",
       "      <td>2.000000</td>\n",
       "      <td>95880.000000</td>\n",
       "      <td>7.000000</td>\n",
       "      <td>2018.0</td>\n",
       "      <td>4.0</td>\n",
       "      <td>9.000000</td>\n",
       "      <td>23.000000</td>\n",
       "      <td>59.000000</td>\n",
       "    </tr>\n",
       "  </tbody>\n",
       "</table>\n",
       "</div>"
      ],
      "text/plain": [
       "              Cars  Bluecar counter  Utilib counter  Utilib 1.4 counter  \\\n",
       "count  5000.000000      5000.000000     5000.000000         5000.000000   \n",
       "mean      2.333600         2.333600        0.059600            0.123000   \n",
       "std       2.035274         2.035274        0.246698            0.356506   \n",
       "min       0.000000         0.000000        0.000000            0.000000   \n",
       "25%       0.000000         0.000000        0.000000            0.000000   \n",
       "50%       2.000000         2.000000        0.000000            0.000000   \n",
       "75%       4.000000         4.000000        0.000000            0.000000   \n",
       "max       7.000000         7.000000        2.000000            3.000000   \n",
       "\n",
       "       Charge Slots   Postal code        Slots    year   month          day  \\\n",
       "count   5000.000000   5000.000000  5000.000000  5000.0  5000.0  5000.000000   \n",
       "mean       0.253400  82634.878400     1.932400  2018.0     4.0     4.941600   \n",
       "std        0.546304   8835.865721     1.905402     0.0     0.0     2.597063   \n",
       "min        0.000000  75001.000000     0.000000  2018.0     4.0     1.000000   \n",
       "25%        0.000000  75012.000000     0.000000  2018.0     4.0     3.000000   \n",
       "50%        0.000000  75019.000000     1.000000  2018.0     4.0     5.000000   \n",
       "75%        0.000000  92320.000000     3.000000  2018.0     4.0     7.000000   \n",
       "max        2.000000  95880.000000     7.000000  2018.0     4.0     9.000000   \n",
       "\n",
       "              hour       minute  \n",
       "count  5000.000000  5000.000000  \n",
       "mean     11.509200    29.270000  \n",
       "std       6.893549    17.231741  \n",
       "min       0.000000     0.000000  \n",
       "25%       6.000000    14.000000  \n",
       "50%      11.000000    29.000000  \n",
       "75%      18.000000    44.000000  \n",
       "max      23.000000    59.000000  "
      ]
     },
     "execution_count": 4,
     "metadata": {},
     "output_type": "execute_result"
    }
   ],
   "source": [
    "# Describing our data allows us to get a general overview of how the data is.\n",
    "#\n",
    "df.describe()"
   ]
  },
  {
   "cell_type": "markdown",
   "metadata": {
    "colab_type": "text",
    "id": "0aQm3gMqIE44"
   },
   "source": [
    "# Data Preparation/Cleaning\n"
   ]
  },
  {
   "cell_type": "markdown",
   "metadata": {
    "colab_type": "text",
    "id": "q5EhLjvnIR0X"
   },
   "source": [
    "># 1.1 Validity"
   ]
  },
  {
   "cell_type": "code",
   "execution_count": 5,
   "metadata": {
    "colab": {},
    "colab_type": "code",
    "id": "Hs4xupTtIVaS"
   },
   "outputs": [],
   "source": [
    "# Procedure 1:\n",
    "# Data Cleaning Action: Droping the irrelevant Scheduled at column\n",
    "# Explanation: We are droping it since its not useful in our analysis.\n",
    "#\n",
    "df_new = df.drop(['Scheduled at'], axis=1, inplace=True)\n",
    "df_new"
   ]
  },
  {
   "cell_type": "code",
   "execution_count": 6,
   "metadata": {
    "colab": {},
    "colab_type": "code",
    "id": "NSrZ2NECCtkW"
   },
   "outputs": [],
   "source": [
    "# Procedure 2:\n",
    "# Data Cleaning Action: Droping the irrelevant Subscription status at column\n",
    "# Explanation: We are droping it since its not useful in our analysis.\n",
    "#\n",
    "df_new = df.drop(['Subscription status'], axis=1, inplace=True)\n",
    "df_new"
   ]
  },
  {
   "cell_type": "code",
   "execution_count": 7,
   "metadata": {
    "colab": {},
    "colab_type": "code",
    "id": "hszsM3AIDhjh"
   },
   "outputs": [],
   "source": [
    "# Procedure 3:\n",
    "# Data Cleaning Action: Droping the irrelevant Subscription status at column\n",
    "# Explanation: We are droping it since its not useful in our analysis.\n",
    "#\n",
    "df_new = df.drop(['Status'], axis=1, inplace=True)\n",
    "df_new"
   ]
  },
  {
   "cell_type": "code",
   "execution_count": 8,
   "metadata": {
    "colab": {},
    "colab_type": "code",
    "id": "3iBQh_Z-ETyU"
   },
   "outputs": [],
   "source": [
    "# Procedure 3:\n",
    "# Data Cleaning Action: Droping the Displayed comment column\n",
    "# Explanation: We are droping it since its not useful in our analysis.\n",
    "#\n",
    "df_new = df.drop(['Displayed comment'], axis=1, inplace=True)\n",
    "df_new"
   ]
  },
  {
   "cell_type": "markdown",
   "metadata": {
    "colab_type": "text",
    "id": "t1gd9O3wyroJ"
   },
   "source": [
    "># 1.2 Accuracy"
   ]
  },
  {
   "cell_type": "code",
   "execution_count": 9,
   "metadata": {
    "colab": {
     "base_uri": "https://localhost:8080/",
     "height": 391
    },
    "colab_type": "code",
    "executionInfo": {
     "elapsed": 24453,
     "status": "ok",
     "timestamp": 1586075247810,
     "user": {
      "displayName": "paul mwaura",
      "photoUrl": "",
      "userId": "05571276976991411894"
     },
     "user_tz": -180
    },
    "id": "S9_f1h1hy2pA",
    "outputId": "975f916a-3a4b-459b-8d8e-47bb709f43c2"
   },
   "outputs": [
    {
     "data": {
      "text/plain": [
       "Address               False\n",
       "Cars                  False\n",
       "Bluecar counter       False\n",
       "Utilib counter        False\n",
       "Utilib 1.4 counter    False\n",
       "Charge Slots          False\n",
       "Charging Status       False\n",
       "City                  False\n",
       "ID                    False\n",
       "Kind                  False\n",
       "Geo point             False\n",
       "Postal code           False\n",
       "Public name           False\n",
       "Rental status         False\n",
       "Slots                 False\n",
       "Station type          False\n",
       "year                  False\n",
       "month                 False\n",
       "day                   False\n",
       "hour                  False\n",
       "minute                False\n",
       "dtype: bool"
      ]
     },
     "execution_count": 9,
     "metadata": {},
     "output_type": "execute_result"
    }
   ],
   "source": [
    "# Procedure 1:\n",
    "# Data Cleaning Action: Checking for null values in our dataset.\n",
    "# Explanation: This is to allows us to determin the columns that have null values.\n",
    "# \n",
    "df_null = df.isnull().any()\n",
    "df_null"
   ]
  },
  {
   "cell_type": "markdown",
   "metadata": {
    "colab_type": "text",
    "id": "3wNCJxydy2-H"
   },
   "source": [
    "># 1.3 Completeness"
   ]
  },
  {
   "cell_type": "code",
   "execution_count": 10,
   "metadata": {
    "colab": {
     "base_uri": "https://localhost:8080/",
     "height": 34
    },
    "colab_type": "code",
    "executionInfo": {
     "elapsed": 24387,
     "status": "ok",
     "timestamp": 1586075247811,
     "user": {
      "displayName": "paul mwaura",
      "photoUrl": "",
      "userId": "05571276976991411894"
     },
     "user_tz": -180
    },
    "id": "VvwnN0rHy6-w",
    "outputId": "c8b06931-ff3f-4ea3-cd76-aef270ea9dc7"
   },
   "outputs": [
    {
     "data": {
      "text/plain": [
       "0"
      ]
     },
     "execution_count": 10,
     "metadata": {},
     "output_type": "execute_result"
    }
   ],
   "source": [
    "# Procedure 1:\n",
    "# Data Cleaning Action: Check for duplicate values.\n",
    "# Explanation: This is to allow us determine data that is duplicated.\n",
    "#\n",
    "df_dup = df.duplicated().sum()\n",
    "df_dup"
   ]
  },
  {
   "cell_type": "markdown",
   "metadata": {
    "colab_type": "text",
    "id": "A1KyBVwty7QP"
   },
   "source": [
    "># 1.4 Consistency"
   ]
  },
  {
   "cell_type": "code",
   "execution_count": 11,
   "metadata": {
    "colab": {
     "base_uri": "https://localhost:8080/",
     "height": 445
    },
    "colab_type": "code",
    "executionInfo": {
     "elapsed": 24360,
     "status": "ok",
     "timestamp": 1586075247812,
     "user": {
      "displayName": "paul mwaura",
      "photoUrl": "",
      "userId": "05571276976991411894"
     },
     "user_tz": -180
    },
    "id": "JPxKI-ZSy_ly",
    "outputId": "96b22fa9-ef59-405d-9ed8-64d5c8178062"
   },
   "outputs": [
    {
     "data": {
      "text/html": [
       "<div>\n",
       "<style scoped>\n",
       "    .dataframe tbody tr th:only-of-type {\n",
       "        vertical-align: middle;\n",
       "    }\n",
       "\n",
       "    .dataframe tbody tr th {\n",
       "        vertical-align: top;\n",
       "    }\n",
       "\n",
       "    .dataframe thead th {\n",
       "        text-align: right;\n",
       "    }\n",
       "</style>\n",
       "<table border=\"1\" class=\"dataframe\">\n",
       "  <thead>\n",
       "    <tr style=\"text-align: right;\">\n",
       "      <th></th>\n",
       "      <th>Address</th>\n",
       "      <th>Cars</th>\n",
       "      <th>Bluecar counter</th>\n",
       "      <th>Utilib counter</th>\n",
       "      <th>Utilib 1.4 counter</th>\n",
       "      <th>Charge Slots</th>\n",
       "      <th>Charging Status</th>\n",
       "      <th>City</th>\n",
       "      <th>ID</th>\n",
       "      <th>Kind</th>\n",
       "      <th>...</th>\n",
       "      <th>Postal code</th>\n",
       "      <th>Public name</th>\n",
       "      <th>Rental status</th>\n",
       "      <th>Slots</th>\n",
       "      <th>Station type</th>\n",
       "      <th>year</th>\n",
       "      <th>month</th>\n",
       "      <th>day</th>\n",
       "      <th>hour</th>\n",
       "      <th>minute</th>\n",
       "    </tr>\n",
       "  </thead>\n",
       "  <tbody>\n",
       "    <tr>\n",
       "      <th>0</th>\n",
       "      <td>2 Avenue de Suffren</td>\n",
       "      <td>0</td>\n",
       "      <td>0</td>\n",
       "      <td>0</td>\n",
       "      <td>0</td>\n",
       "      <td>0</td>\n",
       "      <td>nonexistent</td>\n",
       "      <td>Paris</td>\n",
       "      <td>paris-suffren-2</td>\n",
       "      <td>STATION</td>\n",
       "      <td>...</td>\n",
       "      <td>75015</td>\n",
       "      <td>Paris/Suffren/2</td>\n",
       "      <td>operational</td>\n",
       "      <td>2</td>\n",
       "      <td>station</td>\n",
       "      <td>2018</td>\n",
       "      <td>4</td>\n",
       "      <td>8</td>\n",
       "      <td>11</td>\n",
       "      <td>43</td>\n",
       "    </tr>\n",
       "    <tr>\n",
       "      <th>1</th>\n",
       "      <td>145 Rue Raymond Losserand</td>\n",
       "      <td>6</td>\n",
       "      <td>6</td>\n",
       "      <td>0</td>\n",
       "      <td>0</td>\n",
       "      <td>0</td>\n",
       "      <td>operational</td>\n",
       "      <td>Paris</td>\n",
       "      <td>paris-raymondlosserand-145</td>\n",
       "      <td>STATION</td>\n",
       "      <td>...</td>\n",
       "      <td>75014</td>\n",
       "      <td>Paris/Raymond Losserand/145</td>\n",
       "      <td>operational</td>\n",
       "      <td>0</td>\n",
       "      <td>station</td>\n",
       "      <td>2018</td>\n",
       "      <td>4</td>\n",
       "      <td>6</td>\n",
       "      <td>7</td>\n",
       "      <td>24</td>\n",
       "    </tr>\n",
       "    <tr>\n",
       "      <th>2</th>\n",
       "      <td>2 Avenue John Fitzgerald Kennedy</td>\n",
       "      <td>3</td>\n",
       "      <td>3</td>\n",
       "      <td>0</td>\n",
       "      <td>2</td>\n",
       "      <td>0</td>\n",
       "      <td>operational</td>\n",
       "      <td>Le Bourget</td>\n",
       "      <td>lebourget-johnfitzgeraldkennedy-2</td>\n",
       "      <td>STATION</td>\n",
       "      <td>...</td>\n",
       "      <td>93350</td>\n",
       "      <td>Le Bourget/John Fitzgerald Kennedy/2</td>\n",
       "      <td>operational</td>\n",
       "      <td>1</td>\n",
       "      <td>station</td>\n",
       "      <td>2018</td>\n",
       "      <td>4</td>\n",
       "      <td>3</td>\n",
       "      <td>20</td>\n",
       "      <td>14</td>\n",
       "    </tr>\n",
       "    <tr>\n",
       "      <th>3</th>\n",
       "      <td>51 Rue EugÃ¨ne OudinÃ©</td>\n",
       "      <td>3</td>\n",
       "      <td>3</td>\n",
       "      <td>1</td>\n",
       "      <td>0</td>\n",
       "      <td>1</td>\n",
       "      <td>operational</td>\n",
       "      <td>Paris</td>\n",
       "      <td>paris-eugeneoudine-51</td>\n",
       "      <td>STATION</td>\n",
       "      <td>...</td>\n",
       "      <td>75013</td>\n",
       "      <td>Paris/EugÃ¨ne OudinÃ©/51</td>\n",
       "      <td>operational</td>\n",
       "      <td>2</td>\n",
       "      <td>station</td>\n",
       "      <td>2018</td>\n",
       "      <td>4</td>\n",
       "      <td>4</td>\n",
       "      <td>4</td>\n",
       "      <td>37</td>\n",
       "    </tr>\n",
       "    <tr>\n",
       "      <th>4</th>\n",
       "      <td>6 avenue de la Porte de Champerret</td>\n",
       "      <td>3</td>\n",
       "      <td>3</td>\n",
       "      <td>0</td>\n",
       "      <td>0</td>\n",
       "      <td>0</td>\n",
       "      <td>nonexistent</td>\n",
       "      <td>Paris</td>\n",
       "      <td>paris-portedechamperret-6</td>\n",
       "      <td>PARKING</td>\n",
       "      <td>...</td>\n",
       "      <td>75017</td>\n",
       "      <td>Paris/Porte de Champerret/6</td>\n",
       "      <td>operational</td>\n",
       "      <td>3</td>\n",
       "      <td>station</td>\n",
       "      <td>2018</td>\n",
       "      <td>4</td>\n",
       "      <td>8</td>\n",
       "      <td>17</td>\n",
       "      <td>23</td>\n",
       "    </tr>\n",
       "  </tbody>\n",
       "</table>\n",
       "<p>5 rows × 21 columns</p>\n",
       "</div>"
      ],
      "text/plain": [
       "                              Address  Cars  Bluecar counter  Utilib counter  \\\n",
       "0                 2 Avenue de Suffren     0                0               0   \n",
       "1           145 Rue Raymond Losserand     6                6               0   \n",
       "2    2 Avenue John Fitzgerald Kennedy     3                3               0   \n",
       "3              51 Rue EugÃ¨ne OudinÃ©     3                3               1   \n",
       "4  6 avenue de la Porte de Champerret     3                3               0   \n",
       "\n",
       "   Utilib 1.4 counter  Charge Slots Charging Status        City  \\\n",
       "0                   0             0     nonexistent       Paris   \n",
       "1                   0             0     operational       Paris   \n",
       "2                   2             0     operational  Le Bourget   \n",
       "3                   0             1     operational       Paris   \n",
       "4                   0             0     nonexistent       Paris   \n",
       "\n",
       "                                  ID     Kind  ... Postal code  \\\n",
       "0                    paris-suffren-2  STATION  ...       75015   \n",
       "1         paris-raymondlosserand-145  STATION  ...       75014   \n",
       "2  lebourget-johnfitzgeraldkennedy-2  STATION  ...       93350   \n",
       "3              paris-eugeneoudine-51  STATION  ...       75013   \n",
       "4          paris-portedechamperret-6  PARKING  ...       75017   \n",
       "\n",
       "                            Public name Rental status Slots  Station type  \\\n",
       "0                       Paris/Suffren/2   operational     2       station   \n",
       "1           Paris/Raymond Losserand/145   operational     0       station   \n",
       "2  Le Bourget/John Fitzgerald Kennedy/2   operational     1       station   \n",
       "3              Paris/EugÃ¨ne OudinÃ©/51   operational     2       station   \n",
       "4           Paris/Porte de Champerret/6   operational     3       station   \n",
       "\n",
       "   year  month  day  hour  minute  \n",
       "0  2018      4    8    11      43  \n",
       "1  2018      4    6     7      24  \n",
       "2  2018      4    3    20      14  \n",
       "3  2018      4    4     4      37  \n",
       "4  2018      4    8    17      23  \n",
       "\n",
       "[5 rows x 21 columns]"
      ]
     },
     "execution_count": 11,
     "metadata": {},
     "output_type": "execute_result"
    }
   ],
   "source": [
    "# Procedure 1:\n",
    "# Data Cleaning Action: Dropping null values if they exist.\n",
    "# Explanation: This is to allow us determine data that is duplicated.\n",
    "#\n",
    "df_new = df.dropna(how=\"all\")\n",
    "df_new.head()"
   ]
  },
  {
   "cell_type": "markdown",
   "metadata": {
    "colab_type": "text",
    "id": "tXUOUAJgy_7-"
   },
   "source": [
    "># 1.5 Uniformity"
   ]
  },
  {
   "cell_type": "code",
   "execution_count": 12,
   "metadata": {
    "colab": {
     "base_uri": "https://localhost:8080/",
     "height": 298
    },
    "colab_type": "code",
    "executionInfo": {
     "elapsed": 24276,
     "status": "ok",
     "timestamp": 1586075247813,
     "user": {
      "displayName": "paul mwaura",
      "photoUrl": "",
      "userId": "05571276976991411894"
     },
     "user_tz": -180
    },
    "id": "N8372e3FzEQS",
    "outputId": "26ec5371-45c4-43a3-9173-936b4a216eab"
   },
   "outputs": [
    {
     "data": {
      "text/html": [
       "<div>\n",
       "<style scoped>\n",
       "    .dataframe tbody tr th:only-of-type {\n",
       "        vertical-align: middle;\n",
       "    }\n",
       "\n",
       "    .dataframe tbody tr th {\n",
       "        vertical-align: top;\n",
       "    }\n",
       "\n",
       "    .dataframe thead th {\n",
       "        text-align: right;\n",
       "    }\n",
       "</style>\n",
       "<table border=\"1\" class=\"dataframe\">\n",
       "  <thead>\n",
       "    <tr style=\"text-align: right;\">\n",
       "      <th></th>\n",
       "      <th>address</th>\n",
       "      <th>cars</th>\n",
       "      <th>bluecar counter</th>\n",
       "      <th>utilib counter</th>\n",
       "      <th>utilib 1.4 counter</th>\n",
       "      <th>charge slots</th>\n",
       "      <th>charging status</th>\n",
       "      <th>city</th>\n",
       "      <th>id</th>\n",
       "      <th>kind</th>\n",
       "      <th>...</th>\n",
       "      <th>postal code</th>\n",
       "      <th>public name</th>\n",
       "      <th>rental status</th>\n",
       "      <th>slots</th>\n",
       "      <th>station type</th>\n",
       "      <th>year</th>\n",
       "      <th>month</th>\n",
       "      <th>day</th>\n",
       "      <th>hour</th>\n",
       "      <th>minute</th>\n",
       "    </tr>\n",
       "  </thead>\n",
       "  <tbody>\n",
       "    <tr>\n",
       "      <th>0</th>\n",
       "      <td>2 Avenue de Suffren</td>\n",
       "      <td>0</td>\n",
       "      <td>0</td>\n",
       "      <td>0</td>\n",
       "      <td>0</td>\n",
       "      <td>0</td>\n",
       "      <td>nonexistent</td>\n",
       "      <td>Paris</td>\n",
       "      <td>paris-suffren-2</td>\n",
       "      <td>STATION</td>\n",
       "      <td>...</td>\n",
       "      <td>75015</td>\n",
       "      <td>Paris/Suffren/2</td>\n",
       "      <td>operational</td>\n",
       "      <td>2</td>\n",
       "      <td>station</td>\n",
       "      <td>2018</td>\n",
       "      <td>4</td>\n",
       "      <td>8</td>\n",
       "      <td>11</td>\n",
       "      <td>43</td>\n",
       "    </tr>\n",
       "    <tr>\n",
       "      <th>1</th>\n",
       "      <td>145 Rue Raymond Losserand</td>\n",
       "      <td>6</td>\n",
       "      <td>6</td>\n",
       "      <td>0</td>\n",
       "      <td>0</td>\n",
       "      <td>0</td>\n",
       "      <td>operational</td>\n",
       "      <td>Paris</td>\n",
       "      <td>paris-raymondlosserand-145</td>\n",
       "      <td>STATION</td>\n",
       "      <td>...</td>\n",
       "      <td>75014</td>\n",
       "      <td>Paris/Raymond Losserand/145</td>\n",
       "      <td>operational</td>\n",
       "      <td>0</td>\n",
       "      <td>station</td>\n",
       "      <td>2018</td>\n",
       "      <td>4</td>\n",
       "      <td>6</td>\n",
       "      <td>7</td>\n",
       "      <td>24</td>\n",
       "    </tr>\n",
       "    <tr>\n",
       "      <th>2</th>\n",
       "      <td>2 Avenue John Fitzgerald Kennedy</td>\n",
       "      <td>3</td>\n",
       "      <td>3</td>\n",
       "      <td>0</td>\n",
       "      <td>2</td>\n",
       "      <td>0</td>\n",
       "      <td>operational</td>\n",
       "      <td>Le Bourget</td>\n",
       "      <td>lebourget-johnfitzgeraldkennedy-2</td>\n",
       "      <td>STATION</td>\n",
       "      <td>...</td>\n",
       "      <td>93350</td>\n",
       "      <td>Le Bourget/John Fitzgerald Kennedy/2</td>\n",
       "      <td>operational</td>\n",
       "      <td>1</td>\n",
       "      <td>station</td>\n",
       "      <td>2018</td>\n",
       "      <td>4</td>\n",
       "      <td>3</td>\n",
       "      <td>20</td>\n",
       "      <td>14</td>\n",
       "    </tr>\n",
       "  </tbody>\n",
       "</table>\n",
       "<p>3 rows × 21 columns</p>\n",
       "</div>"
      ],
      "text/plain": [
       "                            address  cars  bluecar counter  utilib counter  \\\n",
       "0               2 Avenue de Suffren     0                0               0   \n",
       "1         145 Rue Raymond Losserand     6                6               0   \n",
       "2  2 Avenue John Fitzgerald Kennedy     3                3               0   \n",
       "\n",
       "   utilib 1.4 counter  charge slots charging status        city  \\\n",
       "0                   0             0     nonexistent       Paris   \n",
       "1                   0             0     operational       Paris   \n",
       "2                   2             0     operational  Le Bourget   \n",
       "\n",
       "                                  id     kind  ... postal code  \\\n",
       "0                    paris-suffren-2  STATION  ...       75015   \n",
       "1         paris-raymondlosserand-145  STATION  ...       75014   \n",
       "2  lebourget-johnfitzgeraldkennedy-2  STATION  ...       93350   \n",
       "\n",
       "                            public name rental status slots  station type  \\\n",
       "0                       Paris/Suffren/2   operational     2       station   \n",
       "1           Paris/Raymond Losserand/145   operational     0       station   \n",
       "2  Le Bourget/John Fitzgerald Kennedy/2   operational     1       station   \n",
       "\n",
       "   year  month  day  hour  minute  \n",
       "0  2018      4    8    11      43  \n",
       "1  2018      4    6     7      24  \n",
       "2  2018      4    3    20      14  \n",
       "\n",
       "[3 rows x 21 columns]"
      ]
     },
     "execution_count": 12,
     "metadata": {},
     "output_type": "execute_result"
    }
   ],
   "source": [
    "# Procedure 1:\n",
    "# Data Cleaning Action: Converting column names to lowercase characters.\n",
    "# Explanation: This is to allow for a uniform columns in the dataframe.\n",
    "#\n",
    "df.columns = df.columns.str.rstrip().str.lower()\n",
    "df.head(3)"
   ]
  },
  {
   "cell_type": "code",
   "execution_count": 13,
   "metadata": {
    "colab": {
     "base_uri": "https://localhost:8080/",
     "height": 315
    },
    "colab_type": "code",
    "executionInfo": {
     "elapsed": 24251,
     "status": "ok",
     "timestamp": 1586075247814,
     "user": {
      "displayName": "paul mwaura",
      "photoUrl": "",
      "userId": "05571276976991411894"
     },
     "user_tz": -180
    },
    "id": "wkFHZgxqLtk9",
    "outputId": "f4c12eec-22f5-4ec0-fe78-4e5a84745a6b"
   },
   "outputs": [
    {
     "data": {
      "text/html": [
       "<div>\n",
       "<style scoped>\n",
       "    .dataframe tbody tr th:only-of-type {\n",
       "        vertical-align: middle;\n",
       "    }\n",
       "\n",
       "    .dataframe tbody tr th {\n",
       "        vertical-align: top;\n",
       "    }\n",
       "\n",
       "    .dataframe thead th {\n",
       "        text-align: right;\n",
       "    }\n",
       "</style>\n",
       "<table border=\"1\" class=\"dataframe\">\n",
       "  <thead>\n",
       "    <tr style=\"text-align: right;\">\n",
       "      <th></th>\n",
       "      <th>address</th>\n",
       "      <th>cars</th>\n",
       "      <th>bluecar counter</th>\n",
       "      <th>utilib counter</th>\n",
       "      <th>utilib 1.4 counter</th>\n",
       "      <th>charge slots</th>\n",
       "      <th>charging status</th>\n",
       "      <th>city</th>\n",
       "      <th>id</th>\n",
       "      <th>kind</th>\n",
       "      <th>...</th>\n",
       "      <th>postal code</th>\n",
       "      <th>public name</th>\n",
       "      <th>rental status</th>\n",
       "      <th>slots</th>\n",
       "      <th>station type</th>\n",
       "      <th>year</th>\n",
       "      <th>month</th>\n",
       "      <th>day</th>\n",
       "      <th>hour</th>\n",
       "      <th>minute</th>\n",
       "    </tr>\n",
       "  </thead>\n",
       "  <tbody>\n",
       "    <tr>\n",
       "      <th>0</th>\n",
       "      <td>2 avenue de suffren</td>\n",
       "      <td>0</td>\n",
       "      <td>0</td>\n",
       "      <td>0</td>\n",
       "      <td>0</td>\n",
       "      <td>0</td>\n",
       "      <td>nonexistent</td>\n",
       "      <td>paris</td>\n",
       "      <td>paris-suffren-2</td>\n",
       "      <td>station</td>\n",
       "      <td>...</td>\n",
       "      <td>75015</td>\n",
       "      <td>paris/suffren/2</td>\n",
       "      <td>operational</td>\n",
       "      <td>2</td>\n",
       "      <td>station</td>\n",
       "      <td>2018</td>\n",
       "      <td>4</td>\n",
       "      <td>8</td>\n",
       "      <td>11</td>\n",
       "      <td>43</td>\n",
       "    </tr>\n",
       "    <tr>\n",
       "      <th>1</th>\n",
       "      <td>145 rue raymond losserand</td>\n",
       "      <td>6</td>\n",
       "      <td>6</td>\n",
       "      <td>0</td>\n",
       "      <td>0</td>\n",
       "      <td>0</td>\n",
       "      <td>operational</td>\n",
       "      <td>paris</td>\n",
       "      <td>paris-raymondlosserand-145</td>\n",
       "      <td>station</td>\n",
       "      <td>...</td>\n",
       "      <td>75014</td>\n",
       "      <td>paris/raymond losserand/145</td>\n",
       "      <td>operational</td>\n",
       "      <td>0</td>\n",
       "      <td>station</td>\n",
       "      <td>2018</td>\n",
       "      <td>4</td>\n",
       "      <td>6</td>\n",
       "      <td>7</td>\n",
       "      <td>24</td>\n",
       "    </tr>\n",
       "    <tr>\n",
       "      <th>2</th>\n",
       "      <td>2 avenue john fitzgerald kennedy</td>\n",
       "      <td>3</td>\n",
       "      <td>3</td>\n",
       "      <td>0</td>\n",
       "      <td>2</td>\n",
       "      <td>0</td>\n",
       "      <td>operational</td>\n",
       "      <td>le bourget</td>\n",
       "      <td>lebourget-johnfitzgeraldkennedy-2</td>\n",
       "      <td>station</td>\n",
       "      <td>...</td>\n",
       "      <td>93350</td>\n",
       "      <td>le bourget/john fitzgerald kennedy/2</td>\n",
       "      <td>operational</td>\n",
       "      <td>1</td>\n",
       "      <td>station</td>\n",
       "      <td>2018</td>\n",
       "      <td>4</td>\n",
       "      <td>3</td>\n",
       "      <td>20</td>\n",
       "      <td>14</td>\n",
       "    </tr>\n",
       "  </tbody>\n",
       "</table>\n",
       "<p>3 rows × 21 columns</p>\n",
       "</div>"
      ],
      "text/plain": [
       "                            address cars bluecar counter utilib counter  \\\n",
       "0               2 avenue de suffren    0               0              0   \n",
       "1         145 rue raymond losserand    6               6              0   \n",
       "2  2 avenue john fitzgerald kennedy    3               3              0   \n",
       "\n",
       "  utilib 1.4 counter charge slots charging status        city  \\\n",
       "0                  0            0     nonexistent       paris   \n",
       "1                  0            0     operational       paris   \n",
       "2                  2            0     operational  le bourget   \n",
       "\n",
       "                                  id     kind  ... postal code  \\\n",
       "0                    paris-suffren-2  station  ...       75015   \n",
       "1         paris-raymondlosserand-145  station  ...       75014   \n",
       "2  lebourget-johnfitzgeraldkennedy-2  station  ...       93350   \n",
       "\n",
       "                            public name rental status slots station type  \\\n",
       "0                       paris/suffren/2   operational     2      station   \n",
       "1           paris/raymond losserand/145   operational     0      station   \n",
       "2  le bourget/john fitzgerald kennedy/2   operational     1      station   \n",
       "\n",
       "   year month day hour minute  \n",
       "0  2018     4   8   11     43  \n",
       "1  2018     4   6    7     24  \n",
       "2  2018     4   3   20     14  \n",
       "\n",
       "[3 rows x 21 columns]"
      ]
     },
     "execution_count": 13,
     "metadata": {},
     "output_type": "execute_result"
    }
   ],
   "source": [
    "# Procedure 2:\n",
    "# Data Cleaning Action: Converting row values to lowercase characters.\n",
    "# Explanation: This is to allow for rows to have uniform values which are in lowercase in the dataframe.\n",
    "#\n",
    "df = df.astype(str).apply(lambda x: x.str.lower())\n",
    "df.head(3)"
   ]
  },
  {
   "cell_type": "code",
   "execution_count": 14,
   "metadata": {
    "colab": {
     "base_uri": "https://localhost:8080/",
     "height": 199
    },
    "colab_type": "code",
    "executionInfo": {
     "elapsed": 24163,
     "status": "ok",
     "timestamp": 1586075247815,
     "user": {
      "displayName": "paul mwaura",
      "photoUrl": "",
      "userId": "05571276976991411894"
     },
     "user_tz": -180
    },
    "id": "z2IOK4aUdBRD",
    "outputId": "127342f1-7d55-4040-9459-6a62179d46b3"
   },
   "outputs": [
    {
     "data": {
      "text/html": [
       "<div>\n",
       "<style scoped>\n",
       "    .dataframe tbody tr th:only-of-type {\n",
       "        vertical-align: middle;\n",
       "    }\n",
       "\n",
       "    .dataframe tbody tr th {\n",
       "        vertical-align: top;\n",
       "    }\n",
       "\n",
       "    .dataframe thead th {\n",
       "        text-align: right;\n",
       "    }\n",
       "</style>\n",
       "<table border=\"1\" class=\"dataframe\">\n",
       "  <thead>\n",
       "    <tr style=\"text-align: right;\">\n",
       "      <th></th>\n",
       "      <th>address</th>\n",
       "      <th>cars</th>\n",
       "      <th>bluecar_counter</th>\n",
       "      <th>utilib_counter</th>\n",
       "      <th>utilib_1.4_counter</th>\n",
       "      <th>charge_slots</th>\n",
       "      <th>charging_status</th>\n",
       "      <th>city</th>\n",
       "      <th>id</th>\n",
       "      <th>kind</th>\n",
       "      <th>...</th>\n",
       "      <th>postal_code</th>\n",
       "      <th>public_name</th>\n",
       "      <th>rental_status</th>\n",
       "      <th>slots</th>\n",
       "      <th>station_type</th>\n",
       "      <th>year</th>\n",
       "      <th>month</th>\n",
       "      <th>day</th>\n",
       "      <th>hour</th>\n",
       "      <th>minute</th>\n",
       "    </tr>\n",
       "  </thead>\n",
       "  <tbody>\n",
       "    <tr>\n",
       "      <th>0</th>\n",
       "      <td>2 avenue de suffren</td>\n",
       "      <td>0</td>\n",
       "      <td>0</td>\n",
       "      <td>0</td>\n",
       "      <td>0</td>\n",
       "      <td>0</td>\n",
       "      <td>nonexistent</td>\n",
       "      <td>paris</td>\n",
       "      <td>paris-suffren-2</td>\n",
       "      <td>station</td>\n",
       "      <td>...</td>\n",
       "      <td>75015</td>\n",
       "      <td>paris/suffren/2</td>\n",
       "      <td>operational</td>\n",
       "      <td>2</td>\n",
       "      <td>station</td>\n",
       "      <td>2018</td>\n",
       "      <td>4</td>\n",
       "      <td>8</td>\n",
       "      <td>11</td>\n",
       "      <td>43</td>\n",
       "    </tr>\n",
       "    <tr>\n",
       "      <th>1</th>\n",
       "      <td>145 rue raymond losserand</td>\n",
       "      <td>6</td>\n",
       "      <td>6</td>\n",
       "      <td>0</td>\n",
       "      <td>0</td>\n",
       "      <td>0</td>\n",
       "      <td>operational</td>\n",
       "      <td>paris</td>\n",
       "      <td>paris-raymondlosserand-145</td>\n",
       "      <td>station</td>\n",
       "      <td>...</td>\n",
       "      <td>75014</td>\n",
       "      <td>paris/raymond losserand/145</td>\n",
       "      <td>operational</td>\n",
       "      <td>0</td>\n",
       "      <td>station</td>\n",
       "      <td>2018</td>\n",
       "      <td>4</td>\n",
       "      <td>6</td>\n",
       "      <td>7</td>\n",
       "      <td>24</td>\n",
       "    </tr>\n",
       "  </tbody>\n",
       "</table>\n",
       "<p>2 rows × 21 columns</p>\n",
       "</div>"
      ],
      "text/plain": [
       "                     address cars bluecar_counter utilib_counter  \\\n",
       "0        2 avenue de suffren    0               0              0   \n",
       "1  145 rue raymond losserand    6               6              0   \n",
       "\n",
       "  utilib_1.4_counter charge_slots charging_status   city  \\\n",
       "0                  0            0     nonexistent  paris   \n",
       "1                  0            0     operational  paris   \n",
       "\n",
       "                           id     kind  ... postal_code  \\\n",
       "0             paris-suffren-2  station  ...       75015   \n",
       "1  paris-raymondlosserand-145  station  ...       75014   \n",
       "\n",
       "                   public_name rental_status slots station_type  year month  \\\n",
       "0              paris/suffren/2   operational     2      station  2018     4   \n",
       "1  paris/raymond losserand/145   operational     0      station  2018     4   \n",
       "\n",
       "  day hour minute  \n",
       "0   8   11     43  \n",
       "1   6    7     24  \n",
       "\n",
       "[2 rows x 21 columns]"
      ]
     },
     "execution_count": 14,
     "metadata": {},
     "output_type": "execute_result"
    }
   ],
   "source": [
    "df.columns = df.columns.str.replace(\" \", \"_\", regex=True)\n",
    "df.head(2)"
   ]
  },
  {
   "cell_type": "code",
   "execution_count": 15,
   "metadata": {
    "colab": {},
    "colab_type": "code",
    "id": "_mI7UZy_cZvN"
   },
   "outputs": [],
   "source": [
    "# Splitting the geopoint column into two.\n",
    "#\n"
   ]
  },
  {
   "cell_type": "markdown",
   "metadata": {
    "colab_type": "text",
    "id": "nJmS2a6UTGvx"
   },
   "source": [
    "# Exporting our clean csv file."
   ]
  },
  {
   "cell_type": "code",
   "execution_count": 16,
   "metadata": {
    "colab": {},
    "colab_type": "code",
    "id": "QyrY-OUYTFxc"
   },
   "outputs": [],
   "source": [
    "df.to_csv(\"autolib_clean.csv\")"
   ]
  },
  {
   "cell_type": "markdown",
   "metadata": {
    "colab_type": "text",
    "id": "78r77EmDzFG6"
   },
   "source": [
    "# Answering Questions\n"
   ]
  },
  {
   "cell_type": "markdown",
   "metadata": {
    "colab_type": "text",
    "id": "WdveUsECWCmS"
   },
   "source": [
    "#  *Using Blue cars*"
   ]
  },
  {
   "cell_type": "markdown",
   "metadata": {
    "colab_type": "text",
    "id": "QzWGG1DpTnOz"
   },
   "source": [
    "> # *Challenge 1*\n",
    "> 1. What is the most popular hour for returning cars?"
   ]
  },
  {
   "cell_type": "code",
   "execution_count": 17,
   "metadata": {
    "colab": {
     "base_uri": "https://localhost:8080/",
     "height": 34
    },
    "colab_type": "code",
    "executionInfo": {
     "elapsed": 24066,
     "status": "ok",
     "timestamp": 1586075247819,
     "user": {
      "displayName": "paul mwaura",
      "photoUrl": "",
      "userId": "05571276976991411894"
     },
     "user_tz": -180
    },
    "id": "tEESZ6GkTmRf",
    "outputId": "9985db3a-3bff-42ab-a843-2b58e800380d"
   },
   "outputs": [
    {
     "data": {
      "text/plain": [
       "23"
      ]
     },
     "execution_count": 17,
     "metadata": {},
     "output_type": "execute_result"
    }
   ],
   "source": [
    "# Challenge 1\n",
    "# Finding the most popular hour for returning cars?.\n",
    "#\n",
    "url = \"autolib_clean.csv\"\n",
    "df = pd.read_csv(url)\n",
    "df_x = df[[\"bluecar_counter\",\"day\", \"hour\", \"minute\"]]\n",
    "df_car = df_x[df_x[\"bluecar_counter\"] == 0]\n",
    "df_car['hour'].max()"
   ]
  },
  {
   "cell_type": "markdown",
   "metadata": {
    "colab_type": "text",
    "id": "dY8KVOuWsD9j"
   },
   "source": [
    "> # *Challenge 2*\n",
    ">  What station is the most popular?\n",
    "      > * Overall?"
   ]
  },
  {
   "cell_type": "code",
   "execution_count": 18,
   "metadata": {
    "colab": {
     "base_uri": "https://localhost:8080/",
     "height": 68
    },
    "colab_type": "code",
    "executionInfo": {
     "elapsed": 1491,
     "status": "ok",
     "timestamp": 1586075870690,
     "user": {
      "displayName": "paul mwaura",
      "photoUrl": "",
      "userId": "05571276976991411894"
     },
     "user_tz": -180
    },
    "id": "TgKP79Y0jp7D",
    "outputId": "4222893b-88b9-4083-c98f-d95c473c7eb0"
   },
   "outputs": [
    {
     "data": {
      "text/plain": [
       "address\n",
       "194 rue de fontenay    7\n",
       "Name: bluecar_counter, dtype: int64"
      ]
     },
     "execution_count": 18,
     "metadata": {},
     "output_type": "execute_result"
    }
   ],
   "source": [
    "# Challenge 2\n",
    "# Finding the most popular station( Overall) from our dataset.\n",
    "#\n",
    "df_p = df.groupby(['address'])['bluecar_counter'].max().sort_values(ascending=False)\n",
    "\n",
    "df_p.head(1)"
   ]
  },
  {
   "cell_type": "markdown",
   "metadata": {
    "colab_type": "text",
    "id": "lusd367HsIws"
   },
   "source": [
    "> # *Challenge 3*\n",
    "> 3. What station is the most popular?\n",
    "      > * At the most popular picking hour?"
   ]
  },
  {
   "cell_type": "code",
   "execution_count": 19,
   "metadata": {
    "colab": {
     "base_uri": "https://localhost:8080/",
     "height": 68
    },
    "colab_type": "code",
    "executionInfo": {
     "elapsed": 1324,
     "status": "ok",
     "timestamp": 1586068722009,
     "user": {
      "displayName": "paul mwaura",
      "photoUrl": "",
      "userId": "05571276976991411894"
     },
     "user_tz": -180
    },
    "id": "RyLaEN1ksO3X",
    "outputId": "020622b9-e725-4b40-921e-6ad820c4c17c"
   },
   "outputs": [
    {
     "data": {
      "text/plain": [
       "address\n",
       "11 rue robert lavergne    23\n",
       "Name: hour, dtype: int64"
      ]
     },
     "execution_count": 19,
     "metadata": {},
     "output_type": "execute_result"
    }
   ],
   "source": [
    "# Challenge 3\n",
    "# Finding the most popular station (At the most popular picking hour) from our dataset.\n",
    "#\n",
    "df_p = df.groupby(['address'])['hour'].max().sort_values(ascending=False)\n",
    "\n",
    "df_p.head(1)"
   ]
  },
  {
   "cell_type": "markdown",
   "metadata": {
    "colab_type": "text",
    "id": "13kMiWBVOgQ5"
   },
   "source": [
    "> # *Challenge 4*\n",
    "  > 4. What postal code is the most popular for picking up Blue cars? Does the most popular station belong to that postal code?\n",
    "   > * Overall?"
   ]
  },
  {
   "cell_type": "code",
   "execution_count": 20,
   "metadata": {
    "colab": {
     "base_uri": "https://localhost:8080/",
     "height": 80
    },
    "colab_type": "code",
    "executionInfo": {
     "elapsed": 11395,
     "status": "ok",
     "timestamp": 1586075573461,
     "user": {
      "displayName": "paul mwaura",
      "photoUrl": "",
      "userId": "05571276976991411894"
     },
     "user_tz": -180
    },
    "id": "W2fdIfQXLxJ2",
    "outputId": "ba848a89-7891-4b9e-c371-c6f2571c74fb"
   },
   "outputs": [
    {
     "data": {
      "text/html": [
       "<div>\n",
       "<style scoped>\n",
       "    .dataframe tbody tr th:only-of-type {\n",
       "        vertical-align: middle;\n",
       "    }\n",
       "\n",
       "    .dataframe tbody tr th {\n",
       "        vertical-align: top;\n",
       "    }\n",
       "\n",
       "    .dataframe thead th {\n",
       "        text-align: right;\n",
       "    }\n",
       "</style>\n",
       "<table border=\"1\" class=\"dataframe\">\n",
       "  <thead>\n",
       "    <tr style=\"text-align: right;\">\n",
       "      <th></th>\n",
       "      <th>address</th>\n",
       "      <th>postal_code</th>\n",
       "      <th>bluecar_counter</th>\n",
       "    </tr>\n",
       "  </thead>\n",
       "  <tbody>\n",
       "    <tr>\n",
       "      <th>1985</th>\n",
       "      <td>99 rue charles-de-gaulle</td>\n",
       "      <td>91330</td>\n",
       "      <td>7</td>\n",
       "    </tr>\n",
       "  </tbody>\n",
       "</table>\n",
       "</div>"
      ],
      "text/plain": [
       "                       address  postal_code  bluecar_counter\n",
       "1985  99 rue charles-de-gaulle        91330                7"
      ]
     },
     "execution_count": 20,
     "metadata": {},
     "output_type": "execute_result"
    }
   ],
   "source": [
    "# Challenge 4\n",
    "# Finding the What postal code is the most popular for picking up Blue cars? \n",
    "# Does the most popular station belong to that postal code? from our dataset.\n",
    "#\n",
    "df_station = df[['address', 'postal_code', 'bluecar_counter']]\n",
    "df_postal = df_station.sort_values('bluecar_counter', ascending=False)\n",
    "df_postal.head(1)"
   ]
  },
  {
   "cell_type": "markdown",
   "metadata": {
    "colab_type": "text",
    "id": "OOEOEhU1Snzy"
   },
   "source": [
    " > # *Challenge 5*\n",
    "   > * At the most popular picking hour?"
   ]
  },
  {
   "cell_type": "code",
   "execution_count": 21,
   "metadata": {
    "colab": {
     "base_uri": "https://localhost:8080/",
     "height": 80
    },
    "colab_type": "code",
    "executionInfo": {
     "elapsed": 1365,
     "status": "ok",
     "timestamp": 1586068730475,
     "user": {
      "displayName": "paul mwaura",
      "photoUrl": "",
      "userId": "05571276976991411894"
     },
     "user_tz": -180
    },
    "id": "u4OrzkbRSnOz",
    "outputId": "5affa09b-39c9-434e-913a-960c5112ba64"
   },
   "outputs": [
    {
     "data": {
      "text/html": [
       "<div>\n",
       "<style scoped>\n",
       "    .dataframe tbody tr th:only-of-type {\n",
       "        vertical-align: middle;\n",
       "    }\n",
       "\n",
       "    .dataframe tbody tr th {\n",
       "        vertical-align: top;\n",
       "    }\n",
       "\n",
       "    .dataframe thead th {\n",
       "        text-align: right;\n",
       "    }\n",
       "</style>\n",
       "<table border=\"1\" class=\"dataframe\">\n",
       "  <thead>\n",
       "    <tr style=\"text-align: right;\">\n",
       "      <th></th>\n",
       "      <th>address</th>\n",
       "      <th>postal_code</th>\n",
       "      <th>hour</th>\n",
       "    </tr>\n",
       "  </thead>\n",
       "  <tbody>\n",
       "    <tr>\n",
       "      <th>581</th>\n",
       "      <td>65 boulevard de picpus</td>\n",
       "      <td>75012</td>\n",
       "      <td>23</td>\n",
       "    </tr>\n",
       "  </tbody>\n",
       "</table>\n",
       "</div>"
      ],
      "text/plain": [
       "                    address  postal_code  hour\n",
       "581  65 boulevard de picpus        75012    23"
      ]
     },
     "execution_count": 21,
     "metadata": {},
     "output_type": "execute_result"
    }
   ],
   "source": [
    "# Challenge 5\n",
    "# Finding the What postal code is the most popular for picking up Blue cars? \n",
    "# Does the most popular station belong to that postal code? from our dataset.\n",
    "#\n",
    "df_station = df[['address', 'postal_code', 'hour']]\n",
    "df_postal = df_station.sort_values('hour', ascending=False)\n",
    "df_postal.head(1)"
   ]
  },
  {
   "cell_type": "markdown",
   "metadata": {
    "colab_type": "text",
    "id": "h242RgvRgDIn"
   },
   "source": [
    "> # *Challenge 6*\n",
    "> 5. Sorting the non-existent, operational and broken charging status in Descending Order.\n"
   ]
  },
  {
   "cell_type": "code",
   "execution_count": 22,
   "metadata": {
    "colab": {
     "base_uri": "https://localhost:8080/",
     "height": 102
    },
    "colab_type": "code",
    "executionInfo": {
     "elapsed": 1614,
     "status": "ok",
     "timestamp": 1586068733860,
     "user": {
      "displayName": "paul mwaura",
      "photoUrl": "",
      "userId": "05571276976991411894"
     },
     "user_tz": -180
    },
    "id": "1-h1pXLzgCUM",
    "outputId": "ede3cde2-5879-4e01-8a06-d29254f9396e"
   },
   "outputs": [
    {
     "data": {
      "text/plain": [
       "charging_status\n",
       "nonexistent    7269\n",
       "operational    4359\n",
       "broken           40\n",
       "Name: bluecar_counter, dtype: int64"
      ]
     },
     "execution_count": 22,
     "metadata": {},
     "output_type": "execute_result"
    }
   ],
   "source": [
    "# Challenge 4\n",
    "# Finding the What charging status has the highest value for picking up Blue cars from our dataset.\n",
    "#\n",
    "df_city = df.groupby(['charging_status'])['bluecar_counter'].sum().sort_values(ascending=False)\n",
    "df_city.head(16)"
   ]
  },
  {
   "cell_type": "markdown",
   "metadata": {
    "colab_type": "text",
    "id": "U1KsVg2KU7b4"
   },
   "source": [
    "> # Using Utilib counter and Utilib 1.4 counter"
   ]
  },
  {
   "cell_type": "markdown",
   "metadata": {
    "colab_type": "text",
    "id": "9DdhMuzLV19K"
   },
   "source": [
    "> # *Challenge 1*\n",
    ">  What station is the most popular?\n",
    "      > * Overall?"
   ]
  },
  {
   "cell_type": "markdown",
   "metadata": {
    "colab_type": "text",
    "id": "hk8H4xTWaYb7"
   },
   "source": [
    "> a). utilib_counter"
   ]
  },
  {
   "cell_type": "code",
   "execution_count": 23,
   "metadata": {
    "colab": {
     "base_uri": "https://localhost:8080/",
     "height": 68
    },
    "colab_type": "code",
    "executionInfo": {
     "elapsed": 1910,
     "status": "ok",
     "timestamp": 1586075968559,
     "user": {
      "displayName": "paul mwaura",
      "photoUrl": "",
      "userId": "05571276976991411894"
     },
     "user_tz": -180
    },
    "id": "5_CrMQo3VFdH",
    "outputId": "55a3559b-cf00-41fc-cdd3-cd6cd24196eb"
   },
   "outputs": [
    {
     "data": {
      "text/plain": [
       "address\n",
       "161 avenue de suffren    2\n",
       "Name: utilib_counter, dtype: int64"
      ]
     },
     "execution_count": 23,
     "metadata": {},
     "output_type": "execute_result"
    }
   ],
   "source": [
    "# Challenge 1.1\n",
    "# Finding the most popular station( Overall) from our dataset.\n",
    "#\n",
    "df_p = df.groupby(['address'])['utilib_counter'].max().sort_values(ascending=False)\n",
    "df_p.head(1)"
   ]
  },
  {
   "cell_type": "markdown",
   "metadata": {
    "colab_type": "text",
    "id": "VPuWfD_GacT7"
   },
   "source": [
    "> b). utilib_1.4_counter"
   ]
  },
  {
   "cell_type": "code",
   "execution_count": 24,
   "metadata": {
    "colab": {
     "base_uri": "https://localhost:8080/",
     "height": 68
    },
    "colab_type": "code",
    "executionInfo": {
     "elapsed": 1436,
     "status": "ok",
     "timestamp": 1586076006383,
     "user": {
      "displayName": "paul mwaura",
      "photoUrl": "",
      "userId": "05571276976991411894"
     },
     "user_tz": -180
    },
    "id": "xFDlO06jVt6Y",
    "outputId": "b1acfe22-3a21-4a06-9142-8c56ec4e4cca"
   },
   "outputs": [
    {
     "data": {
      "text/plain": [
       "address\n",
       "123 grande rue    3\n",
       "Name: utilib_1.4_counter, dtype: int64"
      ]
     },
     "execution_count": 24,
     "metadata": {},
     "output_type": "execute_result"
    }
   ],
   "source": [
    "# Challenge 1.2\n",
    "# Finding the most popular station( Overall) from our dataset.\n",
    "#\n",
    "df_p = df.groupby(['address'])['utilib_1.4_counter'].max().sort_values(ascending=False)\n",
    "df_p.head(1)"
   ]
  },
  {
   "cell_type": "markdown",
   "metadata": {
    "colab_type": "text",
    "id": "yvf7B1fmYex6"
   },
   "source": [
    "> # *Challenge 2*\n",
    "  > 2. What postal code is the most popular for picking up Utilib_counter and Utilib_1.4_counter? Does the most popular station belong to that postal code?\n",
    "   > * Overall?"
   ]
  },
  {
   "cell_type": "markdown",
   "metadata": {
    "colab_type": "text",
    "id": "k9ioLt4waqjM"
   },
   "source": [
    "> b). utilib_1.4_counter"
   ]
  },
  {
   "cell_type": "code",
   "execution_count": 25,
   "metadata": {
    "colab": {
     "base_uri": "https://localhost:8080/",
     "height": 80
    },
    "colab_type": "code",
    "executionInfo": {
     "elapsed": 1778,
     "status": "ok",
     "timestamp": 1586068744998,
     "user": {
      "displayName": "paul mwaura",
      "photoUrl": "",
      "userId": "05571276976991411894"
     },
     "user_tz": -180
    },
    "id": "J53uwL3xY_7S",
    "outputId": "6e524db0-35b1-4ea9-efd2-632ae1d9eee8"
   },
   "outputs": [
    {
     "data": {
      "text/html": [
       "<div>\n",
       "<style scoped>\n",
       "    .dataframe tbody tr th:only-of-type {\n",
       "        vertical-align: middle;\n",
       "    }\n",
       "\n",
       "    .dataframe tbody tr th {\n",
       "        vertical-align: top;\n",
       "    }\n",
       "\n",
       "    .dataframe thead th {\n",
       "        text-align: right;\n",
       "    }\n",
       "</style>\n",
       "<table border=\"1\" class=\"dataframe\">\n",
       "  <thead>\n",
       "    <tr style=\"text-align: right;\">\n",
       "      <th></th>\n",
       "      <th>address</th>\n",
       "      <th>postal_code</th>\n",
       "      <th>utilib_counter</th>\n",
       "    </tr>\n",
       "  </thead>\n",
       "  <tbody>\n",
       "    <tr>\n",
       "      <th>3329</th>\n",
       "      <td>19 rue de chateaubriand</td>\n",
       "      <td>75008</td>\n",
       "      <td>2</td>\n",
       "    </tr>\n",
       "  </tbody>\n",
       "</table>\n",
       "</div>"
      ],
      "text/plain": [
       "                      address  postal_code  utilib_counter\n",
       "3329  19 rue de chateaubriand        75008               2"
      ]
     },
     "execution_count": 25,
     "metadata": {},
     "output_type": "execute_result"
    }
   ],
   "source": [
    "# Challenge 2.1\n",
    "# Finding the What postal code is the most popular for picking up Blue cars? \n",
    "# Does the most popular station belong to that postal code? from our dataset.\n",
    "#\n",
    "df_station = df[['address', 'postal_code', 'utilib_counter']]\n",
    "df_postal = df_station.sort_values('utilib_counter', ascending=False)\n",
    "df_postal.head(1)"
   ]
  },
  {
   "cell_type": "markdown",
   "metadata": {
    "colab_type": "text",
    "id": "Sjx3mrC5asUh"
   },
   "source": [
    "> b). utilib_1.4_counter"
   ]
  },
  {
   "cell_type": "code",
   "execution_count": 26,
   "metadata": {
    "colab": {
     "base_uri": "https://localhost:8080/",
     "height": 80
    },
    "colab_type": "code",
    "executionInfo": {
     "elapsed": 887,
     "status": "ok",
     "timestamp": 1586068746783,
     "user": {
      "displayName": "paul mwaura",
      "photoUrl": "",
      "userId": "05571276976991411894"
     },
     "user_tz": -180
    },
    "id": "37EWjlcqZQQs",
    "outputId": "023111ed-21cb-4623-fab7-985515d839d1"
   },
   "outputs": [
    {
     "data": {
      "text/html": [
       "<div>\n",
       "<style scoped>\n",
       "    .dataframe tbody tr th:only-of-type {\n",
       "        vertical-align: middle;\n",
       "    }\n",
       "\n",
       "    .dataframe tbody tr th {\n",
       "        vertical-align: top;\n",
       "    }\n",
       "\n",
       "    .dataframe thead th {\n",
       "        text-align: right;\n",
       "    }\n",
       "</style>\n",
       "<table border=\"1\" class=\"dataframe\">\n",
       "  <thead>\n",
       "    <tr style=\"text-align: right;\">\n",
       "      <th></th>\n",
       "      <th>address</th>\n",
       "      <th>postal_code</th>\n",
       "      <th>utilib_1.4_counter</th>\n",
       "    </tr>\n",
       "  </thead>\n",
       "  <tbody>\n",
       "    <tr>\n",
       "      <th>2731</th>\n",
       "      <td>123 grande rue</td>\n",
       "      <td>92310</td>\n",
       "      <td>3</td>\n",
       "    </tr>\n",
       "  </tbody>\n",
       "</table>\n",
       "</div>"
      ],
      "text/plain": [
       "             address  postal_code  utilib_1.4_counter\n",
       "2731  123 grande rue        92310                   3"
      ]
     },
     "execution_count": 26,
     "metadata": {},
     "output_type": "execute_result"
    }
   ],
   "source": [
    "# Challenge 2.2\n",
    "# Finding the What postal code is the most popular for picking up Blue cars? \n",
    "# Does the most popular station belong to that postal code? from our dataset.\n",
    "#\n",
    "df_station = df[['address', 'postal_code', 'utilib_1.4_counter']]\n",
    "df_postal = df_station.sort_values('utilib_1.4_counter', ascending=False)\n",
    "df_postal.head(1)"
   ]
  },
  {
   "cell_type": "markdown",
   "metadata": {
    "colab_type": "text",
    "id": "DPKtssIKZx5s"
   },
   "source": [
    "> # *Challenge 3*\n",
    "> 5. Sorting the non-existent, operational and broken charging status in Descending Order.\n"
   ]
  },
  {
   "cell_type": "markdown",
   "metadata": {
    "colab_type": "text",
    "id": "4YIOhigXaubp"
   },
   "source": [
    "> b). utilib_1.4_counter"
   ]
  },
  {
   "cell_type": "code",
   "execution_count": 27,
   "metadata": {
    "colab": {
     "base_uri": "https://localhost:8080/",
     "height": 102
    },
    "colab_type": "code",
    "executionInfo": {
     "elapsed": 1266,
     "status": "ok",
     "timestamp": 1586068759016,
     "user": {
      "displayName": "paul mwaura",
      "photoUrl": "",
      "userId": "05571276976991411894"
     },
     "user_tz": -180
    },
    "id": "DmkCu9K1ZWcc",
    "outputId": "72dad716-197d-46ef-8545-8c9ad7c03f21"
   },
   "outputs": [
    {
     "data": {
      "text/plain": [
       "charging_status\n",
       "nonexistent    178\n",
       "operational    120\n",
       "broken           0\n",
       "Name: utilib_counter, dtype: int64"
      ]
     },
     "execution_count": 27,
     "metadata": {},
     "output_type": "execute_result"
    }
   ],
   "source": [
    "# Challenge 3.1\n",
    "# Finding the What charging status has the highest value for picking up utilib cars from our dataset.\n",
    "#\n",
    "df_city = df.groupby(['charging_status'])['utilib_counter'].sum().sort_values(ascending=False)\n",
    "df_city"
   ]
  },
  {
   "cell_type": "markdown",
   "metadata": {
    "colab_type": "text",
    "id": "-7Dttdtaaw_V"
   },
   "source": [
    "> b). utilib_1.4_counter"
   ]
  },
  {
   "cell_type": "code",
   "execution_count": 28,
   "metadata": {
    "colab": {
     "base_uri": "https://localhost:8080/",
     "height": 102
    },
    "colab_type": "code",
    "executionInfo": {
     "elapsed": 1485,
     "status": "ok",
     "timestamp": 1586068761821,
     "user": {
      "displayName": "paul mwaura",
      "photoUrl": "",
      "userId": "05571276976991411894"
     },
     "user_tz": -180
    },
    "id": "8FvQH8_dZ6H3",
    "outputId": "9044c8b8-22c9-478b-e516-c16c5592936b"
   },
   "outputs": [
    {
     "data": {
      "text/plain": [
       "charging_status\n",
       "nonexistent    363\n",
       "operational    248\n",
       "broken           4\n",
       "Name: utilib_1.4_counter, dtype: int64"
      ]
     },
     "execution_count": 28,
     "metadata": {},
     "output_type": "execute_result"
    }
   ],
   "source": [
    "# Challenge 4\n",
    "# Finding the What charging status has the highest value for picking up Blue cars from our dataset.\n",
    "#\n",
    "df_city = df.groupby(['charging_status'])['utilib_1.4_counter'].sum().sort_values(ascending=False)\n",
    "df_city"
   ]
  },
  {
   "cell_type": "markdown",
   "metadata": {
    "colab_type": "text",
    "id": "vWXScqfDcE34"
   },
   "source": [
    "# Research Question"
   ]
  },
  {
   "cell_type": "markdown",
   "metadata": {
    "colab_type": "text",
    "id": "Qq_zBCyqcJY4"
   },
   "source": [
    "> * Identify the most popular hour of the day for picking up a shared electric car (Bluecar) in the city of Paris over the month of April 2018.*"
   ]
  },
  {
   "cell_type": "code",
   "execution_count": 29,
   "metadata": {
    "colab": {
     "base_uri": "https://localhost:8080/",
     "height": 187
    },
    "colab_type": "code",
    "executionInfo": {
     "elapsed": 3364,
     "status": "ok",
     "timestamp": 1586066815248,
     "user": {
      "displayName": "paul mwaura",
      "photoUrl": "",
      "userId": "05571276976991411894"
     },
     "user_tz": -180
    },
    "id": "RnZK_FidcIKz",
    "outputId": "d97a34db-e5c2-4537-de10-7f316a9f733c"
   },
   "outputs": [
    {
     "data": {
      "text/plain": [
       "bluecar_counter\n",
       "6    23\n",
       "5    23\n",
       "4    23\n",
       "3    23\n",
       "2    23\n",
       "1    23\n",
       "0    23\n",
       "7    17\n",
       "Name: hour, dtype: int64"
      ]
     },
     "execution_count": 29,
     "metadata": {},
     "output_type": "execute_result"
    }
   ],
   "source": [
    "df_p = df[['city', 'bluecar_counter', 'hour']]\n",
    "df_paris = df[df['city'] == 'paris']\n",
    "df_p = df_paris.groupby(['bluecar_counter'])['hour'].max().sort_values(ascending=False)\n",
    "df_p"
   ]
  },
  {
   "cell_type": "code",
   "execution_count": null,
   "metadata": {
    "colab": {},
    "colab_type": "code",
    "id": "1QzDagYQfNyT"
   },
   "outputs": [],
   "source": []
  }
 ],
 "metadata": {
  "colab": {
   "authorship_tag": "ABX9TyPInjsfcTdXuD9HcZXoTTlM",
   "collapsed_sections": [],
   "name": "Moringa_Data_Science_Prep_W4_Independent_Project_2020_07_Paul_Mwaura_Python_Notebook.ipynb",
   "provenance": [],
   "toc_visible": true
  },
  "kernelspec": {
   "display_name": "Python 3",
   "language": "python",
   "name": "python3"
  },
  "language_info": {
   "codemirror_mode": {
    "name": "ipython",
    "version": 3
   },
   "file_extension": ".py",
   "mimetype": "text/x-python",
   "name": "python",
   "nbconvert_exporter": "python",
   "pygments_lexer": "ipython3",
   "version": "3.8.3"
  }
 },
 "nbformat": 4,
 "nbformat_minor": 1
}
