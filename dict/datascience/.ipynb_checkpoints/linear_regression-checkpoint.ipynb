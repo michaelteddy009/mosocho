{
 "cells": [
  {
   "cell_type": "code",
   "execution_count": 4,
   "metadata": {},
   "outputs": [],
   "source": [
    "import numpy as np\n",
    "import pandas as pd\n",
    "from sklearn.model_selection import train_test_split\n",
    "from sklearn.linear_model import LinearRegression\n",
    "from sklearn import metrics\n",
    "import matplotlib.pyplot as plt\n",
    "\n",
    "#load the data\n",
    "data = pd.read_csv('datasets/uni_admission.csv')"
   ]
  },
  {
   "cell_type": "markdown",
   "metadata": {},
   "source": [
    "##  <u> (1) Linear Regression </u>\n",
    "First we will create a multivariable model, then check it's accuracy. For this we will use train_test_split to do split our data into training and testing set."
   ]
  },
  {
   "cell_type": "code",
   "execution_count": 6,
   "metadata": {},
   "outputs": [
    {
     "name": "stdout",
     "output_type": "stream",
     "text": [
      "The intercept/bias is -1.8004326417532597\n",
      "The coefficient(s) are [0.00544634 0.00583592 0.01426344 0.03586462]\n",
      "\n",
      "\n",
      "Mean Absolute Error: 0.0569147221978512\n",
      "Mean Squared Error: 0.00572592647322866\n",
      "Root Mean Squared Error: 0.07566985181185873\n"
     ]
    }
   ],
   "source": [
    "# We will use 4 independent variables for this\n",
    "X = data[['GRE', 'TOEFL', 'SOP', 'LOR']].values\n",
    "y = data['admit_chance'].values\n",
    "\n",
    "# Train using 80% of the data.\n",
    "X_train, X_test, y_train, y_test = train_test_split(X, y, test_size=0.2, random_state=0)\n",
    "\n",
    "# find optimal coefficients and intercept\n",
    "regressor = LinearRegression()  \n",
    "regressor.fit(X_train, y_train)\n",
    "\n",
    "#display the intercept / bias\n",
    "print(f\"The intercept/bias is {regressor.intercept_}\")\n",
    "\n",
    "#display the coefficient\n",
    "print(f\"The coefficient(s) are {regressor.coef_}\")\n",
    "print(\"\\n\")\n",
    "\n",
    "# assess the accuraccy of the model\n",
    "y_predict = regressor.predict(X_test)\n",
    "\n",
    "print('Mean Absolute Error:', metrics.mean_absolute_error(y_test, y_predict))  \n",
    "print('Mean Squared Error:', metrics.mean_squared_error(y_test, y_predict))  \n",
    "print('Root Mean Squared Error:', np.sqrt(metrics.mean_squared_error(y_test, y_predict)))"
   ]
  },
  {
   "cell_type": "markdown",
   "metadata": {},
   "source": [
    "> to access how good our model is we need to make predictions from our test dataset that we splitted then compare the result with the actuals to validate our desired accuracy."
   ]
  },
  {
   "cell_type": "code",
   "execution_count": 7,
   "metadata": {},
   "outputs": [
    {
     "data": {
      "text/html": [
       "<div>\n",
       "<style scoped>\n",
       "    .dataframe tbody tr th:only-of-type {\n",
       "        vertical-align: middle;\n",
       "    }\n",
       "\n",
       "    .dataframe tbody tr th {\n",
       "        vertical-align: top;\n",
       "    }\n",
       "\n",
       "    .dataframe thead th {\n",
       "        text-align: right;\n",
       "    }\n",
       "</style>\n",
       "<table border=\"1\" class=\"dataframe\">\n",
       "  <thead>\n",
       "    <tr style=\"text-align: right;\">\n",
       "      <th></th>\n",
       "      <th>Actual</th>\n",
       "      <th>Predicted</th>\n",
       "    </tr>\n",
       "  </thead>\n",
       "  <tbody>\n",
       "    <tr>\n",
       "      <th>count</th>\n",
       "      <td>100.00000</td>\n",
       "      <td>100.000000</td>\n",
       "    </tr>\n",
       "    <tr>\n",
       "      <th>mean</th>\n",
       "      <td>0.70250</td>\n",
       "      <td>0.702903</td>\n",
       "    </tr>\n",
       "    <tr>\n",
       "      <th>std</th>\n",
       "      <td>0.13282</td>\n",
       "      <td>0.122877</td>\n",
       "    </tr>\n",
       "    <tr>\n",
       "      <th>min</th>\n",
       "      <td>0.39000</td>\n",
       "      <td>0.466832</td>\n",
       "    </tr>\n",
       "    <tr>\n",
       "      <th>25%</th>\n",
       "      <td>0.60000</td>\n",
       "      <td>0.611151</td>\n",
       "    </tr>\n",
       "    <tr>\n",
       "      <th>50%</th>\n",
       "      <td>0.70500</td>\n",
       "      <td>0.705319</td>\n",
       "    </tr>\n",
       "    <tr>\n",
       "      <th>75%</th>\n",
       "      <td>0.80000</td>\n",
       "      <td>0.800434</td>\n",
       "    </tr>\n",
       "    <tr>\n",
       "      <th>max</th>\n",
       "      <td>0.96000</td>\n",
       "      <td>0.955068</td>\n",
       "    </tr>\n",
       "  </tbody>\n",
       "</table>\n",
       "</div>"
      ],
      "text/plain": [
       "          Actual   Predicted\n",
       "count  100.00000  100.000000\n",
       "mean     0.70250    0.702903\n",
       "std      0.13282    0.122877\n",
       "min      0.39000    0.466832\n",
       "25%      0.60000    0.611151\n",
       "50%      0.70500    0.705319\n",
       "75%      0.80000    0.800434\n",
       "max      0.96000    0.955068"
      ]
     },
     "execution_count": 7,
     "metadata": {},
     "output_type": "execute_result"
    }
   ],
   "source": [
    "#we make a comparison frame to view how we faired in making predictions\n",
    "\n",
    "comparison_frame = pd.DataFrame({'Actual': y_test.flatten(), 'Predicted': y_predict.flatten()})\n",
    "\n",
    "comparison_frame.describe()\n",
    "  "
   ]
  },
  {
   "cell_type": "markdown",
   "metadata": {},
   "source": [
    "> Now that we have made comparison of our prediction and the actual, we have an option of making a plot to visualize the line of best fit. We can make this plot with the following code."
   ]
  },
  {
   "cell_type": "code",
   "execution_count": 8,
   "metadata": {},
   "outputs": [
    {
     "data": {
      "text/plain": [
       "\"plt.scatter(X_test, y_test, color='black')\\nplt.plot(X_test, y_predict, color='red')\\nplt.show()\""
      ]
     },
     "execution_count": 8,
     "metadata": {},
     "output_type": "execute_result"
    }
   ],
   "source": [
    "#if X_test was a just a column then we would have a plot using the code below.\n",
    "'''plt.scatter(X_test, y_test, color='black')\n",
    "plt.plot(X_test, y_predict, color='red')\n",
    "plt.show()'''"
   ]
  },
  {
   "cell_type": "markdown",
   "metadata": {},
   "source": [
    "> While visualizations are helpful in assessing our line of best fit. sklearn comes with crucial metrics for linear regression. These metrics are as follows \n",
    "* mean absolute error\n",
    "* Mean squared error\n",
    "* Root mean squared error\n",
    "\n",
    "> We will use these metrics to compare models to each other especially (RMSE). The lower the value the better. These values are relative to our dependent variable, i.e our dependent variable ranges from 0.39 to 0.96, with a mean of 0.7 and standard deviation of 0.13. This makes an RMSE of 0.085 somewhat acceptable. If our data ranged from 0 to 10, an RMSE of 0.085 would be incredible!"
   ]
  },
  {
   "cell_type": "markdown",
   "metadata": {},
   "source": [
    "## <u> Linear Regression Tip - Detecting multicollinearity </u>\n",
    "First we try to understand how the independent variables are related to each other."
   ]
  },
  {
   "cell_type": "code",
   "execution_count": 9,
   "metadata": {},
   "outputs": [
    {
     "data": {
      "text/html": [
       "<div>\n",
       "<style scoped>\n",
       "    .dataframe tbody tr th:only-of-type {\n",
       "        vertical-align: middle;\n",
       "    }\n",
       "\n",
       "    .dataframe tbody tr th {\n",
       "        vertical-align: top;\n",
       "    }\n",
       "\n",
       "    .dataframe thead th {\n",
       "        text-align: right;\n",
       "    }\n",
       "</style>\n",
       "<table border=\"1\" class=\"dataframe\">\n",
       "  <thead>\n",
       "    <tr style=\"text-align: right;\">\n",
       "      <th></th>\n",
       "      <th>GRE</th>\n",
       "      <th>TOEFL</th>\n",
       "      <th>uni_rating</th>\n",
       "      <th>SOP</th>\n",
       "      <th>LOR</th>\n",
       "      <th>CGPA</th>\n",
       "      <th>publications</th>\n",
       "    </tr>\n",
       "  </thead>\n",
       "  <tbody>\n",
       "    <tr>\n",
       "      <th>GRE</th>\n",
       "      <td>1.000000</td>\n",
       "      <td>0.827200</td>\n",
       "      <td>0.635376</td>\n",
       "      <td>0.613498</td>\n",
       "      <td>0.524679</td>\n",
       "      <td>0.825878</td>\n",
       "      <td>0.563398</td>\n",
       "    </tr>\n",
       "    <tr>\n",
       "      <th>TOEFL</th>\n",
       "      <td>0.827200</td>\n",
       "      <td>1.000000</td>\n",
       "      <td>0.649799</td>\n",
       "      <td>0.644410</td>\n",
       "      <td>0.541563</td>\n",
       "      <td>0.810574</td>\n",
       "      <td>0.467012</td>\n",
       "    </tr>\n",
       "    <tr>\n",
       "      <th>uni_rating</th>\n",
       "      <td>0.635376</td>\n",
       "      <td>0.649799</td>\n",
       "      <td>1.000000</td>\n",
       "      <td>0.728024</td>\n",
       "      <td>0.608651</td>\n",
       "      <td>0.705254</td>\n",
       "      <td>0.427047</td>\n",
       "    </tr>\n",
       "    <tr>\n",
       "      <th>SOP</th>\n",
       "      <td>0.613498</td>\n",
       "      <td>0.644410</td>\n",
       "      <td>0.728024</td>\n",
       "      <td>1.000000</td>\n",
       "      <td>0.663707</td>\n",
       "      <td>0.712154</td>\n",
       "      <td>0.408116</td>\n",
       "    </tr>\n",
       "    <tr>\n",
       "      <th>LOR</th>\n",
       "      <td>0.524679</td>\n",
       "      <td>0.541563</td>\n",
       "      <td>0.608651</td>\n",
       "      <td>0.663707</td>\n",
       "      <td>1.000000</td>\n",
       "      <td>0.637469</td>\n",
       "      <td>0.372526</td>\n",
       "    </tr>\n",
       "    <tr>\n",
       "      <th>CGPA</th>\n",
       "      <td>0.825878</td>\n",
       "      <td>0.810574</td>\n",
       "      <td>0.705254</td>\n",
       "      <td>0.712154</td>\n",
       "      <td>0.637469</td>\n",
       "      <td>1.000000</td>\n",
       "      <td>0.501311</td>\n",
       "    </tr>\n",
       "    <tr>\n",
       "      <th>publications</th>\n",
       "      <td>0.563398</td>\n",
       "      <td>0.467012</td>\n",
       "      <td>0.427047</td>\n",
       "      <td>0.408116</td>\n",
       "      <td>0.372526</td>\n",
       "      <td>0.501311</td>\n",
       "      <td>1.000000</td>\n",
       "    </tr>\n",
       "  </tbody>\n",
       "</table>\n",
       "</div>"
      ],
      "text/plain": [
       "                   GRE     TOEFL  uni_rating       SOP       LOR      CGPA  \\\n",
       "GRE           1.000000  0.827200    0.635376  0.613498  0.524679  0.825878   \n",
       "TOEFL         0.827200  1.000000    0.649799  0.644410  0.541563  0.810574   \n",
       "uni_rating    0.635376  0.649799    1.000000  0.728024  0.608651  0.705254   \n",
       "SOP           0.613498  0.644410    0.728024  1.000000  0.663707  0.712154   \n",
       "LOR           0.524679  0.541563    0.608651  0.663707  1.000000  0.637469   \n",
       "CGPA          0.825878  0.810574    0.705254  0.712154  0.637469  1.000000   \n",
       "publications  0.563398  0.467012    0.427047  0.408116  0.372526  0.501311   \n",
       "\n",
       "              publications  \n",
       "GRE               0.563398  \n",
       "TOEFL             0.467012  \n",
       "uni_rating        0.427047  \n",
       "SOP               0.408116  \n",
       "LOR               0.372526  \n",
       "CGPA              0.501311  \n",
       "publications      1.000000  "
      ]
     },
     "execution_count": 9,
     "metadata": {},
     "output_type": "execute_result"
    }
   ],
   "source": [
    "# Remove the serial and admit chance columns, we want to focus on our independent variables only.\n",
    "independent_only = data.drop(columns=['Serial No.', 'admit_chance'])\n",
    "\n",
    "# Let's display the correlations between the variables\n",
    "correlations = independent_only.corr()\n",
    "\n",
    "correlations"
   ]
  },
  {
   "cell_type": "markdown",
   "metadata": {},
   "source": [
    "The tabe above shows us how each variable relates to another. The coefficient of 1 across the diagonal makes sense, as a variable is perfectly correlated to itself. Let's use these correlations to compute the VIF score for each variable. This will require a little bit of linear algebra, but the approach is straightforward: we create a new dataframe with the *inverse* of the matrix above."
   ]
  },
  {
   "cell_type": "code",
   "execution_count": 10,
   "metadata": {},
   "outputs": [
    {
     "data": {
      "text/html": [
       "<div>\n",
       "<style scoped>\n",
       "    .dataframe tbody tr th:only-of-type {\n",
       "        vertical-align: middle;\n",
       "    }\n",
       "\n",
       "    .dataframe tbody tr th {\n",
       "        vertical-align: top;\n",
       "    }\n",
       "\n",
       "    .dataframe thead th {\n",
       "        text-align: right;\n",
       "    }\n",
       "</style>\n",
       "<table border=\"1\" class=\"dataframe\">\n",
       "  <thead>\n",
       "    <tr style=\"text-align: right;\">\n",
       "      <th></th>\n",
       "      <th>GRE</th>\n",
       "      <th>TOEFL</th>\n",
       "      <th>uni_rating</th>\n",
       "      <th>SOP</th>\n",
       "      <th>LOR</th>\n",
       "      <th>CGPA</th>\n",
       "      <th>publications</th>\n",
       "    </tr>\n",
       "  </thead>\n",
       "  <tbody>\n",
       "    <tr>\n",
       "      <th>GRE</th>\n",
       "      <td>4.464249</td>\n",
       "      <td>-1.919309</td>\n",
       "      <td>-0.167441</td>\n",
       "      <td>0.115539</td>\n",
       "      <td>0.163716</td>\n",
       "      <td>-1.829666</td>\n",
       "      <td>-0.738214</td>\n",
       "    </tr>\n",
       "    <tr>\n",
       "      <th>TOEFL</th>\n",
       "      <td>-1.919309</td>\n",
       "      <td>3.904213</td>\n",
       "      <td>-0.280590</td>\n",
       "      <td>-0.320530</td>\n",
       "      <td>0.008925</td>\n",
       "      <td>-1.216918</td>\n",
       "      <td>0.115389</td>\n",
       "    </tr>\n",
       "    <tr>\n",
       "      <th>uni_rating</th>\n",
       "      <td>-0.167441</td>\n",
       "      <td>-0.280590</td>\n",
       "      <td>2.621036</td>\n",
       "      <td>-1.003439</td>\n",
       "      <td>-0.326820</td>\n",
       "      <td>-0.504916</td>\n",
       "      <td>-0.109544</td>\n",
       "    </tr>\n",
       "    <tr>\n",
       "      <th>SOP</th>\n",
       "      <td>0.115539</td>\n",
       "      <td>-0.320530</td>\n",
       "      <td>-1.003439</td>\n",
       "      <td>2.835210</td>\n",
       "      <td>-0.715324</td>\n",
       "      <td>-0.670228</td>\n",
       "      <td>-0.041512</td>\n",
       "    </tr>\n",
       "    <tr>\n",
       "      <th>LOR</th>\n",
       "      <td>0.163716</td>\n",
       "      <td>0.008925</td>\n",
       "      <td>-0.326820</td>\n",
       "      <td>-0.715324</td>\n",
       "      <td>2.033555</td>\n",
       "      <td>-0.650578</td>\n",
       "      <td>-0.096312</td>\n",
       "    </tr>\n",
       "    <tr>\n",
       "      <th>CGPA</th>\n",
       "      <td>-1.829666</td>\n",
       "      <td>-1.216918</td>\n",
       "      <td>-0.504916</td>\n",
       "      <td>-0.670228</td>\n",
       "      <td>-0.650578</td>\n",
       "      <td>4.777992</td>\n",
       "      <td>-0.064604</td>\n",
       "    </tr>\n",
       "    <tr>\n",
       "      <th>publications</th>\n",
       "      <td>-0.738214</td>\n",
       "      <td>0.115389</td>\n",
       "      <td>-0.109544</td>\n",
       "      <td>-0.041512</td>\n",
       "      <td>-0.096312</td>\n",
       "      <td>-0.064604</td>\n",
       "      <td>1.494008</td>\n",
       "    </tr>\n",
       "  </tbody>\n",
       "</table>\n",
       "</div>"
      ],
      "text/plain": [
       "                   GRE     TOEFL  uni_rating       SOP       LOR      CGPA  \\\n",
       "GRE           4.464249 -1.919309   -0.167441  0.115539  0.163716 -1.829666   \n",
       "TOEFL        -1.919309  3.904213   -0.280590 -0.320530  0.008925 -1.216918   \n",
       "uni_rating   -0.167441 -0.280590    2.621036 -1.003439 -0.326820 -0.504916   \n",
       "SOP           0.115539 -0.320530   -1.003439  2.835210 -0.715324 -0.670228   \n",
       "LOR           0.163716  0.008925   -0.326820 -0.715324  2.033555 -0.650578   \n",
       "CGPA         -1.829666 -1.216918   -0.504916 -0.670228 -0.650578  4.777992   \n",
       "publications -0.738214  0.115389   -0.109544 -0.041512 -0.096312 -0.064604   \n",
       "\n",
       "              publications  \n",
       "GRE              -0.738214  \n",
       "TOEFL             0.115389  \n",
       "uni_rating       -0.109544  \n",
       "SOP              -0.041512  \n",
       "LOR              -0.096312  \n",
       "CGPA             -0.064604  \n",
       "publications      1.494008  "
      ]
     },
     "execution_count": 10,
     "metadata": {},
     "output_type": "execute_result"
    }
   ],
   "source": [
    "pd.DataFrame(np.linalg.inv(correlations.values), index = correlations.index, columns=correlations.columns)"
   ]
  },
  {
   "cell_type": "markdown",
   "metadata": {},
   "source": [
    "Interpreting the table is straightforward: The VIF score for each variable is found alongside the downwards sloping diagonal. GRE has a score of 4.46, TOEFL has a score of 3.9, uni_rating a score of 2.62, etc.\n",
    "\n",
    "CGPA has a value nearing 5, let's see how the VIF scores improve if we remove it from our dataset"
   ]
  },
  {
   "cell_type": "code",
   "execution_count": 11,
   "metadata": {},
   "outputs": [
    {
     "data": {
      "text/html": [
       "<div>\n",
       "<style scoped>\n",
       "    .dataframe tbody tr th:only-of-type {\n",
       "        vertical-align: middle;\n",
       "    }\n",
       "\n",
       "    .dataframe tbody tr th {\n",
       "        vertical-align: top;\n",
       "    }\n",
       "\n",
       "    .dataframe thead th {\n",
       "        text-align: right;\n",
       "    }\n",
       "</style>\n",
       "<table border=\"1\" class=\"dataframe\">\n",
       "  <thead>\n",
       "    <tr style=\"text-align: right;\">\n",
       "      <th></th>\n",
       "      <th>GRE</th>\n",
       "      <th>TOEFL</th>\n",
       "      <th>uni_rating</th>\n",
       "      <th>SOP</th>\n",
       "      <th>LOR</th>\n",
       "      <th>publications</th>\n",
       "    </tr>\n",
       "  </thead>\n",
       "  <tbody>\n",
       "    <tr>\n",
       "      <th>GRE</th>\n",
       "      <td>3.763604</td>\n",
       "      <td>-2.385311</td>\n",
       "      <td>-0.360792</td>\n",
       "      <td>-0.141115</td>\n",
       "      <td>-0.085414</td>\n",
       "      <td>-0.762953</td>\n",
       "    </tr>\n",
       "    <tr>\n",
       "      <th>TOEFL</th>\n",
       "      <td>-2.385311</td>\n",
       "      <td>3.594274</td>\n",
       "      <td>-0.409188</td>\n",
       "      <td>-0.491232</td>\n",
       "      <td>-0.156772</td>\n",
       "      <td>0.098934</td>\n",
       "    </tr>\n",
       "    <tr>\n",
       "      <th>uni_rating</th>\n",
       "      <td>-0.360792</td>\n",
       "      <td>-0.409188</td>\n",
       "      <td>2.567679</td>\n",
       "      <td>-1.074266</td>\n",
       "      <td>-0.395570</td>\n",
       "      <td>-0.116371</td>\n",
       "    </tr>\n",
       "    <tr>\n",
       "      <th>SOP</th>\n",
       "      <td>-0.141115</td>\n",
       "      <td>-0.491232</td>\n",
       "      <td>-1.074266</td>\n",
       "      <td>2.741195</td>\n",
       "      <td>-0.806583</td>\n",
       "      <td>-0.050574</td>\n",
       "    </tr>\n",
       "    <tr>\n",
       "      <th>LOR</th>\n",
       "      <td>-0.085414</td>\n",
       "      <td>-0.156772</td>\n",
       "      <td>-0.395570</td>\n",
       "      <td>-0.806583</td>\n",
       "      <td>1.944971</td>\n",
       "      <td>-0.105109</td>\n",
       "    </tr>\n",
       "    <tr>\n",
       "      <th>publications</th>\n",
       "      <td>-0.762953</td>\n",
       "      <td>0.098934</td>\n",
       "      <td>-0.116371</td>\n",
       "      <td>-0.050574</td>\n",
       "      <td>-0.105109</td>\n",
       "      <td>1.493134</td>\n",
       "    </tr>\n",
       "  </tbody>\n",
       "</table>\n",
       "</div>"
      ],
      "text/plain": [
       "                   GRE     TOEFL  uni_rating       SOP       LOR  publications\n",
       "GRE           3.763604 -2.385311   -0.360792 -0.141115 -0.085414     -0.762953\n",
       "TOEFL        -2.385311  3.594274   -0.409188 -0.491232 -0.156772      0.098934\n",
       "uni_rating   -0.360792 -0.409188    2.567679 -1.074266 -0.395570     -0.116371\n",
       "SOP          -0.141115 -0.491232   -1.074266  2.741195 -0.806583     -0.050574\n",
       "LOR          -0.085414 -0.156772   -0.395570 -0.806583  1.944971     -0.105109\n",
       "publications -0.762953  0.098934   -0.116371 -0.050574 -0.105109      1.493134"
      ]
     },
     "execution_count": 11,
     "metadata": {},
     "output_type": "execute_result"
    }
   ],
   "source": [
    "revised = independent_only.drop(columns=['CGPA'])\n",
    "\n",
    "correlations = revised.corr()\n",
    "pd.DataFrame(np.linalg.inv(correlations.values), index = correlations.index, columns=correlations.columns)\n"
   ]
  },
  {
   "cell_type": "markdown",
   "metadata": {},
   "source": [
    "All scores dropped, but the GRE's in particular did quite a bit, indicating that GRE and CGPA were colinear. "
   ]
  },
  {
   "cell_type": "markdown",
   "metadata": {},
   "source": [
    "## <u> Linear Regression Tip - Residual Plots and heteroskedasticity testing </u>"
   ]
  },
  {
   "cell_type": "markdown",
   "metadata": {},
   "source": [
    "Let's start by creating a model based on our revised set of independent variables above, then displaying the residual plot for it."
   ]
  },
  {
   "cell_type": "code",
   "execution_count": 12,
   "metadata": {},
   "outputs": [
    {
     "data": {
      "text/plain": [
       "-0.0017516644688071615"
      ]
     },
     "execution_count": 12,
     "metadata": {},
     "output_type": "execute_result"
    }
   ],
   "source": [
    "from sklearn import metrics\n",
    "from sklearn.model_selection import train_test_split\n",
    "from sklearn.linear_model import LinearRegression\n",
    "\n",
    "X = revised.values\n",
    "y = data['admit_chance'].values\n",
    "\n",
    "X_train, X_test, admit_train, admit_test = train_test_split(X, y, test_size=0.2, random_state=0)\n",
    "\n",
    "regressor = LinearRegression()\n",
    "regressor.fit(X_train, admit_train)\n",
    "\n",
    "# This is our prediction for admission based on our model\n",
    "admit_predict = regressor.predict(X_test)\n",
    "\n",
    "# We now create the residual by substracting the test value from the predicted \n",
    "# value for each row in our dataset\n",
    "\n",
    "residuals = np.subtract(admit_predict, admit_test)\n",
    "\n",
    "# Let's describe our residual:\n",
    "pd.DataFrame(residuals).describe()\n",
    "\n",
    "residuals.mean()"
   ]
  },
  {
   "cell_type": "markdown",
   "metadata": {},
   "source": [
    "Before we interpret the description above, let's recall what we are trying to predict: The percentage chance of admission to university. This means values between 0 and 1. \n",
    "\n",
    "Our min and max for the residual are fairly high: they suggest we've been up to 26% off target. It's important for us to plot this first: Is this a common occurence, or a few outliers?\n",
    "\n",
    "Our mean on the other hand is close to 0, indicating that we tend to be fairly correct, although slightly over estimating chances by, on average, 0.17%\n",
    "\n",
    "Let's show the residual plot"
   ]
  },
  {
   "cell_type": "code",
   "execution_count": 13,
   "metadata": {},
   "outputs": [
    {
     "data": {
      "image/png": "[encoded data removed]",
      "text/plain": [
       "<Figure size 432x288 with 1 Axes>"
      ]
     },
     "metadata": {
      "needs_background": "light"
     },
     "output_type": "display_data"
    }
   ],
   "source": [
    "import matplotlib.pyplot as plt\n",
    "\n",
    "plt.scatter(admit_predict, residuals, color='black')\n",
    "plt.ylabel('residual')\n",
    "plt.xlabel('fitted values')\n",
    "plt.axhline(y= residuals.mean(), color='red', linewidth=1)\n",
    "plt.show()"
   ]
  },
  {
   "cell_type": "markdown",
   "metadata": {},
   "source": [
    "This does not look too bad: our residuals are centered around a mean that is very close to 0, and there are no glaringly obvious patterns. Let's be thorough though, and perform a heteroskedasticity test.\n",
    "\n",
    "For this we will use [bartlett's test](https://www.itl.nist.gov/div898/handbook/eda/section3/eda357.htm). The test establishes as a null hypothesis that the variance is equal for all our datapoints,and the new hypothesis that the variance is different for at least one pair of datapoints.\n",
    "\n",
    "NB: Barlett's test is used to test if k samples have equal variances. Equal variances across samples is called homogeneity of  variances. Some statistical tests, for example the analysis of variance, assume that variances are equal across groups or samples. Barlett's test is sensitive to departures from normality. That is, if your samples come from non-normal distributions, then Barlett's test may simply be testing for non-normality.\n"
   ]
  },
  {
   "cell_type": "code",
   "execution_count": 15,
   "metadata": {},
   "outputs": [
    {
     "name": "stdout",
     "output_type": "stream",
     "text": [
      "185.4720823514965\n",
      "the variances are homogeneous!\n"
     ]
    }
   ],
   "source": [
    "import scipy as sp\n",
    "\n",
    "test_result, p_value = sp.stats.bartlett(admit_predict, residuals)\n",
    "\n",
    "# To interpret the results we must also compute a critical value of the chi squared distribution\n",
    "degree_of_freedom = len(admit_predict)-1\n",
    "probability = 1 - p_value\n",
    "\n",
    "critical_value = sp.stats.chi2.ppf(probability, degree_of_freedom)\n",
    "print(critical_value)\n",
    "\n",
    "# If the test_result is greater than the critical value, then we reject our null\n",
    "# hypothesis. This would mean that there are patterns to the variance of the data\n",
    "\n",
    "# Otherwise, we can identify no patterns, and we accept the null hypothesis that \n",
    "# the variance is homogeneous across our data\n",
    "\n",
    "if (test_result > critical_value):\n",
    "  print('the variances are unequal, and the model should be reassessed')\n",
    "else:\n",
    "  print('the variances are homogeneous!')\n",
    "\n"
   ]
  },
  {
   "cell_type": "code",
   "execution_count": null,
   "metadata": {},
   "outputs": [],
   "source": []
  },
  {
   "cell_type": "code",
   "execution_count": null,
   "metadata": {},
   "outputs": [],
   "source": []
  }
 ],
 "metadata": {
  "kernelspec": {
   "display_name": "Python 3",
   "language": "python",
   "name": "python3"
  },
  "language_info": {
   "codemirror_mode": {
    "name": "ipython",
    "version": 3
   },
   "file_extension": ".py",
   "mimetype": "text/x-python",
   "name": "python",
   "nbconvert_exporter": "python",
   "pygments_lexer": "ipython3",
   "version": "3.7.6"
  }
 },
 "nbformat": 4,
 "nbformat_minor": 4
}
