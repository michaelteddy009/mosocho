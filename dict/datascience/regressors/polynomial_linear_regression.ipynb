{
 "cells": [
  {
   "cell_type": "markdown",
   "metadata": {},
   "source": [
    "## <u> Notes </u>\n",
    "- Polynomial regression is a form of regressional analysis where the relationship between the independent variable x and dependent variable y can be expressed in the nth degree polynomial of x.\n",
    "- In summary we use polynomial regression when simple linear regression straight line does not fit well. \n",
    "- we use polynomial regression only on one independent variable, meaning we only have x as a single column but the equation takes higher powers of this single variable x.\n",
    "- we say that it's linear since we are trying to find the coefficients that will fit for all values of x. we are interested in the coefficients making it linear and not another stand alone model."
   ]
  },
  {
   "cell_type": "markdown",
   "metadata": {},
   "source": [
    "## <u> Example </u>\n",
    "Let's look at a practical way of performing a polynomial regression.\n",
    "\n",
    "In this example we are going to predict the salary of a candidate given the experience the candidate has. The HR of Sanford and Sons Limited, is looking to hire for a senior postion in the company. As a policy, the company has a salary distribution dataset that they use to determine how much salary to give to their employees based on their experience. As a data scientist, you are tasked creating a model that will help them with making salary predictions given  years of experience. In this case, we want to predict the amount of salary a canditate with 6 and half years of experience should get. You are provided with following dataset."
   ]
  },
  {
   "cell_type": "code",
   "execution_count": 1,
   "metadata": {},
   "outputs": [],
   "source": [
    "#Import libaries\n",
    "import numpy as np\n",
    "import pandas as pd\n",
    "import matplotlib.pyplot as plt\n",
    "\n",
    "from sklearn.preprocessing import PolynomialFeatures\n",
    "\n",
    "from sklearn.model_selection import train_test_split\n",
    "\n",
    "# Import LinearRegression method from sklearn linear_model library\n",
    "from sklearn.linear_model import LinearRegression\n"
   ]
  },
  {
   "cell_type": "code",
   "execution_count": 3,
   "metadata": {},
   "outputs": [
    {
     "name": "stdout",
     "output_type": "stream",
     "text": [
      "            Position  Level   Salary\n",
      "0   Business Analyst      1    45000\n",
      "1  Junior Consultant      2    50000\n",
      "2  Senior Consultant      3    60000\n",
      "3            Manager      4    80000\n",
      "4    Country Manager      5   110000\n",
      "5     Region Manager      6   150000\n",
      "6            Partner      7   200000\n",
      "7     Senior Partner      8   300000\n",
      "8            C-level      9   500000\n",
      "9                CEO     10  1000000\n",
      "[[ 1]\n",
      " [ 2]\n",
      " [ 3]\n",
      " [ 4]\n",
      " [ 5]\n",
      " [ 6]\n",
      " [ 7]\n",
      " [ 8]\n",
      " [ 9]\n",
      " [10]]\n",
      "[  45000   50000   60000   80000  110000  150000  200000  300000  500000\n",
      " 1000000]\n"
     ]
    }
   ],
   "source": [
    "# Load the dataset\n",
    "dataset = pd.read_csv('../datasets/position_salaries.csv')\n",
    "\n",
    "print(dataset)\n",
    "\n",
    "#Get the 2 and the last column from the dataset \n",
    "X = dataset.iloc[:, 1:2].values\n",
    "y = dataset.iloc[:, 2].values\n",
    "print(X)\n",
    "print(y)"
   ]
  },
  {
   "cell_type": "markdown",
   "metadata": {},
   "source": [
    "***Analysis of the data***"
   ]
  },
  {
   "cell_type": "code",
   "execution_count": 5,
   "metadata": {},
   "outputs": [
    {
     "data": {
      "image/png": "[encoded data removed]",
      "text/plain": [
       "<Figure size 432x288 with 1 Axes>"
      ]
     },
     "metadata": {
      "needs_background": "light"
     },
     "output_type": "display_data"
    }
   ],
   "source": [
    "# Since our dataset is pretty clean, let's start by visualizing our dataset by plotting a scatter plot\n",
    "\n",
    "plt.scatter(X, y, color='blue') \n",
    "plt.title('Salary')\n",
    "plt.xlabel('Position Level')\n",
    "plt.ylabel('Salary')\n",
    "plt.show()"
   ]
  },
  {
   "cell_type": "markdown",
   "metadata": {},
   "source": [
    "**Polynomial Regression**"
   ]
  },
  {
   "cell_type": "code",
   "execution_count": 15,
   "metadata": {},
   "outputs": [
    {
     "name": "stdout",
     "output_type": "stream",
     "text": [
      "To what degree would you like this polynomial to be computed : 4\n"
     ]
    },
    {
     "data": {
      "image/png": "[encoded data removed]",
      "text/plain": [
       "<Figure size 432x288 with 1 Axes>"
      ]
     },
     "metadata": {
      "needs_background": "light"
     },
     "output_type": "display_data"
    }
   ],
   "source": [
    "# Optional : Input the degree of polynomial\n",
    "deg = int(input('To what degree would you like this polynomial to be computed : '))\n",
    "# Fit polynomial Regression to the dataset\n",
    "poly_reg = PolynomialFeatures(degree = deg) \n",
    "X_poly = poly_reg.fit_transform(X)\n",
    "\n",
    "\n",
    "pol_reg = LinearRegression()\n",
    "pol_reg.fit(X_poly, y)\n",
    "\n",
    "#Visualize the Polynomial Regression results\n",
    "plt.scatter(X, y, color='blue') # You can put any color you like. This just helps us highlight the data points\n",
    "plt.plot(X, pol_reg.predict(X_poly), color='red')\n",
    "plt.title('Salary Prediction (Polynomial Regression)')\n",
    "plt.xlabel('Position Level')\n",
    "plt.ylabel('Salary')\n",
    "plt.show()"
   ]
  },
  {
   "cell_type": "markdown",
   "metadata": {},
   "source": [
    "**Making Predictions**\n",
    "\n",
    "-The final step is use the model we created to make the our desired prediction.\n",
    "\n",
    "-To check how accurate polynomial regression is, we are going to predict the salary using both linear regression and polynomial regression"
   ]
  },
  {
   "cell_type": "code",
   "execution_count": 16,
   "metadata": {},
   "outputs": [
    {
     "name": "stdout",
     "output_type": "stream",
     "text": [
      "Polynomial prediction: 158862\n"
     ]
    }
   ],
   "source": [
    "# Predict using Polynomial Regression\n",
    "poly_pred = pol_reg.predict(poly_reg.fit_transform([[6.5]]))\n",
    "print('Polynomial prediction: %d' %poly_pred)"
   ]
  },
  {
   "cell_type": "code",
   "execution_count": null,
   "metadata": {},
   "outputs": [],
   "source": []
  }
 ],
 "metadata": {
  "kernelspec": {
   "display_name": "Python 3",
   "language": "python",
   "name": "python3"
  },
  "language_info": {
   "codemirror_mode": {
    "name": "ipython",
    "version": 3
   },
   "file_extension": ".py",
   "mimetype": "text/x-python",
   "name": "python",
   "nbconvert_exporter": "python",
   "pygments_lexer": "ipython3",
   "version": "3.8.3"
  }
 },
 "nbformat": 4,
 "nbformat_minor": 4
}
