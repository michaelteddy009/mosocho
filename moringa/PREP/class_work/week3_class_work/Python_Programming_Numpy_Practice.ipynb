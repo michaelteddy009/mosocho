{
 "cells": [
  {
   "cell_type": "markdown",
   "metadata": {
    "colab_type": "text",
    "id": "lLLVoxQQDrNO"
   },
   "source": [
    "<font color=\"green\">*To start working on this notebook, or any other notebook that we will use in the Moringa Data Science Course, we will need to save our own copy of it. We can do this by clicking File > Save a Copy in Drive. We will then be able to make edits to our own copy of this notebook.*</font>"
   ]
  },
  {
   "cell_type": "markdown",
   "metadata": {
    "colab_type": "text",
    "id": "-7J_lE4-YPLq"
   },
   "source": [
    "### <font color=\"green\">1.1 Challenge: Importing our Library</font>"
   ]
  },
  {
   "cell_type": "code",
   "execution_count": 4,
   "metadata": {
    "colab": {},
    "colab_type": "code",
    "id": "9l8Juvt-bRgz"
   },
   "outputs": [],
   "source": [
    "# Let's import numpy\n",
    "#\n",
    "import numpy as np"
   ]
  },
  {
   "cell_type": "markdown",
   "metadata": {
    "colab_type": "text",
    "id": "cnaEkfAtY5n1"
   },
   "source": [
    "### <font color=\"green\">1.2 Challenge: Creating an Array</font>"
   ]
  },
  {
   "cell_type": "code",
   "execution_count": 5,
   "metadata": {
    "colab": {},
    "colab_type": "code",
    "id": "43Q-yy08bG0B"
   },
   "outputs": [
    {
     "data": {
      "text/plain": [
       "array([0., 0., 0., 0., 0.])"
      ]
     },
     "execution_count": 5,
     "metadata": {},
     "output_type": "execute_result"
    }
   ],
   "source": [
    "# Challenge 1 \n",
    "# Create an array of five zeros\n",
    "#\n",
    "zeros_array = np.zeros((5))\n",
    "zeros_array"
   ]
  },
  {
   "cell_type": "code",
   "execution_count": 6,
   "metadata": {
    "colab": {},
    "colab_type": "code",
    "id": "Y-ZMS064b8Ck"
   },
   "outputs": [
    {
     "data": {
      "text/plain": [
       "array([1., 1., 1., 1., 1., 1.])"
      ]
     },
     "execution_count": 6,
     "metadata": {},
     "output_type": "execute_result"
    }
   ],
   "source": [
    "# Challenge 2\n",
    "# Create an array of six ones \n",
    "#\n",
    "ones_array = np.ones((6))\n",
    "ones_array"
   ]
  },
  {
   "cell_type": "code",
   "execution_count": 7,
   "metadata": {
    "colab": {},
    "colab_type": "code",
    "id": "FOaIYiBGb74H"
   },
   "outputs": [
    {
     "data": {
      "text/plain": [
       "array([10, 11, 12, 13, 14, 15, 16, 17, 18, 19, 20, 21, 22, 23, 24, 25, 26,\n",
       "       27, 28, 29, 30, 31, 32, 33, 34, 35, 36, 37, 38, 39, 40, 41, 42, 43,\n",
       "       44, 45, 46, 47, 48, 49, 50])"
      ]
     },
     "execution_count": 7,
     "metadata": {},
     "output_type": "execute_result"
    }
   ],
   "source": [
    "# Challenge 3\n",
    "# Create an array of the integers from 10 to 50\n",
    "#\n",
    "integers_array =  np.array([x for x in range(10, 51)])\n",
    "integers_array"
   ]
  },
  {
   "cell_type": "code",
   "execution_count": 13,
   "metadata": {
    "colab": {},
    "colab_type": "code",
    "id": "FmmY6xLSb7t8"
   },
   "outputs": [
    {
     "name": "stdout",
     "output_type": "stream",
     "text": [
      "[21 23 25 27 29 31 33 35 37 39 41 43 45 47 49 51 53 55 57 59]\n",
      "[21 23 25 27 29 31 33 35 37 39 41 43 45 47 49 51 53 55 57 59]\n"
     ]
    }
   ],
   "source": [
    "# Challenge 4\n",
    "# Create an array of odd integers from 20 to 60\n",
    "#\n",
    "odd_integers_array = np.array([x for x in range(20, 61) if x % 2 != 0])\n",
    "print(odd_integers_array)\n",
    "\n",
    "#lternatively\n",
    "odd = np.arange(21, 61, 2)\n",
    "print(odd)"
   ]
  },
  {
   "cell_type": "code",
   "execution_count": 27,
   "metadata": {
    "colab": {},
    "colab_type": "code",
    "id": "ht0VpxEXb7kG"
   },
   "outputs": [
    {
     "data": {
      "text/plain": [
       "array([0.3442155 , 0.64407131, 0.91475489, 0.61120602, 0.10620614,\n",
       "       0.50863794, 0.97119023, 0.86514903, 0.30347092, 0.92649453,\n",
       "       0.50366378, 0.19879418, 0.61153297, 0.44583745, 0.6083169 ,\n",
       "       0.56147187, 0.11831433, 0.30840324, 0.85908539, 0.87862738,\n",
       "       0.86854078, 0.18559568, 0.99370696, 0.26366567, 0.83564024])"
      ]
     },
     "execution_count": 27,
     "metadata": {},
     "output_type": "execute_result"
    }
   ],
   "source": [
    "# Challenge 5\n",
    "# Create an array of 25 random numbers \n",
    "#\n",
    "random_numbers_array = np.random.rand(25)\n",
    "random_numbers_array"
   ]
  },
  {
   "cell_type": "markdown",
   "metadata": {
    "colab_type": "text",
    "id": "ICXG_crZZAw8"
   },
   "source": [
    "### <font color=\"green\">1.3 Working with Matrices</font>"
   ]
  },
  {
   "cell_type": "code",
   "execution_count": 17,
   "metadata": {
    "colab": {},
    "colab_type": "code",
    "id": "CnM3qTE1b7YF"
   },
   "outputs": [
    {
     "data": {
      "text/plain": [
       "array([[ 1,  2,  3,  4],\n",
       "       [ 5,  6,  7,  8],\n",
       "       [ 9, 10, 11, 12],\n",
       "       [13, 14, 15, 16],\n",
       "       [17, 18, 19, 20]])"
      ]
     },
     "execution_count": 17,
     "metadata": {},
     "output_type": "execute_result"
    }
   ],
   "source": [
    "# Challenge 6\n",
    "# Write code to replicate the expected matrix output \n",
    "# of the cell shown below\n",
    "\n",
    "data = np.arange(1, 21).reshape(5, 4)\n",
    "matrix_output = np.array(data)\n",
    "matrix_output"
   ]
  },
  {
   "cell_type": "code",
   "execution_count": 18,
   "metadata": {},
   "outputs": [
    {
     "data": {
      "text/html": [
       "<div>\n",
       "<style scoped>\n",
       "    .dataframe tbody tr th:only-of-type {\n",
       "        vertical-align: middle;\n",
       "    }\n",
       "\n",
       "    .dataframe tbody tr th {\n",
       "        vertical-align: top;\n",
       "    }\n",
       "\n",
       "    .dataframe thead th {\n",
       "        text-align: right;\n",
       "    }\n",
       "</style>\n",
       "<table border=\"1\" class=\"dataframe\">\n",
       "  <thead>\n",
       "    <tr style=\"text-align: right;\">\n",
       "      <th></th>\n",
       "      <th>first</th>\n",
       "      <th>second</th>\n",
       "      <th>third</th>\n",
       "      <th>fouth</th>\n",
       "    </tr>\n",
       "  </thead>\n",
       "  <tbody>\n",
       "    <tr>\n",
       "      <th>0</th>\n",
       "      <td>1</td>\n",
       "      <td>2</td>\n",
       "      <td>3</td>\n",
       "      <td>4</td>\n",
       "    </tr>\n",
       "    <tr>\n",
       "      <th>1</th>\n",
       "      <td>5</td>\n",
       "      <td>6</td>\n",
       "      <td>7</td>\n",
       "      <td>8</td>\n",
       "    </tr>\n",
       "    <tr>\n",
       "      <th>2</th>\n",
       "      <td>9</td>\n",
       "      <td>10</td>\n",
       "      <td>11</td>\n",
       "      <td>12</td>\n",
       "    </tr>\n",
       "    <tr>\n",
       "      <th>3</th>\n",
       "      <td>13</td>\n",
       "      <td>14</td>\n",
       "      <td>15</td>\n",
       "      <td>16</td>\n",
       "    </tr>\n",
       "    <tr>\n",
       "      <th>4</th>\n",
       "      <td>17</td>\n",
       "      <td>18</td>\n",
       "      <td>19</td>\n",
       "      <td>20</td>\n",
       "    </tr>\n",
       "  </tbody>\n",
       "</table>\n",
       "</div>"
      ],
      "text/plain": [
       "   first  second  third  fouth\n",
       "0      1       2      3      4\n",
       "1      5       6      7      8\n",
       "2      9      10     11     12\n",
       "3     13      14     15     16\n",
       "4     17      18     19     20"
      ]
     },
     "execution_count": 18,
     "metadata": {},
     "output_type": "execute_result"
    }
   ],
   "source": [
    "import pandas as pd\n",
    "\n",
    "#try making a dataframe from the matrix above\n",
    "frame = pd.DataFrame(matrix_output, columns=['first', 'second', 'third', 'fouth'])\n",
    "frame"
   ]
  },
  {
   "cell_type": "code",
   "execution_count": 0,
   "metadata": {
    "colab": {
     "base_uri": "https://localhost:8080/",
     "height": 102
    },
    "colab_type": "code",
    "id": "K5-uPXdEfgjU",
    "outputId": "3d6b0e1d-8e5b-4913-c391-443af2ed2688"
   },
   "outputs": [
    {
     "name": "stdout",
     "output_type": "stream",
     "text": [
      "[[ 1  2  3  4]\n",
      " [ 5  6  7  8]\n",
      " [ 9 10 11 12]\n",
      " [13 14 15 16]\n",
      " [17 18 19 20]]\n"
     ]
    }
   ],
   "source": [
    "# Challenge 6: Expected Output\n",
    "# [Do not run this cell]\n",
    "# The output of this cell will disappear when run"
   ]
  },
  {
   "cell_type": "code",
   "execution_count": 29,
   "metadata": {
    "colab": {},
    "colab_type": "code",
    "id": "EH63OkyEb7NU"
   },
   "outputs": [
    {
     "data": {
      "text/plain": [
       "array([[14, 15, 16],\n",
       "       [18, 19, 20]])"
      ]
     },
     "execution_count": 29,
     "metadata": {},
     "output_type": "execute_result"
    }
   ],
   "source": [
    "# Challenge 7\n",
    "# Let's write code to replicate the expected matrix output \n",
    "# of the cell shown below\n",
    "\n",
    "replicate_array = np.array([[14, 15, 16],[18, 19, 20]])\n",
    "replicate_array"
   ]
  },
  {
   "cell_type": "code",
   "execution_count": 0,
   "metadata": {
    "colab": {
     "base_uri": "https://localhost:8080/",
     "height": 51
    },
    "colab_type": "code",
    "id": "avA-papFb7Fl",
    "outputId": "aa252745-ee8f-48db-a0ea-f4dad2484177"
   },
   "outputs": [
    {
     "name": "stdout",
     "output_type": "stream",
     "text": [
      "[[14 15 16]\n",
      " [18 19 20]]\n"
     ]
    }
   ],
   "source": [
    "# Challenge 7: Expected Output\n",
    "# [Do not run this cell]\n",
    "# Running this cell will cause the output below to disappear"
   ]
  },
  {
   "cell_type": "code",
   "execution_count": 30,
   "metadata": {
    "colab": {},
    "colab_type": "code",
    "id": "nLV_X3kQb68p"
   },
   "outputs": [
    {
     "data": {
      "text/plain": [
       "20"
      ]
     },
     "execution_count": 30,
     "metadata": {},
     "output_type": "execute_result"
    }
   ],
   "source": [
    "# Challenge 8\n",
    "# Let's write code to replicate the expected matrix output \n",
    "# of the cell shown below\n",
    "\n",
    "replicate_array[1,-1]"
   ]
  },
  {
   "cell_type": "code",
   "execution_count": 0,
   "metadata": {
    "colab": {
     "base_uri": "https://localhost:8080/",
     "height": 34
    },
    "colab_type": "code",
    "id": "DxEU0hOEb6y2",
    "outputId": "e206bcc9-90fe-4ff0-f412-60487537707f"
   },
   "outputs": [
    {
     "data": {
      "text/plain": [
       "20"
      ]
     },
     "execution_count": 13,
     "metadata": {
      "tags": []
     },
     "output_type": "execute_result"
    }
   ],
   "source": [
    "# Challenge 8: Expected Output\n",
    "# [Do not run this cell]\n",
    "# Running this cell will cause the output below to disappear"
   ]
  },
  {
   "cell_type": "code",
   "execution_count": 31,
   "metadata": {
    "colab": {},
    "colab_type": "code",
    "id": "Dau4PAJfb6oO"
   },
   "outputs": [
    {
     "data": {
      "text/plain": [
       "array([[13, 14, 15, 16],\n",
       "       [17, 18, 19, 20]])"
      ]
     },
     "execution_count": 31,
     "metadata": {},
     "output_type": "execute_result"
    }
   ],
   "source": [
    "# Challenge 9\n",
    "# Let's write code to replicate the expected matrix output \n",
    "# of the cell shown below\n",
    "\n",
    "new_replicate = np.arange(13, 21).reshape(2, 4)\n",
    "new_replicate"
   ]
  },
  {
   "cell_type": "code",
   "execution_count": 0,
   "metadata": {
    "colab": {
     "base_uri": "https://localhost:8080/",
     "height": 51
    },
    "colab_type": "code",
    "id": "Pgj7NWePb6fa",
    "outputId": "c4bc7e8c-bf79-4838-9df5-cf0ee199eec6"
   },
   "outputs": [
    {
     "name": "stdout",
     "output_type": "stream",
     "text": [
      "[[13 14 15 16]\n",
      " [17 18 19 20]]\n"
     ]
    }
   ],
   "source": [
    "# Challenge 9: Expected Output\n",
    "# [Do not run this cell]\n",
    "# Running this cell will cause the output below to disappear"
   ]
  },
  {
   "cell_type": "code",
   "execution_count": 35,
   "metadata": {
    "colab": {},
    "colab_type": "code",
    "id": "jLp-pwUyb6R_"
   },
   "outputs": [
    {
     "data": {
      "text/plain": [
       "9.0"
      ]
     },
     "execution_count": 35,
     "metadata": {},
     "output_type": "execute_result"
    }
   ],
   "source": [
    "# Challenge 10\n",
    "# Let's find out the mean of first column values \n",
    "# in our matrix in challenge 6 above\n",
    "# \n",
    "\n",
    "col1_mean = np.mean(matrix_output[:, 0])\n",
    "col1_mean"
   ]
  },
  {
   "cell_type": "code",
   "execution_count": 37,
   "metadata": {
    "colab": {},
    "colab_type": "code",
    "id": "i5cFO78Jb6Ee"
   },
   "outputs": [
    {
     "data": {
      "text/plain": [
       "50"
      ]
     },
     "execution_count": 37,
     "metadata": {},
     "output_type": "execute_result"
    }
   ],
   "source": [
    "# Challenge 11\n",
    "# Let's find out the sum of second column values \n",
    "# in our matrix in challenge 6 above\n",
    "#\n",
    "col2_sum = np.sum(matrix_output[:, 1])\n",
    "col2_sum"
   ]
  },
  {
   "cell_type": "code",
   "execution_count": 54,
   "metadata": {
    "colab": {},
    "colab_type": "code",
    "id": "kjS2h2jSj7_v"
   },
   "outputs": [
    {
     "name": "stdout",
     "output_type": "stream",
     "text": [
      "col_1 : 45\n",
      "col_2 : 50\n",
      "col_3 : 55\n",
      "col_4 : 60\n"
     ]
    }
   ],
   "source": [
    "# Challenge 12\n",
    "# How do we find out the sum of all columns of the challenge 6 output\n",
    "# The resulting array should contain the sums of each column\n",
    "# \n",
    "column_sums = {}\n",
    "for col in range(matrix_output.shape[1]):\n",
    "    col_name = f\"col_{col + 1}\" \n",
    "    col_sum = np.sum(matrix_output[:, col])\n",
    "    column_sums[col_name] = col_sum\n",
    "\n",
    "for col_name, col_sum in column_sums.items():\n",
    "    print(f\"{col_name} : {col_sum}\")"
   ]
  },
  {
   "cell_type": "code",
   "execution_count": 82,
   "metadata": {},
   "outputs": [
    {
     "data": {
      "text/plain": [
       "{'col_1': 499841.2659568747,\n",
       " 'col_2': 500045.50494322303,\n",
       " 'col_3': 499443.50253030687,\n",
       " 'col_4': 499960.16456892365,\n",
       " 'col_5': 499609.71733107546,\n",
       " 'col_6': 500984.65452071925,\n",
       " 'col_7': 500536.5151154085,\n",
       " 'col_8': 499598.29245835525,\n",
       " 'col_9': 500143.9705060786,\n",
       " 'col_10': 499456.86458909686,\n",
       " 'col_11': 500084.5975602392,\n",
       " 'col_12': 500148.2137649965,\n",
       " 'col_13': 499528.5777017007,\n",
       " 'col_14': 499993.2192947009,\n",
       " 'col_15': 499423.0411563404,\n",
       " 'col_16': 500129.55913236685,\n",
       " 'col_17': 499137.7494104646,\n",
       " 'col_18': 500008.96900191385,\n",
       " 'col_19': 499692.6099005962,\n",
       " 'col_20': 499839.16671286273,\n",
       " 'col_21': 500185.18374137656,\n",
       " 'col_22': 499790.15553342353,\n",
       " 'col_23': 499695.17931668495,\n",
       " 'col_24': 499575.5400877228,\n",
       " 'col_25': 499950.0105839474,\n",
       " 'col_26': 500030.5950074121,\n",
       " 'col_27': 499711.0707766111,\n",
       " 'col_28': 499359.36039041856,\n",
       " 'col_29': 499972.46236787696,\n",
       " 'col_30': 500221.7325129894,\n",
       " 'col_31': 499395.86369364825,\n",
       " 'col_32': 500519.73227859935,\n",
       " 'col_33': 499897.41487652645,\n",
       " 'col_34': 499830.1440649539,\n",
       " 'col_35': 500200.3872557364,\n",
       " 'col_36': 500355.2423207608,\n",
       " 'col_37': 500013.3335298117,\n",
       " 'col_38': 500020.86790929077,\n",
       " 'col_39': 499707.1730874065,\n",
       " 'col_40': 500571.731158033,\n",
       " 'col_41': 500327.9674200392,\n",
       " 'col_42': 499759.520569804,\n",
       " 'col_43': 499945.50773787586,\n",
       " 'col_44': 499787.04063652834,\n",
       " 'col_45': 499981.14791216084,\n",
       " 'col_46': 499650.53212076175,\n",
       " 'col_47': 499757.90833246056,\n",
       " 'col_48': 499866.05036549695,\n",
       " 'col_49': 500282.98502269504,\n",
       " 'col_50': 500011.22437472834,\n",
       " 'col_51': 499710.34943875275,\n",
       " 'col_52': 500303.0581854829,\n",
       " 'col_53': 499432.3648701167,\n",
       " 'col_54': 499619.97632879234,\n",
       " 'col_55': 500082.80768627155,\n",
       " 'col_56': 499896.4547258352,\n",
       " 'col_57': 500040.6359674475,\n",
       " 'col_58': 499774.51272027096,\n",
       " 'col_59': 499719.68359804194,\n",
       " 'col_60': 499789.8245700359,\n",
       " 'col_61': 500411.32400987594,\n",
       " 'col_62': 499722.84330523014,\n",
       " 'col_63': 499960.90095462603,\n",
       " 'col_64': 499776.5581964629,\n",
       " 'col_65': 500015.992726924,\n",
       " 'col_66': 500549.17197089276,\n",
       " 'col_67': 499802.8029629629,\n",
       " 'col_68': 500120.1710819457,\n",
       " 'col_69': 499752.4964606893,\n",
       " 'col_70': 500361.01049574366,\n",
       " 'col_71': 499995.9256742284,\n",
       " 'col_72': 500218.74042843416,\n",
       " 'col_73': 499779.8755758403,\n",
       " 'col_74': 500068.38171659125,\n",
       " 'col_75': 500112.28095819347,\n",
       " 'col_76': 499899.522149507,\n",
       " 'col_77': 500234.9083795149,\n",
       " 'col_78': 500190.2545843635,\n",
       " 'col_79': 499843.39117426216,\n",
       " 'col_80': 500072.2305480681,\n",
       " 'col_81': 499675.7999285275,\n",
       " 'col_82': 499773.9369632982,\n",
       " 'col_83': 499993.2202951221,\n",
       " 'col_84': 499915.212105151,\n",
       " 'col_85': 500024.74638672516,\n",
       " 'col_86': 500295.0492059074,\n",
       " 'col_87': 499298.36272917927,\n",
       " 'col_88': 500146.37335151,\n",
       " 'col_89': 500263.4774569703,\n",
       " 'col_90': 499669.73887184606,\n",
       " 'col_91': 499970.43636372127,\n",
       " 'col_92': 499937.7044534138,\n",
       " 'col_93': 499577.0623238892,\n",
       " 'col_94': 499477.4218091055,\n",
       " 'col_95': 499895.507410979,\n",
       " 'col_96': 500020.2130190513,\n",
       " 'col_97': 500071.6321349333,\n",
       " 'col_98': 500636.00848702795,\n",
       " 'col_99': 500019.8476514733,\n",
       " 'col_100': 500157.5860115942}"
      ]
     },
     "execution_count": 82,
     "metadata": {},
     "output_type": "execute_result"
    }
   ],
   "source": [
    "example = np.random.rand(100000000).reshape(1000000, 100)\n",
    "\n",
    "def column_summation(dataframe):\n",
    "    column_sums = {}\n",
    "    for col in range(dataframe.shape[1]):\n",
    "        col_name = f\"col_{col + 1}\" \n",
    "        col_sum = np.sum(dataframe[:, col])\n",
    "        column_sums[col_name] = col_sum\n",
    "\n",
    "    return column_sums\n",
    "\n",
    "\n",
    "column_summation(example)"
   ]
  },
  {
   "cell_type": "code",
   "execution_count": null,
   "metadata": {},
   "outputs": [],
   "source": []
  }
 ],
 "metadata": {
  "colab": {
   "collapsed_sections": [
    "-7J_lE4-YPLq",
    "cnaEkfAtY5n1",
    "ICXG_crZZAw8"
   ],
   "name": "Python Programming - Numpy Practice",
   "provenance": [],
   "toc_visible": true
  },
  "kernelspec": {
   "display_name": "Python 3",
   "language": "python",
   "name": "python3"
  },
  "language_info": {
   "codemirror_mode": {
    "name": "ipython",
    "version": 3
   },
   "file_extension": ".py",
   "mimetype": "text/x-python",
   "name": "python",
   "nbconvert_exporter": "python",
   "pygments_lexer": "ipython3",
   "version": "3.7.6"
  }
 },
 "nbformat": 4,
 "nbformat_minor": 1
}
