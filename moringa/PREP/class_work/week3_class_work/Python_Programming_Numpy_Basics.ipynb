{
 "cells": [
  {
   "cell_type": "markdown",
   "metadata": {
    "colab_type": "text",
    "id": "c_BBfbCEZfDT"
   },
   "source": [
    "<font color=\"green\">*To start working on this notebook, or any other notebook that we will use in the Moringa Data Science Course, we will need to save our own copy of it. We can do this by clicking File > Save a Copy in Drive. We will then be able to make edits to our own copy of this notebook.*</font>"
   ]
  },
  {
   "cell_type": "markdown",
   "metadata": {
    "colab_type": "text",
    "id": "dZSJZP9809aH"
   },
   "source": [
    "# Python Programming - Numpy Basics"
   ]
  },
  {
   "cell_type": "markdown",
   "metadata": {
    "colab_type": "text",
    "id": "jZatZRIbkDz7"
   },
   "source": [
    "## 1.0 Importing our Library"
   ]
  },
  {
   "cell_type": "code",
   "execution_count": 2,
   "metadata": {
    "colab": {},
    "colab_type": "code",
    "id": "HZ5j-AjX6ae-"
   },
   "outputs": [],
   "source": [
    "# We will first import the numpy library, so that we can leverage external functionalities \n",
    "# that do not come with python\n",
    "# \n",
    "import numpy as np"
   ]
  },
  {
   "cell_type": "markdown",
   "metadata": {
    "colab_type": "text",
    "id": "c2bpaw2E1Afv"
   },
   "source": [
    "## 1.1 Creating Arrays"
   ]
  },
  {
   "cell_type": "code",
   "execution_count": 3,
   "metadata": {
    "colab": {},
    "colab_type": "code",
    "id": "ToZ19MKQ06NI"
   },
   "outputs": [
    {
     "name": "stdout",
     "output_type": "stream",
     "text": [
      "[0 1 2 3 4]\n"
     ]
    }
   ],
   "source": [
    "# Example 1\n",
    "# Numpy arrays are a type of data structures that hold some benefits over \n",
    "# Python lists such as being more compact, faster access in reading \n",
    "# and writing items. To get started, we can create a 1 dimension (1D) Array \n",
    "# using a Python List as shown below.\n",
    "#\n",
    "import numpy as np\n",
    "my_list = [0, 1, 2, 3, 4]\n",
    "npy_my_list = np.array(my_list)\n",
    "\n",
    "print(npy_my_list)"
   ]
  },
  {
   "cell_type": "code",
   "execution_count": 4,
   "metadata": {
    "colab": {},
    "colab_type": "code",
    "id": "QfwikEjh3-Az"
   },
   "outputs": [
    {
     "name": "stdout",
     "output_type": "stream",
     "text": [
      "[0. 0. 0. 0. 0.]\n",
      "[[1. 1. 1. 1.]\n",
      " [1. 1. 1. 1.]\n",
      " [1. 1. 1. 1.]]\n"
     ]
    }
   ],
   "source": [
    "# Example 2\n",
    "# We can also create 1D arrays of zeros and 2D arrays of ones \n",
    "# from Numpy builtin functions by;\n",
    "#\n",
    "zeros_arr = np.zeros(5)\n",
    "ones_arr = np.ones([3, 4])\n",
    "\n",
    "print(zeros_arr)\n",
    "print(ones_arr)"
   ]
  },
  {
   "cell_type": "code",
   "execution_count": 6,
   "metadata": {
    "colab": {},
    "colab_type": "code",
    "id": "HNCFd0Tr3_Gy"
   },
   "outputs": [
    {
     "name": "stdout",
     "output_type": "stream",
     "text": [
      "[0.80979684 0.82944062 0.36334422]\n"
     ]
    }
   ],
   "source": [
    "# Example 3\n",
    "# Creating an Array with 3 random values  \n",
    "# \n",
    "rand_arr = np.random.rand(3)\n",
    "\n",
    "print(rand_arr)"
   ]
  },
  {
   "cell_type": "code",
   "execution_count": 11,
   "metadata": {
    "colab": {},
    "colab_type": "code",
    "id": "JmPLdMUBBuMD"
   },
   "outputs": [
    {
     "name": "stdout",
     "output_type": "stream",
     "text": [
      "the length of even_arr is 60\n",
      "[0.  0.1 0.2 0.3 0.4 0.5 0.6 0.7 0.8 0.9 1.  1.1 1.2 1.3 1.4 1.5 1.6 1.7\n",
      " 1.8 1.9 2.  2.1 2.2 2.3 2.4 2.5 2.6 2.7 2.8 2.9 3.  3.1 3.2 3.3 3.4 3.5\n",
      " 3.6 3.7 3.8 3.9 4.  4.1 4.2 4.3 4.4 4.5 4.6 4.7 4.8 4.9 5.  5.1 5.2 5.3\n",
      " 5.4 5.5 5.6 5.7 5.8 5.9]\n"
     ]
    }
   ],
   "source": [
    "# Example 4\n",
    "# Creating an array with evenly spaced values within a given interval \n",
    "# as shown using the Numpy arrange function\n",
    "# \n",
    "even_arr = np.arange(0,6,0.1)\n",
    "print(f'the length of even_arr is {len(even_arr)}')\n",
    "print(even_arr)"
   ]
  },
  {
   "cell_type": "code",
   "execution_count": 6,
   "metadata": {
    "colab": {},
    "colab_type": "code",
    "id": "ayLolFnVebvC"
   },
   "outputs": [
    {
     "name": "stdout",
     "output_type": "stream",
     "text": [
      "[[ 1  2  3  4  5]\n",
      " [ 6  7  8  9 10]\n",
      " [11 12 13 14 15]\n",
      " [16 17 18 19 20]\n",
      " [21 22 23 24 25]]\n"
     ]
    }
   ],
   "source": [
    "# Example 5\n",
    "# Create a 5 x 5 matix with elements from 1 to 25\n",
    "#\n",
    "five_matrix = np.arange(1,26).reshape(5,5)\n",
    "\n",
    "print(five_matrix)"
   ]
  },
  {
   "cell_type": "markdown",
   "metadata": {
    "colab_type": "text",
    "id": "qcP0FkJq6q-r"
   },
   "source": [
    "### <font color=\"green\">1.1 Challenges"
   ]
  },
  {
   "cell_type": "code",
   "execution_count": 7,
   "metadata": {
    "colab": {},
    "colab_type": "code",
    "id": "MBV-dKC_6tZx"
   },
   "outputs": [
    {
     "name": "stdout",
     "output_type": "stream",
     "text": [
      "[[0 1 2]\n",
      " [3 4 5]]\n"
     ]
    }
   ],
   "source": [
    "# Challenge 1\n",
    "# Create a 2D array matix using the list matr = my_mat = [[0,1,2],[3,4,5]]\n",
    "# Hint: Learn from Example 2\n",
    "# \n",
    "import numpy as np\n",
    "\n",
    "my_mat = [[0,1,2],[3,4,5]]\n",
    "matr = np.array(my_mat)\n",
    "\n",
    "print(matr)"
   ]
  },
  {
   "cell_type": "code",
   "execution_count": 8,
   "metadata": {
    "colab": {},
    "colab_type": "code",
    "id": "aquNQ1XH6vGL"
   },
   "outputs": [
    {
     "name": "stdout",
     "output_type": "stream",
     "text": [
      "[[0. 0. 0. 0. 0. 0.]\n",
      " [0. 0. 0. 0. 0. 0.]]\n"
     ]
    }
   ],
   "source": [
    "# Challenge 2\n",
    "# Create a 2D array of zeros \n",
    "# Hint: Learn from Example 2\n",
    "#\n",
    "zeros = np.zeros([2,6])\n",
    "print(zeros)"
   ]
  },
  {
   "cell_type": "code",
   "execution_count": 9,
   "metadata": {
    "colab": {},
    "colab_type": "code",
    "id": "tslhBNMQ6wU-"
   },
   "outputs": [
    {
     "name": "stdout",
     "output_type": "stream",
     "text": [
      "[[0.47547265 0.3213559  0.29371541 0.30627863 0.18260022 0.34790799]\n",
      " [0.777414   0.54893176 0.54060291 0.27668284 0.24595896 0.45890815]]\n"
     ]
    }
   ],
   "source": [
    "# Challenge 3\n",
    "# Create a 2D array of random values\n",
    "# Hint: Learn from Example 2\n",
    "#\n",
    "import random\n",
    "\n",
    "values = np.random.rand(2, 6)\n",
    "\n",
    "print(values)"
   ]
  },
  {
   "cell_type": "code",
   "execution_count": 20,
   "metadata": {
    "colab": {},
    "colab_type": "code",
    "id": "ukWLHCL0CJx1"
   },
   "outputs": [
    {
     "name": "stdout",
     "output_type": "stream",
     "text": [
      "[[ 6  8 10]\n",
      " [12 14 16]\n",
      " [18 20 22]\n",
      " [24 26 28]\n",
      " [30 32 34]\n",
      " [36 38 40]]\n"
     ]
    }
   ],
   "source": [
    "# Challenge 4\n",
    "# Create a 3D array with values starting 6, stops at 40 with interval of 2\n",
    "#\n",
    "val_array = np.arange(6,41,2).reshape(6,3)\n",
    "print(np.array(val_array))"
   ]
  },
  {
   "cell_type": "markdown",
   "metadata": {
    "colab_type": "text",
    "id": "BqyScgzc410j"
   },
   "source": [
    "## 1.2 Attributes and Functions"
   ]
  },
  {
   "cell_type": "code",
   "execution_count": 23,
   "metadata": {
    "colab": {},
    "colab_type": "code",
    "id": "eLjMuBef93ZF"
   },
   "outputs": [
    {
     "name": "stdout",
     "output_type": "stream",
     "text": [
      "[0.91739546 0.76766761 0.18202899 0.13516557 0.22433207]\n"
     ]
    }
   ],
   "source": [
    "# We use attributes to access information about a particular array,\n",
    "# while functions to perform a certain operations to the array. \n",
    "# We will learn about attributes and functions in this section of the session.\n",
    "# First let's generate a 1D array to work with; we will name \n",
    "# this attribute attribute_arr as shown below;\n",
    "# \n",
    "attribute_arr = np.random.rand(5)\n",
    "\n",
    "print(attribute_arr)"
   ]
  },
  {
   "cell_type": "code",
   "execution_count": 24,
   "metadata": {
    "colab": {},
    "colab_type": "code",
    "id": "LQ8aYHM-45r6"
   },
   "outputs": [
    {
     "data": {
      "text/plain": [
       "0.9173954587968187"
      ]
     },
     "execution_count": 24,
     "metadata": {},
     "output_type": "execute_result"
    }
   ],
   "source": [
    "# Example 1\n",
    "# Using the max() function\n",
    "# \n",
    "attribute_arr.max()"
   ]
  },
  {
   "cell_type": "code",
   "execution_count": 25,
   "metadata": {
    "colab": {},
    "colab_type": "code",
    "id": "WMYeiSXA46iR"
   },
   "outputs": [
    {
     "data": {
      "text/plain": [
       "0.13516556935824386"
      ]
     },
     "execution_count": 25,
     "metadata": {},
     "output_type": "execute_result"
    }
   ],
   "source": [
    "# Example 2\n",
    "# Using the min() function \n",
    "# \n",
    "attribute_arr.min()"
   ]
  },
  {
   "cell_type": "code",
   "execution_count": 26,
   "metadata": {
    "colab": {},
    "colab_type": "code",
    "id": "EopHxyUU46Y6"
   },
   "outputs": [
    {
     "data": {
      "text/plain": [
       "0"
      ]
     },
     "execution_count": 26,
     "metadata": {},
     "output_type": "execute_result"
    }
   ],
   "source": [
    "# Example 3\n",
    "# Using the argmax() function to return the indice of the max element of the array \n",
    "#\n",
    "attribute_arr.argmax()"
   ]
  },
  {
   "cell_type": "code",
   "execution_count": 27,
   "metadata": {
    "colab": {},
    "colab_type": "code",
    "id": "n5K9YACf5L_z"
   },
   "outputs": [
    {
     "data": {
      "text/plain": [
       "3"
      ]
     },
     "execution_count": 27,
     "metadata": {},
     "output_type": "execute_result"
    }
   ],
   "source": [
    "# Example 4\n",
    "# Using the argmin() function to return the indice of the min element of the array\n",
    "#\n",
    "attribute_arr.argmin()"
   ]
  },
  {
   "cell_type": "code",
   "execution_count": 28,
   "metadata": {
    "colab": {},
    "colab_type": "code",
    "id": "Sfb8LcQR5R7x"
   },
   "outputs": [
    {
     "data": {
      "text/plain": [
       "(5,)"
      ]
     },
     "execution_count": 28,
     "metadata": {},
     "output_type": "execute_result"
    }
   ],
   "source": [
    "# Example 5\n",
    "# Using the shape attribute to find the size of the array\n",
    "#\n",
    "attribute_arr.shape"
   ]
  },
  {
   "cell_type": "markdown",
   "metadata": {
    "colab_type": "text",
    "id": "3w2o-QzS60AR"
   },
   "source": [
    "### <font color=\"green\">1.2. Challenges</font>"
   ]
  },
  {
   "cell_type": "code",
   "execution_count": 81,
   "metadata": {
    "colab": {},
    "colab_type": "code",
    "id": "VKNneHD4-4BY"
   },
   "outputs": [
    {
     "name": "stdout",
     "output_type": "stream",
     "text": [
      "[[0.92733804 0.76952218 0.34816744 0.99877386 0.59895673]\n",
      " [0.14677385 0.40792708 0.1138591  0.96310666 0.0235926 ]]\n"
     ]
    }
   ],
   "source": [
    "# First generate a 2D array to work with\n",
    "array_2D = np.random.rand(2,5)\n",
    "print(array_2D)"
   ]
  },
  {
   "cell_type": "code",
   "execution_count": 82,
   "metadata": {
    "colab": {},
    "colab_type": "code",
    "id": "ygUyasmp62jO"
   },
   "outputs": [
    {
     "name": "stdout",
     "output_type": "stream",
     "text": [
      "0.023592603661418354\n"
     ]
    }
   ],
   "source": [
    "# Challenge 1\n",
    "# Then we will find the minimum value of the 2D array\n",
    "#\n",
    "v = array_2D.min()\n",
    "print(v)"
   ]
  },
  {
   "cell_type": "code",
   "execution_count": 83,
   "metadata": {
    "colab": {},
    "colab_type": "code",
    "id": "Vi6G0azm637R"
   },
   "outputs": [
    {
     "name": "stdout",
     "output_type": "stream",
     "text": [
      "0.9987738613009873\n"
     ]
    }
   ],
   "source": [
    "# Challenge 2\n",
    "# We will find the maximum value of the 2D array\n",
    "#\n",
    "w = array_2D.max()\n",
    "print(w)"
   ]
  },
  {
   "cell_type": "code",
   "execution_count": 84,
   "metadata": {
    "colab": {},
    "colab_type": "code",
    "id": "84WVD6TA65Bm"
   },
   "outputs": [
    {
     "name": "stdout",
     "output_type": "stream",
     "text": [
      "3\n"
     ]
    }
   ],
   "source": [
    "# Challenge 3\n",
    "# Then return the indice of the maximun element of the 2D array \n",
    "# \n",
    "x = array_2D.argmax()\n",
    "print(x)"
   ]
  },
  {
   "cell_type": "code",
   "execution_count": 85,
   "metadata": {
    "colab": {},
    "colab_type": "code",
    "id": "kpaSbWQt66Fz"
   },
   "outputs": [
    {
     "name": "stdout",
     "output_type": "stream",
     "text": [
      "9\n"
     ]
    }
   ],
   "source": [
    "# Challenge 4\n",
    "# Again return the indice of the minimum element of the 2D array\n",
    "# \n",
    "y = array_2D.argmin()\n",
    "print(y)"
   ]
  },
  {
   "cell_type": "code",
   "execution_count": 86,
   "metadata": {
    "colab": {},
    "colab_type": "code",
    "id": "0Snj7gJo67OU"
   },
   "outputs": [
    {
     "name": "stdout",
     "output_type": "stream",
     "text": [
      "float64\n"
     ]
    }
   ],
   "source": [
    "# Challenge 5\n",
    "# Lastly, return the data type of the generated 2D array using dtype\n",
    "# \n",
    "z = array_2D.dtype\n",
    "print(z)"
   ]
  },
  {
   "cell_type": "markdown",
   "metadata": {
    "colab_type": "text",
    "id": "lpP7qc835YZX"
   },
   "source": [
    "## 1.3  Indexing  and Broadcasting"
   ]
  },
  {
   "cell_type": "code",
   "execution_count": 87,
   "metadata": {
    "colab": {},
    "colab_type": "code",
    "id": "bd0imU6GKHfs"
   },
   "outputs": [
    {
     "name": "stdout",
     "output_type": "stream",
     "text": [
      "[ 0  2  4  6  8 10 12 14]\n"
     ]
    }
   ],
   "source": [
    "# Creating an array to work with. The array will be comprised of even numbers from 0 t0 15\n",
    "in_array = np.arange(0,15,2)\n",
    "\n",
    "print(in_array)"
   ]
  },
  {
   "cell_type": "code",
   "execution_count": 88,
   "metadata": {
    "colab": {},
    "colab_type": "code",
    "id": "e_yW1XvJ5dxC"
   },
   "outputs": [
    {
     "name": "stdout",
     "output_type": "stream",
     "text": [
      "4\n",
      "[2 4 6 8]\n",
      "[ 6  8 10 12 14]\n"
     ]
    }
   ],
   "source": [
    "# Example 1\n",
    "# Bracketing indexing allows us to access\n",
    "# elements from a Numpy array as shown\n",
    "# \n",
    "print(in_array[2]) # Displays the third element in the list\n",
    "print(in_array[1:5]) # Displays values from the second element to the fifth element\n",
    "print(in_array[3:]) # Displays the 4th element to the last element in the list"
   ]
  },
  {
   "cell_type": "code",
   "execution_count": 94,
   "metadata": {
    "colab": {},
    "colab_type": "code",
    "id": "NzNROPLy5vg3"
   },
   "outputs": [
    {
     "name": "stdout",
     "output_type": "stream",
     "text": [
      "[100 100  22  22  22   5   6   7   8   9  10]\n",
      "[ 0  1  2  3  4  5  6  7  8  9 10]\n",
      "[ 0  1  2  3  4  5  6  7  8  9 10]\n",
      "[0 1 2 3 4]\n",
      "[22 22 22 22 22]\n",
      "[22 22 22 22 22  5  6  7  8  9 10]\n",
      "[ 0  1  2  3  4  5  6  7  8  9 10]\n"
     ]
    }
   ],
   "source": [
    "# Example 2\n",
    "# Arrays with different sizes cannot be added, subtracted or used in any arithmetic.\n",
    "# one way of solving this is to duplicate the smaller array so that its size is the same as the larger array.\n",
    "# This process is called broadasting and is available in numpy. \n",
    "\n",
    "# Broadcasting is Numpy's terminology for performing mathematical operations \n",
    "# between arrays with different shapes. This example provides insights on \n",
    "# broadcasting. First, lets run this cell then later uncomment each block trying\n",
    "# to understand what happens. \n",
    "# Once you're done with the final block, you can get a detailed explanation \n",
    "# on broadcasting here: http://bit.ly/NumpyBroadcasting\n",
    "# \n",
    "\n",
    "in_array[0:2] = 100\n",
    "print(in_array)\n",
    "\n",
    "# First reseting our array i.e. recreating it\n",
    "in_array = np.arange(0,11)\n",
    "print(in_array)\n",
    "\n",
    "# Then making a copy \n",
    "in_array_copy = in_array.copy()\n",
    "print(in_array_copy)\n",
    "\n",
    "# Afterwards creating a new array upon slicing\n",
    "slice_of_arr = in_array[0:5]\n",
    "print(slice_of_arr)\n",
    "\n",
    "# Changing the Slice\n",
    "slice_of_arr[:]=22\n",
    "print(slice_of_arr)\n",
    "\n",
    "# NB: Changes also occur in our original array\n",
    "print(in_array)\n",
    "\n",
    "# check your copy\n",
    "print(in_array_copy)"
   ]
  },
  {
   "cell_type": "code",
   "execution_count": 97,
   "metadata": {
    "colab": {},
    "colab_type": "code",
    "id": "juXc8Yem584S"
   },
   "outputs": [
    {
     "name": "stdout",
     "output_type": "stream",
     "text": [
      "[[21 22 23]\n",
      " [11 22 33]\n",
      " [43 77 89]]\n",
      "33\n",
      "[11 22 33]\n",
      "[22 22 77]\n"
     ]
    }
   ],
   "source": [
    "# Example 3\n",
    "# Indexing a 2D array (matrices)\n",
    "# \n",
    "\n",
    "ind_arr_2d = np.array(([21, 22, 23], [11, 22, 33], [43, 77, 89]))\n",
    "print(ind_arr_2d)\n",
    "\n",
    "# Selecting element at row index 1 & column index 2\n",
    "#\n",
    "print(ind_arr_2d[1][2])\n",
    "\n",
    "# Selecting a Row at index 1\n",
    "#\n",
    "row = ind_arr_2d[1]\n",
    "print(row)\n",
    "\n",
    "# Selecting a column at index 1 \n",
    "# \n",
    "column = ind_arr_2d[:, 1]\n",
    "print(column)"
   ]
  },
  {
   "cell_type": "code",
   "execution_count": 102,
   "metadata": {
    "colab": {},
    "colab_type": "code",
    "id": "l-PTQXUi6Cxp"
   },
   "outputs": [
    {
     "name": "stdout",
     "output_type": "stream",
     "text": [
      "[[0. 0. 0. 0. 0. 0. 0. 0. 0. 0.]\n",
      " [0. 0. 0. 0. 0. 0. 0. 0. 0. 0.]\n",
      " [0. 0. 0. 0. 0. 0. 0. 0. 0. 0.]\n",
      " [0. 0. 0. 0. 0. 0. 0. 0. 0. 0.]\n",
      " [0. 0. 0. 0. 0. 0. 0. 0. 0. 0.]\n",
      " [0. 0. 0. 0. 0. 0. 0. 0. 0. 0.]\n",
      " [0. 0. 0. 0. 0. 0. 0. 0. 0. 0.]\n",
      " [0. 0. 0. 0. 0. 0. 0. 0. 0. 0.]\n",
      " [0. 0. 0. 0. 0. 0. 0. 0. 0. 0.]\n",
      " [0. 0. 0. 0. 0. 0. 0. 0. 0. 0.]]\n",
      "10\n",
      "[[0. 0. 0. 0. 0. 0. 0. 0. 0. 0.]\n",
      " [1. 1. 1. 1. 1. 1. 1. 1. 1. 1.]\n",
      " [2. 2. 2. 2. 2. 2. 2. 2. 2. 2.]\n",
      " [3. 3. 3. 3. 3. 3. 3. 3. 3. 3.]\n",
      " [4. 4. 4. 4. 4. 4. 4. 4. 4. 4.]\n",
      " [5. 5. 5. 5. 5. 5. 5. 5. 5. 5.]\n",
      " [6. 6. 6. 6. 6. 6. 6. 6. 6. 6.]\n",
      " [7. 7. 7. 7. 7. 7. 7. 7. 7. 7.]\n",
      " [8. 8. 8. 8. 8. 8. 8. 8. 8. 8.]\n",
      " [9. 9. 9. 9. 9. 9. 9. 9. 9. 9.]]\n"
     ]
    },
    {
     "data": {
      "text/plain": [
       "array([[0., 0., 0., 0., 0., 0., 0., 0., 0., 0.],\n",
       "       [2., 2., 2., 2., 2., 2., 2., 2., 2., 2.],\n",
       "       [3., 3., 3., 3., 3., 3., 3., 3., 3., 3.]])"
      ]
     },
     "execution_count": 102,
     "metadata": {},
     "output_type": "execute_result"
    }
   ],
   "source": [
    "# Example 4 \n",
    "# Fancy Indexing allows us to select entire rows or columns out of order\n",
    "# as shown\n",
    "# \n",
    "\n",
    "# First creating an array or zeros\n",
    "arr2d = np.zeros((10,10))\n",
    "print(arr2d)\n",
    "\n",
    "# Length of array\n",
    "arr_length = arr2d.shape[1]\n",
    "print(arr_length)\n",
    "\n",
    "# creating the array \n",
    "for i in range(arr_length):\n",
    "    arr2d[i] = i\n",
    "    \n",
    "print(arr2d)\n",
    "\n",
    "# Now selecting the first, third and the fourth rows via fancy indexing\n",
    "arr2d[[0,2,3]]"
   ]
  },
  {
   "cell_type": "markdown",
   "metadata": {
    "colab_type": "text",
    "id": "vtbzfkVu7A_i"
   },
   "source": [
    "### <font color=\"green\">1.3. Challenges</font>"
   ]
  },
  {
   "cell_type": "code",
   "execution_count": 77,
   "metadata": {
    "colab": {},
    "colab_type": "code",
    "id": "AoybsIQPODZD"
   },
   "outputs": [
    {
     "data": {
      "text/plain": [
       "array([[15, 20, 25],\n",
       "       [15, 20, 25],\n",
       "       [30, 35, 40]])"
      ]
     },
     "execution_count": 77,
     "metadata": {},
     "output_type": "execute_result"
    }
   ],
   "source": [
    "# First, we create a 2D array to work with\n",
    "array_2d = np.array(([15,20,25],[15,20,25],[30,35,40]))\n",
    "new = array_2d.reshape()"
   ]
  },
  {
   "cell_type": "code",
   "execution_count": 104,
   "metadata": {
    "colab": {},
    "colab_type": "code",
    "id": "t2DLZeOs7Fej"
   },
   "outputs": [
    {
     "data": {
      "text/plain": [
       "array([30, 35, 40])"
      ]
     },
     "execution_count": 104,
     "metadata": {},
     "output_type": "execute_result"
    }
   ],
   "source": [
    "# Challenge 1\n",
    "# Let's get the 3rd row of the array\n",
    "# \n",
    "third_row = array_2d[2]\n",
    "third_row"
   ]
  },
  {
   "cell_type": "code",
   "execution_count": 106,
   "metadata": {
    "colab": {},
    "colab_type": "code",
    "id": "mrcHn88Q7GuP"
   },
   "outputs": [
    {
     "data": {
      "text/plain": [
       "35"
      ]
     },
     "execution_count": 106,
     "metadata": {},
     "output_type": "execute_result"
    }
   ],
   "source": [
    "# Challenge 2\n",
    "# Let's get the individual element 35\n",
    "# using the format arr_2d[row][col] or arr_2d[row,col]\n",
    "#\n",
    "element_35 = array_2d[2][1]\n",
    "element_35"
   ]
  },
  {
   "cell_type": "code",
   "execution_count": 126,
   "metadata": {
    "colab": {},
    "colab_type": "code",
    "id": "2Q_POLIs7IKI"
   },
   "outputs": [
    {
     "data": {
      "text/plain": [
       "array([[20, 25],\n",
       "       [20, 25]])"
      ]
     },
     "execution_count": 126,
     "metadata": {},
     "output_type": "execute_result"
    }
   ],
   "source": [
    "# Challenge 3\n",
    "# Let's slice the array (2,2) from top right corner\n",
    "# \n",
    "slice_22 = array_2d[:2,1:]\n",
    "slice_22"
   ]
  },
  {
   "cell_type": "code",
   "execution_count": 112,
   "metadata": {
    "colab": {},
    "colab_type": "code",
    "id": "dumxoNxX7JKO"
   },
   "outputs": [
    {
     "data": {
      "text/plain": [
       "array([[0.89317028, 0.65990814, 0.20058496, 0.13796325],\n",
       "       [0.36391707, 0.0735337 , 0.0022322 , 0.33843431]])"
      ]
     },
     "execution_count": 112,
     "metadata": {},
     "output_type": "execute_result"
    }
   ],
   "source": [
    "# Challenge 4\n",
    "# Let's create a random 6 x 4 matrix then select the 3rd and 4th rows\n",
    "#\n",
    "new_array = np.random.rand(6, 4)\n",
    "new_array[[2,3]]"
   ]
  },
  {
   "cell_type": "markdown",
   "metadata": {
    "colab_type": "text",
    "id": "7HM2oS-c6Fyz"
   },
   "source": [
    "## 1.4 Conditional Selection"
   ]
  },
  {
   "cell_type": "code",
   "execution_count": 113,
   "metadata": {
    "colab": {},
    "colab_type": "code",
    "id": "X02c9mGxaRdu"
   },
   "outputs": [
    {
     "name": "stdout",
     "output_type": "stream",
     "text": [
      "[ 1  2  3  4  5  6  7  8  9 10]\n"
     ]
    }
   ],
   "source": [
    "# We can use conditions to check for whether elements in a certain range satisfy a condition.\n",
    "# Let's first creating an array. Do you remember what the arrange function does?\n",
    "#\n",
    "conditional_arr = np.arange(1,11)\n",
    "print(conditional_arr)"
   ]
  },
  {
   "cell_type": "code",
   "execution_count": 114,
   "metadata": {
    "colab": {},
    "colab_type": "code",
    "id": "ekQ-AjCS6Lf1"
   },
   "outputs": [
    {
     "data": {
      "text/plain": [
       "array([False, False, False,  True,  True,  True,  True,  True,  True,\n",
       "        True])"
      ]
     },
     "execution_count": 114,
     "metadata": {},
     "output_type": "execute_result"
    }
   ],
   "source": [
    "# Example 1  \n",
    "# What do we do here?\n",
    "#\n",
    "conditional_arr > 3"
   ]
  },
  {
   "cell_type": "code",
   "execution_count": 117,
   "metadata": {
    "colab": {},
    "colab_type": "code",
    "id": "_CMv_cG36P8s"
   },
   "outputs": [
    {
     "name": "stdout",
     "output_type": "stream",
     "text": [
      "[False False False  True  True  True  True  True  True  True]\n",
      "[ 4  5  6  7  8  9 10]\n"
     ]
    }
   ],
   "source": [
    "# Example 2\n",
    "# What happens here?\n",
    "#\n",
    "bool_arr = conditional_arr > 3\n",
    "print(bool_arr)\n",
    "\n",
    "print(conditional_arr[bool_arr])"
   ]
  },
  {
   "cell_type": "code",
   "execution_count": 118,
   "metadata": {
    "colab": {},
    "colab_type": "code",
    "id": "ZmMJyzcM6X8d"
   },
   "outputs": [
    {
     "name": "stdout",
     "output_type": "stream",
     "text": [
      "[ 5  6  7  8  9 10]\n"
     ]
    }
   ],
   "source": [
    "# Example 3\n",
    "# Finally, let's select those values in our array that satisfy our condition\n",
    "# \n",
    "print(conditional_arr[conditional_arr > 4])"
   ]
  },
  {
   "cell_type": "markdown",
   "metadata": {
    "colab_type": "text",
    "id": "FXNTaawR7Lly"
   },
   "source": [
    "### <font color=\"green\">1.4 Challenges</font>"
   ]
  },
  {
   "cell_type": "code",
   "execution_count": 142,
   "metadata": {
    "colab": {},
    "colab_type": "code",
    "id": "JvOfEoCQdPW3"
   },
   "outputs": [
    {
     "data": {
      "text/plain": [
       "array([[0, 1, 2],\n",
       "       [3, 4, 5],\n",
       "       [6, 7, 8]])"
      ]
     },
     "execution_count": 142,
     "metadata": {},
     "output_type": "execute_result"
    }
   ],
   "source": [
    "# Creating the array to be used below\n",
    "#\n",
    "x = np.array([[0, 1, 2], [3, 4, 5], [6, 7, 8]])\n",
    "x"
   ]
  },
  {
   "cell_type": "code",
   "execution_count": 143,
   "metadata": {
    "colab": {},
    "colab_type": "code",
    "id": "X8wmyySf7TRt"
   },
   "outputs": [
    {
     "data": {
      "text/plain": [
       "array([[False, False, False],\n",
       "       [ True,  True,  True],\n",
       "       [False, False, False]])"
      ]
     },
     "execution_count": 143,
     "metadata": {},
     "output_type": "execute_result"
    }
   ],
   "source": [
    "# Challenge 1\n",
    "# Get the 2nd row using conditional selection\n",
    "#\n",
    "condition = np.arange(3,6)\n",
    "x == condition"
   ]
  },
  {
   "cell_type": "code",
   "execution_count": 145,
   "metadata": {
    "colab": {},
    "colab_type": "code",
    "id": "h3uZ6qls7UMq"
   },
   "outputs": [
    {
     "data": {
      "text/plain": [
       "array([3, 4, 5, 6, 7, 8])"
      ]
     },
     "execution_count": 145,
     "metadata": {},
     "output_type": "execute_result"
    }
   ],
   "source": [
    "# Challenge 2\n",
    "# Which elements are greater than two?\n",
    "#\n",
    "elements_greater_two = x > 2\n",
    "x[elements_greater_two]"
   ]
  },
  {
   "cell_type": "code",
   "execution_count": 147,
   "metadata": {
    "colab": {},
    "colab_type": "code",
    "id": "yKfmU0xF7U-V"
   },
   "outputs": [
    {
     "data": {
      "text/plain": [
       "array([7, 8])"
      ]
     },
     "execution_count": 147,
     "metadata": {},
     "output_type": "execute_result"
    }
   ],
   "source": [
    "# Challenge 3\n",
    "# Get the array [7, 8] from the x array\n",
    "# \n",
    "x[2, 1:]"
   ]
  },
  {
   "cell_type": "markdown",
   "metadata": {
    "colab_type": "text",
    "id": "5mWusWpH6eff"
   },
   "source": [
    "## 1.5 Operations"
   ]
  },
  {
   "cell_type": "code",
   "execution_count": 150,
   "metadata": {
    "colab": {},
    "colab_type": "code",
    "id": "JIDxVUI0nVEY"
   },
   "outputs": [
    {
     "data": {
      "text/plain": [
       "array([0, 1, 2, 3, 4])"
      ]
     },
     "execution_count": 150,
     "metadata": {},
     "output_type": "execute_result"
    }
   ],
   "source": [
    "# Creating the array that we will use below:\n",
    "# \n",
    "a = np.arange(0,5)\n",
    "a"
   ]
  },
  {
   "cell_type": "code",
   "execution_count": 151,
   "metadata": {
    "colab": {},
    "colab_type": "code",
    "id": "YRtb1N4i6hbE"
   },
   "outputs": [
    {
     "name": "stdout",
     "output_type": "stream",
     "text": [
      "[0 2 4 6 8]\n",
      "[0 2 4 6 8]\n"
     ]
    }
   ],
   "source": [
    "# Example 1\n",
    "# Arithmetic Operations\n",
    "# \n",
    "addition_arr = a + a\n",
    "print(addition_arr)\n",
    "\n",
    "subtration_arr = a - a\n",
    "print(addition_arr)"
   ]
  },
  {
   "cell_type": "code",
   "execution_count": 152,
   "metadata": {
    "colab": {},
    "colab_type": "code",
    "id": "33NeFWBs6l13"
   },
   "outputs": [
    {
     "name": "stdout",
     "output_type": "stream",
     "text": [
      "[0.         1.         1.41421356 1.73205081 2.        ]\n",
      "[ 1.          2.71828183  7.3890561  20.08553692 54.59815003]\n"
     ]
    }
   ],
   "source": [
    "# Example 2\n",
    "# Universal Array Functions\n",
    "# \n",
    "\n",
    "# square root\n",
    "sqr_arr = np.sqrt(a)\n",
    "print(sqr_arr)\n",
    "\n",
    "# exponential\n",
    "exp_arr = np.exp(a)\n",
    "print(exp_arr)"
   ]
  },
  {
   "cell_type": "markdown",
   "metadata": {
    "colab_type": "text",
    "id": "RMVtc9Bs7bb6"
   },
   "source": [
    "### <font color=\"green\">1.5 Challenges</font>"
   ]
  },
  {
   "cell_type": "code",
   "execution_count": 158,
   "metadata": {
    "colab": {},
    "colab_type": "code",
    "id": "m8pWm82gkHqk"
   },
   "outputs": [
    {
     "data": {
      "text/plain": [
       "array([ 0,  1,  4,  9, 16])"
      ]
     },
     "execution_count": 158,
     "metadata": {},
     "output_type": "execute_result"
    }
   ],
   "source": [
    "# Challenge 1\n",
    "# Raise the a array created above to the power of 2\n",
    "a * a"
   ]
  },
  {
   "cell_type": "code",
   "execution_count": 159,
   "metadata": {
    "colab": {},
    "colab_type": "code",
    "id": "y1CxcuFj7ehe"
   },
   "outputs": [
    {
     "name": "stderr",
     "output_type": "stream",
     "text": [
      "C:\\Anaconda3\\lib\\site-packages\\ipykernel_launcher.py:5: RuntimeWarning: divide by zero encountered in log\n",
      "  \"\"\"\n"
     ]
    },
    {
     "data": {
      "text/plain": [
       "array([      -inf, 0.        , 0.69314718, 1.09861229, 1.38629436])"
      ]
     },
     "execution_count": 159,
     "metadata": {},
     "output_type": "execute_result"
    }
   ],
   "source": [
    "# Challenge 2\n",
    "# Find the log of a using log(), \n",
    "# the Universal Array Functions\n",
    "#\n",
    "np.log(a)"
   ]
  },
  {
   "cell_type": "code",
   "execution_count": 0,
   "metadata": {
    "colab": {},
    "colab_type": "code",
    "id": "QB-54zeYjWOa"
   },
   "outputs": [],
   "source": [
    "# Challenge 3\n",
    "# This of a dataset then determine where you can use the \n",
    "# numpy concepts that you learnt in this session?\n",
    "# Then explain them to your peer.\n"
   ]
  }
 ],
 "metadata": {
  "colab": {
   "collapsed_sections": [
    "jZatZRIbkDz7",
    "c2bpaw2E1Afv",
    "qcP0FkJq6q-r",
    "BqyScgzc410j",
    "3w2o-QzS60AR",
    "lpP7qc835YZX",
    "vtbzfkVu7A_i",
    "7HM2oS-c6Fyz",
    "FXNTaawR7Lly",
    "5mWusWpH6eff",
    "RMVtc9Bs7bb6"
   ],
   "name": "Python Programming - Numpy Basics",
   "provenance": [],
   "toc_visible": true
  },
  "kernelspec": {
   "display_name": "Python 3",
   "language": "python",
   "name": "python3"
  },
  "language_info": {
   "codemirror_mode": {
    "name": "ipython",
    "version": 3
   },
   "file_extension": ".py",
   "mimetype": "text/x-python",
   "name": "python",
   "nbconvert_exporter": "python",
   "pygments_lexer": "ipython3",
   "version": "3.7.6"
  }
 },
 "nbformat": 4,
 "nbformat_minor": 1
}
