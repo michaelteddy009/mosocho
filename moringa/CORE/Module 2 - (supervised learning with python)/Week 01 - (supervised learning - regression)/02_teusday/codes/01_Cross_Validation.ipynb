{
 "cells": [
  {
   "cell_type": "markdown",
   "metadata": {
    "colab_type": "text",
    "id": "K0O3yu-gZ7Pf"
   },
   "source": [
    "# Examples\n",
    "\n",
    "Let's figure out how to perform k-fold cross validation. For this, we will use the university acceptance dataset from Monday again. If you need to download it again, do so at this [link](https://drive.google.com/open?id=13HPgfc4HP9UP-gHM2lutJ7MXSt-dAL1d)\n",
    "\n",
    "We will first start by creating a multivariate model, and assessing it's accuracy."
   ]
  },
  {
   "cell_type": "code",
   "execution_count": 2,
   "metadata": {
    "colab": {
     "base_uri": "https://localhost:8080/",
     "height": 84
    },
    "colab_type": "code",
    "id": "dqlTEur4ZqR3",
    "outputId": "92482dae-1793-4435-9435-d7e644fe3ab3"
   },
   "outputs": [
    {
     "name": "stdout",
     "output_type": "stream",
     "text": [
      "Mean Absolute Error: 0.0569147221978512\n",
      "Mean Squared Error: 0.00572592647322866\n",
      "Root Mean Squared Error: 0.07566985181185873\n"
     ]
    }
   ],
   "source": [
    "import numpy as np\n",
    "import pandas as pd\n",
    "from sklearn.model_selection import train_test_split\n",
    "from sklearn.linear_model import LinearRegression\n",
    "from sklearn import metrics\n",
    "\n",
    "#load the data\n",
    "data = pd.read_csv('datasets/uni_admission.csv')\n",
    "\n",
    "# We will use 4 independent variables for this\n",
    "X = data[['GRE', 'TOEFL', 'SOP', 'LOR']].values\n",
    "y = data['admit_chance'].values\n",
    "\n",
    "# Train using 80% of the data.\n",
    "X_train, X_test, y_train, y_test = train_test_split(X, y, test_size=0.2, random_state=0)\n",
    "\n",
    "# find optimal coefficients and intercept\n",
    "regressor = LinearRegression()  \n",
    "regressor.fit(X_train, y_train)\n",
    "\n",
    "# assess the accuraccy of the model\n",
    "y_pred = regressor.predict(X_test)\n",
    "\n",
    "print('Mean Absolute Error:', metrics.mean_absolute_error(y_test, y_pred))  \n",
    "print('Mean Squared Error:', metrics.mean_squared_error(y_test, y_pred))  \n",
    "print('Root Mean Squared Error:', np.sqrt(metrics.mean_squared_error(y_test, y_pred)))\n"
   ]
  },
  {
   "cell_type": "markdown",
   "metadata": {
    "colab_type": "text",
    "id": "ESw9pMSei0zc"
   },
   "source": [
    "Running the code above should yield an RMSE of ~ 0.0756. Let's now cross validate our model by using k-fold cross validation. We will use 5 folds for this example, and follow the documentation from [sklearn](https://https://scikit-learn.org/stable/modules/generated/sklearn.model_selection.KFold.html)"
   ]
  },
  {
   "cell_type": "code",
   "execution_count": 4,
   "metadata": {
    "colab": {
     "base_uri": "https://localhost:8080/",
     "height": 302
    },
    "colab_type": "code",
    "id": "0sNT9ZX1jEEg",
    "outputId": "76ce54c6-9fb4-4007-bc83-6bc5702d233d"
   },
   "outputs": [
    {
     "name": "stdout",
     "output_type": "stream",
     "text": [
      "we are using 5 folds\n",
      "\n",
      "Training model 1\n",
      "Model 1 Root Mean Squared Error: 0.11384971151782937\n",
      "\n",
      "Training model 2\n",
      "Model 2 Root Mean Squared Error: 0.0627939188578753\n",
      "\n",
      "Training model 3\n",
      "Model 3 Root Mean Squared Error: 0.05049941911260591\n",
      "\n",
      "Training model 4\n",
      "Model 4 Root Mean Squared Error: 0.06680059377472894\n",
      "\n",
      "Training model 5\n",
      "Model 5 Root Mean Squared Error: 0.05995110606834263\n"
     ]
    }
   ],
   "source": [
    "from sklearn.model_selection import KFold\n",
    "\n",
    "# We will use the same 4 independent variables for this\n",
    "X = data[['GRE', 'TOEFL', 'SOP', 'LOR']].values\n",
    "y = data['admit_chance'].values\n",
    "\n",
    "folds = KFold(n_splits=5)\n",
    "\n",
    "# note that if you have a KFold object, you can figure out how many folds you set up \n",
    "# for it using get_n_splits\n",
    "print('we are using ' +str(folds.get_n_splits(X)) + ' folds')\n",
    "\n",
    "# We now create and assess 5 models based on the folds we created.\n",
    "RMSES = [] # We will use this array to keep track of the RSME of each model\n",
    "count = 1 # This will just help \n",
    "for train_index, test_index in folds.split(X):\n",
    "  print('\\nTraining model ' + str(count))\n",
    "  \n",
    "  # set up the train and test based on the split determined by KFold\n",
    "  # With 5 folds, we will end up with 80% of our data in the training set, and 20% in the test set, just as above\n",
    "  X_train, X_test = X[train_index], X[test_index]\n",
    "  y_train, y_test = y[train_index], y[test_index]\n",
    "  \n",
    "  # fit a model accordingly\n",
    "  regressor = LinearRegression()  \n",
    "  regressor.fit(X_train, y_train)\n",
    "  \n",
    "  # assess the accuraccy of the model\n",
    "  y_pred = regressor.predict(X_test)\n",
    "  \n",
    "  rmse_value =  np.sqrt(metrics.mean_squared_error(y_test, y_pred))\n",
    "  RMSES.append(rmse_value)\n",
    "  \n",
    "  print('Model ' + str(count) + ' Root Mean Squared Error:',rmse_value)\n",
    "  count = count + 1"
   ]
  },
  {
   "cell_type": "markdown",
   "metadata": {
    "colab_type": "text",
    "id": "9Knvg9a4oAYy"
   },
   "source": [
    "As you can tell from running the code, the RMSE value for our first model is fairly larger than the RMSE we found initially, and that of the other models. This would beg for an analysis of the specific indeces used. Perhaps most of the dataset's outliers were in the test set of model 1? as a challenge, perform a comparative analysis of the subset of the data used to test model 1 in comparison with the dataset as a whole.\n",
    "\n",
    "Another useful observation is comparing the average RMSE value of all these models to the one we obtain in our initial approache. We created the array RMSES to gather all the RMSE values, we can compute the average simply as follows"
   ]
  },
  {
   "cell_type": "code",
   "execution_count": 3,
   "metadata": {
    "colab": {
     "base_uri": "https://localhost:8080/",
     "height": 34
    },
    "colab_type": "code",
    "id": "S5-JhbCFqHjx",
    "outputId": "dd29bacc-c4f7-4319-f403-9b10f294364c"
   },
   "outputs": [
    {
     "data": {
      "text/plain": [
       "0.07077894986627642"
      ]
     },
     "execution_count": 3,
     "metadata": {},
     "output_type": "execute_result"
    }
   ],
   "source": [
    "np.mean(RMSES)"
   ]
  },
  {
   "cell_type": "markdown",
   "metadata": {
    "colab_type": "text",
    "id": "CrNsYyAMqLy8"
   },
   "source": [
    "As you can see, the average is fairly close to our initial value. However in this case, it might be worthwile to pick model 3 instead. \n",
    "\n",
    "Let's now highlight some variants of k-folds. A popular variant is called the leave one out cross validation, where the test data is just a single observation from your set. For a dataset of size **n**, this is the same as using kfold to create **n** folds. \n"
   ]
  },
  {
   "cell_type": "code",
   "execution_count": 4,
   "metadata": {
    "colab": {
     "base_uri": "https://localhost:8080/",
     "height": 67
    },
    "colab_type": "code",
    "id": "_LKjU1x7sOK_",
    "outputId": "e8b1f8cd-2099-45fe-dcab-aba2798b4262"
   },
   "outputs": [
    {
     "name": "stdout",
     "output_type": "stream",
     "text": [
      "we are using 500 folds\n",
      "trained 500 models\n"
     ]
    },
    {
     "data": {
      "text/plain": [
       "0.05209496129447929"
      ]
     },
     "execution_count": 4,
     "metadata": {},
     "output_type": "execute_result"
    }
   ],
   "source": [
    "from sklearn.model_selection import LeaveOneOut\n",
    "\n",
    "# We will use the same 4 independent variables for this\n",
    "X = data[['GRE', 'TOEFL', 'SOP', 'LOR']].values\n",
    "y = data['admit_chance'].values\n",
    "\n",
    "folds = LeaveOneOut()\n",
    "\n",
    "# note that if you have a KFold object, you can figure out how many folds you set up \n",
    "# for it using get_n_splits\n",
    "print('we are using ' +str(folds.get_n_splits(X)) + ' folds')\n",
    "\n",
    "# We now create and assess 5 models based on the folds we created.\n",
    "RMSES = [] # We will use this array to keep track of the RSME of each model\n",
    "count = 0 # This will just help \n",
    "for train_index, test_index in folds.split(X):\n",
    "  \n",
    "  # set up the train and test based on the split determined by KFold\n",
    "  # With 5 folds, we will end up with 80% of our data in the training set, and 20% in the test set, just as above\n",
    "  X_train, X_test = X[train_index], X[test_index]\n",
    "  y_train, y_test = y[train_index], y[test_index]\n",
    "  \n",
    "  # fit a model accordingly\n",
    "  regressor = LinearRegression()  \n",
    "  regressor.fit(X_train, y_train)\n",
    "  \n",
    "  # assess the accuraccy of the model\n",
    "  y_pred = regressor.predict(X_test)\n",
    "  \n",
    "  rmse_value =  np.sqrt(metrics.mean_squared_error(y_test, y_pred))\n",
    "  RMSES.append(rmse_value)\n",
    "  \n",
    "  count = count + 1\n",
    "print('trained ' + str(count) + ' models' )\n",
    "np.mean(RMSES)"
   ]
  },
  {
   "cell_type": "markdown",
   "metadata": {
    "colab_type": "text",
    "id": "E8HOD6gpuVyA"
   },
   "source": [
    "In this scenario it is also helpful to plot out the RMSE values across all models:"
   ]
  },
  {
   "cell_type": "code",
   "execution_count": 5,
   "metadata": {
    "colab": {
     "base_uri": "https://localhost:8080/",
     "height": 283
    },
    "colab_type": "code",
    "id": "sGe1ELsCuf3B",
    "outputId": "7237858a-0929-4cb5-f3f9-86e116160de0"
   },
   "outputs": [
    {
     "data": {
      "image/png": "[encoded data removed]",
      "text/plain": [
       "<Figure size 432x288 with 1 Axes>"
      ]
     },
     "metadata": {
      "needs_background": "light"
     },
     "output_type": "display_data"
    }
   ],
   "source": [
    "import matplotlib.pyplot as plt\n",
    "\n",
    "plt.plot(RMSES, color='red')\n",
    "plt.ylabel('RMSE value')\n",
    "plt.xlabel('model ID')\n",
    "plt.show()"
   ]
  },
  {
   "cell_type": "markdown",
   "metadata": {
    "colab_type": "text",
    "id": "GqXlrIdrwBWY"
   },
   "source": [
    "All in all, this indicates to us that it would be challenging to create a model that beats the ~0.05 average RMSE using this dataset. This is the benefit of using Leave One Out Cross validation: It gives us a sense of how best we can expect a given model to be using our dataset. Note however that this can be an extremely time consuming process for large datasets."
   ]
  },
  {
   "cell_type": "markdown",
   "metadata": {
    "colab_type": "text",
    "id": "rnkGt08gwal2"
   },
   "source": [
    "# Challenge 1\n",
    "\n",
    "Revisit yesterday's challenge on wine quality, and use k-folds cross validation with 10 folds. Was your model good enough? Could you find a better performing model?\n",
    "\n",
    "([Dataset link here](https://colab.research.google.com/drive/1IKt0hW3aWrKNwB0xxOQGjjWC8h3t_G8Q?authuser=1#scrollTo=-erZrimA8qNm))"
   ]
  },
  {
   "cell_type": "code",
   "execution_count": null,
   "metadata": {
    "colab": {},
    "colab_type": "code",
    "id": "FpArGGFMwuxP"
   },
   "outputs": [],
   "source": [
    "# YOUR CODE GOES HERE"
   ]
  },
  {
   "cell_type": "markdown",
   "metadata": {
    "colab_type": "text",
    "id": "CzunZqz8wvnh"
   },
   "source": [
    "# Challenge 2\n",
    "Another common variant of kfold is repeated kfold cross validation. This means that the folding and training processes get repeated several times, shuffling the dataset at each instance.\n",
    "\n",
    "Read up n how to perform repeated kfold [here](https://scikit-learn.org/stable/modules/generated/sklearn.model_selection.RepeatedKFold.html#sklearn.model_selection.RepeatedKFold) \n",
    " \n",
    "Then, create a model to predict university admission again, this time using all independent varible, and krepeated kfold of your choice. Can you improve on the results without cross validation? Can you improve on the results from the Leave One Out cross validation?\n",
    "\n"
   ]
  },
  {
   "cell_type": "code",
   "execution_count": null,
   "metadata": {
    "colab": {},
    "colab_type": "code",
    "id": "hI2yCfnpEcQG"
   },
   "outputs": [],
   "source": [
    "# YOUR CODE GOES HERE\n"
   ]
  }
 ],
 "metadata": {
  "colab": {
   "collapsed_sections": [],
   "name": " Cross Validation.ipynb",
   "provenance": []
  },
  "kernelspec": {
   "display_name": "Python 3",
   "language": "python",
   "name": "python3"
  },
  "language_info": {
   "codemirror_mode": {
    "name": "ipython",
    "version": 3
   },
   "file_extension": ".py",
   "mimetype": "text/x-python",
   "name": "python",
   "nbconvert_exporter": "python",
   "pygments_lexer": "ipython3",
   "version": "3.7.6"
  }
 },
 "nbformat": 4,
 "nbformat_minor": 1
}
