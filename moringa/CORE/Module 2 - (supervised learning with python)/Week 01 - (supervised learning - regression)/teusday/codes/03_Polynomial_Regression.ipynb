{
 "cells": [
  {
   "cell_type": "markdown",
   "metadata": {
    "colab_type": "text",
    "id": "X6fnxjPMh87f"
   },
   "source": [
    "# <font color=\"green\">Polynomial Regression in Python</font>"
   ]
  },
  {
   "cell_type": "markdown",
   "metadata": {
    "colab_type": "text",
    "id": "cQrBa1eIxgNj"
   },
   "source": [
    "# <font color=\"green\">Example 1</font> \n"
   ]
  },
  {
   "cell_type": "markdown",
   "metadata": {
    "colab_type": "text",
    "id": "DONC8-1iyE9D"
   },
   "source": [
    "Let's look at a practical way of performing a polynomial regression.\n",
    "\n",
    "In this example we are going to predict the salary of a candidate given the experience the candidate has. The HR of Sanford and Sons Limited, is looking to hire for a senior postion in the company. As a policy, the company has a salary distribution dataset that they use to determine how much salary to give to their employees based on their experience. As a data scientist, you are tasked creating a model that will help them with making salary predictions given  years of experience. In this case, we want to predict the amount of salary a canditate with 6 and half years of experience should get. You are provided with following dataset.\n",
    "\n",
    "[Download Dataset](https://drive.google.com/file/d/153tLxmGZxDhVmh2o0wUP8UjFPZPmW0Ux/view?usp=sharing)"
   ]
  },
  {
   "cell_type": "markdown",
   "metadata": {
    "colab_type": "text",
    "id": "mJfuckv17tQQ"
   },
   "source": [
    "**Import Libraries**"
   ]
  },
  {
   "cell_type": "code",
   "execution_count": 1,
   "metadata": {
    "colab": {},
    "colab_type": "code",
    "id": "hcEDgdZd72YS"
   },
   "outputs": [],
   "source": [
    "#Import libaries\n",
    "import numpy as np\n",
    "import pandas as pd\n",
    "import matplotlib.pyplot as plt\n",
    "\n",
    "from sklearn.preprocessing import PolynomialFeatures\n",
    "\n",
    "from sklearn.model_selection import train_test_split\n",
    "\n",
    "# Import LinearRegression method from sklearn linear_model library\n",
    "from sklearn.linear_model import LinearRegression\n"
   ]
  },
  {
   "cell_type": "markdown",
   "metadata": {
    "colab_type": "text",
    "id": "9xnxzHXf8ZTP"
   },
   "source": [
    "**Load data**"
   ]
  },
  {
   "cell_type": "code",
   "execution_count": 3,
   "metadata": {
    "colab": {},
    "colab_type": "code",
    "id": "FUXiOEgg8jPp"
   },
   "outputs": [
    {
     "name": "stdout",
     "output_type": "stream",
     "text": [
      "            Position  Level   Salary\n",
      "0   Business Analyst      1    45000\n",
      "1  Junior Consultant      2    50000\n",
      "2  Senior Consultant      3    60000\n",
      "3            Manager      4    80000\n",
      "4    Country Manager      5   110000\n",
      "5     Region Manager      6   150000\n",
      "6            Partner      7   200000\n",
      "7     Senior Partner      8   300000\n",
      "8            C-level      9   500000\n",
      "9                CEO     10  1000000\n",
      "[[ 1]\n",
      " [ 2]\n",
      " [ 3]\n",
      " [ 4]\n",
      " [ 5]\n",
      " [ 6]\n",
      " [ 7]\n",
      " [ 8]\n",
      " [ 9]\n",
      " [10]]\n",
      "[  45000   50000   60000   80000  110000  150000  200000  300000  500000\n",
      " 1000000]\n"
     ]
    }
   ],
   "source": [
    "# Load the dataset\n",
    "dataset = pd.read_csv('datasets/position_salaries.csv')\n",
    "\n",
    "print(dataset)\n",
    "\n",
    "#Get the 2 and the last column from the dataset \n",
    "X = dataset.iloc[:, 1:2].values\n",
    "y = dataset.iloc[:, 2].values\n",
    "print(X)\n",
    "print(y)"
   ]
  },
  {
   "cell_type": "markdown",
   "metadata": {
    "colab_type": "text",
    "id": "miJnKMeV9CTU"
   },
   "source": [
    "**Analysis of the data**"
   ]
  },
  {
   "cell_type": "code",
   "execution_count": 4,
   "metadata": {
    "colab": {},
    "colab_type": "code",
    "id": "eyc8b6Dq-FQC"
   },
   "outputs": [
    {
     "data": {
      "image/png": "[encoded data removed]",
      "text/plain": [
       "<Figure size 432x288 with 1 Axes>"
      ]
     },
     "metadata": {
      "needs_background": "light"
     },
     "output_type": "display_data"
    }
   ],
   "source": [
    "# Since our dataset is pretty clean, let's start by visualizing our dataset by plotting a scatter plot\n",
    "\n",
    "plt.scatter(X, y, color='blue') \n",
    "plt.title('Salary')\n",
    "plt.xlabel('Position Level')\n",
    "plt.ylabel('Salary')\n",
    "plt.show()"
   ]
  },
  {
   "cell_type": "markdown",
   "metadata": {
    "colab_type": "text",
    "id": "n3Nm7UEW_Zvz"
   },
   "source": [
    "**Observation**\n",
    "\n",
    "From the scatter plot, the data does not appear to be linear. So if were to fit a simple linear straight line, it would not cover most of the points. Which is why applying Linear regression on this dataset would not give us the correct value.\n",
    "\n",
    "The other alternative we are left with is applying polynomial regression.\n",
    "\n",
    "**Manual prediction**\n",
    "\n",
    "Before we dive into polynomial regression, let's do some manual prediction of own and then we can compare the results we get to the results we'll get after doing polynomial regression in a short while.\n",
    "\n",
    "From our problem statement, we need to predict the salary of a candidate with 6.5 years of experience. From our dataset, we already know the salary for  candidates with 6 and 7 years of experience which is Ksh 150,000 and Ksh 200,000 respectively.This means that the salary for a candidate with 6.5 years of experience lies between this two years.Therefore, all we need to do is get the mean of this two years, right?\n",
    "\n",
    "(150,000 + 200,000)/ 2 = KSh 175,000\n",
    "\n",
    "From this, we can conclude that the desired salary is 175,000\n",
    "\n",
    "Now let's do it using polynomial regression "
   ]
  },
  {
   "cell_type": "markdown",
   "metadata": {
    "colab_type": "text",
    "id": "wz5qKJgkFcZB"
   },
   "source": [
    "**Polynomial Regression**"
   ]
  },
  {
   "cell_type": "code",
   "execution_count": null,
   "metadata": {
    "colab": {},
    "colab_type": "code",
    "id": "eGVsFvrKKF9N"
   },
   "outputs": [],
   "source": [
    "# Split the dataset into train and test sets\n",
    "X_train, Y_train, X_test, Y_test = train_test_split(X,y, test_size = 0.2, random_state=0)\n",
    "\n",
    "\n",
    "# Fit Linear Regression model to the dataset(this is optional. We are doing this for the sole purpose of comparing the linear regression model to the polynomial regression model)\n",
    "reg_line = LinearRegression()\n",
    "reg_line.fit(X,y)\n",
    "\n",
    "# Visualize the Linear Regression results\n",
    "plt.scatter(X, y, color='blue') # You can put any color you like. This just helps us highlight the data points\n",
    "plt.plot(X, reg_line.predict(X), color='red')\n",
    "plt.title('Salary Prediction(Linear Regression)')\n",
    "plt.xlabel('Position Level')\n",
    "plt.ylabel('Salary')\n",
    "plt.show()\n",
    "\n",
    "\n",
    "# Fit polynomial Regression to the dataset\n",
    "poly_reg = PolynomialFeatures(degree = 2) \n",
    "X_poly = poly_reg.fit_transform(X)\n",
    "\n",
    "\n",
    "pol_reg = LinearRegression()\n",
    "pol_reg.fit(X_poly, y)\n",
    "\n",
    "#Visualize the Polynomial Regression results\n",
    "plt.scatter(X, y, color='blue') # You can put any color you like. This just helps us highlight the data points\n",
    "plt.plot(X, pol_reg.predict(X_poly), color='red')\n",
    "plt.title('Salary Prediction (Polynomial Regression)')\n",
    "plt.xlabel('Position Level')\n",
    "plt.ylabel('Salary')\n",
    "plt.show()\n",
    "\n",
    "# pol_reg.predict(poly_reg.fit_transform([[5.5]]))\n",
    "\n",
    "\n"
   ]
  },
  {
   "cell_type": "markdown",
   "metadata": {
    "colab_type": "text",
    "id": "dC1ZQqSaIZoZ"
   },
   "source": [
    "**Code Explanation**\n",
    " \n",
    "Remember earlier on we said that a polynomial equation is written in the form;\n",
    "\n",
    "y = b0+b1x+b2x^2.....bnx^n\n",
    "\n",
    "Therefore,everytime we add an  nth degree of polynomial x its considered as though we are adding a feature.\n",
    "\n",
    "So the function \n",
    "\n",
    "\n",
    "```\n",
    "PolynomialFeatures(degree = 2)\n",
    "```\n",
    "\n",
    "\n",
    "helps us to add the degree polynomial x.For example, in our code we have specified the degree to be 2 hence the equation would look like this\n",
    "\n",
    "y = b0+b1x+b2x^2\n",
    "\n",
    "\n",
    "On the next line, we fit and transform our X independent variable into a format that has the polynomial features\n",
    "\n",
    "Next, we apply our polynomial feature to linear regression. \n",
    "\n"
   ]
  },
  {
   "cell_type": "markdown",
   "metadata": {
    "colab_type": "text",
    "id": "kXwqH8BhW8OF"
   },
   "source": [
    "**Observation**\n",
    "\n",
    "Looking at the two graphs, we can clearly see that the polynomial graph has given us way better results than the simple linear one.\n",
    "\n",
    "Using the polynomial graph it becomes easier to draw meaningful conclusion from it. However, the curve is not passing through as many points as we'd want hence we can say that this graph is not fully optimized."
   ]
  },
  {
   "cell_type": "markdown",
   "metadata": {
    "colab_type": "text",
    "id": "-sKhhgoCZN5Q"
   },
   "source": [
    "**Optimization in Polynomial Regression**\n",
    "\n",
    "How do we choose an optimal model?\n",
    "\n",
    "For us to answer this question, we need to first understand this 3 very important terms\n",
    "\n",
    "\n",
    "1.   Bias\n",
    "2.   Variance\n",
    "\n",
    "\n",
    "**Bias**: This is the error we get due to the model's simplistic assumptions when fitting a dataset. In other words, a high bias translates to the model being unable to capture the pattern in a dataset. As a result, it leads to **under-fitting**. A perfect example is when we tried to use simple linear regression in our dataset.\n",
    "\n",
    "**Variance**: Unlike bias, this is the error we get due to trying to fit a complex model to our data. A high variance translates to the model passing through most of the data points, leading to **over-fitting**. This is not good because the model will fail to generalise on unseen data. This means that if we subject the model to another dataset it will fail to fit the pattern . \n",
    "\n",
    "Therefore, for us to choose an optimal model the model needs to have a low bias and a low varinace.That is to say the model should not capture too many data points and at the same time its should not capture very few data points. \n",
    "\n",
    "So now let's optimize our model\n",
    "\n",
    "\n",
    "\n"
   ]
  },
  {
   "cell_type": "code",
   "execution_count": null,
   "metadata": {
    "colab": {},
    "colab_type": "code",
    "id": "p1IBBtLAg6RW"
   },
   "outputs": [],
   "source": [
    "# To improve on the model, all we need to do is to increase degree of the polynomial\n",
    "# Let's increase the degree to 3\n",
    "\n",
    "# Fit polynomial Regression to the dataset\n",
    "poly_reg = PolynomialFeatures(degree = 3) \n",
    "X_poly = poly_reg.fit_transform(X)\n",
    "\n",
    "\n",
    "pol_reg = LinearRegression()\n",
    "pol_reg.fit(X_poly, y)\n",
    "\n",
    "#Visualize the Polynomial Regression results\n",
    "plt.scatter(X, y, color='blue') # You can put any color you like. This just helps us highlight the data points\n",
    "plt.plot(X, pol_reg.predict(X_poly), color='red')\n",
    "plt.title('Salary Prediction (Polynomial Regression)')\n",
    "plt.xlabel('Position Level')\n",
    "plt.ylabel('Salary')\n",
    "plt.show()"
   ]
  },
  {
   "cell_type": "markdown",
   "metadata": {
    "colab_type": "text",
    "id": "7jmdajSDiq1m"
   },
   "source": [
    "**Observation**\n",
    "\n",
    "When we increase the degree to 3, the curve captures slightly more data points."
   ]
  },
  {
   "cell_type": "code",
   "execution_count": null,
   "metadata": {
    "colab": {},
    "colab_type": "code",
    "id": "cYNew_n7jL1d"
   },
   "outputs": [],
   "source": [
    "# Let's improve it the model further\n",
    "\n",
    "# Fit polynomial Regression to the dataset\n",
    "poly_reg = PolynomialFeatures(degree = 6) \n",
    "X_poly = poly_reg.fit_transform(X)\n",
    "\n",
    "\n",
    "pol_reg = LinearRegression()\n",
    "pol_reg.fit(X_poly, y)\n",
    "\n",
    "#Visualize the Polynomial Regression results\n",
    "plt.scatter(X, y, color='blue') # You can put any color you like. This just helps us highlight the data points\n",
    "plt.plot(X, pol_reg.predict(X_poly), color='red')\n",
    "plt.title('Salary Prediction (Polynomial Regression)')\n",
    "plt.xlabel('Position Level')\n",
    "plt.ylabel('Salary')\n",
    "plt.show()"
   ]
  },
  {
   "cell_type": "markdown",
   "metadata": {
    "colab_type": "text",
    "id": "18OUnCvNjcm-"
   },
   "source": [
    "**Observation**\n",
    "\n",
    "When we increase the degree to 6, the model is able to capture all of the data points. This is an example of over-fitting. This model is simply too perfect which is not good for us when we using an unseen data."
   ]
  },
  {
   "cell_type": "code",
   "execution_count": null,
   "metadata": {
    "colab": {},
    "colab_type": "code",
    "id": "x77UTOG1kNN2"
   },
   "outputs": [],
   "source": [
    "# Now we know where our cap is, let's decrease the degrees slightly \n",
    "\n",
    "# Fit polynomial Regression to the dataset\n",
    "poly_reg_4 = PolynomialFeatures(degree = 4) \n",
    "X_poly = poly_reg_4.fit_transform(X)\n",
    "\n",
    "\n",
    "pol_reg = LinearRegression()\n",
    "pol_reg.fit(X_poly, y)\n",
    "\n",
    "#Visualize the Polynomial Regression results\n",
    "plt.scatter(X, y, color='blue') # You can put any color you like. This just helps us highlight the data points\n",
    "plt.plot(X, pol_reg.predict(X_poly), color='red')\n",
    "plt.title('Salary Prediction (Polynomial Regression)')\n",
    "plt.xlabel('Position Level')\n",
    "plt.ylabel('Salary')\n",
    "plt.show()"
   ]
  },
  {
   "cell_type": "markdown",
   "metadata": {
    "colab_type": "text",
    "id": "OiQRbRSSk0EF"
   },
   "source": [
    "**Obsevartion**\n",
    "\n",
    "We can conclude that this is a pretty good model because it passes just about the right amoung of points and also the  distance from the curve to the points that it does not pass through is at a minimum. Hence, we can use this model to make our predictions."
   ]
  },
  {
   "cell_type": "markdown",
   "metadata": {
    "colab_type": "text",
    "id": "8IABpBSZuW1g"
   },
   "source": [
    "**Making Predictions**\n",
    "\n",
    "The final step is use the model we created to make the our desired prediction.\n",
    "\n",
    "To check how accurate polynomial regression is, we are going to predict the salary using both linear regression and polynomial regression"
   ]
  },
  {
   "cell_type": "code",
   "execution_count": null,
   "metadata": {
    "colab": {},
    "colab_type": "code",
    "id": "kR-M0RXZweuX"
   },
   "outputs": [],
   "source": [
    "# Predict using linear regression\n",
    "lin_pred = reg_line.predict([[6.5]])\n",
    "print('Linear prediction: %d' %lin_pred)\n",
    "\n",
    "# Predict using Polynomial Regression\n",
    "poly_pred = pol_reg.predict(poly_reg_4.fit_transform([[6.5]]))\n",
    "print('Polynomial prediction: %d' %poly_pred)\n",
    "\n",
    "# We can also get the predictions as an array\n",
    "poly_arr_pred = pol_reg.predict(poly_reg_4.fit_transform(X))"
   ]
  },
  {
   "cell_type": "markdown",
   "metadata": {
    "colab_type": "text",
    "id": "7aKkBsgnFnNs"
   },
   "source": [
    "**Conclusion**\n",
    "\n",
    "The predicted salary using linear regression is Ksh 330,379. This is not accepteable because it falls out of the range Ksh 150,000 and 200,000.\n",
    "\n",
    "On the other hand,the predicted salary using polynomial regression is Ksh 158,862"
   ]
  },
  {
   "cell_type": "markdown",
   "metadata": {
    "colab_type": "text",
    "id": "fv9VRI1n9pIb"
   },
   "source": [
    "# <font color=\"green\">Challenges</font>\n"
   ]
  },
  {
   "cell_type": "code",
   "execution_count": null,
   "metadata": {
    "colab": {},
    "colab_type": "code",
    "id": "gHJa-iFU91TH"
   },
   "outputs": [],
   "source": [
    "# Challenge 1\n",
    "# You are given a dataset that contains the prices and other attributes of diamonds. The dataset has 9 columns: Carat, color, cut, clarity, depth, table, price, x, y, z.\n",
    "# carat: Carat weight of the diamond\n",
    "# cut: Describes cut quality of the diamond. Quality in increasing order Fair, Good, Very Good, Premium, Ideal\n",
    "# color: Color of the diamond, with D being the best and J the worst\n",
    "# clarity: How obvious inclusions are within the diamond:(in order from best to worst, FL = flawless, I3= level 3 inclusions) FL,IF, VVS1, VVS2, VS1, VS2, SI1, SI2, I1, I2, I3\n",
    "# depth % :The height of a diamond, measured from the culet to the table, divided by its average girdle diameter\n",
    "# table %: The width of the diamond's table expressed as a percentage of its average diameter\n",
    "# price: The price of the diamond\n",
    "# x: length mm\n",
    "# y: width mm\n",
    "# z: depth mm\n",
    "# Your task is to predict the prices of diamonds given carat weight\n",
    "# Here is the dataset: https://drive.google.com/file/d/1lSgupNhVwXzR9aXbz2G0VwKQGEpx6pFl/view?usp=sharing\n",
    "\n",
    "Your code goes here"
   ]
  },
  {
   "cell_type": "code",
   "execution_count": null,
   "metadata": {
    "colab": {},
    "colab_type": "code",
    "id": "Ezh0hqhRNSwE"
   },
   "outputs": [],
   "source": [
    "# Challenge 2\n",
    "# The dataset for this challenge represents the physicochemical tests of wine and the quality of wine as a result of these physicochemical tests. Here's a brief description of the columns\n",
    "# volatile acidity: The amount of acetic acid in wine, which at too high of levels can lead to an unpleasant, vinegar taste\n",
    "# citric acid: Found in small quantities, citric acid can add 'freshness' and flavor to wines\n",
    "# residual sugar: The amount of sugar remaining after fermentation stops, it's rare to find wines with less than 1 gram/liter and wines with greater than 45 grams/liter are considered sweet\n",
    "# chlorides: The amount of salt in the wine\n",
    "# free sulfur dioxide: The free form of SO2 exists in equilibrium between molecular SO2 (as a dissolved gas) and bisulfite ion; it prevents microbial growth and the oxidation of wine\n",
    "# total sulfur dioxide: Amount of free and bound forms of S02; in low concentrations, SO2 is mostly undetectable in wine, but at free SO2 concentrations over 50 ppm, SO2 becomes evident in the nose and taste of wine\n",
    "# density: The density of water is close to that of water depending on the percent alcohol and sugar content\n",
    "# pH: Describes how acidic or basic a wine is on a scale from 0 (very acidic) to 14 (very basic); most wines are between 3-4 on the pH scale\n",
    "# sulphates: A wine additive which can contribute to sulfur dioxide gas (S02) levels, wich acts as an antimicrobial and antioxidant\n",
    "# alcohol: The percent alcohol content of the wine\n",
    "# quality: Output variable (based on sensory data, score between 0 and 10)\n",
    "\n",
    "# Here is a link to the dataset: https://drive.google.com/open?id=1cctsp46KVzNKGAK0kLl3mY6wRTDlUBp4\n",
    "\n",
    "# Use polynomial regression to predict quality of wine using the physiochemical tests\n",
    "\n",
    "# Hint:Try to get how well your model has been fitted using RMSE without necessarily plotting a graph\n",
    "\n",
    "Your code goes here"
   ]
  }
 ],
 "metadata": {
  "colab": {
   "name": "Polynomial Regression.ipynb",
   "provenance": [],
   "toc_visible": true
  },
  "kernelspec": {
   "display_name": "Python 3",
   "language": "python",
   "name": "python3"
  },
  "language_info": {
   "codemirror_mode": {
    "name": "ipython",
    "version": 3
   },
   "file_extension": ".py",
   "mimetype": "text/x-python",
   "name": "python",
   "nbconvert_exporter": "python",
   "pygments_lexer": "ipython3",
   "version": "3.7.6"
  }
 },
 "nbformat": 4,
 "nbformat_minor": 1
}
