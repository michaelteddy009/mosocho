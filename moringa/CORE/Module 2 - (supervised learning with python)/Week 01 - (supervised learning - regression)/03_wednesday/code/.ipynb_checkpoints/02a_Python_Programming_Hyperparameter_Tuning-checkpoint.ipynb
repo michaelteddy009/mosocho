{
 "cells": [
  {
   "cell_type": "markdown",
   "metadata": {
    "colab_type": "text",
    "id": "CJJg9mmkbkJp"
   },
   "source": [
    "<font color=\"green\">*To start working on this notebook, or any other notebook that we will use in the Moringa Data Science Course, we will need to save our own copy of it. We can do this by clicking File > Save a Copy in Drive. We will then be able to make edits to our own copy of this notebook.*</font>"
   ]
  },
  {
   "cell_type": "markdown",
   "metadata": {
    "colab_type": "text",
    "id": "zr4nYa0hTVNa"
   },
   "source": [
    "# Python Programming: Hyperparameter Tuning"
   ]
  },
  {
   "cell_type": "markdown",
   "metadata": {
    "colab_type": "text",
    "id": "BdY9L9p3TYdM"
   },
   "source": [
    "## Example "
   ]
  },
  {
   "cell_type": "code",
   "execution_count": 1,
   "metadata": {
    "colab": {},
    "colab_type": "code",
    "id": "oQ23qjHdTR1o"
   },
   "outputs": [],
   "source": [
    "# Loading libraries\n",
    "import numpy as np\n",
    "from sklearn import linear_model, datasets\n",
    "from sklearn.model_selection import GridSearchCV"
   ]
  },
  {
   "cell_type": "code",
   "execution_count": null,
   "metadata": {
    "colab": {},
    "colab_type": "code",
    "id": "23g_pOAETd-0"
   },
   "outputs": [],
   "source": [
    "# Loading data\n",
    "iris = datasets.load_iris()\n",
    "X = iris.data\n",
    "y = iris.target"
   ]
  },
  {
   "cell_type": "code",
   "execution_count": null,
   "metadata": {
    "colab": {},
    "colab_type": "code",
    "id": "6ssR6UH9TioF"
   },
   "outputs": [],
   "source": [
    "# Creating the logistic regression\n",
    "logistic = linear_model.LogisticRegression()"
   ]
  },
  {
   "cell_type": "code",
   "execution_count": null,
   "metadata": {
    "colab": {},
    "colab_type": "code",
    "id": "to9HNkYpTl6Q"
   },
   "outputs": [],
   "source": [
    "# Creating regularization penalty space\n",
    "penalty = ['l1', 'l2']\n",
    "\n",
    "# Creating regularization hyperparameter space\n",
    "C = np.logspace(0, 4, 10)\n",
    "\n",
    "# Creating hyperparameter options\n",
    "hyperparameters = dict(C=C, penalty=penalty)"
   ]
  },
  {
   "cell_type": "code",
   "execution_count": null,
   "metadata": {
    "colab": {},
    "colab_type": "code",
    "id": "6yjW29NJTyvk"
   },
   "outputs": [],
   "source": [
    "# Creating grid search using 5-fold cross validation\n",
    "clf = GridSearchCV(logistic, hyperparameters, cv=5, verbose=0)"
   ]
  },
  {
   "cell_type": "code",
   "execution_count": null,
   "metadata": {
    "colab": {},
    "colab_type": "code",
    "id": "x8mM5t73T1jp"
   },
   "outputs": [],
   "source": [
    "# Fitting grid search\n",
    "best_model = clf.fit(X, y)"
   ]
  },
  {
   "cell_type": "code",
   "execution_count": null,
   "metadata": {
    "colab": {},
    "colab_type": "code",
    "id": "XmsJNimlT4DI"
   },
   "outputs": [],
   "source": [
    "# Viewing best hyperparameters\n",
    "print('Best Penalty:', best_model.best_estimator_.get_params()['penalty'])\n",
    "print('Best C:', best_model.best_estimator_.get_params()['C'])"
   ]
  },
  {
   "cell_type": "code",
   "execution_count": null,
   "metadata": {
    "colab": {},
    "colab_type": "code",
    "id": "_VEWKlpuT7Up"
   },
   "outputs": [],
   "source": [
    "# Predicting target vector\n",
    "best_model.predict(X)"
   ]
  },
  {
   "cell_type": "markdown",
   "metadata": {
    "colab_type": "text",
    "id": "HE6MLrrUUrJt"
   },
   "source": [
    "## <font color=\"green\">Challenge 1</font>"
   ]
  },
  {
   "cell_type": "code",
   "execution_count": null,
   "metadata": {
    "colab": {},
    "colab_type": "code",
    "id": "I_rcyXCCUw8Z"
   },
   "outputs": [],
   "source": [
    "# Challenge 1\n",
    "# ---\n",
    "# Create a linear logistic regression model to predict the gender. \n",
    "# Perform hyperparameter tuning as well. \n",
    "# ---\n",
    "# Dataset url = http://bit.ly/HeightsWeightsDataset\n",
    "# --\n",
    "#\n",
    "OUR CODE GOES HERE"
   ]
  },
  {
   "cell_type": "markdown",
   "metadata": {
    "colab_type": "text",
    "id": "pCFuZXSBU8RB"
   },
   "source": [
    "## <font color=\"green\">Challenge 2</font>"
   ]
  },
  {
   "cell_type": "code",
   "execution_count": null,
   "metadata": {
    "colab": {},
    "colab_type": "code",
    "id": "-4mnVf7jU7LX"
   },
   "outputs": [],
   "source": [
    "# Challenge 2\n",
    "# ---\n",
    "# Use the breast cancer dataset to create a logistic regression machine learning model.\n",
    "# To improve the accuracy of the model, perform hyperparameter tuning.\n",
    "# ---\n",
    "# Dataset source = https://bit.ly/breast_cancer_dataset1\n",
    "# ---\n",
    "# \n",
    "OUR CODE GOES HERE"
   ]
  },
  {
   "cell_type": "markdown",
   "metadata": {
    "colab_type": "text",
    "id": "KdS5KHvgU_kg"
   },
   "source": [
    "## <font color=\"green\">Challenge 3</font>"
   ]
  },
  {
   "cell_type": "code",
   "execution_count": null,
   "metadata": {
    "colab": {},
    "colab_type": "code",
    "id": "J-YtpYLYVFmZ"
   },
   "outputs": [],
   "source": [
    "# Challenge 3\n",
    "# ---\n",
    "# Build a regression model to determine whether a patient has diabetes or not.\n",
    "# To improve the accuracy of the model, perform hyperparameter tuning.\n",
    "# ---\n",
    "# Dataset source = https://bit.ly/Diabetes_dataset\n",
    "# ---\n",
    "#\n",
    "OUR CODE GOES HERE"
   ]
  },
  {
   "cell_type": "markdown",
   "metadata": {
    "colab_type": "text",
    "id": "dKiRreUdZ9XJ"
   },
   "source": [
    "## <font color=\"green\">Challenge 4</font>"
   ]
  },
  {
   "cell_type": "code",
   "execution_count": null,
   "metadata": {
    "colab": {},
    "colab_type": "code",
    "id": "76beid_BaC7n"
   },
   "outputs": [],
   "source": [
    "# Challenge 4\n",
    "# ---\n",
    "# Build a model to determine whether a patient will be admitted. \n",
    "# To improve the accuracy of the model, perform hyperparameter tuning.\n",
    "# ---\n",
    "# Dataset url = https://bit.ly/patientAdmissionDataset\n",
    "# ---\n",
    "# \n",
    "OUR CODE GOES HERE"
   ]
  },
  {
   "cell_type": "markdown",
   "metadata": {
    "colab_type": "text",
    "id": "Cz6aV2saaAlS"
   },
   "source": [
    "## <font color=\"green\">Challenge 5</font>"
   ]
  },
  {
   "cell_type": "code",
   "execution_count": null,
   "metadata": {
    "colab": {},
    "colab_type": "code",
    "id": "r_cwqeK-aHs3"
   },
   "outputs": [],
   "source": [
    "# Challenge 5\n",
    "# ---\n",
    "# You have a telecom firm which has collected data of all its customers. \n",
    "# The main types of attributes are: \n",
    "# 1.Demographics (age, gender etc.) \n",
    "# 2.Services availed (internet packs purchased, special offers etc) \n",
    "# 3.Expenses (amount of recharge done per month etc.) \n",
    "# Based on all this past information, build an accurate model which will predict \n",
    "# whether a particular customer will churn or not. \n",
    "# ---\n",
    "# Dataset source = https://bit.ly/churnPredictDataset\n",
    "# ---\n",
    "# \n",
    "OUR CODE GOES HERE"
   ]
  }
 ],
 "metadata": {
  "colab": {
   "collapsed_sections": [
    "BdY9L9p3TYdM",
    "HE6MLrrUUrJt",
    "pCFuZXSBU8RB",
    "KdS5KHvgU_kg",
    "dKiRreUdZ9XJ",
    "Cz6aV2saaAlS"
   ],
   "name": "Python Programming: Hyperparameter Tuning",
   "provenance": [],
   "toc_visible": true
  },
  "kernelspec": {
   "display_name": "Python 3",
   "language": "python",
   "name": "python3"
  },
  "language_info": {
   "codemirror_mode": {
    "name": "ipython",
    "version": 3
   },
   "file_extension": ".py",
   "mimetype": "text/x-python",
   "name": "python",
   "nbconvert_exporter": "python",
   "pygments_lexer": "ipython3",
   "version": "3.8.3"
  }
 },
 "nbformat": 4,
 "nbformat_minor": 1
}
