{
 "cells": [
  {
   "cell_type": "markdown",
   "metadata": {
    "colab_type": "text",
    "id": "cRpCSZaVdjKL"
   },
   "source": [
    "<font color=\"green\">*To start working on this notebook, or any other notebook that we will use in the Moringa Data Science Course, we will need to save our own copy of it. We can do this by clicking File > Save a Copy in Drive. We will then be able to make edits to our own copy of this notebook.*</font>"
   ]
  },
  {
   "cell_type": "markdown",
   "metadata": {
    "colab_type": "text",
    "id": "9emVViDxK-Dv"
   },
   "source": [
    "# Python Programming: Logistic Regression"
   ]
  },
  {
   "cell_type": "markdown",
   "metadata": {
    "colab_type": "text",
    "id": "XezjT3fkhCBs"
   },
   "source": [
    "## Importing Our Libraries"
   ]
  },
  {
   "cell_type": "code",
   "execution_count": null,
   "metadata": {
    "colab": {},
    "colab_type": "code",
    "id": "dF59ltu_d53K"
   },
   "outputs": [],
   "source": [
    "# Importing our libraries\n",
    "#\n",
    "import pandas as pd\n",
    "import seaborn as sb"
   ]
  },
  {
   "cell_type": "markdown",
   "metadata": {
    "colab_type": "text",
    "id": "pKsPC3hxK_NG"
   },
   "source": [
    "## Example "
   ]
  },
  {
   "cell_type": "code",
   "execution_count": null,
   "metadata": {
    "colab": {},
    "colab_type": "code",
    "id": "Z-mNUTwkLOHG"
   },
   "outputs": [],
   "source": [
    "# Example 1\n",
    "# ---\n",
    "# You are tasked to complete the analysis of what sorts of people were likely to survive the titanic. \n",
    "# Specifically you are requested to apply logistic regression modelining \n",
    "# to predict which passengers survived the tragedy.\n",
    "# ---\n",
    "# Dataset url = http://bit.ly/TitanicTrainDataset\n",
    "# ---\n",
    "# Survived - Survival (0 = No; 1 = Yes)\n",
    "# Pclass - Passenger Class (1 = 1st; 2 = 2nd; 3 = 3rd)\n",
    "# Name - Name\n",
    "# Sex - Sex\n",
    "# Age - Age\n",
    "# SibSp - Number of Siblings/Spouses Aboard\n",
    "# Parch - Number of Parents/Children Aboard\n",
    "# Ticket - Ticket Number\n",
    "# Fare - Passenger Fare (British pound)\n",
    "# Cabin - Cabin\n",
    "# Embarked - Port of Embarkation (C = Cherbourg; Q = Queenstown; S = Southampton)"
   ]
  },
  {
   "cell_type": "code",
   "execution_count": null,
   "metadata": {
    "colab": {},
    "colab_type": "code",
    "id": "sk2xQb4NO8uG"
   },
   "outputs": [],
   "source": [
    "# Reading in the dataset using the Pandas\n",
    "# \n",
    "titanic = pd.read_csv(\"http://bit.ly/TitanicTrainDataset\")\n",
    "titanic.columns = ['PassengerId','Survived','Pclass','Name','Sex','Age','SibSp','Parch','Ticket','Fare','Cabin','Embarked']\n",
    "titanic.head()"
   ]
  },
  {
   "cell_type": "code",
   "execution_count": null,
   "metadata": {
    "colab": {},
    "colab_type": "code",
    "id": "a4sN9vgZPm_0"
   },
   "outputs": [],
   "source": [
    "# Checking that our target variable is binary\n",
    "# Since we are building a model to predict survival of passangers from the Titanic, \n",
    "# our target is going to be \"Survived\" variable from the titanic dataframe. \n",
    "# To make sure that it's a binary variable, let's use Seaborn's countplot() function.\n",
    "# \n",
    "sb.countplot(x='Survived',data=titanic, palette='hls')\n",
    "\n",
    "# from the output we see that the Survived variable is binary (0 - did not survive / 1 - survived)"
   ]
  },
  {
   "cell_type": "code",
   "execution_count": null,
   "metadata": {
    "colab": {},
    "colab_type": "code",
    "id": "5iVwmLx4P6O0"
   },
   "outputs": [],
   "source": [
    "# Checking for missing values\n",
    "# \n",
    "titanic.isnull().sum()"
   ]
  },
  {
   "cell_type": "code",
   "execution_count": null,
   "metadata": {
    "colab": {},
    "colab_type": "code",
    "id": "9MpmIAioQAoW"
   },
   "outputs": [],
   "source": [
    "# Understanding the dataset abit more\n",
    "# \n",
    "titanic.info()\n",
    "\n",
    "# Ok, so there are only 891 rows in the titanic data frame. \n",
    "# Cabin is almost all missing values, so we can drop that variable completely, \n",
    "# but what about age? Age seems like a relevant predictor for survival right? \n",
    "# We'd want to keep the variables, but it has 177 missing values.\n",
    "# We are going to need to find a way to approximate for those missing values!"
   ]
  },
  {
   "cell_type": "code",
   "execution_count": null,
   "metadata": {
    "colab": {},
    "colab_type": "code",
    "id": "oA0DcqdUQNeP"
   },
   "outputs": [],
   "source": [
    "# Taking care of missing values\n",
    "# So let's just go ahead and drop all the variables that aren't relevant for predicting survival. We should at least keep the following:\n",
    "# ---\n",
    "# Survived - This variable is obviously relevant.\n",
    "# Pclass - Does a passenger's class on the boat affect their survivability?\n",
    "# Sex - Could a passenger's gender impact their survival rate?\n",
    "# Age - Does a person's age impact their survival rate?\n",
    "# SibSp - Does the number of relatives on the boat (that are siblings or a spouse) affect a person survivability? Probability\n",
    "# Parch - Does the number of relatives on the boat (that are children or parents) affect a person survivability? Probability\n",
    "# Fare - Does the fare a person paid effect his survivability? Maybe - let's keep it.\n",
    "# Embarked - Does a person's point of embarkation matter? It depends on how the boat was filled... Let's keep it.\n",
    "# What about a person's name, ticket number, and passenger ID number? They're irrelavant for predicting survivability. \n",
    "# And as we recall, the cabin variable is almost all missing values, so we can just drop all of these.\n",
    "# \n",
    "titanic_data = titanic.drop(['PassengerId','Name','Ticket','Cabin'], 1)\n",
    "titanic_data.head()\n",
    "\n",
    "# Now we have the dataframe reduced down to only relevant variables, but now we need to deal with the missing values in the age variable."
   ]
  },
  {
   "cell_type": "code",
   "execution_count": null,
   "metadata": {
    "colab": {},
    "colab_type": "code",
    "id": "KLwcKTchQsyb"
   },
   "outputs": [],
   "source": [
    "# Imputing missing values\n",
    "# ---\n",
    "# Let's look at how passenger age is related to their class as a passenger on the boat.\n",
    "# \n",
    "sb.boxplot(x='Pclass', y='Age', data=titanic_data, palette='hls')"
   ]
  },
  {
   "cell_type": "code",
   "execution_count": null,
   "metadata": {
    "colab": {},
    "colab_type": "code",
    "id": "oj8v7S1zRruW"
   },
   "outputs": [],
   "source": [
    "titanic_data.head()\n",
    "\n",
    "# Speaking roughly, we could say that the younger a passenger is, the more likely it is for them to be in 3rd class. \n",
    "# The older a passenger is, the more likely it is for them to be in 1st class. \n",
    "# So there is a loose relationship between these variables. \n",
    "# So, let's write a function that approximates a passengers age, based on their class. \n",
    "# From the box plot, it looks like the average age of 1st class passengers \n",
    "# is about 37, 2nd class passengers is 29, and 3rd class pasengers is 24."
   ]
  },
  {
   "cell_type": "code",
   "execution_count": null,
   "metadata": {
    "colab": {},
    "colab_type": "code",
    "id": "SedrD9NKR600"
   },
   "outputs": [],
   "source": [
    "# So let's write a function that finds each null value in the Age variable, and for each null, \n",
    "# checks the value of the Pclass and assigns an age value according to the average age of passengers in that class.\n",
    "#\n",
    "def age_approx(cols):\n",
    "    Age = cols[0]\n",
    "    Pclass = cols[1]\n",
    "    \n",
    "    if pd.isnull(Age):\n",
    "        if Pclass == 1:\n",
    "            return 37\n",
    "        elif Pclass == 2:\n",
    "            return 29\n",
    "        else:\n",
    "            return 24\n",
    "    else:\n",
    "        return Age"
   ]
  },
  {
   "cell_type": "code",
   "execution_count": null,
   "metadata": {
    "colab": {},
    "colab_type": "code",
    "id": "YXkyX36GSPif"
   },
   "outputs": [],
   "source": [
    "# When we apply the function and check again for null values, we see that there are no more null values in the age variable.\n",
    "#\n",
    "titanic_data['Age'] = titanic_data[['Age', 'Pclass']].apply(age_approx, axis=1)\n",
    "titanic_data.isnull().sum()"
   ]
  },
  {
   "cell_type": "code",
   "execution_count": null,
   "metadata": {
    "colab": {},
    "colab_type": "code",
    "id": "MwNxUew_SaR-"
   },
   "outputs": [],
   "source": [
    "# There are 2 null values in the embarked variable. We can drop those 2 records \n",
    "# without loosing too much important information from our dataset, so we will do that.\n",
    "#\n",
    "titanic_data.dropna(inplace=True)\n",
    "titanic_data.isnull().sum()"
   ]
  },
  {
   "cell_type": "code",
   "execution_count": null,
   "metadata": {
    "colab": {},
    "colab_type": "code",
    "id": "6jhIXEFoSoUm"
   },
   "outputs": [],
   "source": [
    "# Converting categorical variables to a dummy indicators\n",
    "# ---\n",
    "# The next thing we need to do is reformat our variables so that they work with the model. \n",
    "# Specifically, we need to reformat the Sex and Embarked variables into numeric variables.\n",
    "#\n",
    "gender = pd.get_dummies(titanic_data['Sex'],drop_first=True)\n",
    "gender.head()"
   ]
  },
  {
   "cell_type": "code",
   "execution_count": null,
   "metadata": {
    "colab": {},
    "colab_type": "code",
    "id": "H0r2ChhLS-ZB"
   },
   "outputs": [],
   "source": [
    "embark_location = pd.get_dummies(titanic_data['Embarked'],drop_first=True)\n",
    "embark_location.head()"
   ]
  },
  {
   "cell_type": "code",
   "execution_count": null,
   "metadata": {
    "colab": {},
    "colab_type": "code",
    "id": "Hwg1_Md9S_GP"
   },
   "outputs": [],
   "source": [
    "titanic_data.head()"
   ]
  },
  {
   "cell_type": "code",
   "execution_count": null,
   "metadata": {
    "colab": {},
    "colab_type": "code",
    "id": "RezYZSHpTCLb"
   },
   "outputs": [],
   "source": [
    "titanic_data.drop(['Sex', 'Embarked'],axis=1,inplace=True)\n",
    "titanic_data.head()"
   ]
  },
  {
   "cell_type": "code",
   "execution_count": null,
   "metadata": {
    "colab": {},
    "colab_type": "code",
    "id": "hmT38it8TLnZ"
   },
   "outputs": [],
   "source": [
    "titanic_dmy = pd.concat([titanic_data,gender,embark_location],axis=1)\n",
    "titanic_dmy.head()\n",
    "\n",
    "# Now we have a dataset with all the variables in the correct format!"
   ]
  },
  {
   "cell_type": "code",
   "execution_count": null,
   "metadata": {
    "colab": {},
    "colab_type": "code",
    "id": "iRnGw9P5TUHn"
   },
   "outputs": [],
   "source": [
    "# Checking for independence between features¶\n",
    "# \n",
    "sb.heatmap(titanic_dmy.corr())  "
   ]
  },
  {
   "cell_type": "code",
   "execution_count": null,
   "metadata": {
    "colab": {},
    "colab_type": "code",
    "id": "SdoW2nFfTgGv"
   },
   "outputs": [],
   "source": [
    "# Fare and Pclass are not independent of each other, so I am going to drop these.\n",
    "# \n",
    "titanic_dmy.drop(['Fare', 'Pclass'],axis=1,inplace=True)\n",
    "titanic_dmy.head()"
   ]
  },
  {
   "cell_type": "code",
   "execution_count": null,
   "metadata": {
    "colab": {},
    "colab_type": "code",
    "id": "xl8GC-m9TrxR"
   },
   "outputs": [],
   "source": [
    "# Checking that your dataset size is sufficient\n",
    "# We have 6 predictive features that remain. The rule of thumb is 50 records per feature \n",
    "# so we need to have at least 300 records in this dataset. Let's check again.\n",
    "#\n",
    "titanic_dmy.info()\n",
    "\n",
    "              \n",
    "# From the output we have 889 records so we are fine."
   ]
  },
  {
   "cell_type": "code",
   "execution_count": null,
   "metadata": {
    "colab": {},
    "colab_type": "code",
    "id": "WhQRrUBIUeyb"
   },
   "outputs": [],
   "source": [
    "# Splitting our dataset\n",
    "#\n",
    "X = titanic_dmy.drop(\"Survived\",axis=1)\n",
    "y = titanic_dmy[\"Survived\"]\n",
    "\n",
    "from sklearn.model_selection import train_test_split\n",
    "X_train, X_test, y_train, y_test = train_test_split(X, y, test_size = .3, random_state=25)"
   ]
  },
  {
   "cell_type": "code",
   "execution_count": null,
   "metadata": {
    "colab": {},
    "colab_type": "code",
    "id": "UZszdX9MU1Dl"
   },
   "outputs": [],
   "source": [
    "# Fitting our model\n",
    "# \n",
    "from sklearn.linear_model import LogisticRegression\n",
    "\n",
    "LogReg = LogisticRegression()\n",
    "LogReg.fit(X_train, y_train)"
   ]
  },
  {
   "cell_type": "code",
   "execution_count": null,
   "metadata": {
    "colab": {},
    "colab_type": "code",
    "id": "hLPYeh2_VHVP"
   },
   "outputs": [],
   "source": [
    "# Using our model to make a prediction\n",
    "#\n",
    "y_pred = LogReg.predict(X_test)"
   ]
  },
  {
   "cell_type": "code",
   "execution_count": null,
   "metadata": {
    "colab": {},
    "colab_type": "code",
    "id": "f7ZstfD8VKM_"
   },
   "outputs": [],
   "source": [
    "# Evaluating the model\n",
    "#\n",
    "from sklearn.metrics import confusion_matrix\n",
    "confusion_matrix = confusion_matrix(y_test, y_pred)\n",
    "confusion_matrix\n",
    "\n",
    "# The results from the confusion matrix tell us that 137 and 69 are the number of correct predictions. \n",
    "# 34 and 27 are the number of incorrect predictions."
   ]
  },
  {
   "cell_type": "markdown",
   "metadata": {
    "colab_type": "text",
    "id": "EFzrLVNDLIjx"
   },
   "source": [
    "## <font color=\"green\">Challenge 1</font>"
   ]
  },
  {
   "cell_type": "code",
   "execution_count": null,
   "metadata": {
    "colab": {},
    "colab_type": "code",
    "id": "wdxxtSRnK2_o"
   },
   "outputs": [],
   "source": [
    "# Challenge 1\n",
    "# ---\n",
    "# Question: Use the Iris dataset to build a regression model to predict the type of iris flower\n",
    "# ---\n",
    "# Dataset url = http://bit.ly/IrisDataset\n",
    "# ---\n",
    "#\n",
    "OUR CODE GOES HERE"
   ]
  },
  {
   "cell_type": "markdown",
   "metadata": {
    "colab_type": "text",
    "id": "7dGKfT3sdqSX"
   },
   "source": [
    "## <font color=\"green\">Challenge 2</font>"
   ]
  },
  {
   "cell_type": "code",
   "execution_count": null,
   "metadata": {
    "colab": {},
    "colab_type": "code",
    "id": "6ViMfWEMLWDG"
   },
   "outputs": [],
   "source": [
    "# Challenge 2\n",
    "# ---\n",
    "# Question: Create a regression model that can predict whether an application will be admitted to the university or not.\n",
    "# ---\n",
    "# Dataset url = http://bit.ly/MarksDataset\n",
    "# ---\n",
    "#\n",
    "OUR CODE GOES HERE"
   ]
  },
  {
   "cell_type": "markdown",
   "metadata": {
    "colab_type": "text",
    "id": "Iyd4WJf4dsbc"
   },
   "source": [
    "## <font color=\"green\">Challenge 3</font>"
   ]
  },
  {
   "cell_type": "code",
   "execution_count": null,
   "metadata": {
    "colab": {},
    "colab_type": "code",
    "id": "N4mB1XxvLYAY"
   },
   "outputs": [],
   "source": [
    "# Challenge 3\n",
    "# ---\n",
    "# Question: Predict if the client will subscribe a term deposit (variable y).\n",
    "# ---\n",
    "# Dataset url = http://bit.ly/BankingDataset\n",
    "# ---\n",
    "# \n",
    "OUR CODE GOES HERE"
   ]
  },
  {
   "cell_type": "markdown",
   "metadata": {
    "colab_type": "text",
    "id": "xjgM28PXduDp"
   },
   "source": [
    "## <font color=\"green\">Challenge 4</font>"
   ]
  },
  {
   "cell_type": "code",
   "execution_count": null,
   "metadata": {
    "colab": {},
    "colab_type": "code",
    "id": "Cjm8P2ynLZbt"
   },
   "outputs": [],
   "source": [
    "# Challenge 4\n",
    "# ---\n",
    "# Question: Create a logistic regression model determine whether a user purchased a particular product.\n",
    "# ---\n",
    "# Dataset url = http://bit.ly/SocialNetworkAdsDataset\n",
    "# ---\n",
    "#\n",
    "OUR CODE GOES HERE"
   ]
  },
  {
   "cell_type": "markdown",
   "metadata": {
    "colab_type": "text",
    "id": "1z5z5tXCdv0t"
   },
   "source": [
    "## <font color=\"green\">Challenge 5</font>"
   ]
  },
  {
   "cell_type": "code",
   "execution_count": null,
   "metadata": {
    "colab": {},
    "colab_type": "code",
    "id": "B3gw8LlVLapg"
   },
   "outputs": [],
   "source": [
    "# Challenge 5\n",
    "# ---\n",
    "# Question: Create model to determine whether a student will default on their student loans.\n",
    "# ---\n",
    "# Dataset url = http://bit.ly/StudentDefaultDataset\n",
    "# ---\n",
    "OUR CODE GOES HERE"
   ]
  }
 ],
 "metadata": {
  "colab": {
   "collapsed_sections": [
    "XezjT3fkhCBs",
    "pKsPC3hxK_NG",
    "EFzrLVNDLIjx",
    "7dGKfT3sdqSX",
    "Iyd4WJf4dsbc",
    "xjgM28PXduDp",
    "1z5z5tXCdv0t"
   ],
   "name": "Python Programming: Logistic Regression",
   "provenance": [],
   "toc_visible": true
  },
  "kernelspec": {
   "display_name": "Python 3",
   "language": "python",
   "name": "python3"
  },
  "language_info": {
   "codemirror_mode": {
    "name": "ipython",
    "version": 3
   },
   "file_extension": ".py",
   "mimetype": "text/x-python",
   "name": "python",
   "nbconvert_exporter": "python",
   "pygments_lexer": "ipython3",
   "version": "3.8.3"
  }
 },
 "nbformat": 4,
 "nbformat_minor": 1
}
