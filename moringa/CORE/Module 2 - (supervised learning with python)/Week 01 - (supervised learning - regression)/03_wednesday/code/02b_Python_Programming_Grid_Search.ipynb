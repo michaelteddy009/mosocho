{
 "cells": [
  {
   "cell_type": "markdown",
   "metadata": {
    "colab_type": "text",
    "id": "X5ma2Mw6_6Dt"
   },
   "source": [
    "# Python Programming: Grid Search"
   ]
  },
  {
   "cell_type": "markdown",
   "metadata": {
    "colab_type": "text",
    "id": "k6mu0__7OjF8"
   },
   "source": [
    "## Example"
   ]
  },
  {
   "cell_type": "code",
   "execution_count": 1,
   "metadata": {
    "colab": {},
    "colab_type": "code",
    "id": "tftAsaCN_xbw"
   },
   "outputs": [],
   "source": [
    "## Example 1\n",
    "# ---\n",
    "# Perform hyperparameter tuning then predict the quality of wine using Grid Search. \n",
    "# ---\n",
    "# Dataset url = http://bit.ly/TuningDataset\n",
    "# ---\n",
    "# OUR CODE GOES BELOW "
   ]
  },
  {
   "cell_type": "code",
   "execution_count": 2,
   "metadata": {
    "colab": {},
    "colab_type": "code",
    "id": "bnvF1TbuBFSP"
   },
   "outputs": [],
   "source": [
    "# Importing the required libraries\n",
    "# ---\n",
    "#\n",
    "import pandas as pd\n",
    "import numpy as np"
   ]
  },
  {
   "cell_type": "code",
   "execution_count": 3,
   "metadata": {
    "colab": {},
    "colab_type": "code",
    "id": "6io-7e6WAaLU"
   },
   "outputs": [],
   "source": [
    "# Importing our Dataset\n",
    "# ---\n",
    "#\n",
    "dataset = pd.read_csv(\"http://bit.ly/TuningDataset\", sep=';')"
   ]
  },
  {
   "cell_type": "code",
   "execution_count": 4,
   "metadata": {
    "colab": {},
    "colab_type": "code",
    "id": "fprG-77uCN81"
   },
   "outputs": [
    {
     "data": {
      "text/html": [
       "<div>\n",
       "<style scoped>\n",
       "    .dataframe tbody tr th:only-of-type {\n",
       "        vertical-align: middle;\n",
       "    }\n",
       "\n",
       "    .dataframe tbody tr th {\n",
       "        vertical-align: top;\n",
       "    }\n",
       "\n",
       "    .dataframe thead th {\n",
       "        text-align: right;\n",
       "    }\n",
       "</style>\n",
       "<table border=\"1\" class=\"dataframe\">\n",
       "  <thead>\n",
       "    <tr style=\"text-align: right;\">\n",
       "      <th></th>\n",
       "      <th>fixed acidity</th>\n",
       "      <th>volatile acidity</th>\n",
       "      <th>citric acid</th>\n",
       "      <th>residual sugar</th>\n",
       "      <th>chlorides</th>\n",
       "      <th>free sulfur dioxide</th>\n",
       "      <th>total sulfur dioxide</th>\n",
       "      <th>density</th>\n",
       "      <th>pH</th>\n",
       "      <th>sulphates</th>\n",
       "      <th>alcohol</th>\n",
       "      <th>quality</th>\n",
       "    </tr>\n",
       "  </thead>\n",
       "  <tbody>\n",
       "    <tr>\n",
       "      <th>0</th>\n",
       "      <td>7.4</td>\n",
       "      <td>0.70</td>\n",
       "      <td>0.00</td>\n",
       "      <td>1.9</td>\n",
       "      <td>0.076</td>\n",
       "      <td>11.0</td>\n",
       "      <td>34.0</td>\n",
       "      <td>0.9978</td>\n",
       "      <td>3.51</td>\n",
       "      <td>0.56</td>\n",
       "      <td>9.4</td>\n",
       "      <td>5</td>\n",
       "    </tr>\n",
       "    <tr>\n",
       "      <th>1</th>\n",
       "      <td>7.8</td>\n",
       "      <td>0.88</td>\n",
       "      <td>0.00</td>\n",
       "      <td>2.6</td>\n",
       "      <td>0.098</td>\n",
       "      <td>25.0</td>\n",
       "      <td>67.0</td>\n",
       "      <td>0.9968</td>\n",
       "      <td>3.20</td>\n",
       "      <td>0.68</td>\n",
       "      <td>9.8</td>\n",
       "      <td>5</td>\n",
       "    </tr>\n",
       "    <tr>\n",
       "      <th>2</th>\n",
       "      <td>7.8</td>\n",
       "      <td>0.76</td>\n",
       "      <td>0.04</td>\n",
       "      <td>2.3</td>\n",
       "      <td>0.092</td>\n",
       "      <td>15.0</td>\n",
       "      <td>54.0</td>\n",
       "      <td>0.9970</td>\n",
       "      <td>3.26</td>\n",
       "      <td>0.65</td>\n",
       "      <td>9.8</td>\n",
       "      <td>5</td>\n",
       "    </tr>\n",
       "    <tr>\n",
       "      <th>3</th>\n",
       "      <td>11.2</td>\n",
       "      <td>0.28</td>\n",
       "      <td>0.56</td>\n",
       "      <td>1.9</td>\n",
       "      <td>0.075</td>\n",
       "      <td>17.0</td>\n",
       "      <td>60.0</td>\n",
       "      <td>0.9980</td>\n",
       "      <td>3.16</td>\n",
       "      <td>0.58</td>\n",
       "      <td>9.8</td>\n",
       "      <td>6</td>\n",
       "    </tr>\n",
       "    <tr>\n",
       "      <th>4</th>\n",
       "      <td>7.4</td>\n",
       "      <td>0.70</td>\n",
       "      <td>0.00</td>\n",
       "      <td>1.9</td>\n",
       "      <td>0.076</td>\n",
       "      <td>11.0</td>\n",
       "      <td>34.0</td>\n",
       "      <td>0.9978</td>\n",
       "      <td>3.51</td>\n",
       "      <td>0.56</td>\n",
       "      <td>9.4</td>\n",
       "      <td>5</td>\n",
       "    </tr>\n",
       "  </tbody>\n",
       "</table>\n",
       "</div>"
      ],
      "text/plain": [
       "   fixed acidity  volatile acidity  citric acid  residual sugar  chlorides  \\\n",
       "0            7.4              0.70         0.00             1.9      0.076   \n",
       "1            7.8              0.88         0.00             2.6      0.098   \n",
       "2            7.8              0.76         0.04             2.3      0.092   \n",
       "3           11.2              0.28         0.56             1.9      0.075   \n",
       "4            7.4              0.70         0.00             1.9      0.076   \n",
       "\n",
       "   free sulfur dioxide  total sulfur dioxide  density    pH  sulphates  \\\n",
       "0                 11.0                  34.0   0.9978  3.51       0.56   \n",
       "1                 25.0                  67.0   0.9968  3.20       0.68   \n",
       "2                 15.0                  54.0   0.9970  3.26       0.65   \n",
       "3                 17.0                  60.0   0.9980  3.16       0.58   \n",
       "4                 11.0                  34.0   0.9978  3.51       0.56   \n",
       "\n",
       "   alcohol  quality  \n",
       "0      9.4        5  \n",
       "1      9.8        5  \n",
       "2      9.8        5  \n",
       "3      9.8        6  \n",
       "4      9.4        5  "
      ]
     },
     "execution_count": 4,
     "metadata": {},
     "output_type": "execute_result"
    }
   ],
   "source": [
    "# Previewing our Dataset\n",
    "# ---\n",
    "#\n",
    "dataset.head()"
   ]
  },
  {
   "cell_type": "code",
   "execution_count": 5,
   "metadata": {
    "colab": {},
    "colab_type": "code",
    "id": "85-ZhbKfCQNu"
   },
   "outputs": [],
   "source": [
    "# Performing Data Preprocessing\n",
    "# ---\n",
    "# \n",
    "X = dataset.iloc[:, 0:11].values\n",
    "y = dataset.iloc[:, 11].values"
   ]
  },
  {
   "cell_type": "code",
   "execution_count": 6,
   "metadata": {
    "colab": {},
    "colab_type": "code",
    "id": "HRYfL5brDIMI"
   },
   "outputs": [],
   "source": [
    "# Performing Data Preprocessing\n",
    "# ---\n",
    "# \n",
    "from sklearn.model_selection import train_test_split\n",
    "X_train, X_test, y_train, y_test = train_test_split(X, y)"
   ]
  },
  {
   "cell_type": "code",
   "execution_count": 7,
   "metadata": {
    "colab": {},
    "colab_type": "code",
    "id": "JfNu9GniC6TL"
   },
   "outputs": [],
   "source": [
    "# Scaling our Data\n",
    "# ---\n",
    "# \n",
    "from sklearn.preprocessing import StandardScaler\n",
    "feature_scaler = StandardScaler()\n",
    "X_train = feature_scaler.fit_transform(X_train)\n",
    "X_test = feature_scaler.transform(X_test)"
   ]
  },
  {
   "cell_type": "code",
   "execution_count": 8,
   "metadata": {
    "colab": {},
    "colab_type": "code",
    "id": "jQbqNGppIwCD"
   },
   "outputs": [],
   "source": [
    "# Training and Cross Validation\n",
    "# ---\n",
    "# \n",
    "from sklearn.ensemble import RandomForestClassifier\n",
    "classifier = RandomForestClassifier(n_estimators=300, random_state=0)"
   ]
  },
  {
   "cell_type": "code",
   "execution_count": 18,
   "metadata": {
    "colab": {},
    "colab_type": "code",
    "id": "qQz-BvHSJD1C"
   },
   "outputs": [],
   "source": [
    "# Training and Cross Validation\n",
    "# ---\n",
    "# Next, to implement cross validation, the cross_val_score method \n",
    "# of the sklearn.model_selection library can be used. \n",
    "# The cross_val_score returns the accuracy for all the folds. \n",
    "# Values for 4 parameters are required to be passed to the cross_val_score class. \n",
    "# The first parameter is estimator which basically specifies \n",
    "# the algorithm that you want to use for cross validation. \n",
    "# The second and third parameters, X and y, contain the X_train and y_train data i.e. features and labels. \n",
    "# Finally the number of folds is passed to the cv parameter as shown in the following code\n",
    "# ---\n",
    "# \n",
    "from sklearn.model_selection import cross_val_score\n",
    "all_accuracies = cross_val_score(estimator=classifier, X=X_train, y=y_train, cv=6)"
   ]
  },
  {
   "cell_type": "code",
   "execution_count": 19,
   "metadata": {
    "colab": {},
    "colab_type": "code",
    "id": "g288wwhYJEcS"
   },
   "outputs": [
    {
     "name": "stdout",
     "output_type": "stream",
     "text": [
      "[0.68       0.69       0.675      0.695      0.63       0.74371859]\n"
     ]
    }
   ],
   "source": [
    "# Printing the accuracies returned for five folds \n",
    "# by the cross_val_score method by calling print on all_accuracies\n",
    "# ---\n",
    "#\n",
    "print(all_accuracies)"
   ]
  },
  {
   "cell_type": "code",
   "execution_count": 21,
   "metadata": {
    "colab": {},
    "colab_type": "code",
    "id": "CWXSIEBADSaw"
   },
   "outputs": [],
   "source": [
    "# Step 1: Hyperparameters: Getting Started with Grid Search\n",
    "# ---\n",
    "# We create a dictionary of all the parameters and their corresponding \n",
    "# set of values that you want to test for best performance. \n",
    "# The name of the dictionary items corresponds to the parameter name \n",
    "# and the value corresponds to the list of values for the parameter.\n",
    "# As shown grid_param dictionary with three parameters n_estimators, criterion, and bootstrap. \n",
    "# The parameter values that we want to try out are passed in the list. \n",
    "# For instance, in the above script we want to find which value \n",
    "# (out of 100, 300, 500, 800, and 1000) provides the highest accuracy. \n",
    "# Similarly, we want to find which value results in the \n",
    "# highest performance for the criterion parameter: \"gini\" or \"entropy\"? \n",
    "# The Grid Search algorithm basically tries all possible combinations \n",
    "# of parameter values and returns the combination with the highest accuracy. \n",
    "# For instance, in the above case the algorithm will check 20 combinations (5 x 2 x 2 = 20).\n",
    "# ---\n",
    "# \n",
    "grid_param = {\n",
    "    'n_estimators': [100, 300, 500, 800, 1000],\n",
    "    'criterion': ['gini', 'entropy'],\n",
    "    'bootstrap': [True, False]\n",
    "}"
   ]
  },
  {
   "cell_type": "code",
   "execution_count": 22,
   "metadata": {
    "colab": {},
    "colab_type": "code",
    "id": "BP1h7wGzEFtq"
   },
   "outputs": [],
   "source": [
    "# Step 2: Instantiating GridSearchCV object\n",
    "# ---\n",
    "# Once the parameter dictionary is created, the next step \n",
    "# is to create an instance of the GridSearchCV class. \n",
    "# We need to pass values for the estimator parameter, \n",
    "# which basically is the algorithm that you want to execute. \n",
    "# The param_grid parameter takes the parameter dictionary \n",
    "# that we just created as parameter, the scoring parameter \n",
    "# takes the performance metrics, the cv parameter corresponds \n",
    "# to number of folds, which is 5 in our case, and finally \n",
    "# the n_jobs parameter refers to the number of CPU's that we want to use for execution. \n",
    "# A value of -1 for n_jobs parameter means that use all available computing power.\n",
    "# ---\n",
    "# \n",
    "from sklearn.model_selection import GridSearchCV\n",
    "gd_sr = GridSearchCV(estimator=classifier,\n",
    "                     param_grid=grid_param,\n",
    "                     scoring='accuracy',\n",
    "                     cv=5,\n",
    "                     n_jobs=-1)"
   ]
  },
  {
   "cell_type": "code",
   "execution_count": 23,
   "metadata": {
    "colab": {},
    "colab_type": "code",
    "id": "4qdF_J2DHvEP"
   },
   "outputs": [
    {
     "data": {
      "text/plain": [
       "GridSearchCV(cv=5,\n",
       "             estimator=RandomForestClassifier(n_estimators=300, random_state=0),\n",
       "             n_jobs=-1,\n",
       "             param_grid={'bootstrap': [True, False],\n",
       "                         'criterion': ['gini', 'entropy'],\n",
       "                         'n_estimators': [100, 300, 500, 800, 1000]},\n",
       "             scoring='accuracy')"
      ]
     },
     "execution_count": 23,
     "metadata": {},
     "output_type": "execute_result"
    }
   ],
   "source": [
    "# Step 3: Calling the fit method\n",
    "# ---\n",
    "# Once the GridSearchCV class is initialized, we call the fit method of the class \n",
    "# and pass it the training and test set, as shown in the following code.\n",
    "# The method might take abit of some time to execute. \n",
    "# This is the drawback - GridSearchCV will go through all the intermediate \n",
    "# combinations of hyperparameters which makes grid search computationally very expensive.\n",
    "# ---\n",
    "# \n",
    "gd_sr.fit(X_train, y_train)"
   ]
  },
  {
   "cell_type": "code",
   "execution_count": null,
   "metadata": {
    "colab": {},
    "colab_type": "code",
    "id": "Y4XzL4IYGh-8"
   },
   "outputs": [],
   "source": [
    "# Step 4: Checking the parameters that return the highest accuracy\n",
    "# --- \n",
    "# To do so, we print the sr.best_params_ attribute of the GridSearchCV object, as shown below:\n",
    "# ---\n",
    "# \n",
    "best_parameters = gd_sr.best_params_\n",
    "print(best_parameters)\n",
    "\n",
    "# The result shows that the highest accuracy is achieved \n",
    "# when the n_estimators are 300, bootstrap is True and criterion is \"gini\". \n",
    "# It would be a good idea to add more number of estimators \n",
    "# and see if performance further increases since the highest \n",
    "# allowed value of n_estimators was chosen."
   ]
  },
  {
   "cell_type": "code",
   "execution_count": null,
   "metadata": {
    "colab": {},
    "colab_type": "code",
    "id": "Tt0Nj8sDH7XT"
   },
   "outputs": [],
   "source": [
    "# Step 5: Finding the obtained accuracy\n",
    "# ---\n",
    "# The last and final step of Grid Search algorithm is \n",
    "# to find the accuracy obtained using the best parameters. \n",
    "# Previously we had a mean accuracy of 64.22%.\n",
    "# To find the best accuracy achieved, we execute the following code:\n",
    "# ---\n",
    "# \n",
    "best_result = gd_sr.best_score_\n",
    "print(best_result)\n",
    "\n",
    "# The accuracy achieved is: 0.6505 of 65.05% which is only slightly better than 64.22%. \n",
    "# To improve this further, it would be good to test values for other parameters \n",
    "# of Random Forest algorithm, such as max_features, max_depth, max_leaf_nodes, etc. \n",
    "# to see if the accuracy further improves or not."
   ]
  },
  {
   "cell_type": "markdown",
   "metadata": {
    "colab_type": "text",
    "id": "LoZYTKzdNPw1"
   },
   "source": [
    "## <font color=\"green\">Challenges</font>"
   ]
  },
  {
   "cell_type": "code",
   "execution_count": null,
   "metadata": {
    "colab": {},
    "colab_type": "code",
    "id": "a2Fn-tSkKeWl"
   },
   "outputs": [],
   "source": [
    "## Challenge 1\n",
    "# ---\n",
    "# Question: Implement hyperparameter tuning upon creating a model to classify \n",
    "# incomes of persons given the following dataset.\n",
    "# ---\n",
    "# Dataset url = http://bit.ly/HyperParameterTuningDataset\n",
    "# ---\n",
    "# OUR CODE GOES BELOW\n",
    "#"
   ]
  }
 ],
 "metadata": {
  "colab": {
   "collapsed_sections": [
    "k6mu0__7OjF8",
    "LoZYTKzdNPw1"
   ],
   "name": "Python Programming: Grid Search",
   "provenance": []
  },
  "kernelspec": {
   "display_name": "Python 3",
   "language": "python",
   "name": "python3"
  },
  "language_info": {
   "codemirror_mode": {
    "name": "ipython",
    "version": 3
   },
   "file_extension": ".py",
   "mimetype": "text/x-python",
   "name": "python",
   "nbconvert_exporter": "python",
   "pygments_lexer": "ipython3",
   "version": "3.8.3"
  }
 },
 "nbformat": 4,
 "nbformat_minor": 1
}
