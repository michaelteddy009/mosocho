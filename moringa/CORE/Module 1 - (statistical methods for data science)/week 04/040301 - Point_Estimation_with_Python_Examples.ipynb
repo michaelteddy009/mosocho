{
 "cells": [
  {
   "cell_type": "markdown",
   "metadata": {
    "colab_type": "text",
    "id": "d7iTcB8JHOGp"
   },
   "source": [
    "**Point Estimation with Python - Examples**\n",
    "\n"
   ]
  },
  {
   "cell_type": "markdown",
   "metadata": {
    "colab_type": "text",
    "id": "XHpY0BNzeKP5"
   },
   "source": [
    "**Recap**\n",
    "\n",
    "From our suggested reading we can summarize point estimation to be estimating a population parameter by using sample data.\n",
    "\n",
    "For instance, if we were tasked with calculating the average height of the adult population in Kenya, we would take a survey of all the registered adults in Kenya. But since the adult population is too large, it would take alot of time and resources to take a survey of all the adult population. An alternative to this, we could take survey of a random sample from the adult population and then calculate the average height from this. The average height we get from the sample would be our point estimate for the average height of the population.\n"
   ]
  },
  {
   "cell_type": "markdown",
   "metadata": {
    "colab_type": "text",
    "id": "R3_ln08y_FnN"
   },
   "source": [
    "Let's use the above example to explain the concept of point estimation using python.\n",
    "\n",
    "We are going to make two assumption:\n",
    "\n",
    "\n",
    "1.   The population follows a normal distribution\n",
    "2.   For us to be able to understand point estimators better, we are going to abitrarily assign a population mean so that we can see how accurate a point estimator is.\n",
    "\n"
   ]
  },
  {
   "cell_type": "code",
   "execution_count": 1,
   "metadata": {
    "colab": {},
    "colab_type": "code",
    "id": "5Nk1SN_WALXs"
   },
   "outputs": [],
   "source": [
    "# Import the neccessary libarries\n",
    "import numpy as np\n",
    "import pandas as pd\n",
    "# scipy is python library will help us use statistical formulas in our code\n",
    "import scipy.stats as stats\n",
    "import random\n"
   ]
  },
  {
   "cell_type": "code",
   "execution_count": 2,
   "metadata": {
    "colab": {},
    "colab_type": "code",
    "id": "4UaSx40_AVNJ"
   },
   "outputs": [
    {
     "name": "stdout",
     "output_type": "stream",
     "text": [
      "[166.3315865  165.71527897 163.45459971 ... 165.49730283 164.88786175\n",
      " 164.21243322]\n"
     ]
    },
    {
     "data": {
      "text/plain": [
       "164.99887373021798"
      ]
     },
     "execution_count": 2,
     "metadata": {},
     "output_type": "execute_result"
    }
   ],
   "source": [
    "# We use the \"seed\" value of 10. Follow this link to learn more about numpy seed. https://www.sharpsightlabs.com/blog/numpy-random-seed/\n",
    "np.random.seed(10)\n",
    "#Use the stats module to generate random variables for our population. Here we specify our \n",
    "#abitrary mean height and a standard deviation, which are loc and scale respectively\n",
    "population_height = stats.norm.rvs(loc=165, scale=1, size=1500000)\n",
    "print ( population_height )  \n",
    "\n",
    "#Calculate the population mean\n",
    "population_height.mean()"
   ]
  },
  {
   "cell_type": "code",
   "execution_count": 3,
   "metadata": {
    "colab": {},
    "colab_type": "code",
    "id": "tZjT-iIqdp21"
   },
   "outputs": [
    {
     "name": "stdout",
     "output_type": "stream",
     "text": [
      "164.999551452145\n"
     ]
    },
    {
     "data": {
      "text/plain": [
       "-0.0006777219270190926"
      ]
     },
     "execution_count": 3,
     "metadata": {},
     "output_type": "execute_result"
    }
   ],
   "source": [
    "np.random.seed(6)\n",
    "# Sample 1000 values\n",
    "sample_height = np.random.choice(a= population_height,\n",
    "                               size=500000)            \n",
    "\n",
    "# Show sample mean\n",
    "print ( sample_height.mean() )                         \n",
    "\n",
    "# calculate how much the estimated mean differs from the main mean\n",
    "population_height.mean() - sample_height.mean()"
   ]
  },
  {
   "cell_type": "markdown",
   "metadata": {
    "colab_type": "text",
    "id": "hxOglVzJz19I"
   },
   "source": [
    "From this example we can see that based on a sample of 500,000 adults our estimator underestimates the true mean by 0.0006. We can conclude that we can get a fairly accurate estimate of a large population from a fairly small subset."
   ]
  },
  {
   "cell_type": "markdown",
   "metadata": {
    "colab_type": "text",
    "id": "LLcFfOJc-w7e"
   },
   "source": [
    "Challenge"
   ]
  },
  {
   "cell_type": "markdown",
   "metadata": {
    "colab_type": "text",
    "id": "jsi5jGM2_DCs"
   },
   "source": [
    "Suppose you are tasked to find the average age of registered voters in Kenya. Assume that the population follows a normal distribution. Find the best estimator for the population parameter"
   ]
  },
  {
   "cell_type": "code",
   "execution_count": 0,
   "metadata": {
    "colab": {},
    "colab_type": "code",
    "id": "Cjz1oLk0-2ON"
   },
   "outputs": [],
   "source": [
    "# Your code goes here"
   ]
  }
 ],
 "metadata": {
  "colab": {
   "name": "Point Estimation with Python - Examples",
   "provenance": []
  },
  "kernelspec": {
   "display_name": "Python 3",
   "language": "python",
   "name": "python3"
  },
  "language_info": {
   "codemirror_mode": {
    "name": "ipython",
    "version": 3
   },
   "file_extension": ".py",
   "mimetype": "text/x-python",
   "name": "python",
   "nbconvert_exporter": "python",
   "pygments_lexer": "ipython3",
   "version": "3.7.6"
  }
 },
 "nbformat": 4,
 "nbformat_minor": 1
}
