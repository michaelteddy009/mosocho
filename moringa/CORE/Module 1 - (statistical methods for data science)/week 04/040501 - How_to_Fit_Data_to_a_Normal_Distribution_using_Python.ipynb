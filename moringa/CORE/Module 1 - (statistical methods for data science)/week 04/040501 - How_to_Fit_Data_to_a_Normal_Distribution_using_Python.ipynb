{
 "cells": [
  {
   "cell_type": "markdown",
   "metadata": {
    "colab_type": "text",
    "id": "zNHYvhDaR-xq"
   },
   "source": [
    "To start working on this notebook, or any other notebook that we will use in the Moringa Data Science Course, we will need to save our own copy of it. We can do this by clicking File > Save a Copy in Drive. We will then be able to make edits to our own copy of this notebook."
   ]
  },
  {
   "cell_type": "markdown",
   "metadata": {
    "colab_type": "text",
    "id": "A-w4CzgeOFgQ"
   },
   "source": [
    "# Tuesday: How to Fit Data to a Normal Distribution using Python"
   ]
  },
  {
   "cell_type": "markdown",
   "metadata": {
    "colab_type": "text",
    "id": "e0-YbfchRuU5"
   },
   "source": [
    "MLE is a technique that enables you to estimate the parameters of a certain random variable given only a sample by generating a distribution which makes the observed results the most likely to have occurred. "
   ]
  },
  {
   "cell_type": "markdown",
   "metadata": {
    "colab_type": "text",
    "id": "Lc6LeeVZSVzk"
   },
   "source": [
    "## Example"
   ]
  },
  {
   "cell_type": "code",
   "execution_count": 3,
   "metadata": {
    "colab": {},
    "colab_type": "code",
    "id": "pdwdUIbtNjPZ"
   },
   "outputs": [],
   "source": [
    "# Example 1\n",
    "# ---\n",
    "# Let's see an example of MLE and distribution fitting with Python from a random sample.\n",
    "# ---\n",
    "# \n",
    "\n",
    "# Importing the libraries to be used\n",
    "# \n",
    "from scipy.stats import norm\n",
    "import matplotlib.pyplot as plt\n",
    "import numpy as np"
   ]
  },
  {
   "cell_type": "code",
   "execution_count": 19,
   "metadata": {
    "colab": {
     "base_uri": "https://localhost:8080/",
     "height": 727
    },
    "colab_type": "code",
    "id": "5_zd1yNpO82Q",
    "outputId": "d01d55d7-492b-45f8-89e6-be29ef722010"
   },
   "outputs": [
    {
     "data": {
      "text/plain": [
       "array([-1.70967598e+00,  7.05171002e-01, -8.06356985e-01, -2.01714144e-01,\n",
       "       -9.60411155e-01,  6.74117608e-01,  3.64488512e-03, -8.01816577e-02,\n",
       "       -1.98233636e-02, -4.52320746e-01, -3.87213240e-01,  1.25954064e+00,\n",
       "       -2.08087461e-01,  5.75081316e-01,  1.38598883e-01, -1.36107238e+00,\n",
       "       -1.54184373e-01, -4.83653297e-01,  1.26369194e+00,  5.74972111e-01,\n",
       "       -8.62444985e-02, -9.04336909e-02, -1.22995534e+00, -2.31622475e-01,\n",
       "       -1.79292152e+00, -1.63056293e-01, -9.08443769e-03,  3.16408343e-01,\n",
       "       -1.52851754e-01, -8.03121479e-01,  2.93184493e-01, -4.22236070e-02,\n",
       "        1.28189306e+00, -1.15359691e+00,  1.01506041e+00, -1.09291376e+00,\n",
       "       -4.69357694e-01, -1.15350581e+00,  1.26951716e-01,  5.09048381e-01,\n",
       "        1.32991936e+00,  1.09099328e+00, -2.03191867e+00, -1.08688277e+00,\n",
       "        5.21508107e-01,  8.09312730e-01, -1.52720179e-01, -5.79076844e-01,\n",
       "       -4.42104335e-01,  2.45940685e-01, -8.38918675e-01,  1.13957856e+00,\n",
       "        3.26577333e-01, -6.53330414e-01,  1.52886323e+00, -5.25484975e-01,\n",
       "        7.87156817e-01, -1.51065389e-02,  1.42737973e-01,  1.34429603e+00,\n",
       "        5.01709727e-01, -4.35939750e-01, -1.44108071e+00,  3.40905749e-01,\n",
       "       -7.78344533e-01, -9.28067307e-01, -2.31832184e+00, -6.71710206e-01,\n",
       "        9.32075871e-01,  6.59714101e-01,  4.80674544e-02,  1.69103830e+00,\n",
       "       -1.11594246e+00, -5.72564524e-02, -1.84403707e+00,  1.65138517e+00,\n",
       "       -6.04454278e-01,  1.03170948e+00,  2.18307729e-02, -1.66151198e-01,\n",
       "        2.20473913e+00,  3.87633852e-01, -1.12591803e-01,  1.26983204e+00,\n",
       "       -1.52388914e+00,  1.24715105e+00, -1.22054875e+00,  1.36508863e+00,\n",
       "       -3.13992063e-01, -6.28267293e-01,  7.81164144e-01, -1.38735166e+00,\n",
       "       -8.33435609e-02,  7.02035407e-01,  2.41344720e+00,  9.59348941e-01,\n",
       "        2.47840507e-01,  1.19071567e+00, -5.46109868e-01, -5.41738021e-01,\n",
       "        9.70660594e-02,  8.20991881e-01,  1.26667941e+00,  9.84395174e-02,\n",
       "       -1.37705403e+00,  7.32026504e-01,  8.43100307e-01,  8.08530630e-01,\n",
       "       -5.88806587e-01, -1.26423795e+00,  1.99249303e-03,  7.24792595e-01,\n",
       "        8.82476843e-01, -7.87335053e-01,  8.69733201e-01, -8.43807560e-01,\n",
       "        1.66489753e+00, -1.52762242e+00,  1.27466561e-01, -3.33873471e-01,\n",
       "       -2.00371067e-01,  3.24923271e-01, -7.86146753e-01,  1.53194520e+00,\n",
       "        5.84438127e-01, -7.49278496e-01, -6.63752330e-01, -2.47768029e-01,\n",
       "        2.53392972e-01, -1.48282517e+00,  1.45739119e+00,  3.13596050e-01,\n",
       "        3.26142934e-02, -7.75373131e-01,  8.21707461e-01,  7.81912486e-01,\n",
       "       -1.00402203e+00,  1.81233893e+00, -5.43837831e-01, -2.42691810e-02,\n",
       "        1.00044949e-01,  7.82744806e-01,  1.66280852e-01,  2.36376253e+00,\n",
       "       -1.35015769e+00,  3.21308523e-01,  7.86794818e-01, -1.54705761e-01,\n",
       "        4.34219142e-01, -5.80581636e-01,  3.35780126e-01,  3.67551822e-01,\n",
       "        3.42170287e-02, -2.51683699e-01, -1.56093415e+00,  6.82557427e-01,\n",
       "        1.21441694e-02,  8.07100138e-02,  4.60792085e-01,  1.98494925e-01,\n",
       "       -1.44658673e+00,  7.32425083e-01, -1.26920511e+00,  2.51890222e-01,\n",
       "       -3.79559875e-01,  6.41796317e-01, -2.06933644e-01, -6.00963417e-01,\n",
       "       -3.19155133e-01, -7.07155190e-01,  1.81366043e-02,  3.66720997e-01,\n",
       "        1.33361976e+00,  5.74952061e-01,  9.34075240e-01, -2.49231052e-01,\n",
       "        9.51285792e-01,  1.30077933e+00, -3.68525496e-01,  6.49513710e-01,\n",
       "        3.66254644e-01,  1.46106557e+00, -8.41516122e-01,  2.25850745e+00,\n",
       "       -1.55368141e+00,  1.53918351e+00,  8.95280870e-01,  3.03447804e-01,\n",
       "       -1.81305682e+00,  6.61611805e-01, -8.39755170e-01, -1.78589771e-01,\n",
       "        4.77728140e-01, -4.87413669e-01,  2.19418318e+00, -1.58766492e+00,\n",
       "        7.90634975e-02, -2.23148293e+00, -3.19202009e-01,  7.79361253e-01])"
      ]
     },
     "execution_count": 19,
     "metadata": {},
     "output_type": "execute_result"
    }
   ],
   "source": [
    "# Generating an array of 200 random sample from a normal dist with \n",
    "# mean 0 and stdv 1\n",
    "#\n",
    "difficulty = [2, 6, 4, 1, 7, 3, 6, 1, 7, 1, 6, 5, 1, 1]\n",
    "random_sample = norm.rvs(loc=0,scale=1,size=200) \n",
    "random_sample\n"
   ]
  },
  {
   "cell_type": "code",
   "execution_count": 30,
   "metadata": {
    "colab": {},
    "colab_type": "code",
    "id": "fi3pUc1dPAAf"
   },
   "outputs": [
    {
     "data": {
      "text/plain": [
       "(0.04782016881555565, 0.9474179710760587)"
      ]
     },
     "execution_count": 30,
     "metadata": {},
     "output_type": "execute_result"
    }
   ],
   "source": [
    "# Distribution fitting\n",
    "# norm.fit(data) returns a list of two parameters \n",
    "# (mean, parameters[0] and std, parameters[1]) via a MLE approach \n",
    "# to data, which should be in array form.\n",
    "#\n",
    "parameters = norm.fit(random_sample)\n",
    "parameters"
   ]
  },
  {
   "cell_type": "code",
   "execution_count": 31,
   "metadata": {
    "colab": {},
    "colab_type": "code",
    "id": "ZWdilEboPDid"
   },
   "outputs": [],
   "source": [
    "# now, parameters[0] and parameters[1] are the mean and \n",
    "# the standard deviation of the fitted distribution\n",
    "#\n",
    "x = np.linspace(-5,5,100)"
   ]
  },
  {
   "cell_type": "code",
   "execution_count": null,
   "metadata": {
    "colab": {},
    "colab_type": "code",
    "id": "1ZIislJ64yuY"
   },
   "outputs": [],
   "source": []
  },
  {
   "cell_type": "code",
   "execution_count": 32,
   "metadata": {
    "colab": {},
    "colab_type": "code",
    "id": "3wZYCnOOPGoL"
   },
   "outputs": [],
   "source": [
    "# Generateingthe pdf - probability density function (fitted distribution)\n",
    "# \n",
    "fitted_pdf = norm.pdf(x,loc = parameters[0],scale = parameters[1])\n",
    "fitted_pdf = fitted_pdf"
   ]
  },
  {
   "cell_type": "code",
   "execution_count": 28,
   "metadata": {
    "colab": {},
    "colab_type": "code",
    "id": "mLdeVwI4PXGA"
   },
   "outputs": [],
   "source": [
    "# Generating the pdf - probability density function (normal distribution non fitted)\n",
    "# \n",
    "normal_pdf = norm.pdf(x) /100"
   ]
  },
  {
   "cell_type": "code",
   "execution_count": 29,
   "metadata": {
    "colab": {
     "base_uri": "https://localhost:8080/",
     "height": 334
    },
    "colab_type": "code",
    "id": "qfe3rU_VPPu2",
    "outputId": "bb6a9a0a-51f8-44f4-ab33-0438421e72da"
   },
   "outputs": [
    {
     "data": {
      "image/png": "[encoded data removed]",
      "text/plain": [
       "<Figure size 432x288 with 1 Axes>"
      ]
     },
     "metadata": {
      "needs_background": "light"
     },
     "output_type": "display_data"
    }
   ],
   "source": [
    "# Then finally displaying our plot\n",
    "# \n",
    "plt.plot(x,fitted_pdf,\"red\",label=\"Fitted normal dist\",linestyle=\"dashed\", linewidth=2)\n",
    "plt.plot(x,normal_pdf,\"blue\",label=\"Normal dist\", linewidth=2)\n",
    "plt.hist(random_sample,color=\"cyan\",alpha=.3) #alpha, from 0 (transparent) to 1 (opaque)\n",
    "plt.title(\"Normal distribution fitting\") \n",
    "plt.legend() \n",
    "plt.show()"
   ]
  },
  {
   "cell_type": "markdown",
   "metadata": {
    "colab_type": "text",
    "id": "yMT1v9f3OPY-"
   },
   "source": [
    "## <font color=\"green\">Challenges</font>"
   ]
  },
  {
   "cell_type": "code",
   "execution_count": 0,
   "metadata": {
    "colab": {},
    "colab_type": "code",
    "id": "Jqfp3FHiOYAf"
   },
   "outputs": [],
   "source": [
    "# Challenge 1\n",
    "# ---\n",
    "# Generate a random sample of size 50 and fit the data to a normal distribution\n",
    "# ---\n",
    "# \n",
    "random_sample = norm.rvs(loc=0,scale=1,size=50) "
   ]
  },
  {
   "cell_type": "code",
   "execution_count": 37,
   "metadata": {
    "colab": {
     "base_uri": "https://localhost:8080/",
     "height": 34
    },
    "colab_type": "code",
    "id": "APV3ife_Rguu",
    "outputId": "12d52373-4929-4f62-f17b-510d562010d5"
   },
   "outputs": [
    {
     "ename": "TypeError",
     "evalue": "'builtin_function_or_method' object is not subscriptable",
     "output_type": "error",
     "traceback": [
      "\u001b[1;31m---------------------------------------------------------------------------\u001b[0m",
      "\u001b[1;31mTypeError\u001b[0m                                 Traceback (most recent call last)",
      "\u001b[1;32m<ipython-input-37-11511ed17c6b>\u001b[0m in \u001b[0;36m<module>\u001b[1;34m\u001b[0m\n\u001b[0;32m      7\u001b[0m \u001b[1;31m#\u001b[0m\u001b[1;33m\u001b[0m\u001b[1;33m\u001b[0m\u001b[1;33m\u001b[0m\u001b[0m\n\u001b[0;32m      8\u001b[0m \u001b[1;32mfrom\u001b[0m \u001b[0msklearn\u001b[0m\u001b[1;33m.\u001b[0m\u001b[0mpreprocessing\u001b[0m \u001b[1;32mimport\u001b[0m \u001b[0mStandardScaler\u001b[0m\u001b[1;33m\u001b[0m\u001b[1;33m\u001b[0m\u001b[0m\n\u001b[1;32m----> 9\u001b[1;33m \u001b[0mdata\u001b[0m \u001b[1;33m=\u001b[0m \u001b[0mnp\u001b[0m\u001b[1;33m.\u001b[0m\u001b[0marray\u001b[0m\u001b[1;33m[\u001b[0m\u001b[1;33m(\u001b[0m\u001b[1;36m7.62\u001b[0m\u001b[1;33m,\u001b[0m \u001b[1;36m6.30\u001b[0m\u001b[1;33m)\u001b[0m\u001b[1;33m,\u001b[0m \u001b[1;33m(\u001b[0m\u001b[1;36m5.83\u001b[0m\u001b[1;33m,\u001b[0m \u001b[1;36m6.50\u001b[0m\u001b[1;33m)\u001b[0m\u001b[1;33m,\u001b[0m \u001b[1;33m(\u001b[0m\u001b[1;36m8.34\u001b[0m\u001b[1;33m,\u001b[0m \u001b[1;36m9.81\u001b[0m\u001b[1;33m)\u001b[0m\u001b[1;33m,\u001b[0m \u001b[1;33m(\u001b[0m\u001b[1;36m7.10\u001b[0m\u001b[1;33m,\u001b[0m \u001b[1;36m6.80\u001b[0m\u001b[1;33m)\u001b[0m\u001b[1;33m,\u001b[0m \u001b[1;33m(\u001b[0m\u001b[1;36m5.90\u001b[0m\u001b[1;33m,\u001b[0m \u001b[1;36m7.89\u001b[0m\u001b[1;33m)\u001b[0m\u001b[1;33m,\u001b[0m \u001b[1;33m(\u001b[0m\u001b[1;36m6.50\u001b[0m\u001b[1;33m,\u001b[0m \u001b[1;36m5.52\u001b[0m\u001b[1;33m)\u001b[0m\u001b[1;33m,\u001b[0m \u001b[1;33m(\u001b[0m\u001b[1;36m7.90\u001b[0m\u001b[1;33m,\u001b[0m \u001b[1;36m6.30\u001b[0m\u001b[1;33m)\u001b[0m\u001b[1;33m]\u001b[0m\u001b[1;33m\u001b[0m\u001b[1;33m\u001b[0m\u001b[0m\n\u001b[0m\u001b[0;32m     10\u001b[0m \u001b[0mdata\u001b[0m \u001b[1;33m=\u001b[0m \u001b[1;33m(\u001b[0m\u001b[1;36m7.62\u001b[0m\u001b[1;33m,\u001b[0m \u001b[1;36m6.30\u001b[0m\u001b[1;33m,\u001b[0m \u001b[1;36m5.83\u001b[0m\u001b[1;33m,\u001b[0m \u001b[1;36m6.50\u001b[0m\u001b[1;33m,\u001b[0m \u001b[1;36m8.34\u001b[0m\u001b[1;33m,\u001b[0m \u001b[1;36m9.81\u001b[0m\u001b[1;33m,\u001b[0m \u001b[1;36m7.10\u001b[0m\u001b[1;33m,\u001b[0m \u001b[1;36m6.80\u001b[0m\u001b[1;33m,\u001b[0m \u001b[1;36m5.90\u001b[0m\u001b[1;33m,\u001b[0m \u001b[1;36m7.89\u001b[0m\u001b[1;33m,\u001b[0m \u001b[1;36m6.50\u001b[0m\u001b[1;33m,\u001b[0m \u001b[1;36m5.52\u001b[0m\u001b[1;33m,\u001b[0m \u001b[1;36m7.90\u001b[0m\u001b[1;33m,\u001b[0m \u001b[1;36m6.30\u001b[0m\u001b[1;33m,\u001b[0m \u001b[1;36m9.10\u001b[0m\u001b[1;33m)\u001b[0m\u001b[1;33m\u001b[0m\u001b[1;33m\u001b[0m\u001b[0m\n\u001b[0;32m     11\u001b[0m \u001b[0mscaler\u001b[0m \u001b[1;33m=\u001b[0m \u001b[0mStandardScaler\u001b[0m\u001b[1;33m(\u001b[0m\u001b[1;33m)\u001b[0m\u001b[1;33m\u001b[0m\u001b[1;33m\u001b[0m\u001b[0m\n",
      "\u001b[1;31mTypeError\u001b[0m: 'builtin_function_or_method' object is not subscriptable"
     ]
    }
   ],
   "source": [
    "# Challenge 2\n",
    "# ---\n",
    "# Fit the following data to a normal distribution\n",
    "# ---\n",
    "# 7.62 6.30 5.83 6.50 8.34 9.81 7.10 6.80 5.90 7.89 6.50 5.52 7.90 6.30 9.10\n",
    "# ---\n",
    "# \n",
    "from sklearn.preprocessing import StandardScaler\n",
    "data = np.array[(7.62, 6.30), (5.83, 6.50), (8.34, 9.81), (7.10, 6.80), (5.90, 7.89), (6.50, 5.52), (7.90, 6.30)]\n",
    "data = (7.62, 6.30, 5.83, 6.50, 8.34, 9.81, 7.10, 6.80, 5.90, 7.89, 6.50, 5.52, 7.90, 6.30, 9.10)\n",
    "scaler = StandardScaler()\n",
    "print(scaler.fit(data))\n",
    "StandardScaler(copy=True, with_mean=True, with_std=True)\n"
   ]
  },
  {
   "cell_type": "code",
   "execution_count": 40,
   "metadata": {
    "colab": {},
    "colab_type": "code",
    "id": "HzGvpPXblUcm"
   },
   "outputs": [
    {
     "data": {
      "text/plain": [
       "15"
      ]
     },
     "execution_count": 40,
     "metadata": {},
     "output_type": "execute_result"
    }
   ],
   "source": [
    "x = np.array([7.62, 6.30, 5.83, 6.50, 8.34, 9.81, 7.10, 6.80, 5.90, 7.89, 6.50, 5.52, 7.90, 6.30, 9.10])\n",
    "normal_data = np.linspace(4, 10, 100)\n",
    "parameters = norm.fit(normal_data)\n",
    "norm_mean = parameters[0]\n",
    "norm_std = parameters[1]\n",
    "len(x)"
   ]
  },
  {
   "cell_type": "code",
   "execution_count": 44,
   "metadata": {
    "colab": {
     "base_uri": "https://localhost:8080/",
     "height": 660
    },
    "colab_type": "code",
    "id": "6tHkQHd8qG_w",
    "outputId": "9b718183-49c1-4ca6-e127-088b2ad0c35b"
   },
   "outputs": [
    {
     "data": {
      "image/png": "[encoded data removed]",
      "text/plain": [
       "<Figure size 432x288 with 1 Axes>"
      ]
     },
     "metadata": {
      "needs_background": "light"
     },
     "output_type": "display_data"
    }
   ],
   "source": [
    "\n",
    "x = np.array([7.62, 6.30, 5.83, 6.50, 8.34, 9.81, 7.10, 6.80, 5.90, 7.89, 6.50, 5.52, 7.90, 6.30, 9.10])\n",
    "\n",
    "normal_data = np.linspace(4, 10, 100)\n",
    "parameters = norm.fit(normal_data)\n",
    "norm_mean = parameters[0]\n",
    "norm_std = parameters[1]\n",
    "\n",
    "x_fitted = norm.pdf(x, loc = norm_mean, scale = norm_std)\n",
    "x_norm = norm.pdf(x)\n",
    "\n",
    "plt.plot(x, x_fitted,color = 'r', label = 'x fitted')\n",
    "plt.plot(x, x_norm, color='b', label='x_normal')\n",
    "plt.scatter(x_fitted,x_norm,color=\"cyan\", alpha=.3)\n",
    "#x, y, s=area, c=colors, alpha=0.5\n",
    "plt.legend()\n",
    "plt.show()"
   ]
  },
  {
   "cell_type": "code",
   "execution_count": 42,
   "metadata": {
    "colab": {},
    "colab_type": "code",
    "id": "4KvmFUlBqHG5"
   },
   "outputs": [
    {
     "data": {
      "text/plain": [
       "100"
      ]
     },
     "execution_count": 42,
     "metadata": {},
     "output_type": "execute_result"
    }
   ],
   "source": [
    "len(normal_data)"
   ]
  },
  {
   "cell_type": "code",
   "execution_count": 0,
   "metadata": {
    "colab": {},
    "colab_type": "code",
    "id": "qr4UVwwrqHQM"
   },
   "outputs": [],
   "source": []
  },
  {
   "cell_type": "code",
   "execution_count": 0,
   "metadata": {
    "colab": {},
    "colab_type": "code",
    "id": "lH5SncsVOZyB"
   },
   "outputs": [],
   "source": [
    "# Challenge 3\n",
    "# ---\n",
    "# A manufacturing company produces steel housings for electrical equipment. \n",
    "# The main component part of the housing is a steel trough that is made out of a 14-gauge steel coil. \n",
    "# It is produced using a 250-ton progressive punch press with a wipe-down operation that puts \n",
    "# two 90-degree forms in the flat steel to make the trough. \n",
    "# The distance from one side of the form to the other is critical because of weatherproofing in outdoor applications. \n",
    "# The company requires that the width of the trough be between 8.31 inches and 8.61 inches. \n",
    "# Below is the widths of the troughs, in inches, for a sample of n = 49.\n",
    "# Fit the given data to a normal distibution\n",
    "# ---\n",
    "# 8.312 8.343 8.476 8.382 8.436 8.413 8.460 8.444 8.396 8.447\n",
    "# 8.317 8.383 8.484 8.403 8.489 8.414 8.429 8.460 8.405 8.439\n",
    "# 8.348 8.410 8.351 8.414 8.419 8.385 8.481 8.415 8.479 8.412 8.420 8.410 8.411 8.427 8.420\n",
    "# 8.373 8.481 8.465 8.498 8.429 8.458 8.405 8.323 8.498 8.409\n",
    "# 8.422 8.447 8.462 8.420\n",
    "# ---\n",
    "#\n",
    "OUR CODE GOES HERE"
   ]
  }
 ],
 "metadata": {
  "colab": {
   "collapsed_sections": [
    "Lc6LeeVZSVzk",
    "yMT1v9f3OPY-"
   ],
   "name": "Tuesday: How to Fit Data to a Normal Distribution using Python",
   "provenance": [],
   "toc_visible": true
  },
  "kernelspec": {
   "display_name": "Python 3",
   "language": "python",
   "name": "python3"
  },
  "language_info": {
   "codemirror_mode": {
    "name": "ipython",
    "version": 3
   },
   "file_extension": ".py",
   "mimetype": "text/x-python",
   "name": "python",
   "nbconvert_exporter": "python",
   "pygments_lexer": "ipython3",
   "version": "3.7.6"
  }
 },
 "nbformat": 4,
 "nbformat_minor": 1
}
