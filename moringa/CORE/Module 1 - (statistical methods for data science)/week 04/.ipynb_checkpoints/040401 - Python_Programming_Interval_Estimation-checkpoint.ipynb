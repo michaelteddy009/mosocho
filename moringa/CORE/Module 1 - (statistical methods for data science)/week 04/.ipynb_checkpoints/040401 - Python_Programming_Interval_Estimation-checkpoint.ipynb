{
 "cells": [
  {
   "cell_type": "markdown",
   "metadata": {
    "colab_type": "text",
    "id": "FMHpE5G4JLoW"
   },
   "source": [
    "<font color=\"green\">To start working on this notebook, or any other notebook that we will use in the Moringa Data Science Course, we will need to save our own copy of it. We can do this by clicking File > Save a Copy in Drive. We will then be able to make edits to our own copy of this notebook.</font>"
   ]
  },
  {
   "cell_type": "markdown",
   "metadata": {
    "colab_type": "text",
    "id": "9H14iylR6pMH"
   },
   "source": [
    "# Python Programming: Interval Estimation"
   ]
  },
  {
   "cell_type": "markdown",
   "metadata": {
    "colab_type": "text",
    "id": "5Ol-BkfxIqK2"
   },
   "source": [
    "Confidence intervals are an important part of inferential statistics, upon which most market research is based. In this session, we see how a confidence interval is calculated and later work on challenges."
   ]
  },
  {
   "cell_type": "markdown",
   "metadata": {
    "colab_type": "text",
    "id": "Fbf4tbuW6unw"
   },
   "source": [
    "## Example "
   ]
  },
  {
   "cell_type": "code",
   "execution_count": 0,
   "metadata": {
    "colab": {
     "base_uri": "https://localhost:8080/",
     "height": 34
    },
    "colab_type": "code",
    "id": "3Inq2JoV-pvd",
    "outputId": "e57ca6de-395b-4831-dc45-e706c72c3bab"
   },
   "outputs": [
    {
     "data": {
      "text/plain": [
       "(1.7604099353908769, 4.239590064609123)"
      ]
     },
     "execution_count": 22,
     "metadata": {
      "tags": []
     },
     "output_type": "execute_result"
    }
   ],
   "source": [
    "# Example 1\n",
    "# ---\n",
    "# Calculate a 95% confidence interval for the mean of the given data\n",
    "# ---\n",
    "# data = [1, 2, 3, 4, 5]\n",
    "# ---\n",
    "# \n",
    "\n",
    "# Importing scipy.stats\n",
    "import scipy.stats as stats\n",
    "\n",
    "# defining our data\n",
    "data = np.array([1, 2, 3, 4, 5])\n",
    "\n",
    "# Calculating the sample mean of final data\n",
    "#\n",
    "sample_mean = data.mean()\n",
    "sample_mean\n",
    "\n",
    "# Finding the sample size\n",
    "#\n",
    "sample_size = data.shape[0]\n",
    "sample_size\n",
    "\n",
    "# Finding the standard error of the mean of data \n",
    "#\n",
    "std_error = data.std() / np.sqrt(sample_size)\n",
    "std_error\n",
    "\n",
    "# Calculating the 95% Confidence Interval for mean data \n",
    "# To calculate the confidence interval, we will use the norm object from the statssubpackage. \n",
    "# The norm object has an interval() method that receives three inputs \n",
    "# – our chosen confidence interval 0.95, and the sample mean and standard error of the mean.  \n",
    "# \n",
    "stats.norm.interval(0.95, loc=sample_mean, scale=std_error)\n",
    "\n",
    "# We can be 95% certain that the population mean data is between 1.7 and 4.23"
   ]
  },
  {
   "cell_type": "markdown",
   "metadata": {
    "colab_type": "text",
    "id": "0AdnQjq761ox"
   },
   "source": [
    "## <font color=\"green\">Challenges</font>"
   ]
  },
  {
   "cell_type": "code",
   "execution_count": 0,
   "metadata": {
    "colab": {},
    "colab_type": "code",
    "id": "pJ14LB7i62zL"
   },
   "outputs": [],
   "source": [
    "# Challenge 1\n",
    "# ---\n",
    "# Determine with 95% confidence interval the average of height of Kenyan men at a national level.\n",
    "# ---\n",
    "# height = [ 186.0, 180.0, 195.0, 189.0, 191.0, 177.0, 161.0, 177.0, 192.0, 179.0, 185.0, 192.0,\n",
    "#  169.0, 172.0, 191.0, 184.0, 193.0, 182.0, 190.0, 185.0, 179.0, 188.0, 179.0, 188.0,\n",
    "#  170.0, 179.0, 195.0, 179.0, 169.0, 185.0, 170.0, 197.0, 187.0, 177.0, 173.0, 179.0,\n",
    "#  195.0, 179.0, 190.0, 174.0, 195.0, 206.0, 180.0, 169.0, 178.0, 201.0, 180.0, 180.0,\n",
    "#  171.0, 191.0]\n",
    "# ---\n",
    "#\n",
    "OUR CODE GOES HERE"
   ]
  },
  {
   "cell_type": "code",
   "execution_count": 0,
   "metadata": {
    "colab": {},
    "colab_type": "code",
    "id": "nYWuRgLW6-Gt"
   },
   "outputs": [],
   "source": [
    "# Challenge 2\n",
    "# ---\n",
    "# Twelve users attempted to add a channel on their digital decoder TV to a list of favorites.\n",
    "# After the task they rated the difficulty on the 7 point Single Ease Question.  \n",
    "# Compute the 95% confidence interval. The responses are shown below\n",
    "# ---\n",
    "# difficulty = [2, 6, 4, 1, 7, 3, 6, 1, 7, 1, 6, 5, 1, 1]\n",
    "# \n",
    "OUR CODE GOES HERE"
   ]
  },
  {
   "cell_type": "code",
   "execution_count": 0,
   "metadata": {
    "colab": {},
    "colab_type": "code",
    "id": "ilKw3ozG6_JB"
   },
   "outputs": [],
   "source": [
    "# Challenge 3\n",
    "# ---\n",
    "# Calculate the 95% confidence interval for the mean of longlife-life insecticide \n",
    "# treated mosquito net (LLIN) distributions by the Against Malaria Foundation.\n",
    "# ---\n",
    "# Dataset url = http://bit.ly/MalariaDataset\n",
    "# \n",
    "OUR CODE GOES HERE"
   ]
  }
 ],
 "metadata": {
  "colab": {
   "collapsed_sections": [
    "Fbf4tbuW6unw",
    "0AdnQjq761ox"
   ],
   "name": "Python Programming: Interval Estimation",
   "provenance": [],
   "toc_visible": true
  },
  "kernelspec": {
   "display_name": "Python 3",
   "language": "python",
   "name": "python3"
  },
  "language_info": {
   "codemirror_mode": {
    "name": "ipython",
    "version": 3
   },
   "file_extension": ".py",
   "mimetype": "text/x-python",
   "name": "python",
   "nbconvert_exporter": "python",
   "pygments_lexer": "ipython3",
   "version": "3.7.6"
  }
 },
 "nbformat": 4,
 "nbformat_minor": 1
}
