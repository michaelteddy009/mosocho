{
 "cells": [
  {
   "cell_type": "markdown",
   "metadata": {
    "colab_type": "text",
    "id": "zNHYvhDaR-xq"
   },
   "source": [
    "To start working on this notebook, or any other notebook that we will use in the Moringa Data Science Course, we will need to save our own copy of it. We can do this by clicking File > Save a Copy in Drive. We will then be able to make edits to our own copy of this notebook."
   ]
  },
  {
   "cell_type": "markdown",
   "metadata": {
    "colab_type": "text",
    "id": "A-w4CzgeOFgQ"
   },
   "source": [
    "# Tuesday: How to Fit Data to a Normal Distribution using Python"
   ]
  },
  {
   "cell_type": "markdown",
   "metadata": {
    "colab_type": "text",
    "id": "e0-YbfchRuU5"
   },
   "source": [
    "MLE is a technique that enables you to estimate the parameters of a certain random variable given only a sample by generating a distribution which makes the observed results the most likely to have occurred. "
   ]
  },
  {
   "cell_type": "markdown",
   "metadata": {
    "colab_type": "text",
    "id": "Lc6LeeVZSVzk"
   },
   "source": [
    "## Example"
   ]
  },
  {
   "cell_type": "code",
   "execution_count": 0,
   "metadata": {
    "colab": {},
    "colab_type": "code",
    "id": "pdwdUIbtNjPZ"
   },
   "outputs": [],
   "source": [
    "# Example 1\n",
    "# ---\n",
    "# Let's see an example of MLE and distribution fitting with Python from a random sample.\n",
    "# ---\n",
    "# \n",
    "\n",
    "# Importing the libraries to be used\n",
    "# \n",
    "from scipy.stats import norm\n",
    "import matplotlib.pyplot as plt\n",
    "import numpy as np"
   ]
  },
  {
   "cell_type": "code",
   "execution_count": 0,
   "metadata": {
    "colab": {
     "base_uri": "https://localhost:8080/",
     "height": 727
    },
    "colab_type": "code",
    "id": "5_zd1yNpO82Q",
    "outputId": "d01d55d7-492b-45f8-89e6-be29ef722010"
   },
   "outputs": [
    {
     "data": {
      "text/plain": [
       "array([ 0.39221077, -0.93817757,  0.63022826, -0.48020915,  1.90185195,\n",
       "       -0.16369016, -0.48388441,  0.55791158, -0.41107485, -0.71091771,\n",
       "       -0.73638834,  0.7746578 , -0.9504504 ,  1.53883348, -0.91091355,\n",
       "        0.37467697, -0.38605121,  1.20234267, -0.26831625,  0.43218365,\n",
       "       -0.29387689,  0.52846188,  0.2692511 , -0.3288542 , -2.0984795 ,\n",
       "       -0.2508684 ,  0.41175853, -0.66878578,  1.20041463, -1.4625764 ,\n",
       "        1.20500035, -0.9218179 , -0.94492321, -0.75453499, -0.56799936,\n",
       "        1.43018502, -0.74572928, -1.31773223,  0.27528715,  0.96677773,\n",
       "       -1.12308785,  0.51846207,  0.14547621, -1.26850688,  1.59782611,\n",
       "       -0.69534387, -0.26595355, -0.67472867, -0.29199764,  0.42500573,\n",
       "        0.56227098,  0.80709963,  0.14156645, -0.34907853,  3.40760634,\n",
       "        0.09752398,  1.23242816, -0.17661705,  0.55592689, -1.69181977,\n",
       "        1.31467948, -1.24891198,  1.27011464,  0.89457855,  0.50565336,\n",
       "        0.33628594,  1.81628464,  0.59986159,  0.7529652 ,  0.20476506,\n",
       "       -0.30442046,  0.88840027, -1.14846326, -1.30501181, -0.774898  ,\n",
       "       -0.02886726,  0.31607879, -0.01529658,  1.71324633, -1.11687272,\n",
       "        1.04361695, -0.47350113, -0.22302295,  0.06523452,  0.54029003,\n",
       "       -1.12443085,  0.39774866, -0.39412706, -0.85844839, -0.47402393,\n",
       "        0.74338517,  0.28248602,  0.04655363,  0.98764219,  0.80253988,\n",
       "       -0.00405696,  1.42678979,  0.53284778, -2.27986646,  1.25888071,\n",
       "       -2.50715577,  0.04572547, -0.17253219, -1.20352713,  0.65054582,\n",
       "       -1.81489598,  0.67768461,  0.84651054, -1.15809038, -0.14346791,\n",
       "        0.58600772,  1.52857182, -0.85824639, -0.05819447,  1.87380086,\n",
       "       -1.47069956,  0.7003983 ,  1.03736778, -2.04970438, -1.75384577,\n",
       "       -1.15050478, -1.36313942, -1.31402083, -1.37891221,  1.02720611,\n",
       "       -0.28511597, -0.28657733, -1.02865953, -1.88924857,  0.55202859,\n",
       "       -2.61607048, -1.36549423,  1.05364534,  0.07641452, -1.93301128,\n",
       "        0.75425425, -2.03416486,  0.76485314, -1.21885612, -0.79744419,\n",
       "       -0.60576248, -0.4080555 , -0.44795634,  0.87453639, -0.5607544 ,\n",
       "        0.17303591, -0.5173836 ,  1.74573256,  1.63707401, -0.81993189,\n",
       "        1.71798788,  2.22029966,  1.10443764, -0.4773059 , -0.03480746,\n",
       "       -0.45579482, -0.13469913,  0.43171388, -2.32484676, -0.10630226,\n",
       "       -0.10534808, -0.47761482,  0.42150698,  0.41201472, -1.4673742 ,\n",
       "       -0.86536328,  0.1718458 , -1.26008133, -0.4956742 ,  1.53069443,\n",
       "       -0.0263281 ,  1.23846238,  0.52771913, -0.15978012,  1.37320495,\n",
       "       -0.39336394, -0.59231707,  1.19234069, -0.30007895,  0.31686759,\n",
       "       -0.45008266,  1.09010252,  0.60597151, -1.06467271,  0.35281972,\n",
       "        1.03860873,  0.96999153,  0.81657013,  0.0680206 , -0.95465221,\n",
       "       -0.0894569 , -1.19473533, -0.29225525,  0.4781962 , -0.72847105,\n",
       "       -0.7165464 , -0.01840667, -0.95133101, -0.77139296, -1.05805448])"
      ]
     },
     "execution_count": 23,
     "metadata": {
      "tags": []
     },
     "output_type": "execute_result"
    }
   ],
   "source": [
    "# Generating an array of 200 random sample from a normal dist with \n",
    "# mean 0 and stdv 1\n",
    "#\n",
    "random_sample = norm.rvs(loc=0,scale=1,size=200) \n",
    "random_sample\n"
   ]
  },
  {
   "cell_type": "code",
   "execution_count": 0,
   "metadata": {
    "colab": {},
    "colab_type": "code",
    "id": "fi3pUc1dPAAf"
   },
   "outputs": [],
   "source": [
    "# Distribution fitting\n",
    "# norm.fit(data) returns a list of two parameters \n",
    "# (mean, parameters[0] and std, parameters[1]) via a MLE approach \n",
    "# to data, which should be in array form.\n",
    "#\n",
    "parameters = norm.fit(random_sample)"
   ]
  },
  {
   "cell_type": "code",
   "execution_count": 0,
   "metadata": {
    "colab": {},
    "colab_type": "code",
    "id": "ZWdilEboPDid"
   },
   "outputs": [],
   "source": [
    "# now, parameters[0] and parameters[1] are the mean and \n",
    "# the standard deviation of the fitted distribution\n",
    "#\n",
    "x = np.linspace(-5,5,100)"
   ]
  },
  {
   "cell_type": "code",
   "execution_count": 0,
   "metadata": {
    "colab": {},
    "colab_type": "code",
    "id": "1ZIislJ64yuY"
   },
   "outputs": [],
   "source": []
  },
  {
   "cell_type": "code",
   "execution_count": 0,
   "metadata": {
    "colab": {},
    "colab_type": "code",
    "id": "3wZYCnOOPGoL"
   },
   "outputs": [],
   "source": [
    "# Generateingthe pdf - probability density function (fitted distribution)\n",
    "# \n",
    "fitted_pdf = norm.pdf(x,loc = parameters[0],scale = parameters[1])"
   ]
  },
  {
   "cell_type": "code",
   "execution_count": 0,
   "metadata": {
    "colab": {},
    "colab_type": "code",
    "id": "mLdeVwI4PXGA"
   },
   "outputs": [],
   "source": [
    "# Generating the pdf - probability density function (normal distribution non fitted)\n",
    "# \n",
    "normal_pdf = norm.pdf(x)"
   ]
  },
  {
   "cell_type": "code",
   "execution_count": 0,
   "metadata": {
    "colab": {
     "base_uri": "https://localhost:8080/",
     "height": 334
    },
    "colab_type": "code",
    "id": "qfe3rU_VPPu2",
    "outputId": "bb6a9a0a-51f8-44f4-ab33-0438421e72da"
   },
   "outputs": [
    {
     "name": "stderr",
     "output_type": "stream",
     "text": [
      "/usr/local/lib/python3.6/dist-packages/matplotlib/axes/_axes.py:6521: MatplotlibDeprecationWarning: \n",
      "The 'normed' kwarg was deprecated in Matplotlib 2.1 and will be removed in 3.1. Use 'density' instead.\n",
      "  alternative=\"'density'\", removal=\"3.1\")\n"
     ]
    },
    {
     "data": {
      "image/png": "[encoded data removed]",
      "text/plain": [
       "<Figure size 432x288 with 1 Axes>"
      ]
     },
     "metadata": {
      "tags": []
     },
     "output_type": "display_data"
    }
   ],
   "source": [
    "# Then finally displaying our plot\n",
    "# \n",
    "plt.plot(x,fitted_pdf,\"red\",label=\"Fitted normal dist\",linestyle=\"dashed\", linewidth=2)\n",
    "plt.plot(x,normal_pdf,\"blue\",label=\"Normal dist\", linewidth=2)\n",
    "plt.hist(random_sample,normed=1,color=\"cyan\",alpha=.3) #alpha, from 0 (transparent) to 1 (opaque)\n",
    "plt.title(\"Normal distribution fitting\") \n",
    "plt.legend() \n",
    "plt.show()"
   ]
  },
  {
   "cell_type": "markdown",
   "metadata": {
    "colab_type": "text",
    "id": "yMT1v9f3OPY-"
   },
   "source": [
    "## <font color=\"green\">Challenges</font>"
   ]
  },
  {
   "cell_type": "code",
   "execution_count": 0,
   "metadata": {
    "colab": {},
    "colab_type": "code",
    "id": "Jqfp3FHiOYAf"
   },
   "outputs": [],
   "source": [
    "# Challenge 1\n",
    "# ---\n",
    "# Generate a random sample of size 50 and fit the data to a normal distribution\n",
    "# ---\n",
    "# \n",
    "random_sample = norm.rvs(loc=0,scale=1,size=50) "
   ]
  },
  {
   "cell_type": "code",
   "execution_count": 0,
   "metadata": {
    "colab": {
     "base_uri": "https://localhost:8080/",
     "height": 34
    },
    "colab_type": "code",
    "id": "APV3ife_Rguu",
    "outputId": "12d52373-4929-4f62-f17b-510d562010d5"
   },
   "outputs": [
    {
     "data": {
      "text/plain": [
       "StandardScaler(copy=True, with_mean=True, with_std=True)"
      ]
     },
     "execution_count": 22,
     "metadata": {
      "tags": []
     },
     "output_type": "execute_result"
    }
   ],
   "source": [
    "# Challenge 2\n",
    "# ---\n",
    "# Fit the following data to a normal distribution\n",
    "# ---\n",
    "# 7.62 6.30 5.83 6.50 8.34 9.81 7.10 6.80 5.90 7.89 6.50 5.52 7.90 6.30 9.10\n",
    "# ---\n",
    "# \n",
    "from sklearn.preprocessing import StandardScaler\n",
    "#data = np.array[(7.62, 6.30), (5.83, 6.50), (8.34, 9.81), (7.10, 6.80), (5.90, 7.89), (6.50, 5.52), (7.90, 6.30)] #, 9.10]\n",
    "data = (7.62, 6.30, 5.83, 6.50, 8.34, 9.81, 7.10, 6.80, 5.90, 7.89, 6.50, 5.52, 7.90, 6.30, 9.10)\n",
    "scaler = StandardScaler()\n",
    "#print(scaler.fit(data))\n",
    "StandardScaler(copy=True, with_mean=True, with_std=True)\n"
   ]
  },
  {
   "cell_type": "code",
   "execution_count": 0,
   "metadata": {
    "colab": {},
    "colab_type": "code",
    "id": "HzGvpPXblUcm"
   },
   "outputs": [],
   "source": [
    "x = np.array([7.62, 6.30, 5.83, 6.50, 8.34, 9.81, 7.10, 6.80, 5.90, 7.89, 6.50, 5.52, 7.90, 6.30, 9.10])\n",
    "normal_data = np.linspace(4, 10, 100)\n",
    "parameters = norm.fit(normal_data)\n",
    "norm_mean = parameters[0]\n",
    "norm_std = parameters[1]"
   ]
  },
  {
   "cell_type": "code",
   "execution_count": 0,
   "metadata": {
    "colab": {
     "base_uri": "https://localhost:8080/",
     "height": 660
    },
    "colab_type": "code",
    "id": "6tHkQHd8qG_w",
    "outputId": "9b718183-49c1-4ca6-e127-088b2ad0c35b"
   },
   "outputs": [
    {
     "ename": "ValueError",
     "evalue": "ignored",
     "output_type": "error",
     "traceback": [
      "\u001b[0;31m---------------------------------------------------------------------------\u001b[0m",
      "\u001b[0;31mValueError\u001b[0m                                Traceback (most recent call last)",
      "\u001b[0;32m<ipython-input-30-b705e872c041>\u001b[0m in \u001b[0;36m<module>\u001b[0;34m()\u001b[0m\n\u001b[1;32m     12\u001b[0m \u001b[0mplt\u001b[0m\u001b[0;34m.\u001b[0m\u001b[0mplot\u001b[0m\u001b[0;34m(\u001b[0m\u001b[0mx\u001b[0m\u001b[0;34m,\u001b[0m \u001b[0mx_fitted\u001b[0m\u001b[0;34m,\u001b[0m\u001b[0mcolor\u001b[0m \u001b[0;34m=\u001b[0m \u001b[0;34m'r'\u001b[0m\u001b[0;34m,\u001b[0m \u001b[0mlabel\u001b[0m \u001b[0;34m=\u001b[0m \u001b[0;34m'x fitted'\u001b[0m\u001b[0;34m)\u001b[0m\u001b[0;34m\u001b[0m\u001b[0;34m\u001b[0m\u001b[0m\n\u001b[1;32m     13\u001b[0m \u001b[0mplt\u001b[0m\u001b[0;34m.\u001b[0m\u001b[0mplot\u001b[0m\u001b[0;34m(\u001b[0m\u001b[0mx\u001b[0m\u001b[0;34m,\u001b[0m \u001b[0mx_norm\u001b[0m\u001b[0;34m,\u001b[0m \u001b[0mcolor\u001b[0m\u001b[0;34m=\u001b[0m\u001b[0;34m'b'\u001b[0m\u001b[0;34m,\u001b[0m \u001b[0mlabel\u001b[0m\u001b[0;34m=\u001b[0m\u001b[0;34m'x_normal'\u001b[0m\u001b[0;34m)\u001b[0m\u001b[0;34m\u001b[0m\u001b[0;34m\u001b[0m\u001b[0m\n\u001b[0;32m---> 14\u001b[0;31m \u001b[0mplt\u001b[0m\u001b[0;34m.\u001b[0m\u001b[0mscatter\u001b[0m\u001b[0;34m(\u001b[0m\u001b[0mx_fitted\u001b[0m\u001b[0;34m,\u001b[0m\u001b[0mnormal_data\u001b[0m\u001b[0;34m,\u001b[0m\u001b[0mdensity\u001b[0m\u001b[0;34m=\u001b[0m\u001b[0;36m1\u001b[0m\u001b[0;34m,\u001b[0m\u001b[0mcolor\u001b[0m\u001b[0;34m=\u001b[0m\u001b[0;34m\"cyan\"\u001b[0m\u001b[0;34m,\u001b[0m \u001b[0malpha\u001b[0m\u001b[0;34m=\u001b[0m\u001b[0;36m.3\u001b[0m\u001b[0;34m)\u001b[0m\u001b[0;34m\u001b[0m\u001b[0;34m\u001b[0m\u001b[0m\n\u001b[0m\u001b[1;32m     15\u001b[0m \u001b[0;31m#x, y, s=area, c=colors, alpha=0.5\u001b[0m\u001b[0;34m\u001b[0m\u001b[0;34m\u001b[0m\u001b[0;34m\u001b[0m\u001b[0m\n\u001b[1;32m     16\u001b[0m \u001b[0mplt\u001b[0m\u001b[0;34m.\u001b[0m\u001b[0mlegend\u001b[0m\u001b[0;34m(\u001b[0m\u001b[0;34m)\u001b[0m\u001b[0;34m\u001b[0m\u001b[0;34m\u001b[0m\u001b[0m\n",
      "\u001b[0;32m/usr/local/lib/python3.6/dist-packages/matplotlib/pyplot.py\u001b[0m in \u001b[0;36mscatter\u001b[0;34m(x, y, s, c, marker, cmap, norm, vmin, vmax, alpha, linewidths, verts, edgecolors, data, **kwargs)\u001b[0m\n\u001b[1;32m   2860\u001b[0m         \u001b[0mvmin\u001b[0m\u001b[0;34m=\u001b[0m\u001b[0mvmin\u001b[0m\u001b[0;34m,\u001b[0m \u001b[0mvmax\u001b[0m\u001b[0;34m=\u001b[0m\u001b[0mvmax\u001b[0m\u001b[0;34m,\u001b[0m \u001b[0malpha\u001b[0m\u001b[0;34m=\u001b[0m\u001b[0malpha\u001b[0m\u001b[0;34m,\u001b[0m \u001b[0mlinewidths\u001b[0m\u001b[0;34m=\u001b[0m\u001b[0mlinewidths\u001b[0m\u001b[0;34m,\u001b[0m\u001b[0;34m\u001b[0m\u001b[0;34m\u001b[0m\u001b[0m\n\u001b[1;32m   2861\u001b[0m         verts=verts, edgecolors=edgecolors, **({\"data\": data} if data\n\u001b[0;32m-> 2862\u001b[0;31m         is not None else {}), **kwargs)\n\u001b[0m\u001b[1;32m   2863\u001b[0m     \u001b[0msci\u001b[0m\u001b[0;34m(\u001b[0m\u001b[0m__ret\u001b[0m\u001b[0;34m)\u001b[0m\u001b[0;34m\u001b[0m\u001b[0;34m\u001b[0m\u001b[0m\n\u001b[1;32m   2864\u001b[0m     \u001b[0;32mreturn\u001b[0m \u001b[0m__ret\u001b[0m\u001b[0;34m\u001b[0m\u001b[0;34m\u001b[0m\u001b[0m\n",
      "\u001b[0;32m/usr/local/lib/python3.6/dist-packages/matplotlib/__init__.py\u001b[0m in \u001b[0;36minner\u001b[0;34m(ax, data, *args, **kwargs)\u001b[0m\n\u001b[1;32m   1808\u001b[0m                         \u001b[0;34m\"the Matplotlib list!)\"\u001b[0m \u001b[0;34m%\u001b[0m \u001b[0;34m(\u001b[0m\u001b[0mlabel_namer\u001b[0m\u001b[0;34m,\u001b[0m \u001b[0mfunc\u001b[0m\u001b[0;34m.\u001b[0m\u001b[0m__name__\u001b[0m\u001b[0;34m)\u001b[0m\u001b[0;34m,\u001b[0m\u001b[0;34m\u001b[0m\u001b[0;34m\u001b[0m\u001b[0m\n\u001b[1;32m   1809\u001b[0m                         RuntimeWarning, stacklevel=2)\n\u001b[0;32m-> 1810\u001b[0;31m             \u001b[0;32mreturn\u001b[0m \u001b[0mfunc\u001b[0m\u001b[0;34m(\u001b[0m\u001b[0max\u001b[0m\u001b[0;34m,\u001b[0m \u001b[0;34m*\u001b[0m\u001b[0margs\u001b[0m\u001b[0;34m,\u001b[0m \u001b[0;34m**\u001b[0m\u001b[0mkwargs\u001b[0m\u001b[0;34m)\u001b[0m\u001b[0;34m\u001b[0m\u001b[0;34m\u001b[0m\u001b[0m\n\u001b[0m\u001b[1;32m   1811\u001b[0m \u001b[0;34m\u001b[0m\u001b[0m\n\u001b[1;32m   1812\u001b[0m         inner.__doc__ = _add_data_doc(inner.__doc__,\n",
      "\u001b[0;32m/usr/local/lib/python3.6/dist-packages/matplotlib/axes/_axes.py\u001b[0m in \u001b[0;36mscatter\u001b[0;34m(self, x, y, s, c, marker, cmap, norm, vmin, vmax, alpha, linewidths, verts, edgecolors, **kwargs)\u001b[0m\n\u001b[1;32m   4180\u001b[0m         \u001b[0my\u001b[0m \u001b[0;34m=\u001b[0m \u001b[0mnp\u001b[0m\u001b[0;34m.\u001b[0m\u001b[0mma\u001b[0m\u001b[0;34m.\u001b[0m\u001b[0mravel\u001b[0m\u001b[0;34m(\u001b[0m\u001b[0my\u001b[0m\u001b[0;34m)\u001b[0m\u001b[0;34m\u001b[0m\u001b[0;34m\u001b[0m\u001b[0m\n\u001b[1;32m   4181\u001b[0m         \u001b[0;32mif\u001b[0m \u001b[0mx\u001b[0m\u001b[0;34m.\u001b[0m\u001b[0msize\u001b[0m \u001b[0;34m!=\u001b[0m \u001b[0my\u001b[0m\u001b[0;34m.\u001b[0m\u001b[0msize\u001b[0m\u001b[0;34m:\u001b[0m\u001b[0;34m\u001b[0m\u001b[0;34m\u001b[0m\u001b[0m\n\u001b[0;32m-> 4182\u001b[0;31m             \u001b[0;32mraise\u001b[0m \u001b[0mValueError\u001b[0m\u001b[0;34m(\u001b[0m\u001b[0;34m\"x and y must be the same size\"\u001b[0m\u001b[0;34m)\u001b[0m\u001b[0;34m\u001b[0m\u001b[0;34m\u001b[0m\u001b[0m\n\u001b[0m\u001b[1;32m   4183\u001b[0m \u001b[0;34m\u001b[0m\u001b[0m\n\u001b[1;32m   4184\u001b[0m         \u001b[0;32mif\u001b[0m \u001b[0ms\u001b[0m \u001b[0;32mis\u001b[0m \u001b[0;32mNone\u001b[0m\u001b[0;34m:\u001b[0m\u001b[0;34m\u001b[0m\u001b[0;34m\u001b[0m\u001b[0m\n",
      "\u001b[0;31mValueError\u001b[0m: x and y must be the same size"
     ]
    },
    {
     "data": {
      "image/png": "[encoded data removed]",
      "text/plain": [
       "<Figure size 432x288 with 1 Axes>"
      ]
     },
     "metadata": {
      "tags": []
     },
     "output_type": "display_data"
    }
   ],
   "source": [
    "\n",
    "x = np.array([7.62, 6.30, 5.83, 6.50, 8.34, 9.81, 7.10, 6.80, 5.90, 7.89, 6.50, 5.52, 7.90, 6.30, 9.10])\n",
    "\n",
    "normal_data = np.linspace(4, 10, 100)\n",
    "parameters = norm.fit(normal_data)\n",
    "norm_mean = parameters[0]\n",
    "norm_std = parameters[1]\n",
    "\n",
    "x_fitted = norm.pdf(x, loc = norm_mean, scale = norm_std)\n",
    "x_norm = norm.pdf(x)\n",
    "\n",
    "plt.plot(x, x_fitted,color = 'r', label = 'x fitted')\n",
    "plt.plot(x, x_norm, color='b', label='x_normal')\n",
    "plt.scatter(x_fitted,normal_data,density=1,color=\"cyan\", alpha=.3)\n",
    "#x, y, s=area, c=colors, alpha=0.5\n",
    "plt.legend()\n",
    "plt.show()"
   ]
  },
  {
   "cell_type": "code",
   "execution_count": 0,
   "metadata": {
    "colab": {},
    "colab_type": "code",
    "id": "4KvmFUlBqHG5"
   },
   "outputs": [],
   "source": []
  },
  {
   "cell_type": "code",
   "execution_count": 0,
   "metadata": {
    "colab": {},
    "colab_type": "code",
    "id": "qr4UVwwrqHQM"
   },
   "outputs": [],
   "source": []
  },
  {
   "cell_type": "code",
   "execution_count": 0,
   "metadata": {
    "colab": {},
    "colab_type": "code",
    "id": "lH5SncsVOZyB"
   },
   "outputs": [],
   "source": [
    "# Challenge 3\n",
    "# ---\n",
    "# A manufacturing company produces steel housings for electrical equipment. \n",
    "# The main component part of the housing is a steel trough that is made out of a 14-gauge steel coil. \n",
    "# It is produced using a 250-ton progressive punch press with a wipe-down operation that puts \n",
    "# two 90-degree forms in the flat steel to make the trough. \n",
    "# The distance from one side of the form to the other is critical because of weatherproofing in outdoor applications. \n",
    "# The company requires that the width of the trough be between 8.31 inches and 8.61 inches. \n",
    "# Below is the widths of the troughs, in inches, for a sample of n = 49.\n",
    "# Fit the given data to a normal distibution\n",
    "# ---\n",
    "# 8.312 8.343 8.476 8.382 8.436 8.413 8.460 8.444 8.396 8.447\n",
    "# 8.317 8.383 8.484 8.403 8.489 8.414 8.429 8.460 8.405 8.439\n",
    "# 8.348 8.410 8.351 8.414 8.419 8.385 8.481 8.415 8.479 8.412 8.420 8.410 8.411 8.427 8.420\n",
    "# 8.373 8.481 8.465 8.498 8.429 8.458 8.405 8.323 8.498 8.409\n",
    "# 8.422 8.447 8.462 8.420\n",
    "# ---\n",
    "#\n",
    "OUR CODE GOES HERE"
   ]
  }
 ],
 "metadata": {
  "colab": {
   "collapsed_sections": [
    "Lc6LeeVZSVzk",
    "yMT1v9f3OPY-"
   ],
   "name": "Tuesday: How to Fit Data to a Normal Distribution using Python",
   "provenance": [],
   "toc_visible": true
  },
  "kernelspec": {
   "display_name": "Python 3",
   "language": "python",
   "name": "python3"
  },
  "language_info": {
   "codemirror_mode": {
    "name": "ipython",
    "version": 3
   },
   "file_extension": ".py",
   "mimetype": "text/x-python",
   "name": "python",
   "nbconvert_exporter": "python",
   "pygments_lexer": "ipython3",
   "version": "3.7.6"
  }
 },
 "nbformat": 4,
 "nbformat_minor": 1
}
