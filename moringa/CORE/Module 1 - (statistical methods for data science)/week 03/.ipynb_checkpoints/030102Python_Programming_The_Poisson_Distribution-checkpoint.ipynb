{
 "cells": [
  {
   "cell_type": "markdown",
   "metadata": {
    "colab_type": "text",
    "id": "B6aB2C4MohHT"
   },
   "source": [
    "<font color=\"green\">*To start working on this notebook, or any other notebook that we will use in the Moringa Data Science Course, we will need to save our own copy of it. We can do this by clicking File > Save a Copy in Drive. We will then be able to make edits to our own copy of this notebook.*</font>"
   ]
  },
  {
   "cell_type": "markdown",
   "metadata": {
    "colab_type": "text",
    "id": "SDSkLLGrJqLF"
   },
   "source": [
    "# Python Programming: Poisson Distribution"
   ]
  },
  {
   "cell_type": "markdown",
   "metadata": {
    "colab_type": "text",
    "id": "qbU9R__X9No0"
   },
   "source": [
    "## Importing Our Libraries"
   ]
  },
  {
   "cell_type": "code",
   "execution_count": 0,
   "metadata": {
    "colab": {},
    "colab_type": "code",
    "id": "Uw2dkvyv9Mfo"
   },
   "outputs": [],
   "source": [
    "# \n",
    "# importing poisson from scipy \n",
    "#\n",
    "from scipy.stats import poisson"
   ]
  },
  {
   "cell_type": "markdown",
   "metadata": {
    "colab_type": "text",
    "id": "IrKYwHaHJsQJ"
   },
   "source": [
    "## 1.0 Basic Questions "
   ]
  },
  {
   "cell_type": "code",
   "execution_count": 1,
   "metadata": {
    "colab": {},
    "colab_type": "code",
    "id": "mGhBTwuqJn69"
   },
   "outputs": [
    {
     "ename": "NameError",
     "evalue": "name 'x' is not defined",
     "output_type": "error",
     "traceback": [
      "\u001b[1;31m---------------------------------------------------------------------------\u001b[0m",
      "\u001b[1;31mNameError\u001b[0m                                 Traceback (most recent call last)",
      "\u001b[1;32m<ipython-input-1-9f4794c6a568>\u001b[0m in \u001b[0;36m<module>\u001b[1;34m\u001b[0m\n\u001b[0;32m     18\u001b[0m \u001b[1;31m# The value at x of the probability density function f(x) is:\u001b[0m\u001b[1;33m\u001b[0m\u001b[1;33m\u001b[0m\u001b[1;33m\u001b[0m\u001b[0m\n\u001b[0;32m     19\u001b[0m \u001b[1;31m#\u001b[0m\u001b[1;33m\u001b[0m\u001b[1;33m\u001b[0m\u001b[1;33m\u001b[0m\u001b[0m\n\u001b[1;32m---> 20\u001b[1;33m \u001b[0mprint\u001b[0m\u001b[1;33m(\u001b[0m\u001b[1;34m\"The value of the probability density function at x =\"\u001b[0m\u001b[1;33m,\u001b[0m \u001b[0mx\u001b[0m\u001b[1;33m,\u001b[0m \u001b[1;34m\"is f(x) =\"\u001b[0m\u001b[1;33m,\u001b[0m \u001b[0mpoisson\u001b[0m\u001b[1;33m.\u001b[0m\u001b[0mpmf\u001b[0m\u001b[1;33m(\u001b[0m\u001b[0mlambda_\u001b[0m\u001b[1;33m,\u001b[0m \u001b[0mmean\u001b[0m\u001b[1;33m)\u001b[0m\u001b[1;33m)\u001b[0m\u001b[1;33m\u001b[0m\u001b[1;33m\u001b[0m\u001b[0m\n\u001b[0m",
      "\u001b[1;31mNameError\u001b[0m: name 'x' is not defined"
     ]
    }
   ],
   "source": [
    "# Example 1\n",
    "# ---\n",
    "# Question: An average of 20 customers walks into a store in a given hour. \n",
    "# What is the probability that 25 customers walk into a store in the next hour?\n",
    "# ---\n",
    "\n",
    "# Assigning the value of the mean of the distribution\n",
    "# This is average number of successes over a given time period. \n",
    "# \n",
    "mean = 12\n",
    "\n",
    "# Assigning the value of x (integer) at which the value of the density function is required\n",
    "# This is our random variable; The number of successes we want to find the probability mass of \n",
    "#given our knowledge of mean.\n",
    "#\n",
    "lambda_ = 5\n",
    "\n",
    "# The value at x of the probability density function f(x) is:\n",
    "#\n",
    "print(\"The value of the probability density function at x =\", x, \"is f(x) =\", poisson.pmf(lambda_, mean))"
   ]
  },
  {
   "cell_type": "markdown",
   "metadata": {
    "colab_type": "text",
    "id": "2qQrDLNp3cav"
   },
   "source": [
    "### <font color=\"green\">1.0 Challenges</font>"
   ]
  },
  {
   "cell_type": "code",
   "execution_count": 0,
   "metadata": {
    "colab": {},
    "colab_type": "code",
    "id": "GcWHfnUX9wqU"
   },
   "outputs": [],
   "source": [
    "# Challenge 1\n",
    "# ---\n",
    "# Question: A police officer pulls over an average of 3 people for speeding violations per shift. \n",
    "# What is the probability that the officer will pull over two people for speeding violations during their next shift?\n",
    "# ---\n",
    "# Expected Output: 0.22404180765538775\n",
    "# \n",
    "OUR CODE GOES HERE"
   ]
  },
  {
   "cell_type": "code",
   "execution_count": 0,
   "metadata": {
    "colab": {},
    "colab_type": "code",
    "id": "IT8UssIhKwcO"
   },
   "outputs": [],
   "source": [
    "# Challenge 2\n",
    "# ---\n",
    "# Question: A fireman fights, on average, 4 fires per month. \n",
    "# What is the probability that a fireman is called to two different fires this week?\n",
    "# ---\n",
    "# Expected Output: 0.18393972058572117\n",
    "# \n",
    "OUR CODE GOES HERE"
   ]
  },
  {
   "cell_type": "code",
   "execution_count": 0,
   "metadata": {
    "colab": {},
    "colab_type": "code",
    "id": "enLvIGpT3kU2"
   },
   "outputs": [],
   "source": [
    "# Challenge 3\n",
    "# ---\n",
    "# Question: A car salesman sells an average of 4 cars per week. What is the probability they sell a car today?\n",
    "# ---\n",
    "# Expected Output: 0.32269606971871956\n",
    "#\n",
    "OUR CODE GOES HERE"
   ]
  },
  {
   "cell_type": "code",
   "execution_count": 0,
   "metadata": {
    "colab": {},
    "colab_type": "code",
    "id": "wgQNVn-u3lmX"
   },
   "outputs": [],
   "source": [
    "# Challenge 4\n",
    "# ---\n",
    "# Question: A website makes an average of 50 sales per day. What is the probability that they make 3 sales in an hour?\n",
    "# ---\n",
    "# Expected Output: 0.18764840049328912\n",
    "# \n",
    "OUR CODE GOES HERE"
   ]
  },
  {
   "cell_type": "code",
   "execution_count": 0,
   "metadata": {
    "colab": {},
    "colab_type": "code",
    "id": "qY7Cmm0t6fN9"
   },
   "outputs": [],
   "source": [
    "# Challenge 5\n",
    "# ---\n",
    "# Question: A factory produces 250 cars per week (assume that the factory runs day and night all week with no down time). \n",
    "# What is the probability that they produce 3 cars in the next hour?\n",
    "# ---\n",
    "# Expected Output: 0.1240136186052091\n",
    "# \n",
    "OUR CODE GOES HERE"
   ]
  },
  {
   "cell_type": "code",
   "execution_count": 0,
   "metadata": {
    "colab": {},
    "colab_type": "code",
    "id": "aQmRucIkiAVg"
   },
   "outputs": [],
   "source": [
    "# Challenge 6\n",
    "# ---\n",
    "# Question: \n",
    "# A Laptop Assembly unit is permorning a Defects Analysis, to understand the number of defects that could happen for a given defective laptop. \n",
    "# It is noted from past quality & audit data that 12 defects are noticed on an average for a defective Laptop, calculate\n",
    "# a) Probability that a defective laptop has exactly 5 defects\n",
    "# b) Probability that a defective laptop has less than 5 defects\n",
    "# ---\n",
    "# \n",
    "# \n",
    "OUR CODE GOES HERE"
   ]
  },
  {
   "cell_type": "code",
   "execution_count": 0,
   "metadata": {
    "colab": {},
    "colab_type": "code",
    "id": "R5cczyGbiHXf"
   },
   "outputs": [],
   "source": [
    "# Challenge 7\n",
    "# ---\n",
    "# Question: \n",
    "# If on an average, 6 customers arrive every one minute at a bank during the busy hours of working, \n",
    "# a) what is the probability that exactly four customers arrive in a given minute? \n",
    "# b) What is the probability that more than three customers will arrive in a given minute?\n",
    "# ---\n",
    "# \n",
    "# \n",
    "OUR CODE GOES HERE"
   ]
  },
  {
   "cell_type": "code",
   "execution_count": 0,
   "metadata": {
    "colab": {},
    "colab_type": "code",
    "id": "SaBvTXvBiIDn"
   },
   "outputs": [],
   "source": [
    "# Challenge 8\n",
    "# ---\n",
    "# Question: \n",
    "# Student arrive at the rate of 72 per hour in the college.\n",
    "# a) What is the probability of 5 student arriving in 4 min?\n",
    "# b) What is the probability of not more than 3 students arriving in 4 min? \n",
    "# b) What is the probability of more than 3 students arriving in 4 min?\n",
    "# ---\n",
    "# \n",
    "# \n",
    "OUR CODE GOES HERE"
   ]
  }
 ],
 "metadata": {
  "colab": {
   "collapsed_sections": [
    "qbU9R__X9No0",
    "IrKYwHaHJsQJ"
   ],
   "name": "Python Programming: The Poisson Distribution",
   "provenance": [],
   "toc_visible": true
  },
  "kernelspec": {
   "display_name": "Python 3",
   "language": "python",
   "name": "python3"
  },
  "language_info": {
   "codemirror_mode": {
    "name": "ipython",
    "version": 3
   },
   "file_extension": ".py",
   "mimetype": "text/x-python",
   "name": "python",
   "nbconvert_exporter": "python",
   "pygments_lexer": "ipython3",
   "version": "3.7.6"
  }
 },
 "nbformat": 4,
 "nbformat_minor": 1
}
