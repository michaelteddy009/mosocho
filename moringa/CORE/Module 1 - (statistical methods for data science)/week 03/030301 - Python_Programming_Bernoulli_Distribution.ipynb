{
  "nbformat": 4,
  "nbformat_minor": 0,
  "metadata": {
    "colab": {
      "name": "Python Programming: Bernoulli Distribution",
      "provenance": [],
      "collapsed_sections": [
        "6QCv76lXcqNL",
        "6efjYE3FVAT8",
        "gehY6OctU53T"
      ],
      "toc_visible": true
    },
    "kernelspec": {
      "name": "python3",
      "display_name": "Python 3"
    }
  },
  "cells": [
    {
      "cell_type": "markdown",
      "metadata": {
        "id": "Smx00_nCqkDP",
        "colab_type": "text"
      },
      "source": [
        "<font color=\"green\">*To start working on this notebook, or any other notebook that we will use in the Moringa Data Science Course, we will need to save our own copy of it. We can do this by clicking File > Save a Copy in Drive. We will then be able to make edits to our own copy of this notebook.*</font>"
      ]
    },
    {
      "cell_type": "markdown",
      "metadata": {
        "id": "r0XKiS-KU9tp",
        "colab_type": "text"
      },
      "source": [
        "# Python Programming: Bernoulli Distribution"
      ]
    },
    {
      "cell_type": "markdown",
      "metadata": {
        "id": "6QCv76lXcqNL",
        "colab_type": "text"
      },
      "source": [
        "## Loading Our Libraries"
      ]
    },
    {
      "cell_type": "code",
      "metadata": {
        "id": "zQ_tAs-vcr_2",
        "colab_type": "code",
        "colab": {}
      },
      "source": [
        "# Importing binom from stats module in scipy\n",
        "# \n",
        "from scipy.stats import binom"
      ],
      "execution_count": 0,
      "outputs": []
    },
    {
      "cell_type": "markdown",
      "metadata": {
        "id": "6efjYE3FVAT8",
        "colab_type": "text"
      },
      "source": [
        "## Examples"
      ]
    },
    {
      "cell_type": "code",
      "metadata": {
        "id": "G7Iv8d5MU45f",
        "colab_type": "code",
        "colab": {}
      },
      "source": [
        "# Example 1\n",
        "# ---\n",
        "# Question: 10 coins are tossed simultaneously where the probability of getting head for each coin is 0.6. \n",
        "# 1. Find the probability of getting 1 head. \n",
        "# 2. Find the probability of not getting a head. \n",
        "# 3. Find the probability of getting 4 heads.\n",
        "# ---\n",
        "# \n",
        "\n",
        "# 1. Probability of getting 1 head\n",
        "prob_head = 0.6\n",
        "print(\"Probability of getting 1 head: \", prob_head)\n",
        "\n",
        "# 2. Probability of not getting a head\n",
        "print(\"Probability of not getting head: \", 1 - prob_head)\n",
        "\n",
        "\n",
        "# 3. Find the probability of getting 4 heads.\n",
        "prob_four_heads = binom.pmf(4, 10, 0.6)\n",
        "print(\"Probability of not getting head: \", prob_four_heads)"
      ],
      "execution_count": 0,
      "outputs": []
    },
    {
      "cell_type": "markdown",
      "metadata": {
        "id": "gehY6OctU53T",
        "colab_type": "text"
      },
      "source": [
        "## <font color=\"green\">Challenges</font>"
      ]
    },
    {
      "cell_type": "code",
      "metadata": {
        "id": "ogOyDHOLVDe9",
        "colab_type": "code",
        "colab": {}
      },
      "source": [
        "# Challenge 1 \n",
        "# ---\n",
        "# Question: If the probability of a bulb being defective is 0.8, then what is the probability of the bulb not being defective.\n",
        "# ---\n",
        "# \n",
        "OUR CODE GOES HERE"
      ],
      "execution_count": 0,
      "outputs": []
    },
    {
      "cell_type": "code",
      "metadata": {
        "id": "6aC_iwk2VJnk",
        "colab_type": "code",
        "colab": {}
      },
      "source": [
        "# Challenge 2\n",
        "# ---\n",
        "# Question: In an exam, 10 multiple choice questions are asked where only one out of four answers is correct. \n",
        "# 1. Probability of getting an answer correct.\n",
        "# 2. Probability of not getting an answer correct.\n",
        "# 3. Find the probability of getting 5 out of 10 questions correct in an answer sheet.\n",
        "# ---\n",
        "# \n",
        "OUR CODE GOES HERE"
      ],
      "execution_count": 0,
      "outputs": []
    },
    {
      "cell_type": "code",
      "metadata": {
        "id": "rEtswHfOVLGB",
        "colab_type": "code",
        "colab": {}
      },
      "source": [
        "# Challenge 3\n",
        "# ---\n",
        "# Question: Find the probability, that within 10 flips of a coin tails will result in 3 times.\n",
        "# ---\n",
        "# \n",
        "OUR CODE GOES HERE"
      ],
      "execution_count": 0,
      "outputs": []
    },
    {
      "cell_type": "code",
      "metadata": {
        "id": "vpOtsGYBVMhx",
        "colab_type": "code",
        "colab": {}
      },
      "source": [
        "# Challenge 4\n",
        "# ---\n",
        "# Question: The chances of a team winning a match is 0.7.  \n",
        "# 1. Probability of winning a match.\n",
        "# 2. Probability of not winning a match.\n",
        "# 3. Probability of winning zero matches.\n",
        "# 4. Find the probability that the team will win at least one match out of three.\n",
        "# ---\n",
        "# \n",
        "OUR CODE GOES HERE"
      ],
      "execution_count": 0,
      "outputs": []
    },
    {
      "cell_type": "code",
      "metadata": {
        "id": "J6niSM8sVOmr",
        "colab_type": "code",
        "colab": {}
      },
      "source": [
        "# Challenge 5\n",
        "# ---\n",
        "# Question: The probability a basketball player makes a free throw is 0.72. \n",
        "# If he shoots 12 free throws in a game, what is the probability he will make exactly 7 of them?\n",
        "# ---\n",
        "# \n",
        "OUR CODE GOES HERE"
      ],
      "execution_count": 0,
      "outputs": []
    },
    {
      "cell_type": "code",
      "metadata": {
        "id": "6dZR0IAdVPp4",
        "colab_type": "code",
        "colab": {}
      },
      "source": [
        "# Challenge 6\n",
        "# ---\n",
        "# Question: A quiz consists of 10 multiple choice questions. Each question has five possible answers. \n",
        "# In order to the quiz, a student must get at least 6 correct. \n",
        "# If a student guesses at each question, what is theprobability that they will pass the quiz?\n",
        "# 1. \n",
        "# ---\n",
        "# \n",
        "OUR CODE GOES HERE"
      ],
      "execution_count": 0,
      "outputs": []
    },
    {
      "cell_type": "code",
      "metadata": {
        "id": "KphAbwTMVQ-5",
        "colab_type": "code",
        "colab": {}
      },
      "source": [
        "# Challenge 7\n",
        "# ---\n",
        "# Question: Calculate the probability of rolling 4 on a dice exactly 5 times in 30 trials.\n",
        "# ---\n",
        "# \n",
        "OUR CODE GOES HERE"
      ],
      "execution_count": 0,
      "outputs": []
    },
    {
      "cell_type": "code",
      "metadata": {
        "id": "cFww5Av1VSEf",
        "colab_type": "code",
        "colab": {}
      },
      "source": [
        "# Challenge 8\n",
        "# ---\n",
        "# Question:  Suppose that 30% of the restaurants in a certain part of a town are open past 10pm. \n",
        "# If 5 restaurants are randomly selected, what is the probability that;\n",
        "# 1. None or all of the restaurants are open past 10pm?\n",
        "# 2. No more than 3 of the restaurants are open past 10pm?\n",
        "# ---\n",
        "# \n",
        "OUR CODE GOES HERE"
      ],
      "execution_count": 0,
      "outputs": []
    },
    {
      "cell_type": "code",
      "metadata": {
        "id": "6TVElL0QVTY9",
        "colab_type": "code",
        "colab": {}
      },
      "source": [
        "# Challenge 9\n",
        "# ---\n",
        "# Question: Ten percent of computer parts produced by a certain supplier are defective. \n",
        "# What is the probability that a sample of 10 parts contains more than 3 defective ones?\n",
        "# ---\n",
        "# \n",
        "OUR CODE GOES HERE"
      ],
      "execution_count": 0,
      "outputs": []
    },
    {
      "cell_type": "code",
      "metadata": {
        "id": "hzlMfw76VU9t",
        "colab_type": "code",
        "colab": {}
      },
      "source": [
        "# Challenge 10\n",
        "# ---\n",
        "# Question: The probability that a DVD player produced by a company is defective is estimated to be 0.09. \n",
        "# If a sample of 14 DVD players is selected at random, what is the probability that the sample contains\n",
        "# between 2 and 10 defectives inclusive, that is, at least two but no more than 10.\n",
        "# ---\n",
        "# \n",
        "OUR CODE GOES HERE"
      ],
      "execution_count": 0,
      "outputs": []
    }
  ]
}