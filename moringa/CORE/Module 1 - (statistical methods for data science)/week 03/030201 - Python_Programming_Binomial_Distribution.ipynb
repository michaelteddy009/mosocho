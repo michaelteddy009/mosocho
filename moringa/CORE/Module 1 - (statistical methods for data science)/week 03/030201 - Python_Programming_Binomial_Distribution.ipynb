{
 "cells": [
  {
   "cell_type": "markdown",
   "metadata": {
    "colab_type": "text",
    "id": "Fbw1Ws2MeAE_"
   },
   "source": [
    "<font color=\"green\">*To start working on this notebook, or any other notebook that we will use in the Moringa Data Science Course, we will need to save our own copy of it. We can do this by clicking File > Save a Copy in Drive. We will then be able to make edits to our own copy of this notebook.*</font>"
   ]
  },
  {
   "cell_type": "markdown",
   "metadata": {
    "colab_type": "text",
    "id": "RdMxQoxpL5HH"
   },
   "source": [
    "# Python Programming: Binomial Distribution"
   ]
  },
  {
   "cell_type": "markdown",
   "metadata": {
    "colab_type": "text",
    "id": "fR9dRAGlL9Pb"
   },
   "source": [
    "## Examples"
   ]
  },
  {
   "cell_type": "code",
   "execution_count": 3,
   "metadata": {
    "colab": {},
    "colab_type": "code",
    "id": "NXmQ7Ys_L816"
   },
   "outputs": [
    {
     "data": {
      "text/plain": [
       "0.05739562800000007"
      ]
     },
     "execution_count": 3,
     "metadata": {},
     "output_type": "execute_result"
    }
   ],
   "source": [
    "# Example 1\n",
    "# ---\n",
    "# Question: We want to know, out of a random sample of 10 people, \n",
    "# what is the probability of 3 of these 10 people being left handed?\n",
    "# ---\n",
    "# \n",
    "\n",
    "# Method 1:\n",
    "# Using the probability mass function\n",
    "# ----\n",
    "# \n",
    "\n",
    "#from math import factorial\n",
    "#(factorial(10) / (factorial(3) * factorial(7))) * 0.1 ** 3 * 0.9 ** 7\n",
    "\n",
    "# Method 2:\n",
    "# Uncomment the above two lines that you've just ran\n",
    "# The parameters are k, n and p \n",
    "# ---\n",
    "# \n",
    "\n",
    "from scipy.stats import binom\n",
    "binom.pmf(3, 10, 0.1)"
   ]
  },
  {
   "cell_type": "code",
   "execution_count": 4,
   "metadata": {
    "colab": {},
    "colab_type": "code",
    "id": "H2ZY2fXFOtBm"
   },
   "outputs": [
    {
     "data": {
      "text/plain": [
       "0.9872048016000006"
      ]
     },
     "execution_count": 4,
     "metadata": {},
     "output_type": "execute_result"
    }
   ],
   "source": [
    "# Example 2\n",
    "# ---\n",
    "# Question: Calculate what the probability of 3 or fewer people being left-handed from a selection of 10 people.\n",
    "# ---\n",
    "# \n",
    "\n",
    "sum([binom.pmf(x, 10, 0.1) for x in range(4)])\n",
    "\n",
    "# We can see there is almost negligible chance of getting more than 6 left-handed people in a random group of 10 people.\n"
   ]
  },
  {
   "cell_type": "code",
   "execution_count": 0,
   "metadata": {
    "colab": {},
    "colab_type": "code",
    "id": "XrjgL1rFPEIz"
   },
   "outputs": [],
   "source": [
    "# Example 3\n",
    "# ---\n",
    "# Question: Plot the probability results for each value up to all 10 people being left-handed from a random sample of 10 people.\n",
    "# ---\n",
    "# \n",
    "\n",
    "import matplotlib.pyplot as plt\n",
    "\n",
    "plt.bar(range(11), [binom.pmf(x, 10, 0.1) for x in range(11)])\n",
    "plt.xlabel('k')\n",
    "plt.ylabel('P(X=k)')\n",
    "plt.title('Binomial PMF')\n",
    "plt.show()"
   ]
  },
  {
   "cell_type": "code",
   "execution_count": 0,
   "metadata": {
    "colab": {},
    "colab_type": "code",
    "id": "KuXE60QQdaPB"
   },
   "outputs": [],
   "source": [
    "# Example 4\n",
    "# ---\n",
    "# We can also specify an array or list of values of  k , and stats.binom.pmf \n",
    "# will return an array consisting of all their probabilities.\n",
    "# ---\n",
    "#\n",
    "binom.pmf([2, 3, 4], 10, 0.1)"
   ]
  },
  {
   "cell_type": "markdown",
   "metadata": {
    "colab_type": "text",
    "id": "bcx-wRqML__e"
   },
   "source": [
    "## <font color=\"green\">Challenges</font>"
   ]
  },
  {
   "cell_type": "code",
   "execution_count": 0,
   "metadata": {
    "colab": {},
    "colab_type": "code",
    "id": "RvIQM6TfLyxI"
   },
   "outputs": [],
   "source": [
    "# Challenge 1\n",
    "# ---\n",
    "# Question: Find the probability of 4 successes in 6 trials for the given probability of success 0.3 on each trial. \n",
    "# Round to the nearest hundredth of a percent. 𝑥 = 4, 𝑛 = 6, 𝑝 = 0.3\n",
    "# ---\n",
    "# \n",
    "OUR CODE GOES HERE"
   ]
  },
  {
   "cell_type": "code",
   "execution_count": 0,
   "metadata": {
    "colab": {},
    "colab_type": "code",
    "id": "5e2ghlS9MMgT"
   },
   "outputs": [],
   "source": [
    "# Challenge 2\n",
    "# ---\n",
    "# Question: The likelihood that a patient with a heart attack dies of the attack is 0.04 (i.e., 4 of 100 die of the attack). \n",
    "# Suppose we have 5 patients who suffer a heart attack, what is the probability that all will survive?\n",
    "# ---\n",
    "# \n",
    "OUR CODE GOES HERE"
   ]
  },
  {
   "cell_type": "code",
   "execution_count": 0,
   "metadata": {
    "colab": {},
    "colab_type": "code",
    "id": "fIWuCKnQMSoS"
   },
   "outputs": [],
   "source": [
    "# Challenge 3\n",
    "# ---\n",
    "# Question: A baby toy has 6 batteries. Each battery has a 95% chance of lasting 1 year. \n",
    "# 1. What is the probability that all six batteries will last one year? \n",
    "# 2. What is the probability that three or less batteries will last one year? \n",
    "# 3. Round your answer to the nearest hundredth.\n",
    "# ---\n",
    "# \n",
    "OUR CODE GOES HERE"
   ]
  },
  {
   "cell_type": "code",
   "execution_count": 0,
   "metadata": {
    "colab": {},
    "colab_type": "code",
    "id": "WViIHotuRLZ9"
   },
   "outputs": [],
   "source": [
    "# Challenge 4\n",
    "# ---\n",
    "# Question: The probability that a contact lens is defective is 5%. \n",
    "# 1. Find the probability that exactly one contact is defective out of a box of 20. \n",
    "# 2. Find the probability that one, two or three contacts are defective out of a box of 20. \n",
    "# Round your answer to the nearest hundredth.\n",
    "# ---\n",
    "# \n",
    "OUR CODE GOES HERE"
   ]
  },
  {
   "cell_type": "code",
   "execution_count": 0,
   "metadata": {
    "colab": {},
    "colab_type": "code",
    "id": "MwDhIiqXRMz2"
   },
   "outputs": [],
   "source": [
    "# Challenge 5\n",
    "# ---\n",
    "# Question: 30% of the Data science students prefer IPs to be on Mondays so they have the weekend to prepare for them. \n",
    "# Find the probability that 4 students chosen at random from the class of 30 want the next IP to be on Monday. \n",
    "# Round your answer to the nearest hundredth.\n",
    "# ---\n",
    "# \n",
    "OUR CODE GOES HERE"
   ]
  },
  {
   "cell_type": "code",
   "execution_count": 0,
   "metadata": {
    "colab": {},
    "colab_type": "code",
    "id": "li1c3yBLROFt"
   },
   "outputs": [],
   "source": [
    "# Challenge 6\n",
    "# ---\n",
    "# Question: The probability that a baby is a girl is 50%. \n",
    "# 1. What is the probability of exactly 2 female babies in a family of 3 children? \n",
    "# 2. What is the probability of 3 male babies in a family of 3 children?\n",
    "# Round your answer to the nearest hundredth.\n",
    "# ---\n",
    "# \n",
    "OUR CODE GOES HERE"
   ]
  },
  {
   "cell_type": "code",
   "execution_count": 0,
   "metadata": {
    "colab": {},
    "colab_type": "code",
    "id": "VOq5b_uBRPM0"
   },
   "outputs": [],
   "source": [
    "# Challenge 7\n",
    "# ---\n",
    "# Question: According to the Kenyan Census of 2009, the median annual family income for families in Kasarani is Ksh 560,400. \n",
    "# Consider a random sample of 24 Kasarani households.\n",
    "# What is the expected number of households with annual incomes less than Ksh. 560,400?\n",
    "# What is the probability of getting at least 18 out of the 24 households with annual incomes under Ksh. 560,400?\n",
    "# ---\n",
    "# \n",
    "OUR CODE GOES HERE"
   ]
  },
  {
   "cell_type": "code",
   "execution_count": 0,
   "metadata": {
    "colab": {},
    "colab_type": "code",
    "id": "AXVR38r6TXkm"
   },
   "outputs": [],
   "source": [
    "# Challenge 8\n",
    "# ---\n",
    "# Question: Suppose there are twelve multiple-choice questions in an English class quiz. \n",
    "# Each question has five possible answers, and only one of them is correct. \n",
    "# Find the probability of having four or less correct answers if a student attempts to answer every question at random.\n",
    "# ---\n",
    "# \n",
    "OUR CODE GOES HERE"
   ]
  },
  {
   "cell_type": "code",
   "execution_count": 0,
   "metadata": {
    "colab": {},
    "colab_type": "code",
    "id": "Lnk_OBsdTaEz"
   },
   "outputs": [],
   "source": [
    "# Challenge 9\n",
    "# ---\n",
    "# Question: A car dealer knows from past experience that he can make a sale to 20% of the customers who he interacts with. \n",
    "# What is the probability that, in five randomly selected interactions, he will make a sale to:\n",
    "# 1. Exactly three customers?\n",
    "# 2. At most one customer?\n",
    "# 3. At least one customer?\n",
    "# ---\n",
    "# \n",
    "OUR CODE GOES HERE"
   ]
  },
  {
   "cell_type": "code",
   "execution_count": 0,
   "metadata": {
    "colab": {},
    "colab_type": "code",
    "id": "zYoKSgC1Tai3"
   },
   "outputs": [],
   "source": [
    "# Challenge 10\n",
    "# ---\n",
    "# Question: A poll of twenty voters is taken to determine the number in favor of a certain candidate for mayor. \n",
    "# Suppose that 60% of all the city’s voters favor this candidate.\n",
    "# 1. Find the probability of x ≤ 11.\n",
    "# 2. Find the probability of x > 14.\n",
    "# 3. Find the probability of x = 15.\n",
    "# ---\n",
    "# \n",
    "OUR CODE GOES HERE"
   ]
  }
 ],
 "metadata": {
  "colab": {
   "collapsed_sections": [
    "fR9dRAGlL9Pb",
    "bcx-wRqML__e"
   ],
   "name": "Python Programming: Binomial Distribution",
   "provenance": [],
   "toc_visible": true
  },
  "kernelspec": {
   "display_name": "Python 3",
   "language": "python",
   "name": "python3"
  },
  "language_info": {
   "codemirror_mode": {
    "name": "ipython",
    "version": 3
   },
   "file_extension": ".py",
   "mimetype": "text/x-python",
   "name": "python",
   "nbconvert_exporter": "python",
   "pygments_lexer": "ipython3",
   "version": "3.7.6"
  }
 },
 "nbformat": 4,
 "nbformat_minor": 1
}
