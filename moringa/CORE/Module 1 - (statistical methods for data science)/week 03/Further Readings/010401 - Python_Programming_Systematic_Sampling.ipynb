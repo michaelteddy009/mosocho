{
  "nbformat": 4,
  "nbformat_minor": 0,
  "metadata": {
    "colab": {
      "name": "Python Programming: Systematic Sampling",
      "provenance": [],
      "collapsed_sections": [
        "EFtAnH9J3KfI",
        "mwlCRJBF3RMg"
      ],
      "toc_visible": true
    },
    "kernelspec": {
      "name": "python3",
      "display_name": "Python 3"
    }
  },
  "cells": [
    {
      "cell_type": "markdown",
      "metadata": {
        "id": "MlNybiHKK7F5",
        "colab_type": "text"
      },
      "source": [
        "<font color=\"green\">*To start working on this notebook, or any other notebook that we will use in the Moringa Data Science Course, we will need to save our own copy of it. We can do this by clicking File > Save a Copy in Drive. We will then be able to make edits to our own copy of this notebook.*</font>"
      ]
    },
    {
      "cell_type": "markdown",
      "metadata": {
        "id": "xS3olmMl3IvK",
        "colab_type": "text"
      },
      "source": [
        "# Python Programming: Systematic Sampling"
      ]
    },
    {
      "cell_type": "code",
      "metadata": {
        "id": "PIf6oV4XIyXJ",
        "colab_type": "code",
        "colab": {}
      },
      "source": [
        "# Importing Numpy\n",
        "#\n",
        "import numpy as np"
      ],
      "execution_count": 0,
      "outputs": []
    },
    {
      "cell_type": "markdown",
      "metadata": {
        "id": "EFtAnH9J3KfI",
        "colab_type": "text"
      },
      "source": [
        "## Examples "
      ]
    },
    {
      "cell_type": "code",
      "metadata": {
        "id": "bzTGRvaN3EQH",
        "colab_type": "code",
        "outputId": "72fa59c3-8841-417a-e622-32421103f7f6",
        "colab": {
          "base_uri": "https://localhost:8080/",
          "height": 68
        }
      },
      "source": [
        "# Example 1\n",
        "# ---\n",
        "# The idea in systematic sampling is that, given the population units numbered from 1 to  N , \n",
        "# we compute for the sampling interval, given by  k=N/n , where  n  is the number of units needed for the sample. \n",
        "# After that, we choose for the random start, number between  1  and  k. \n",
        "# This random start will be the first sample, and then the second unit in the sample is obtained by adding \n",
        "# the sampling interval to the random start, and so on. \n",
        "# There are two types of systematic sampling namely, linear and circular systematic samplings. \n",
        "# Circular systematic sampling treats the population units numbered from  1  to  N  in circular form,\n",
        "# so that if the increment step is more than the number of  N  units, say  N+2 , \n",
        "# the sample unit is the  2nd element in the population, and so on. \n",
        "# The code that we will working with can be used both for linear and circular. \n",
        "# Since there are rules in linear that are not satisfied in the function, \n",
        "# one of which is if  k  is not a whole number, despite that, however, we can always extend it to a more general function.\n",
        "# ---\n",
        "# Question: Perform systematic sampling given the following dataset:\n",
        "# ---\n",
        "#\n",
        "\n",
        "# The data\n",
        "sal_dat = np.array([25, 15, 20, 25, 18, 12, 24, 30, 15, 20, 10, 10, 11, 14, 22, 16])\n",
        "salary = sal_dat * 1000\n",
        "\n",
        "# Function for systematic sampling\n",
        "def sys_sample(df, r, n):\n",
        "    k = df.shape[0] // n\n",
        "\n",
        "    b = [None] * n; a = r\n",
        "    b[0] = a\n",
        "\n",
        "    for i in np.arange(1, n):\n",
        "        a = a + k\n",
        "\n",
        "        if a > df.shape[0]:\n",
        "            a = a - df.shape[0]\n",
        "\n",
        "        b[i] = a\n",
        "\n",
        "    return {\"Data\" : df[b], \"Index\" : b, \"K\" : k}\n",
        "\n",
        "# Do the sampling for random start,\n",
        "# r = 2, and number of sample, n = 4\n",
        "sys_sample(salary, r = 1, n = 8)"
      ],
      "execution_count": 0,
      "outputs": [
        {
          "output_type": "execute_result",
          "data": {
            "text/plain": [
              "{'Data': array([15000, 25000, 12000, 30000, 20000, 10000, 14000, 16000]),\n",
              " 'Index': [1, 3, 5, 7, 9, 11, 13, 15],\n",
              " 'K': 2}"
            ]
          },
          "metadata": {
            "tags": []
          },
          "execution_count": 9
        }
      ]
    },
    {
      "cell_type": "markdown",
      "metadata": {
        "id": "mwlCRJBF3RMg",
        "colab_type": "text"
      },
      "source": [
        "## <font color=\"green\">Challenges</font>"
      ]
    },
    {
      "cell_type": "code",
      "metadata": {
        "id": "7e4Fjx1p3WbB",
        "colab_type": "code",
        "colab": {}
      },
      "source": [
        "# Challenge 1\n",
        "# ---\n",
        "# Question: Peform systematic sampling given the following dataset \n",
        "# ---\n",
        "# Dataset url = [33 34 35 36 37 38 39 40 41 42 43 44 45 46 47 48 49 50 51 52 53 54 55 \n",
        "#                56 57 58 59 60 61 62 63 64 65 66 67 68 69 70 71 72 73 74 75 76 77 78 79]\n",
        "# ---\n",
        "# \n",
        "OUR CODE GOES HERE"
      ],
      "execution_count": 0,
      "outputs": []
    },
    {
      "cell_type": "code",
      "metadata": {
        "id": "F0EGvPx13aL5",
        "colab_type": "code",
        "colab": {}
      },
      "source": [
        "# Challenge 2\n",
        "# ---\n",
        "# Question: You're given data ranging from 175 to 1000. Select a sample from this data by performing systematic sampling.\n",
        "# ---\n",
        "# \n",
        "OUR CODE GOES HERE"
      ],
      "execution_count": 0,
      "outputs": []
    },
    {
      "cell_type": "code",
      "metadata": {
        "id": "R-LUyacy3cC8",
        "colab_type": "code",
        "colab": {}
      },
      "source": [
        "# Challenge 3\n",
        "# ---\n",
        "# Question: There are 19 students in this class. Let’s choose a 1-in-3 systematic sample from the 19 students in the class.\n",
        "# ---\n",
        "# \n",
        "OUR CODE GOES HERE"
      ],
      "execution_count": 0,
      "outputs": []
    },
    {
      "cell_type": "code",
      "metadata": {
        "id": "PPCASa_7_O1Y",
        "colab_type": "code",
        "colab": {}
      },
      "source": [
        "# Challenge 4\n",
        "# ---\n",
        "# Question: Select a sample from n = 12 members from a population of size N = 287. \n",
        "# ---\n",
        "# \n",
        "OUR CODE GOES HERE"
      ],
      "execution_count": 0,
      "outputs": []
    },
    {
      "cell_type": "code",
      "metadata": {
        "id": "0H08rgkS_kUz",
        "colab_type": "code",
        "colab": {}
      },
      "source": [
        "# Challenge 5\n",
        "# ---\n",
        "# Question: Perform systematic sampling on the following dataset and \n",
        "# discuss whether systematics sampling is the best method for sampling in this case.\n",
        "# ---\n",
        "# Dataset url = \n",
        "# ---\n",
        "# Hint: Select every n-th with pandas i.e. every 5th row -> df.iloc[::5, :]\n",
        "# \n",
        "OUR CODE GOES HERE"
      ],
      "execution_count": 0,
      "outputs": []
    },
    {
      "cell_type": "code",
      "metadata": {
        "id": "NlQhgpmwAw8v",
        "colab_type": "code",
        "colab": {}
      },
      "source": [
        "# Challenge 6\n",
        "# ---\n",
        "# Question: You work for the Olympics Data Analytics in Geneva and would like perform a study on the performance of the top marathon\n",
        "# olympics athletes. For reasons beyond your control, resort to perform systematic sampling from the given Boston 2017 marathon dataset.\n",
        "# ---\n",
        "# Question: http://bit.ly/BostonMarathonDataset\n",
        "# ---\n",
        "# \n",
        "OUR CODE GOES HERE"
      ],
      "execution_count": 0,
      "outputs": []
    }
  ]
}