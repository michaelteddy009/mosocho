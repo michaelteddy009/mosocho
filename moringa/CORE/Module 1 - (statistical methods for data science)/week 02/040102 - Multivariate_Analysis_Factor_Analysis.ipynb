{
 "cells": [
  {
   "cell_type": "markdown",
   "metadata": {
    "colab_type": "text",
    "id": "JFkefOSuLSlu"
   },
   "source": [
    "<font color=\"green\">*To start working on this notebook, or any other notebook that we will use in the Moringa Data Science Course, we will need to save our own copy of it. We can do this by clicking File > Save a Copy in Drive. We will then be able to make edits to our own copy of this notebook.*</font>"
   ]
  },
  {
   "cell_type": "markdown",
   "metadata": {
    "colab_type": "text",
    "id": "zntUoyxUN4X1"
   },
   "source": [
    "# Multivariate Analysis with Python: Factor Analysis"
   ]
  },
  {
   "cell_type": "markdown",
   "metadata": {
    "colab_type": "text",
    "id": "5XaygeJMAaC0"
   },
   "source": [
    "Factor Analysis (FA) is an exploratory data analysis method used to search influential underlying factors or latent variables from a set of observed variables. It helps in data interpretations by reducing the number of variables. It extracts maximum common variance from all variables and puts them into a common score.\n",
    "\n",
    "Factor analysis is widely utilized in market research, advertising, psychology, finance, and operation research. Market researchers use factor analysis to identify price-sensitive customers, identify brand features that influence consumer choice, and helps in understanding channel selection criteria for the distribution channel."
   ]
  },
  {
   "cell_type": "markdown",
   "metadata": {
    "colab_type": "text",
    "id": "SdulA-n7AvYO"
   },
   "source": [
    "We performing factor analysis, we make the following assumptions:\n",
    "\n",
    "* There are no outliers in data.\n",
    "* Sample size should be greater than the factor.\n",
    "* There should not be perfect multicollinearity.\n",
    "* There should not be homoscedasticity between the variables.\n",
    "\n",
    "\n"
   ]
  },
  {
   "cell_type": "markdown",
   "metadata": {
    "colab_type": "text",
    "id": "howFDtcrNqTy"
   },
   "source": [
    "**Kinds of Factor Analysis**\n",
    "\n",
    "There are broadly two kinds of factor analysis, Exploratory Factor Analysis (EFA) and Confirmatory Factor Analysis  (CFA). EFA is where the variables that are highly correlated to each other are grouped. This group is known as a ‘factor’. Once this factor is created, it looks for another set of variables and groups them, making another factor. The number of factors that are to be created depends on the analyst and N (number of observed variables) number of factors can be created (i.e. one factor for each observed variable). This N number is decided based on a number of factors."
   ]
  },
  {
   "cell_type": "markdown",
   "metadata": {
    "colab_type": "text",
    "id": "AsVFdD86Nv6K"
   },
   "source": [
    "CFA is used when we already have an idea about what the latent variables are and which of the observed variables belong to which latent variable. For example, we have ten variables where five of them seems to be related to education such as – How important formal studies are to you? Are you satisfied with the current method of examination etc while the other set of variables clearly seems to be dealing with sports such as How important sports are, how satisfied are you with the current situation of sports training? etc. Here we can easily guess that there seems to be two latent variables, however, to prove this statistically, we require to perform hypothesis testing and this is where CFA helps."
   ]
  },
  {
   "cell_type": "markdown",
   "metadata": {
    "colab_type": "text",
    "id": "Xn6K6MsCBN9A"
   },
   "source": [
    " **What is a factor?**\n",
    "\n",
    "A factor is a latent variable which describes the association among the number of observed variables. The maximum number of factors are equal to a number of observed variables. Every factor explains a certain variance in observed variables. The factors with the lowest amount of variance were dropped. Factors are also known as latent variables or hidden variables or unobserved variables or Hypothetical variables."
   ]
  },
  {
   "cell_type": "markdown",
   "metadata": {
    "colab_type": "text",
    "id": "VAghYIi2N7WY"
   },
   "source": [
    "**What are the factor loadings?**\n",
    "\n",
    "The factor loading is a matrix which shows the relationship of each variable to the underlying factor. It shows the correlation coefficient for observed variable and factor. It shows the variance explained by the observed variables."
   ]
  },
  {
   "cell_type": "markdown",
   "metadata": {
    "colab_type": "text",
    "id": "jYAeopw-N9Vv"
   },
   "source": [
    "**What is Eigenvalues?**\n",
    "\n",
    "Eigenvalues represent variance explained each factor from the total variance. It is also known as characteristic roots."
   ]
  },
  {
   "cell_type": "markdown",
   "metadata": {
    "colab_type": "text",
    "id": "zSuRtKNUN_m8"
   },
   "source": [
    "**What are Communalities?**\n",
    "\n",
    "Commonalities are the sum of the squared loadings for each variable. It represents the common variance. It ranges from 0-1 and value close to 1 represents more variance."
   ]
  },
  {
   "cell_type": "markdown",
   "metadata": {
    "colab_type": "text",
    "id": "4mwZNLDiOBbl"
   },
   "source": [
    "**What is Factor Rotation?**\n",
    "\n",
    "Rotation is a tool for better interpretation of factor analysis. Rotation can be orthogonal or oblique. It re-distributed the commonalities with a clear pattern of loadings."
   ]
  },
  {
   "cell_type": "markdown",
   "metadata": {
    "colab_type": "text",
    "id": "kPNPc_tLBi4X"
   },
   "source": [
    "**Choosing the Number of Factors**\n",
    "\n",
    "Kaiser criterion is an analytical approach, which is based on the more significant proportion of variance explained by factor will be selected. The eigenvalue is a good criterion for determining the number of factors. Generally, an eigenvalue greater than 1 will be considered as selection criteria for the feature."
   ]
  },
  {
   "cell_type": "markdown",
   "metadata": {
    "colab_type": "text",
    "id": "dV25HdgvCZuj"
   },
   "source": [
    "## Example "
   ]
  },
  {
   "cell_type": "code",
   "execution_count": null,
   "metadata": {
    "colab": {},
    "colab_type": "code",
    "id": "gXgxm56zNzPJ"
   },
   "outputs": [],
   "source": [
    "# Example 1\n",
    "# ---\n",
    "# Question 1: Perform Factor Analysis on BFI Dataset below\n",
    "# ---\n",
    "# Dataset url = http://bit.ly/BFI-Dataset\n",
    "# Dataste info: http://bit.ly/BFI-Dataset-Info\n",
    "# ---\n",
    "#\n",
    "import pandas as pd"
   ]
  },
  {
   "cell_type": "code",
   "execution_count": null,
   "metadata": {
    "colab": {},
    "colab_type": "code",
    "id": "ddNMDakSDCoI"
   },
   "outputs": [],
   "source": [
    "# Step 1: Loading our Dataset\n",
    "# \n",
    "url = \"http://bit.ly/BFI-Dataset\"\n",
    "df= pd.read_csv(url)"
   ]
  },
  {
   "cell_type": "code",
   "execution_count": null,
   "metadata": {
    "colab": {},
    "colab_type": "code",
    "id": "HDFb9KfRDvBi"
   },
   "outputs": [],
   "source": [
    "# Step 2: Previewing the dataset columns\n",
    "# \n",
    "df.columns"
   ]
  },
  {
   "cell_type": "code",
   "execution_count": null,
   "metadata": {
    "colab": {},
    "colab_type": "code",
    "id": "6Bj51l4eD7F5"
   },
   "outputs": [],
   "source": [
    "# Step 3: Dropping unnecessary columns \n",
    "# \n",
    "df.drop(['gender', 'education', 'age'],axis=1,inplace=True)"
   ]
  },
  {
   "cell_type": "code",
   "execution_count": null,
   "metadata": {
    "colab": {},
    "colab_type": "code",
    "id": "R_fArahCEGYh"
   },
   "outputs": [],
   "source": [
    "# Step 4: Dropping missing values rows\n",
    "#\n",
    "df.dropna(inplace=True)"
   ]
  },
  {
   "cell_type": "code",
   "execution_count": null,
   "metadata": {
    "colab": {},
    "colab_type": "code",
    "id": "OIYRdV6cEK5D"
   },
   "outputs": [],
   "source": [
    "# Step 6: Checking the datatypes\n",
    "# \n",
    "df.info()"
   ]
  },
  {
   "cell_type": "code",
   "execution_count": null,
   "metadata": {
    "colab": {},
    "colab_type": "code",
    "id": "oLGbmXTfERpT"
   },
   "outputs": [],
   "source": [
    "# Step 7: Previewing our dataset\n",
    "# \n",
    "df.head()"
   ]
  },
  {
   "cell_type": "code",
   "execution_count": 1,
   "metadata": {},
   "outputs": [
    {
     "name": "stdout",
     "output_type": "stream",
     "text": [
      "Note: you may need to restart the kernel to use updated packages.\n"
     ]
    },
    {
     "name": "stderr",
     "output_type": "stream",
     "text": [
      "WARNING: Skipping factor-analyze as it is not installed.\n"
     ]
    }
   ],
   "source": [
    "pip uninstall factor_analyze"
   ]
  },
  {
   "cell_type": "code",
   "execution_count": null,
   "metadata": {
    "colab": {},
    "colab_type": "code",
    "id": "DW-sLapfHOzo"
   },
   "outputs": [],
   "source": [
    "# Step 8: Adequacy Test\n",
    "# Before we perform factor analysis,weyou need to evaluate the “factorability” of our dataset. \n",
    "# Factorability means \"can we found the factors in the dataset?\". \n",
    "# There are two methods to check the factorability or sampling adequacy:\n",
    "# - Bartlett’s Test\n",
    "# - Kaiser-Meyer-Olkin Test\n",
    "# ---\n",
    "# Bartlett’s test of sphericity checks whether or not the observed variables intercorrelate at all \n",
    "# using the observed correlation matrix against the identity matrix. If the test found statistically insignificant, \n",
    "# we should not employ a factor analysis.\n",
    "# ---\n",
    "\n",
    "from factor_analyzer.factor_analyzer import calculate_bartlett_sphericity\n",
    "\n",
    "chi_square_value,p_value=calculate_bartlett_sphericity(df)\n",
    "chi_square_value, p_value\n",
    "\n",
    "# In Bartlett ’s test, the p-value is 0. The test was statistically significant, \n",
    "# indicating that the observed correlation matrix is not an identity matrix."
   ]
  },
  {
   "cell_type": "code",
   "execution_count": null,
   "metadata": {
    "colab": {},
    "colab_type": "code",
    "id": "CY_-OMt-IBSY"
   },
   "outputs": [],
   "source": [
    "# Step 9:\n",
    "# Kaiser-Meyer-Olkin (KMO) Test measures the suitability of data for factor analysis. \n",
    "# It determines the adequacy for each observed variable and for the complete model. \n",
    "# KMO estimates the proportion of variance among all the observed variable. \n",
    "# Lower proportion id more suitable for factor analysis. KMO values range between 0 and 1. \n",
    "# Value of KMO less than 0.6 is considered inadequate.\n",
    "# \n",
    "from factor_analyzer.factor_analyzer import calculate_kmo\n",
    "\n",
    "kmo_all,kmo_model=calculate_kmo(df)\n",
    "\n",
    "# The overall KMO for our data is 0.84, which is excellent. \n",
    "# This value indicates that you can proceed with your planned factor analysis.\n",
    "\n",
    "kmo_model"
   ]
  },
  {
   "cell_type": "code",
   "execution_count": null,
   "metadata": {},
   "outputs": [],
   "source": [
    "pip install factor-analyzer"
   ]
  },
  {
   "cell_type": "code",
   "execution_count": null,
   "metadata": {
    "colab": {},
    "colab_type": "code",
    "id": "0ROMHcwpINWk"
   },
   "outputs": [],
   "source": [
    "# Step 10: Choosing the Number of Factors\n",
    "# For choosing the number of factors, you can use the Kaiser criterion and scree plot. Both are based on eigenvalues.\n",
    "# \n",
    "\n",
    "# Creating factor analysis object and perform factor analysis\n",
    "from factor_analyzer import FactorAnalyzer\n",
    "\n",
    "fa = FactorAnalyzer()\n",
    "fa.fit(df, 25)\n",
    "\n",
    "# Checking the Eigenvalues\n",
    "ev, v = fa.get_eigenvalues()\n",
    "ev\n",
    "\n",
    "# Here, we can see only for 6-factors eigenvalues are greater than one. \n",
    "# It means we need to choose only 6 factors (or unobserved variables)."
   ]
  },
  {
   "cell_type": "code",
   "execution_count": null,
   "metadata": {
    "colab": {},
    "colab_type": "code",
    "id": "F8G2P3XCJ8oY"
   },
   "outputs": [],
   "source": [
    "# Step 11: \n",
    "# The scree plot method draws a straight line for each factor and its eigenvalues. \n",
    "# Number eigenvalues greater than one considered as the number of factors.\n",
    "\n",
    "# Creating a scree plot using matplotlib\n",
    "#\n",
    "from matplotlib import pyplot as plt\n",
    "\n",
    "plt.scatter(range(1,df.shape[1]+1),ev)\n",
    "plt.plot(range(1,df.shape[1]+1),ev)\n",
    "plt.title('Scree Plot')\n",
    "plt.xlabel('Factors')\n",
    "plt.ylabel('Eigenvalue')\n",
    "plt.grid()\n",
    "plt.show()"
   ]
  },
  {
   "cell_type": "code",
   "execution_count": null,
   "metadata": {
    "colab": {},
    "colab_type": "code",
    "id": "JHuRwmCvKPwV"
   },
   "outputs": [],
   "source": [
    "# Step 12: Performing Factor Analysis\n",
    "# Creating factor analysis object and perform factor analysis\n",
    "#\n",
    "fa = FactorAnalyzer()\n",
    "fa.fit(df, 6)\n",
    "fa.loading\n",
    "\n",
    "# We will note that\n",
    "# Factor 1 has high factor loadings for E1,E2,E3,E4, and E5 (Extraversion)\n",
    "# Factor 2 has high factor loadings for N1,N2,N3,N4, and N5 (Neuroticism)\n",
    "# Factor 3 has high factor loadings for C1,C2,C3,C4, and C5 (Conscientiousness)\n",
    "# Factor 4 has high factor loadings for O1,O2,O3,O4, and O5 (Opennness)\n",
    "# Factor 5 has high factor loadings for A1,A2,A3,A4, and A5 (Agreeableness)\n",
    "# Factor 6 has none of the high loagings for any variable and is not easily interpretable. Its good if we take only five factors."
   ]
  },
  {
   "cell_type": "code",
   "execution_count": null,
   "metadata": {
    "colab": {},
    "colab_type": "code",
    "id": "w0zRMeTVKU0M"
   },
   "outputs": [],
   "source": [
    "# Step 13: Performing factor analysis for 5 factors\n",
    "# \n",
    "# Create factor analysis object and perform factor analysis using 5 factors\n",
    "fa = FactorAnalyzer()\n",
    "fa.analyze(df, 5, rotation=\"varimax\")\n",
    "fa.loadings"
   ]
  },
  {
   "cell_type": "code",
   "execution_count": null,
   "metadata": {
    "colab": {},
    "colab_type": "code",
    "id": "6Khz8S7ZKvjX"
   },
   "outputs": [],
   "source": [
    "# Step 14: Getting variance of each factors\n",
    "# \n",
    "fa.get_factor_variance()\n",
    "\n",
    "# Noting total 42% cumulative Variance explained by the 5 factors."
   ]
  },
  {
   "cell_type": "markdown",
   "metadata": {
    "colab_type": "text",
    "id": "9HH8kQywMHFr"
   },
   "source": [
    "**Pros and Cons of Factor Analysis**\n",
    "\n",
    "Factor analysis explores large datasets and finds interlinked associations. It reduces the observed variables into a few unobserved variables or identifies the groups of inter-related variables, which help the market researchers to compress the market situations and find the hidden relationship among consumer taste, preference, and cultural influence. Also, It helps in improve questionnaire in for future surveys. Factors make for more natural data interpretation.\n",
    "\n",
    "Results of factor analysis are controversial. Its interpretations can be debatable because more than one interpretation can be made of the same data factors. After factor identification and naming of factors requires domain knowledge."
   ]
  },
  {
   "cell_type": "markdown",
   "metadata": {
    "colab_type": "text",
    "id": "IqiPtPgDMOWA"
   },
   "source": [
    "## <font color=\"green\">Challenges</font>"
   ]
  },
  {
   "cell_type": "code",
   "execution_count": null,
   "metadata": {
    "colab": {},
    "colab_type": "code",
    "id": "tNw05seyMSac"
   },
   "outputs": [],
   "source": [
    "# Challenge 1\n",
    "# ---\n",
    "# Question: Perform factor analysis on the following dataset\n",
    "# ---\n",
    "# Dataset url = http://bit.ly/ZomatoDataset\n",
    "# ---\n",
    "# \n",
    "OUR CODE GOES HER"
   ]
  },
  {
   "cell_type": "code",
   "execution_count": null,
   "metadata": {
    "colab": {},
    "colab_type": "code",
    "id": "XOAcYzrPMTlF"
   },
   "outputs": [],
   "source": [
    "# Challenge 2\n",
    "# ---\n",
    "# Question: Perform factor analysis on the following dataset\n",
    "# ---\n",
    "# Dataset url = http://bit.ly/FIFADataset\n",
    "# ---\n",
    "#\n",
    "OUR CODE GOES HERE"
   ]
  },
  {
   "cell_type": "code",
   "execution_count": null,
   "metadata": {
    "colab": {},
    "colab_type": "code",
    "id": "zemji7gpMUmJ"
   },
   "outputs": [],
   "source": [
    "# Challenge 3\n",
    "# ---\n",
    "# Question: Perform factor analysis on the following dataset\n",
    "# ---\n",
    "# Dataset url = http://bit.ly/StudentsAlcoholGradesDataset\n",
    "# Dataset info = http://bit.ly/StudentsAlcoholGradesDatasetInfo\n",
    "#\n",
    "OUR CODE GOES HERE"
   ]
  }
 ],
 "metadata": {
  "colab": {
   "collapsed_sections": [
    "dV25HdgvCZuj",
    "IqiPtPgDMOWA"
   ],
   "name": "Multivariate Analysis: Factor Analysis",
   "provenance": [],
   "toc_visible": true
  },
  "kernelspec": {
   "display_name": "Python 3",
   "language": "python",
   "name": "python3"
  },
  "language_info": {
   "codemirror_mode": {
    "name": "ipython",
    "version": 3
   },
   "file_extension": ".py",
   "mimetype": "text/x-python",
   "name": "python",
   "nbconvert_exporter": "python",
   "pygments_lexer": "ipython3",
   "version": "3.7.6"
  }
 },
 "nbformat": 4,
 "nbformat_minor": 1
}
