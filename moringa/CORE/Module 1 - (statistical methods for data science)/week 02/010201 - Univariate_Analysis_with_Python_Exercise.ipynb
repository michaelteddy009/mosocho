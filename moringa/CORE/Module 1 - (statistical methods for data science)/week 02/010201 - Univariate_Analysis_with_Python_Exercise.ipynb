{
 "cells": [
  {
   "cell_type": "markdown",
   "metadata": {
    "colab_type": "text",
    "id": "adeOETQPnPAj"
   },
   "source": [
    "<font color=\"green\">*To start working on this notebook, or any other notebook that we will use in the Moringa Data Science Course, we will need to save our own copy of it. We can do this by clicking File > Save a Copy in Drive. We will then be able to make edits to our own copy of this notebook.*</font>"
   ]
  },
  {
   "cell_type": "markdown",
   "metadata": {
    "colab_type": "text",
    "id": "FtNfyN9C1FSE"
   },
   "source": [
    "# Univariate Analysis with Python - Exercise"
   ]
  },
  {
   "cell_type": "markdown",
   "metadata": {
    "colab_type": "text",
    "id": "kLkivweO1Iii"
   },
   "source": [
    "## 1.0 Importing Libraries"
   ]
  },
  {
   "cell_type": "code",
   "execution_count": 2,
   "metadata": {
    "colab": {},
    "colab_type": "code",
    "id": "7rB0TURq1Mfo"
   },
   "outputs": [],
   "source": [
    "# Importing Pandas\n",
    "# \n",
    "import pandas as pd"
   ]
  },
  {
   "cell_type": "code",
   "execution_count": 3,
   "metadata": {
    "colab": {},
    "colab_type": "code",
    "id": "J7sTS1pS6w17"
   },
   "outputs": [],
   "source": [
    "# Importing Numpy\n",
    "#\n",
    "import numpy as np"
   ]
  },
  {
   "cell_type": "code",
   "execution_count": 4,
   "metadata": {
    "colab": {},
    "colab_type": "code",
    "id": "T7fU_A8G3j2c"
   },
   "outputs": [],
   "source": [
    "# Importing Seaborn\n",
    "#\n",
    "import seaborn as sns"
   ]
  },
  {
   "cell_type": "code",
   "execution_count": 5,
   "metadata": {
    "colab": {},
    "colab_type": "code",
    "id": "h9m2KAfqKr_R"
   },
   "outputs": [],
   "source": [
    "# Importing Matplotlib\n",
    "#\n",
    "import matplotlib.pyplot as plt"
   ]
  },
  {
   "cell_type": "markdown",
   "metadata": {
    "colab_type": "text",
    "id": "InrgA2D21MCl"
   },
   "source": [
    "## 1.2 Categorical Variables"
   ]
  },
  {
   "cell_type": "markdown",
   "metadata": {
    "colab_type": "text",
    "id": "0CRs-dFC1ohx"
   },
   "source": [
    "### 1.21 Frequency Tables"
   ]
  },
  {
   "cell_type": "code",
   "execution_count": 6,
   "metadata": {
    "colab": {},
    "colab_type": "code",
    "id": "S1BPZ36A1LiF"
   },
   "outputs": [
    {
     "data": {
      "text/plain": [
       "Mombasa    4\n",
       "Kiambu     3\n",
       "Nairobi    3\n",
       "Kisumu     2\n",
       "Name: County, dtype: int64"
      ]
     },
     "execution_count": 6,
     "metadata": {},
     "output_type": "execute_result"
    }
   ],
   "source": [
    "# Example 1\n",
    "# ---\n",
    "# Creating Frequency table of column using the value_counts() function\n",
    "# ---\n",
    "# \n",
    "\n",
    "data = {'Name':['John', 'Paul', 'Jame','Mark', 'Susan', 'Ruth', 'Ragna', 'Irene', 'Gilbert', 'Esther', 'Salome', 'Moses'],\n",
    "       'County':['Nairobi', 'Kiambu', 'Mombasa', 'Kisumu', 'Kiambu', 'Mombasa', 'Nairobi', 'Mombasa', 'Kisumu', 'Nairobi', 'Kiambu','Mombasa']}\n",
    " \n",
    "# Creating our dataframe\n",
    "frequency_df = pd.DataFrame(data, columns=['Name', 'County'])\n",
    "frequency_df\n",
    "\n",
    "# Creating our frequency table\n",
    "# ---\n",
    "frequency_df.County.value_counts()"
   ]
  },
  {
   "cell_type": "markdown",
   "metadata": {
    "colab_type": "text",
    "id": "ck0zE_a43uV-"
   },
   "source": [
    "#### <font color=\"green\">1.21 Challenges</font>"
   ]
  },
  {
   "cell_type": "code",
   "execution_count": 7,
   "metadata": {
    "colab": {},
    "colab_type": "code",
    "id": "UNbhFPzR33L6"
   },
   "outputs": [
    {
     "data": {
      "text/plain": [
       "Iris-versicolor    50\n",
       "Iris-setosa        50\n",
       "Iris-virginica     50\n",
       "Name: species, dtype: int64"
      ]
     },
     "execution_count": 7,
     "metadata": {},
     "output_type": "execute_result"
    }
   ],
   "source": [
    "# Challenge 1\n",
    "# ---\n",
    "# Question: Generate a frequency table from the categorical data in the following dataset\n",
    "# ---\n",
    "# Dataset url = http://bit.ly/IrisDataset\n",
    "# ---\n",
    "# \n",
    "url = \"http://bit.ly/IrisDataset\"\n",
    "\n",
    "df = pd.read_csv(url)\n",
    "df.species.value_counts()"
   ]
  },
  {
   "cell_type": "markdown",
   "metadata": {
    "colab_type": "text",
    "id": "NCrhoYJz1dUY"
   },
   "source": [
    "### 1.22 Bar Charts and Histograms"
   ]
  },
  {
   "cell_type": "code",
   "execution_count": 1,
   "metadata": {
    "colab": {},
    "colab_type": "code",
    "id": "_3kf4a5q1ylu"
   },
   "outputs": [
    {
     "ename": "NameError",
     "evalue": "name 'plt' is not defined",
     "output_type": "error",
     "traceback": [
      "\u001b[1;31m---------------------------------------------------------------------------\u001b[0m",
      "\u001b[1;31mNameError\u001b[0m                                 Traceback (most recent call last)",
      "\u001b[1;32m<ipython-input-1-a64ee7a48cb6>\u001b[0m in \u001b[0;36m<module>\u001b[1;34m\u001b[0m\n\u001b[0;32m     10\u001b[0m \u001b[1;33m\u001b[0m\u001b[0m\n\u001b[0;32m     11\u001b[0m \u001b[1;33m\u001b[0m\u001b[0m\n\u001b[1;32m---> 12\u001b[1;33m \u001b[0mplt\u001b[0m\u001b[1;33m.\u001b[0m\u001b[0mhist\u001b[0m\u001b[1;33m(\u001b[0m\u001b[0mx\u001b[0m\u001b[1;33m,\u001b[0m \u001b[0menergy\u001b[0m\u001b[1;33m,\u001b[0m \u001b[0mcolor\u001b[0m\u001b[1;33m=\u001b[0m\u001b[1;34m'green'\u001b[0m\u001b[1;33m)\u001b[0m\u001b[1;33m\u001b[0m\u001b[1;33m\u001b[0m\u001b[0m\n\u001b[0m\u001b[0;32m     13\u001b[0m \u001b[1;33m\u001b[0m\u001b[0m\n\u001b[0;32m     14\u001b[0m \u001b[1;31m# Labelling our x axis\u001b[0m\u001b[1;33m\u001b[0m\u001b[1;33m\u001b[0m\u001b[1;33m\u001b[0m\u001b[0m\n",
      "\u001b[1;31mNameError\u001b[0m: name 'plt' is not defined"
     ]
    }
   ],
   "source": [
    "# Example 1\n",
    "# ---\n",
    "# Bar charts are used to display values associated with categorical data.\n",
    "# ---\n",
    "# \n",
    "\n",
    "# Defining our data\n",
    "x = ['Nuclear', 'Hydro', 'Gas', 'Oil', 'Coal', 'Biofuel']\n",
    "energy = [5, 6, 15, 22, 24, 8]\n",
    " \n",
    "\n",
    "plt.hist(x, energy, color='green')\n",
    "\n",
    "# Labelling our x axis\n",
    "plt.xlabel(\"Energy Source\")\n",
    "\n",
    "# Labelling our y axis\n",
    "plt.ylabel(\"Energy Output (GJ)\")\n",
    "\n",
    "# Giving a title to our Bar chart\n",
    "plt.title(\"Energy output from various fuel sources\")\n",
    "\n",
    "# Displaying our chart\n",
    "plt.show()"
   ]
  },
  {
   "cell_type": "code",
   "execution_count": 9,
   "metadata": {
    "colab": {},
    "colab_type": "code",
    "id": "RWgB6pZg3-o6"
   },
   "outputs": [
    {
     "data": {
      "image/png": "[encoded data removed]",
      "text/plain": [
       "<Figure size 432x288 with 1 Axes>"
      ]
     },
     "metadata": {
      "needs_background": "light"
     },
     "output_type": "display_data"
    }
   ],
   "source": [
    "# Example 2\n",
    "# ---\n",
    "# We can also create the exact same chart horizontally as shown \n",
    "# ---\n",
    "# \n",
    "\n",
    "x = ['Nuclear', 'Hydro', 'Gas', 'Oil', 'Coal', 'Biofuel']\n",
    "energy = [15, 16, 25, 32, 34, 18]  \n",
    "\n",
    "plt.barh(x, energy)\n",
    "plt.ylabel(\"Energy Source\")\n",
    "plt.xlabel(\"Energy Output (GJ)\")\n",
    "plt.title(\"Energy output from various fuel sources\")\n",
    "plt.show()"
   ]
  },
  {
   "cell_type": "code",
   "execution_count": 10,
   "metadata": {
    "colab": {},
    "colab_type": "code",
    "id": "n21agJh93_w0"
   },
   "outputs": [
    {
     "data": {
      "image/png": "[encoded data removed]",
      "text/plain": [
       "<Figure size 432x288 with 1 Axes>"
      ]
     },
     "metadata": {
      "needs_background": "light"
     },
     "output_type": "display_data"
    }
   ],
   "source": [
    "# Example 3\n",
    "# ---\n",
    "# Very much like a bar chart, histograms tend to show distribution by grouping segments together. \n",
    "# Examples of this might be age groups, or scores on a test. \n",
    "# Rather than showing every single age a group might be, maybe you just show people from 20-25, 25-30... and so on.\n",
    "# ---\n",
    "#\n",
    "\n",
    "population_ages = [22, 55, 62, 45, 21, 22, 34, 42, 42, 4, 99, 102, 110, 120, 121, 122, 130, 111, 115, 112, 80, 75, 65, 54, 44, 43, 42, 48]\n",
    "bins            = [0, 10, 20, 30, 40, 50, 60, 70, 80, 90, 100, 110, 120, 130]\n",
    "\n",
    "plt.hist(population_ages, bins=bins, histtype='bar', rwidth=0.9)\n",
    "\n",
    "plt.xlabel('x')\n",
    "plt.ylabel('y')\n",
    "plt.title('Histogram of Population') \n",
    "plt.show()"
   ]
  },
  {
   "cell_type": "code",
   "execution_count": 11,
   "metadata": {
    "colab": {},
    "colab_type": "code",
    "id": "eGXHLiBY8jbI"
   },
   "outputs": [
    {
     "data": {
      "image/png": "[encoded data removed]",
      "text/plain": [
       "<Figure size 432x288 with 1 Axes>"
      ]
     },
     "metadata": {
      "needs_background": "light"
     },
     "output_type": "display_data"
    }
   ],
   "source": [
    "# Example 4\n",
    "# ---\n",
    "# Creating a histogram from a given dataset using values from the points column\n",
    "# ---\n",
    "# Dataset url = http://bit.ly/WineDataset\n",
    "# ---\n",
    "#\n",
    "\n",
    "# Loading out dataset\n",
    "wine_df = pd.read_csv(\"http://bit.ly/WineDataset\")\n",
    "\n",
    "wine_points = wine_df['points']\n",
    "\n",
    "plt.hist(wine_points, bins=10, histtype='bar', rwidth=0.9)\n",
    "plt.xlabel('No. of Wines')\n",
    "plt.ylabel('Quantity')\n",
    "plt.title('Histogram of Points of Wine vs No. of Wines')\n",
    "plt.show()"
   ]
  },
  {
   "cell_type": "markdown",
   "metadata": {
    "colab_type": "text",
    "id": "jRKV0pa04BQH"
   },
   "source": [
    "#### <font color=\"green\">1.22 Challenges</font>"
   ]
  },
  {
   "cell_type": "code",
   "execution_count": 12,
   "metadata": {
    "colab": {},
    "colab_type": "code",
    "id": "VWgtpnM54Mf7"
   },
   "outputs": [
    {
     "data": {
      "image/png": "[encoded data removed]",
      "text/plain": [
       "<Figure size 432x288 with 1 Axes>"
      ]
     },
     "metadata": {
      "needs_background": "light"
     },
     "output_type": "display_data"
    }
   ],
   "source": [
    "# Challenge 1\n",
    "# ---\n",
    "# Question: Create a bar chart given the following dataset\n",
    "# ---\n",
    "# \n",
    "languages = ('Python', 'C++', 'Java', 'Perl', 'Scala', 'Lisp') \n",
    "performance = [20, 18, 66, 14, 12, 11]\n",
    "\n",
    "plt.bar(languages, performance, color='red')\n",
    "plt.xlabel('Languages')\n",
    "plt.ylabel('Performance')\n",
    "plt.title('Languages Performance Bar')\n",
    "plt.show()"
   ]
  },
  {
   "cell_type": "code",
   "execution_count": 13,
   "metadata": {
    "colab": {},
    "colab_type": "code",
    "id": "FUy2tpOl4Nax"
   },
   "outputs": [
    {
     "data": {
      "image/png": "[encoded data removed]",
      "text/plain": [
       "<Figure size 432x288 with 1 Axes>"
      ]
     },
     "metadata": {
      "needs_background": "light"
     },
     "output_type": "display_data"
    }
   ],
   "source": [
    "# Challenge 2\n",
    "# ---\n",
    "# Question: Create a histogram from the following data\n",
    "# ---\n",
    "# \n",
    "x = [21, 22, 23, 4, 5, 6, 77, 8, 9, 10, 31, 32, 33, 34, 35, 36, 37, 18, 49, 50, 100]\n",
    "num_bins = 5\n",
    "\n",
    "plt.hist(x, bins=num_bins, histtype='bar', rwidth=0.9)\n",
    "plt.xlabel('x')\n",
    "plt.ylabel('Quantity')\n",
    "plt.title('Histogram of Points of Wine vs No. of Wines')\n",
    "plt.show()"
   ]
  },
  {
   "cell_type": "code",
   "execution_count": 14,
   "metadata": {
    "colab": {},
    "colab_type": "code",
    "id": "eQV9iT2u4Po_"
   },
   "outputs": [
    {
     "data": {
      "image/png": "[encoded data removed]",
      "text/plain": [
       "<Figure size 432x288 with 1 Axes>"
      ]
     },
     "metadata": {
      "needs_background": "light"
     },
     "output_type": "display_data"
    }
   ],
   "source": [
    "# Challenge 3\n",
    "# ---\n",
    "# Question: Create a histogram from a given dataset using values from the sepal length column\n",
    "# ---\n",
    "# Dataset url = http://bit.ly/IrisDataset\n",
    "# ---\n",
    "# \n",
    "url = \"http://bit.ly/IrisDataset\"\n",
    "\n",
    "df = pd.read_csv(url)\n",
    "plt.hist(df.sepal_width, bins=10, histtype='bar', rwidth=0.9)\n",
    "plt.xlabel('x')\n",
    "plt.ylabel('Sepal Width')\n",
    "plt.title('Histogram Sepal Width')\n",
    "plt.show()"
   ]
  },
  {
   "cell_type": "code",
   "execution_count": 15,
   "metadata": {},
   "outputs": [
    {
     "name": "stderr",
     "output_type": "stream",
     "text": [
      "C:\\Users\\NRCA\\anaconda3\\lib\\site-packages\\ipykernel_launcher.py:5: UserWarning: To output multiple subplots, the figure containing the passed axes is being cleared\n",
      "  \"\"\"\n"
     ]
    },
    {
     "data": {
      "image/png": "[encoded data removed]",
      "text/plain": [
       "<Figure size 720x720 with 4 Axes>"
      ]
     },
     "metadata": {
      "needs_background": "light"
     },
     "output_type": "display_data"
    }
   ],
   "source": [
    "#BABUS CODE\n",
    "df_IRIS = pd.read_csv('http://bit.ly/IrisDataset')\n",
    "fig = plt.figure(figsize = (10,10))\n",
    "ax = fig.gca()\n",
    "\n",
    "df_IRIS.hist(ax=ax)\n",
    "\n",
    "plt.xlabel('Length')\n",
    "plt.ylabel('Species')\n",
    "plt.title('Sepals')\n",
    "plt.show()"
   ]
  },
  {
   "cell_type": "markdown",
   "metadata": {
    "colab_type": "text",
    "id": "yXH8QAl71vLq"
   },
   "source": [
    "### 1.23 Pie Charts"
   ]
  },
  {
   "cell_type": "code",
   "execution_count": 16,
   "metadata": {
    "colab": {},
    "colab_type": "code",
    "id": "UXYA0eoB09kd"
   },
   "outputs": [
    {
     "data": {
      "image/png": "[encoded data removed]",
      "text/plain": [
       "<Figure size 432x288 with 1 Axes>"
      ]
     },
     "metadata": {},
     "output_type": "display_data"
    }
   ],
   "source": [
    "# Example 1\n",
    "# ---\n",
    "# Question: Create a pie chart usig the sizes list given below\n",
    "# ---\n",
    "#\n",
    "\n",
    "# Defining our labels, sizes, colors and explode (this will explode the 1st slice)\n",
    "labels = 'Python', 'C++', 'Ruby', 'Java'\n",
    "sizes  = [215, 130, 245, 210]\n",
    "colors = ['gold', 'yellowgreen', 'lightcoral', 'lightskyblue']\n",
    "\n",
    "# Highlights a particular Value in plot\n",
    "explode = (0.1, 0, 0, 0)  \n",
    "\n",
    "# Plotting our pie chart\n",
    "plt.pie(sizes, explode=explode, labels=labels, colors=colors, autopct='%1.1f%%', shadow=True, startangle=140)\n",
    "\n",
    "plt.axis('equal')\n",
    "plt.title('Pie Chart of Programming Languages')\n",
    "plt.show()"
   ]
  },
  {
   "cell_type": "code",
   "execution_count": 17,
   "metadata": {
    "colab": {},
    "colab_type": "code",
    "id": "4IIwpXsF4To9"
   },
   "outputs": [
    {
     "data": {
      "image/png": "[encoded data removed]",
      "text/plain": [
       "<Figure size 432x288 with 1 Axes>"
      ]
     },
     "metadata": {},
     "output_type": "display_data"
    }
   ],
   "source": [
    "# Example 2\n",
    "# ---\n",
    "# Question: Create a pie chart to show the distribution of age and population\n",
    "# ---\n",
    "# \n",
    "\n",
    "# Loading out dataset\n",
    "df = pd.read_csv(\"http://bit.ly/AgePopulationDataset\")\n",
    "\n",
    "# Previewing the dataset \n",
    "df.head()\n",
    "\n",
    "# Assigning our columns to population and age variables\n",
    "population = df['population']\n",
    "age        = df['age']\n",
    "\n",
    "# Plotting our pie chart\n",
    "# -------\n",
    "plt.pie(population, labels = age, autopct = '%1.1f%%', shadow = True, startangle = 140)\n",
    "plt.axis('equal')\n",
    "plt.title('Pie Chart of Age population')\n",
    "plt.show()"
   ]
  },
  {
   "cell_type": "markdown",
   "metadata": {
    "colab_type": "text",
    "id": "6lNbN0xS4XAY"
   },
   "source": [
    "#### <font color=\"green\">1.23 Challenges</font>"
   ]
  },
  {
   "cell_type": "code",
   "execution_count": 18,
   "metadata": {
    "colab": {},
    "colab_type": "code",
    "id": "SDYT8o0U4WE9"
   },
   "outputs": [
    {
     "data": {
      "image/png": "[encoded data removed]",
      "text/plain": [
       "<Figure size 432x288 with 1 Axes>"
      ]
     },
     "metadata": {},
     "output_type": "display_data"
    }
   ],
   "source": [
    "# Challenge 1\n",
    "# ---\n",
    "# Question: Create a pie chart of county population given the following\n",
    "# ---\n",
    "# \n",
    "\n",
    "county_population = [12344408, 2441523, 30523371, 110012442, 47886051]\n",
    "counties = ['Thika', 'Mombasa', 'Kisumu', 'Nairobi', 'Nakuru']\n",
    "\n",
    "plt.pie(county_population, labels=counties, autopct='%1.1f%%', shadow=True, startangle=140)\n",
    "plt.show()"
   ]
  },
  {
   "cell_type": "code",
   "execution_count": 36,
   "metadata": {
    "colab": {},
    "colab_type": "code",
    "id": "xRcsBrgL4jDB"
   },
   "outputs": [
    {
     "data": {
      "image/png": "[encoded data removed]",
      "text/plain": [
       "<Figure size 432x288 with 1 Axes>"
      ]
     },
     "metadata": {},
     "output_type": "display_data"
    }
   ],
   "source": [
    "# Challenge 2\n",
    "# ---\n",
    "# Question: Acting as Chief Data Strategist for a ride sharing company, \n",
    "# you are expected to offer data-backed guidance on new opportunities for market differentiation.\n",
    "# Merge the two datasets into a single dataset based on the cities they share then \n",
    "# produce the following pie chart: Pie Chart of % of Total Fares by City Type.\n",
    "# Hint: When making the pie Chart, experiment with effects like shadow, startangle, and explosion\n",
    "# ---\n",
    "# Dataset 1 url = http://bit.ly/City-RideDataset\n",
    "# Dataset 2 url = http://bit.ly/RideDataset\n",
    "# ---\n",
    "#\n",
    "df1 = pd.read_csv('http://bit.ly/City-RideDataset')\n",
    "df2 = pd.read_csv('http://bit.ly/RideDataset')\n",
    "\n",
    "#merging the two datasets on city\n",
    "merged = df2.merge(df1, how='left',  on='city')\n",
    "\n",
    "#grouping type with fare totals to df4 frame\n",
    "#city_fare = df3.loc[:, ['city','fare', 'type',]]\n",
    "df4 = merged.groupby('type').fare.sum()\n",
    "\n",
    "#our areas and their fare totals\n",
    "area_type = list(df4.keys())\n",
    "fare_totals = list(df4)\n",
    "\n",
    "#plotting piechart\n",
    "plt.pie(fare_totals, labels = area_type, autopct = '%1.1f%%', shadow = True, startangle = 140)\n",
    "plt.axis('equal')\n",
    "plt.title('Pie Chart of Total Fare Per Area Type')\n",
    "plt.show()"
   ]
  },
  {
   "cell_type": "code",
   "execution_count": 61,
   "metadata": {
    "colab": {},
    "colab_type": "code",
    "id": "EpTRmGQF4kyA"
   },
   "outputs": [
    {
     "data": {
      "image/png": "[encoded data removed]",
      "text/plain": [
       "<Figure size 432x288 with 1 Axes>"
      ]
     },
     "metadata": {},
     "output_type": "display_data"
    }
   ],
   "source": [
    "# Challenge 3\n",
    "# ---\n",
    "# Question: From the combined dataset in Challenge 2, \n",
    "# create a pie chart of % of Total Rides by City Type\n",
    "# ---\n",
    "#\n",
    "\n",
    "df4 = df3.iloc[:, [0, 3, 5]]\n",
    "df5 = df3.groupby('type').ride_id.count()\n",
    "\n",
    "#our areas and their fare totals\n",
    "area_type = list(df5.keys())\n",
    "driver_totals = list(df5)\n",
    "\n",
    "#plotting piechart\n",
    "plt.pie(driver_totals, labels = area_type, autopct = '%1.1f%%', shadow = True, startangle = 140)\n",
    "plt.axis('equal')\n",
    "plt.title('Pie Chart of Total Rides Per Area Type')\n",
    "plt.show()"
   ]
  },
  {
   "cell_type": "code",
   "execution_count": 56,
   "metadata": {
    "colab": {},
    "colab_type": "code",
    "id": "H4FACJNg6kPw"
   },
   "outputs": [
    {
     "data": {
      "image/png": "[encoded data removed]",
      "text/plain": [
       "<Figure size 432x288 with 1 Axes>"
      ]
     },
     "metadata": {},
     "output_type": "display_data"
    }
   ],
   "source": [
    "# Challenge 4\n",
    "# ---\n",
    "# Question: From the combined dataset in Challenge 2, \n",
    "# create a pie chart % of Total Drivers by City Type\n",
    "# ---\n",
    "\n",
    "df4 = df3.iloc[:, [0, 4, 5]].drop_duplicates()\n",
    "df5 = df4.groupby('type').driver_count.sum()\n",
    "\n",
    "#our areas and their fare totals\n",
    "area_type = list(df5.keys())\n",
    "driver_totals = list(df5)\n",
    "\n",
    "#plotting piechart\n",
    "plt.pie(driver_totals, labels = area_type, autopct = '%1.1f%%', shadow = True, startangle = 140)\n",
    "plt.axis('equal')\n",
    "plt.title('Pie Chart of Total Drivers Per Area Type')\n",
    "plt.show()"
   ]
  },
  {
   "cell_type": "markdown",
   "metadata": {
    "colab_type": "text",
    "id": "QIuhupEZ1y_S"
   },
   "source": [
    "## 1.3 Numerical Variables"
   ]
  },
  {
   "cell_type": "markdown",
   "metadata": {
    "colab_type": "text",
    "id": "GqietlVA2BUa"
   },
   "source": [
    "### 1.31 Measures of Central Tendency"
   ]
  },
  {
   "cell_type": "code",
   "execution_count": 21,
   "metadata": {
    "colab": {},
    "colab_type": "code",
    "id": "u_W0Wibz13A8"
   },
   "outputs": [
    {
     "data": {
      "text/plain": [
       "24.452987654321003"
      ]
     },
     "execution_count": 21,
     "metadata": {},
     "output_type": "execute_result"
    }
   ],
   "source": [
    "# Example 1: Mean\n",
    "# Mean or Average is a central tendency of the data i.e. a number around which a whole data is spread out. \n",
    "# In a way, it is a single number which can estimate the value of whole data set.\n",
    "# ---\n",
    "# Question: From the following dataset, What is the mean monthly consumption and export of tea in millions of kg between 2003 and 2015\n",
    "# Dataset url = http://bit.ly/tea-exports\n",
    "# ---\n",
    "\n",
    "# Loading the dataset\n",
    "tea_exports_df = pd.read_csv(\"http://bit.ly/tea-exports\")\n",
    "\n",
    "# Previewing the dataset\n",
    "tea_exports_df.head()\n",
    "\n",
    "# Finding the mean\n",
    "tea_exports_df[\"Millions_in_KGS_\"].mean()"
   ]
  },
  {
   "cell_type": "code",
   "execution_count": 62,
   "metadata": {
    "colab": {},
    "colab_type": "code",
    "id": "2DPrdaoc16tZ"
   },
   "outputs": [
    {
     "data": {
      "text/plain": [
       "2424.0"
      ]
     },
     "execution_count": 62,
     "metadata": {},
     "output_type": "execute_result"
    }
   ],
   "source": [
    "# Example 2: Median\n",
    "# Median is the value which divides the data in 2 equal parts i.e. number of terms on right side of it \n",
    "# is same as number of terms on left side of it when data is arranged in either ascending or descending order.\n",
    "# ---\n",
    "# Question: From the following dataset, What was the monthly median fish production(kgs) in Kisumu sub county?\n",
    "# Dataset url = http://bit.ly/Kisumu-fish-production\n",
    "# ---\n",
    "# \n",
    "\n",
    "# Loading the dataset\n",
    "kisumu_fish_production_df = pd.read_csv(\"http://bit.ly/Kisumu-fish-production\")\n",
    "\n",
    "# Previewing the dataset\n",
    "# kisumu_fish_production_df.head()\n",
    "\n",
    "# Finding the median\n",
    "kisumu_fish_production_df[\"WEIGHT_KGS\"].median()"
   ]
  },
  {
   "cell_type": "code",
   "execution_count": 63,
   "metadata": {
    "colab": {},
    "colab_type": "code",
    "id": "eYO9eGyH125E"
   },
   "outputs": [
    {
     "data": {
      "text/plain": [
       "0    10\n",
       "dtype: int64"
      ]
     },
     "execution_count": 63,
     "metadata": {},
     "output_type": "execute_result"
    }
   ],
   "source": [
    "# Example 3: Mode \n",
    "# Mode is the term appearing maximum time in data set i.e. term that has highest frequency.\n",
    "# ---\n",
    "# Question: From the given dataset, what was the mode target yield bags per hectare during the long rains?\n",
    "# Dataset url = http://bit.ly/Kisumu-crop-statistics\n",
    "# ---\n",
    "#\n",
    "\n",
    "# Loading the dataset\n",
    "kisumu_crop_statistics_df = pd.read_csv(\"http://bit.ly/Kisumu-crop-statistics\")\n",
    "\n",
    "# Previewing the dataset\n",
    "kisumu_crop_statistics_df.head()\n",
    "\n",
    "# Finding the median\n",
    "kisumu_crop_statistics_df[\"TARGET_YIELD__BAG/HA_LONG_RAINS\"].mode()"
   ]
  },
  {
   "cell_type": "markdown",
   "metadata": {
    "colab_type": "text",
    "id": "Z6im-o4g4pK6"
   },
   "source": [
    "#### <font color=\"green\">1.32 Challenges</font>"
   ]
  },
  {
   "cell_type": "code",
   "execution_count": 64,
   "metadata": {
    "colab": {},
    "colab_type": "code",
    "id": "bd8oXas94osH"
   },
   "outputs": [
    {
     "ename": "SyntaxError",
     "evalue": "invalid syntax (<ipython-input-64-0ffe2a7ce46a>, line 7)",
     "output_type": "error",
     "traceback": [
      "\u001b[1;36m  File \u001b[1;32m\"<ipython-input-64-0ffe2a7ce46a>\"\u001b[1;36m, line \u001b[1;32m7\u001b[0m\n\u001b[1;33m    OUR CODE GOES HERE\u001b[0m\n\u001b[1;37m           ^\u001b[0m\n\u001b[1;31mSyntaxError\u001b[0m\u001b[1;31m:\u001b[0m invalid syntax\n"
     ]
    }
   ],
   "source": [
    "# Challenge 1: Mean\n",
    "# ---\n",
    "# Question: What was the mean target production bags of 90kg during short rains?\n",
    "# Dataset url = http://bit.ly/Kisumu-crop-statistics\n",
    "# ---\n",
    "# \n",
    "OUR CODE GOES HERE"
   ]
  },
  {
   "cell_type": "code",
   "execution_count": 65,
   "metadata": {
    "colab": {},
    "colab_type": "code",
    "id": "lOwXYPaO4x7u"
   },
   "outputs": [
    {
     "ename": "SyntaxError",
     "evalue": "invalid syntax (<ipython-input-65-26b32529448a>, line 7)",
     "output_type": "error",
     "traceback": [
      "\u001b[1;36m  File \u001b[1;32m\"<ipython-input-65-26b32529448a>\"\u001b[1;36m, line \u001b[1;32m7\u001b[0m\n\u001b[1;33m    OUR CODE GOES HERE\u001b[0m\n\u001b[1;37m           ^\u001b[0m\n\u001b[1;31mSyntaxError\u001b[0m\u001b[1;31m:\u001b[0m invalid syntax\n"
     ]
    }
   ],
   "source": [
    "# Challenge 2: Median\n",
    "# ---\n",
    "# Question: What was the median target production bags during long rains?\n",
    "# Dataset url = http://bit.ly/Kisumu-crop-statistics\n",
    "# ---\n",
    "#\n",
    "OUR CODE GOES HERE"
   ]
  },
  {
   "cell_type": "code",
   "execution_count": 66,
   "metadata": {
    "colab": {},
    "colab_type": "code",
    "id": "JyOIjUMD4y-7"
   },
   "outputs": [
    {
     "ename": "SyntaxError",
     "evalue": "invalid syntax (<ipython-input-66-b102141ee0c0>, line 7)",
     "output_type": "error",
     "traceback": [
      "\u001b[1;36m  File \u001b[1;32m\"<ipython-input-66-b102141ee0c0>\"\u001b[1;36m, line \u001b[1;32m7\u001b[0m\n\u001b[1;33m    OUR CODE GOES HERE\u001b[0m\n\u001b[1;37m           ^\u001b[0m\n\u001b[1;31mSyntaxError\u001b[0m\u001b[1;31m:\u001b[0m invalid syntax\n"
     ]
    }
   ],
   "source": [
    "# Challenge 3: Mode \n",
    "# ---\n",
    "# Question: What was the mode projected yield bags per hectare during short rains?\n",
    "# Dataset url = http://bit.ly/Kisumu-crop-statistics\n",
    "# ---\n",
    "#\n",
    "OUR CODE GOES HERE"
   ]
  },
  {
   "cell_type": "markdown",
   "metadata": {
    "colab_type": "text",
    "id": "8POt4f4D2LcH"
   },
   "source": [
    "### 1.32 Measures of Dispersion/Variability/Spread"
   ]
  },
  {
   "cell_type": "code",
   "execution_count": 67,
   "metadata": {
    "colab": {},
    "colab_type": "code",
    "id": "kZeJoLg_2R3Q"
   },
   "outputs": [
    {
     "data": {
      "text/plain": [
       "2539.974525115418"
      ]
     },
     "execution_count": 67,
     "metadata": {},
     "output_type": "execute_result"
    }
   ],
   "source": [
    "# Example 1: Standard Deviation  \n",
    "# Standard deviation is the measurement of average distance between each quantity and mean. \n",
    "# That is, how data is spread out from mean. A low standard deviation indicates that the data points \n",
    "# tend to be close to the mean of the data set, while a high standard deviation indicates that the \n",
    "# data points are spread out over a wider range of values.\n",
    "# There are situations when we have to choose between sample or population Standard Deviation. \n",
    "# When we are asked to find SD of some part of a population, a segment of population; \n",
    "# then we use sample Standard Deviation. But when we have to deal with a whole population, \n",
    "# then we use population Standard Deviation. As you know, in descriptive statistics, \n",
    "# we generally deal with a data available in a sample, not in a population.\n",
    "# ---\n",
    "# Question: What was the standard deviation for the Nakuru Couty Herbicide average prices?\n",
    "# Dataset url = http://bit.ly/NakuruCountyHerbicidePrices\n",
    "# ----\n",
    "# \n",
    "\n",
    "# Loading the dataset\n",
    "nakuru_county_herbicide_prices_df = pd.read_csv(\"http://bit.ly/NakuruCountyHerbicidePrices\")\n",
    "\n",
    "# Previewing the dataset\n",
    "# nakuru_county_herbicide_prices_df.head()\n",
    "\n",
    "# Finding the standard deviation\n",
    "nakuru_county_herbicide_prices_df[\"Average_Price\"].std()"
   ]
  },
  {
   "cell_type": "code",
   "execution_count": 68,
   "metadata": {
    "colab": {},
    "colab_type": "code",
    "id": "P8vUwmx3-8iB"
   },
   "outputs": [
    {
     "data": {
      "text/plain": [
       "6451470.5882352935"
      ]
     },
     "execution_count": 68,
     "metadata": {},
     "output_type": "execute_result"
    }
   ],
   "source": [
    "# Example 2: Variance\n",
    "# Variance is a square of average distance between each quantity and mean. \n",
    "# That is it is square of standard deviation. It is a measure of how dispersed or spread out the set is, \n",
    "# something that the “average” (mean or median) is not designed to do. \n",
    "# If I tell you a data set has a variance of zero, for example, you know that every member of it is the same. \n",
    "# If the variance is high, especially as a ratio to the mean, \n",
    "# that tells you that the data have some very large dis-similarities amongst its members. \n",
    "# If one considers the mean to be a sort of centre of the data, \n",
    "# the variance tells you how scattered around the centre of mass the points are.\n",
    "# ---\n",
    "# Question: What was the variance of the Nakuru Couty Herbicide average prices?\n",
    "# Dataset url = http://bit.ly/NakuruCountyHerbicidePrices\n",
    "# ---\n",
    "#  \n",
    "\n",
    "# Finding the variance of the herbicide average prices\n",
    "nakuru_county_herbicide_prices_df[\"Average_Price\"].var()"
   ]
  },
  {
   "cell_type": "code",
   "execution_count": 69,
   "metadata": {
    "colab": {},
    "colab_type": "code",
    "id": "j73naeos2RRR"
   },
   "outputs": [
    {
     "data": {
      "text/plain": [
       "7450"
      ]
     },
     "execution_count": 69,
     "metadata": {},
     "output_type": "execute_result"
    }
   ],
   "source": [
    "# Examples 3: Range\n",
    "# Range is one of the simplest techniques of descriptive statistics. \n",
    "# It is the difference between lowest and highest value.\n",
    "# ---\n",
    "# Question: What was the range of the Nakuru county herbicide prices?\n",
    "# Dataset url = http://bit.ly/NakuruCountyHerbicidePrices\n",
    "# ---\n",
    "#\n",
    "\n",
    "# Finding the min and max values of the herbicide average prices\n",
    "nakuru_county_herbicide_prices_max = nakuru_county_herbicide_prices_df[\"Average_Price\"].max()\n",
    "nakuru_county_herbicide_prices_min = nakuru_county_herbicide_prices_df[\"Average_Price\"].min()\n",
    "\n",
    "# Calculating the range\n",
    "nakuru_county_herbicide_prices_max - nakuru_county_herbicide_prices_min"
   ]
  },
  {
   "cell_type": "code",
   "execution_count": 70,
   "metadata": {
    "colab": {},
    "colab_type": "code",
    "id": "UobGI2kj2Q3Y"
   },
   "outputs": [
    {
     "data": {
      "text/plain": [
       "0.25    1162.5\n",
       "0.50    1875.0\n",
       "0.75    3900.0\n",
       "Name: Average_Price, dtype: float64"
      ]
     },
     "execution_count": 70,
     "metadata": {},
     "output_type": "execute_result"
    }
   ],
   "source": [
    "# Example 4: Quantiles \n",
    "# In statistics and probability, quartiles are values that divide your data into quarters provided data is sorted in an ascending order. \n",
    "# There are three quartile values. First quartile value is at 25 percentile. \n",
    "# Second quartile is 50 percentile and third quartile is 75 percentile. \n",
    "# Second quartile (Q2) is median of the whole data. First quartile (Q1) is median of upper half of the data. \n",
    "# And Third Quartile (Q3) is median of lower half of the data.\n",
    "# ---\n",
    "# Question: Determine the quantiles of the Nakuru county herbicide prices\n",
    "# Dataset url = http://bit.ly/NakuruCountyHerbicidePrices\n",
    "# ---\n",
    "# \n",
    "\n",
    "# Finding the quantiles of the herbicide average prices\n",
    "nakuru_county_herbicide_prices_df[\"Average_Price\"].quantile([0.25,0.5,0.75])"
   ]
  },
  {
   "cell_type": "code",
   "execution_count": 71,
   "metadata": {
    "colab": {},
    "colab_type": "code",
    "id": "j_9rzQpe3UEE"
   },
   "outputs": [
    {
     "data": {
      "text/plain": [
       "1.0944233329783948"
      ]
     },
     "execution_count": 71,
     "metadata": {},
     "output_type": "execute_result"
    }
   ],
   "source": [
    "# Examples 5: Skewness\n",
    "# Skewness is a measure of the asymmetry of the probability distribution (http://bit.ly/ProbabilityDistribution)\n",
    "# of a real-valued random variable about its mean. The skewness value can be positive or negative, or undefined.\n",
    "# In a perfect normal distribution, the tails on either side of the curve are exact mirror images of each other.\n",
    "# When a distribution is skewed to the left, the tail on the curve’s left-hand side is longer than the tail on the right-hand side,\n",
    "# and the mean is less than the mode. This situation is also called negative skewness.\n",
    "# When a distribution is skewed to the right, the tail on the curve’s right-hand side is longer than the tail on the left-hand side, \n",
    "# and the mean is greater than the mode. This situation is also called positive skewness.\n",
    "# It is important for researchers from the behavioral and business sciences to measure skewness when it appears in their data. \n",
    "# Great amount of skewness may motivate the data scientist to investigate the existence of outliers. \n",
    "# When making decisions about which measure of location to report and which inferential statistic to employ, \n",
    "# one should take into consideration the estimated skewness of the population.\n",
    "# A negative value means the distribution is negatively skewed. A positive value means the distribution is positively skewed.\n",
    "# ---\n",
    "# Question: Determine the skewness of the Nakuru county herbicide prices.\n",
    "# Dataset url = http://bit.ly/NakuruCountyHerbicidePrices\n",
    "# ---\n",
    "#\n",
    "\n",
    "# Determining the skeweness\n",
    "nakuru_county_herbicide_prices_df[\"Average_Price\"].skew()"
   ]
  },
  {
   "cell_type": "code",
   "execution_count": 72,
   "metadata": {
    "colab": {},
    "colab_type": "code",
    "id": "HTwjeGEy3XAB"
   },
   "outputs": [
    {
     "data": {
      "text/plain": [
       "-0.1522981864221693"
      ]
     },
     "execution_count": 72,
     "metadata": {},
     "output_type": "execute_result"
    }
   ],
   "source": [
    "# Examples 6: Kurtosis\n",
    "# The exact interpretation of the measure of Kurtosis used to be disputed, but is now settled. \n",
    "# Its about existence of outliers. Kurtosis is a measure of whether the data are heavy-tailed (profusion of outliers)\n",
    "# or light-tailed (lack of outliers) relative to a normal distribution.\n",
    "# There are three types of Kurtosis: Mesokurtic, Leptokurtic, Mesokurtic and Platykurtic. \n",
    "# ***\n",
    "# Mesokurtic is the distribution which has similar kurtosis as normal distribution kurtosis, which is zero.\n",
    "# ***\n",
    "# Leptokurtic is the distribution which has kurtosis greater than a Mesokurtic distribution. Tails of such distributions are thick and heavy. \n",
    "# If the curve of a distribution is more peaked than Mesokurtic curve, it is referred to as a Leptokurtic curve.\n",
    "# ***\n",
    "# Platykurtic is the distribution which has kurtosis lesser than a Mesokurtic distribution. Tails of such distributions thinner. \n",
    "# If a curve of a distribution is less peaked than a Mesokurtic curve, it is referred to as a Platykurtic curve.\n",
    "# \n",
    "# If the kurtosis is close to 0, then a normal distribution is often assumed. These are called mesokurtic distributions. \n",
    "# If the kurtosis is less than zero, then the distribution is light tails and is called a platykurtic distribution.  \n",
    "# If the kurtosis is greater than zero, then the distribution has heavier tails and is called a leptokurtic distribution.\n",
    "# ---\n",
    "# Question: Determine the Kurtosis of the Nakuru county herbicide prices \n",
    "# Dataset url = http://bit.ly/NakuruCountyHerbicidePrices\n",
    "# ---\n",
    "#\n",
    "\n",
    "# Determining the skeweness \n",
    "nakuru_county_herbicide_prices_df[\"Average_Price\"].kurt()"
   ]
  },
  {
   "cell_type": "code",
   "execution_count": 73,
   "metadata": {
    "colab": {},
    "colab_type": "code",
    "id": "cN5YUpsblCLC"
   },
   "outputs": [
    {
     "data": {
      "text/plain": [
       "count      18.000000\n",
       "mean     2933.333333\n",
       "std      2539.974525\n",
       "min       550.000000\n",
       "25%      1162.500000\n",
       "50%      1875.000000\n",
       "75%      3900.000000\n",
       "max      8000.000000\n",
       "Name: Average_Price, dtype: float64"
      ]
     },
     "execution_count": 73,
     "metadata": {},
     "output_type": "execute_result"
    }
   ],
   "source": [
    "# Example 7: Displaying the summary statistics of the dataframe\n",
    "#\n",
    "nakuru_county_herbicide_prices_df['Average_Price'].describe()\n"
   ]
  },
  {
   "cell_type": "markdown",
   "metadata": {
    "colab_type": "text",
    "id": "xumXllAg5A6N"
   },
   "source": [
    "#### <font color=\"green\">1.32 Challenges</font>"
   ]
  },
  {
   "cell_type": "code",
   "execution_count": 0,
   "metadata": {
    "colab": {},
    "colab_type": "code",
    "id": "gXnEzujX5Gi0"
   },
   "outputs": [],
   "source": [
    "# Challenge 1: Standard Deviation\n",
    "# ---\n",
    "# What was the variance of end of reporting month surplus for the 90kg bags?\n",
    "# Dataset url = http://bit.ly/KisumuFoodSecurtyDataset\n",
    "# ---\n",
    "# \n",
    "OUR CODE GOES HERE "
   ]
  },
  {
   "cell_type": "code",
   "execution_count": 0,
   "metadata": {
    "colab": {},
    "colab_type": "code",
    "id": "233fZPZb3aE8"
   },
   "outputs": [],
   "source": [
    "# Challenge 2: Variance \n",
    "# ---\n",
    "# What was the variance of end of reporting month surplus for the 90kg bags?\n",
    "# Dataset url = http://bit.ly/KisumuFoodSecurityDataset\n",
    "# ---\n",
    "# \n",
    "OUR CODE GOES HERE "
   ]
  },
  {
   "cell_type": "code",
   "execution_count": 0,
   "metadata": {
    "colab": {},
    "colab_type": "code",
    "id": "0V7cj3tZ5Ive"
   },
   "outputs": [],
   "source": [
    "# Challenge 3: Range\n",
    "# ---\n",
    "# What was the range of end of reporting month surplus for the 90kg bags?\n",
    "# Dataset url = http://bit.ly/KisumuFoodSecurityDataset\n",
    "# ---\n",
    "# \n",
    "OUR CODE GOES HERE "
   ]
  },
  {
   "cell_type": "code",
   "execution_count": 0,
   "metadata": {
    "colab": {},
    "colab_type": "code",
    "id": "goQeGKwvEYTR"
   },
   "outputs": [],
   "source": [
    "# Challenge 4: Quantiles\n",
    "# ---\n",
    "# What was the range of end of reporting month surplus for the 90kg bags?\n",
    "# Dataset url = http://bit.ly/KisumuFoodSecurityDataset\n",
    "# ---\n",
    "# \n",
    "OUR CODE GOES HERE "
   ]
  },
  {
   "cell_type": "code",
   "execution_count": 0,
   "metadata": {
    "colab": {},
    "colab_type": "code",
    "id": "9i9AaOF-EZ7M"
   },
   "outputs": [],
   "source": [
    "# Challenge 5: Skewness\n",
    "# ---\n",
    "# What was the skewness of end of reporting month surplus for the 90kg bags?\n",
    "# Dataset url = http://bit.ly/KisumuFoodSecurityDataset\n",
    "# ---\n",
    "# \n",
    "OUR CODE GOES HERE "
   ]
  },
  {
   "cell_type": "code",
   "execution_count": 0,
   "metadata": {
    "colab": {},
    "colab_type": "code",
    "id": "jJG08eSTEbG6"
   },
   "outputs": [],
   "source": [
    "# Challenge 6: Kurtosis \n",
    "# ---\n",
    "# Find the kurtosis of end of reporting month surplus for the 90kg bags?\n",
    "# Dataset url = http://bit.ly/KisumuFoodSecurityDataset\n",
    "# ---\n",
    "# \n",
    "OUR CODE GOES HERE "
   ]
  },
  {
   "cell_type": "markdown",
   "metadata": {
    "colab_type": "text",
    "id": "kKZFF5-Q6d5c"
   },
   "source": [
    "### 1.33 Visualisation Techniques"
   ]
  },
  {
   "cell_type": "markdown",
   "metadata": {
    "colab_type": "text",
    "id": "32s_izI76icw"
   },
   "source": [
    "#### 1.41 Box Plots"
   ]
  },
  {
   "cell_type": "code",
   "execution_count": 74,
   "metadata": {
    "colab": {},
    "colab_type": "code",
    "id": "Cf_cAZET6iHd"
   },
   "outputs": [
    {
     "data": {
      "text/plain": [
       "<matplotlib.axes._subplots.AxesSubplot at 0xd37d4b0>"
      ]
     },
     "execution_count": 74,
     "metadata": {},
     "output_type": "execute_result"
    },
    {
     "data": {
      "image/png": "[encoded data removed]",
      "text/plain": [
       "<Figure size 432x288 with 1 Axes>"
      ]
     },
     "metadata": {
      "needs_background": "light"
     },
     "output_type": "display_data"
    }
   ],
   "source": [
    "# Example 1\n",
    "# A boxplot is a standardized way of displaying the distribution of data based on a \n",
    "# five number summary (“minimum”, first quartile (Q1), median, third quartile (Q3), and “maximum”). \n",
    "# It can tell you about your outliers and what their values are. It can also tell you if your data is symmetrical, \n",
    "# how tightly your data is grouped, and if and how your data is skewed.\n",
    "# ---\n",
    "# Question: Plot a box plot of the average herbicide price\n",
    "# Dataset url = http://bit.ly/Kisumu-crop-statistics\n",
    "# ---\n",
    "#\n",
    "\n",
    "# Creating the boxplot\n",
    "#\n",
    "sns.boxplot(nakuru_county_herbicide_prices_df[\"Average_Price\"], showmeans=True)\n"
   ]
  },
  {
   "cell_type": "code",
   "execution_count": 75,
   "metadata": {
    "colab": {},
    "colab_type": "code",
    "id": "QcI9bqIq68t3"
   },
   "outputs": [
    {
     "data": {
      "text/plain": [
       "<matplotlib.axes._subplots.AxesSubplot at 0xd2342f0>"
      ]
     },
     "execution_count": 75,
     "metadata": {},
     "output_type": "execute_result"
    },
    {
     "data": {
      "image/png": "[encoded data removed]",
      "text/plain": [
       "<Figure size 432x288 with 1 Axes>"
      ]
     },
     "metadata": {
      "needs_background": "light"
     },
     "output_type": "display_data"
    }
   ],
   "source": [
    "# Example 2\n",
    "# ---\n",
    "# Question: Using pandas, create a boxplot of the target yield bags per hectare during the long rains. \n",
    "# Dataset url = http://bit.ly/Kisumu-crop-statistics\n",
    "# ---\n",
    "#\n",
    "\n",
    "# Creating the boxplot\n",
    "#\n",
    "kisumu_crop_statistics_df.boxplot([\"TARGET_YIELD__BAG/HA_LONG_RAINS\"])"
   ]
  },
  {
   "cell_type": "markdown",
   "metadata": {
    "colab_type": "text",
    "id": "DHNDapES6-4D"
   },
   "source": [
    "##### <font color=\"green\">1.41 Challenges</font>"
   ]
  },
  {
   "cell_type": "code",
   "execution_count": 0,
   "metadata": {
    "colab": {},
    "colab_type": "code",
    "id": "Np_EB-2g7EjP"
   },
   "outputs": [],
   "source": [
    "# Challenge 1\n",
    "# ---\n",
    "# Question: Using pandas, create a boxplot of the target area per hectare during the short rains.\n",
    "# Dataset url = http://bit.ly/Kisumu-crop-statistics\n",
    "# ---\n",
    "# \n",
    "OUR CODE GOES HERE"
   ]
  },
  {
   "cell_type": "code",
   "execution_count": 0,
   "metadata": {
    "colab": {},
    "colab_type": "code",
    "id": "woDc6x7z7Jhf"
   },
   "outputs": [],
   "source": [
    "# Challenge 2\n",
    "# ---\n",
    "# Question: Using pandas, create a boxplot of the target production bags the long rains.\n",
    "# Dataset url = http://bit.ly/Kisumu-crop-statistics\n",
    "# ---\n",
    "#\n",
    "OUR CODE GOES HERE"
   ]
  },
  {
   "cell_type": "markdown",
   "metadata": {
    "colab_type": "text",
    "id": "NqN2REVg6xM7"
   },
   "source": [
    "#### 1.42 More Histograms"
   ]
  },
  {
   "cell_type": "code",
   "execution_count": 76,
   "metadata": {
    "colab": {},
    "colab_type": "code",
    "id": "cGxxrtln66MY"
   },
   "outputs": [
    {
     "data": {
      "text/plain": [
       "<matplotlib.axes._subplots.AxesSubplot at 0xc1122d0>"
      ]
     },
     "execution_count": 76,
     "metadata": {},
     "output_type": "execute_result"
    },
    {
     "data": {
      "image/png": "[encoded data removed]",
      "text/plain": [
       "<Figure size 432x288 with 1 Axes>"
      ]
     },
     "metadata": {
      "needs_background": "light"
     },
     "output_type": "display_data"
    }
   ],
   "source": [
    "# Example 1\n",
    "# ---\n",
    "# Question: Plot a histogram of target area during long rains in kisumu county.\n",
    "# Dataset url = http://bit.ly/Kisumu-crop-statistics\n",
    "# ---\n",
    "# \n",
    "\n",
    "# Plotting the histogram\n",
    "#\n",
    "kisumu_crop_statistics_df['TARGET_AREA_HA_LONG_RAINS'].hist()"
   ]
  },
  {
   "cell_type": "code",
   "execution_count": 77,
   "metadata": {
    "colab": {},
    "colab_type": "code",
    "id": "31CPj4mFH2X2"
   },
   "outputs": [
    {
     "data": {
      "text/html": [
       "<div>\n",
       "<style scoped>\n",
       "    .dataframe tbody tr th:only-of-type {\n",
       "        vertical-align: middle;\n",
       "    }\n",
       "\n",
       "    .dataframe tbody tr th {\n",
       "        vertical-align: top;\n",
       "    }\n",
       "\n",
       "    .dataframe thead th {\n",
       "        text-align: right;\n",
       "    }\n",
       "</style>\n",
       "<table border=\"1\" class=\"dataframe\">\n",
       "  <thead>\n",
       "    <tr style=\"text-align: right;\">\n",
       "      <th></th>\n",
       "      <th>SUB-COUNTY</th>\n",
       "      <th>PRODUCE</th>\n",
       "      <th>TARGET_AREA_HA_LONG_RAINS</th>\n",
       "      <th>TARGET_AREA_HA_SHORT_RAINS</th>\n",
       "      <th>TARGET_TOTAL_</th>\n",
       "      <th>TARGET_YIELD__BAG/HA_LONG_RAINS</th>\n",
       "      <th>TARGET_YIELD__BAG/HA_SHORT_RAINS</th>\n",
       "      <th>TARGET_PRODUCTION_BAGS_LONG_RAINS</th>\n",
       "      <th>TARGET_PRODUCTION_BAGS_SHORT_RAINS</th>\n",
       "      <th>TARGET_PRODUCTION_BAGS_TOTAL</th>\n",
       "      <th>...</th>\n",
       "      <th>PROJECTED___PRODUCTION_BAGS_OF_90KG_EACH__LR</th>\n",
       "      <th>PROJECTED___PRODUCTION_BAGS_OF_90KG_EACH__SR</th>\n",
       "      <th>PROJECTED___PRODUCTION_BAGS_OF_90KG_EACH__TOTAL</th>\n",
       "      <th>PRICES_KSH/BAG_LONG_RAINS</th>\n",
       "      <th>PRICES_KSH/BAG_SHORT_RAINS</th>\n",
       "      <th>VALUE_KSH__LONG_RAINS</th>\n",
       "      <th>VALUE_KSH_SHORT_RAINS</th>\n",
       "      <th>VALUE_KSH_TOTAL</th>\n",
       "      <th>DATE</th>\n",
       "      <th>OBJECTID</th>\n",
       "    </tr>\n",
       "  </thead>\n",
       "  <tbody>\n",
       "    <tr>\n",
       "      <th>0</th>\n",
       "      <td>KISUMU WEST</td>\n",
       "      <td>Maize</td>\n",
       "      <td>8000</td>\n",
       "      <td>5000</td>\n",
       "      <td>6700</td>\n",
       "      <td>25</td>\n",
       "      <td>20</td>\n",
       "      <td>200000</td>\n",
       "      <td>100000</td>\n",
       "      <td>300000</td>\n",
       "      <td>...</td>\n",
       "      <td>21670</td>\n",
       "      <td>25000.0</td>\n",
       "      <td>46670</td>\n",
       "      <td>0</td>\n",
       "      <td>0</td>\n",
       "      <td>0</td>\n",
       "      <td>0</td>\n",
       "      <td>0</td>\n",
       "      <td>9/16/16</td>\n",
       "      <td>0</td>\n",
       "    </tr>\n",
       "    <tr>\n",
       "      <th>1</th>\n",
       "      <td>SEME</td>\n",
       "      <td>Maize</td>\n",
       "      <td>8000</td>\n",
       "      <td>3500</td>\n",
       "      <td>13000</td>\n",
       "      <td>25</td>\n",
       "      <td>20</td>\n",
       "      <td>200000</td>\n",
       "      <td>70000</td>\n",
       "      <td>270000</td>\n",
       "      <td>...</td>\n",
       "      <td>19800</td>\n",
       "      <td>17500.0</td>\n",
       "      <td>37300</td>\n",
       "      <td>0</td>\n",
       "      <td>0</td>\n",
       "      <td>0</td>\n",
       "      <td>0</td>\n",
       "      <td>0</td>\n",
       "      <td>9/16/16</td>\n",
       "      <td>1</td>\n",
       "    </tr>\n",
       "    <tr>\n",
       "      <th>2</th>\n",
       "      <td>KISUMU E</td>\n",
       "      <td>Maize</td>\n",
       "      <td>1500</td>\n",
       "      <td>750</td>\n",
       "      <td>2250</td>\n",
       "      <td>25</td>\n",
       "      <td>20</td>\n",
       "      <td>37500</td>\n",
       "      <td>15000</td>\n",
       "      <td>52500</td>\n",
       "      <td>...</td>\n",
       "      <td>4015</td>\n",
       "      <td>3750.0</td>\n",
       "      <td>7765</td>\n",
       "      <td>0</td>\n",
       "      <td>0</td>\n",
       "      <td>0</td>\n",
       "      <td>0</td>\n",
       "      <td>0</td>\n",
       "      <td>9/16/16</td>\n",
       "      <td>2</td>\n",
       "    </tr>\n",
       "    <tr>\n",
       "      <th>3</th>\n",
       "      <td>NYANDO</td>\n",
       "      <td>Maize</td>\n",
       "      <td>8200</td>\n",
       "      <td>4000</td>\n",
       "      <td>12200</td>\n",
       "      <td>25</td>\n",
       "      <td>20</td>\n",
       "      <td>205000</td>\n",
       "      <td>80000</td>\n",
       "      <td>285000</td>\n",
       "      <td>...</td>\n",
       "      <td>21010</td>\n",
       "      <td>20000.0</td>\n",
       "      <td>41010</td>\n",
       "      <td>0</td>\n",
       "      <td>0</td>\n",
       "      <td>0</td>\n",
       "      <td>0</td>\n",
       "      <td>0</td>\n",
       "      <td>9/16/16</td>\n",
       "      <td>3</td>\n",
       "    </tr>\n",
       "    <tr>\n",
       "      <th>4</th>\n",
       "      <td>NYAKACH</td>\n",
       "      <td>Maize</td>\n",
       "      <td>10500</td>\n",
       "      <td>4500</td>\n",
       "      <td>15000</td>\n",
       "      <td>25</td>\n",
       "      <td>20</td>\n",
       "      <td>262500</td>\n",
       "      <td>90000</td>\n",
       "      <td>352500</td>\n",
       "      <td>...</td>\n",
       "      <td>26125</td>\n",
       "      <td>22500.0</td>\n",
       "      <td>48625</td>\n",
       "      <td>0</td>\n",
       "      <td>0</td>\n",
       "      <td>0</td>\n",
       "      <td>0</td>\n",
       "      <td>0</td>\n",
       "      <td>9/16/16</td>\n",
       "      <td>4</td>\n",
       "    </tr>\n",
       "  </tbody>\n",
       "</table>\n",
       "<p>5 rows × 25 columns</p>\n",
       "</div>"
      ],
      "text/plain": [
       "    SUB-COUNTY PRODUCE  TARGET_AREA_HA_LONG_RAINS  TARGET_AREA_HA_SHORT_RAINS  \\\n",
       "0  KISUMU WEST   Maize                       8000                        5000   \n",
       "1         SEME   Maize                       8000                        3500   \n",
       "2     KISUMU E   Maize                       1500                         750   \n",
       "3       NYANDO   Maize                       8200                        4000   \n",
       "4      NYAKACH   Maize                      10500                        4500   \n",
       "\n",
       "   TARGET_TOTAL_  TARGET_YIELD__BAG/HA_LONG_RAINS  \\\n",
       "0           6700                               25   \n",
       "1          13000                               25   \n",
       "2           2250                               25   \n",
       "3          12200                               25   \n",
       "4          15000                               25   \n",
       "\n",
       "   TARGET_YIELD__BAG/HA_SHORT_RAINS  TARGET_PRODUCTION_BAGS_LONG_RAINS  \\\n",
       "0                                20                             200000   \n",
       "1                                20                             200000   \n",
       "2                                20                              37500   \n",
       "3                                20                             205000   \n",
       "4                                20                             262500   \n",
       "\n",
       "   TARGET_PRODUCTION_BAGS_SHORT_RAINS  TARGET_PRODUCTION_BAGS_TOTAL  ...  \\\n",
       "0                              100000                        300000  ...   \n",
       "1                               70000                        270000  ...   \n",
       "2                               15000                         52500  ...   \n",
       "3                               80000                        285000  ...   \n",
       "4                               90000                        352500  ...   \n",
       "\n",
       "   PROJECTED___PRODUCTION_BAGS_OF_90KG_EACH__LR  \\\n",
       "0                                         21670   \n",
       "1                                         19800   \n",
       "2                                          4015   \n",
       "3                                         21010   \n",
       "4                                         26125   \n",
       "\n",
       "   PROJECTED___PRODUCTION_BAGS_OF_90KG_EACH__SR  \\\n",
       "0                                       25000.0   \n",
       "1                                       17500.0   \n",
       "2                                        3750.0   \n",
       "3                                       20000.0   \n",
       "4                                       22500.0   \n",
       "\n",
       "   PROJECTED___PRODUCTION_BAGS_OF_90KG_EACH__TOTAL  PRICES_KSH/BAG_LONG_RAINS  \\\n",
       "0                                            46670                          0   \n",
       "1                                            37300                          0   \n",
       "2                                             7765                          0   \n",
       "3                                            41010                          0   \n",
       "4                                            48625                          0   \n",
       "\n",
       "   PRICES_KSH/BAG_SHORT_RAINS  VALUE_KSH__LONG_RAINS  VALUE_KSH_SHORT_RAINS  \\\n",
       "0                           0                      0                      0   \n",
       "1                           0                      0                      0   \n",
       "2                           0                      0                      0   \n",
       "3                           0                      0                      0   \n",
       "4                           0                      0                      0   \n",
       "\n",
       "   VALUE_KSH_TOTAL     DATE  OBJECTID  \n",
       "0                0  9/16/16         0  \n",
       "1                0  9/16/16         1  \n",
       "2                0  9/16/16         2  \n",
       "3                0  9/16/16         3  \n",
       "4                0  9/16/16         4  \n",
       "\n",
       "[5 rows x 25 columns]"
      ]
     },
     "execution_count": 77,
     "metadata": {},
     "output_type": "execute_result"
    }
   ],
   "source": [
    "kisumu_crop_statistics_df.head()"
   ]
  },
  {
   "cell_type": "code",
   "execution_count": 78,
   "metadata": {
    "colab": {},
    "colab_type": "code",
    "id": "jZ_y-wGN7Pro"
   },
   "outputs": [
    {
     "data": {
      "text/plain": [
       "<matplotlib.axes._subplots.AxesSubplot at 0xc3f8db0>"
      ]
     },
     "execution_count": 78,
     "metadata": {},
     "output_type": "execute_result"
    },
    {
     "data": {
      "image/png": "[encoded data removed]",
      "text/plain": [
       "<Figure size 432x288 with 1 Axes>"
      ]
     },
     "metadata": {
      "needs_background": "light"
     },
     "output_type": "display_data"
    }
   ],
   "source": [
    "# Example 2\n",
    "# ---\n",
    "# Question: Using Seaborn, Plot a histogram of target area for maize during long rains in kisumu county\n",
    "# ---\n",
    "#\n",
    "\n",
    "# Plotting our histogram\n",
    "#\n",
    "df = kisumu_crop_statistics_df[kisumu_crop_statistics_df.PRODUCE == 'Maize']\n",
    "sns.distplot(kisumu_crop_statistics_df['TARGET_AREA_HA_LONG_RAINS'],  kde=False,label='Maize')"
   ]
  },
  {
   "cell_type": "markdown",
   "metadata": {
    "colab_type": "text",
    "id": "uXIKUeun7Tz6"
   },
   "source": [
    "#### <font color=\"green\">1.43 Challenges</font>"
   ]
  },
  {
   "cell_type": "code",
   "execution_count": 0,
   "metadata": {
    "colab": {},
    "colab_type": "code",
    "id": "c20egYFA7ZQA"
   },
   "outputs": [],
   "source": [
    "# Challenge 1\n",
    "# ---\n",
    "# Question: Plot a histogram of weight in kgs for fish production\n",
    "# Dataset url = \"http://bit.ly/Kisumu-fish-production\"\n",
    "# ---\n",
    "#\n",
    "OUR CODE GOES HERE"
   ]
  },
  {
   "cell_type": "code",
   "execution_count": 0,
   "metadata": {
    "colab": {},
    "colab_type": "code",
    "id": "8_NmsQOu7aTW"
   },
   "outputs": [],
   "source": [
    "# Challenge 2\n",
    "# ---\n",
    "# Question: Plot a histogram of target yield bags during short rains.\n",
    "# Dataset url = \"http://bit.ly/Kisumu-crop-statistics\"\n",
    "# ---\n",
    "# \n",
    "OUR CODE GOES HERE"
   ]
  },
  {
   "cell_type": "markdown",
   "metadata": {
    "colab_type": "text",
    "id": "y2tpmU6oFKHX"
   },
   "source": []
  },
  {
   "cell_type": "code",
   "execution_count": 0,
   "metadata": {
    "colab": {},
    "colab_type": "code",
    "id": "gOGG_XWoFKiM"
   },
   "outputs": [],
   "source": []
  }
 ],
 "metadata": {
  "colab": {
   "collapsed_sections": [
    "kLkivweO1Iii",
    "InrgA2D21MCl",
    "0CRs-dFC1ohx",
    "ck0zE_a43uV-",
    "NCrhoYJz1dUY",
    "jRKV0pa04BQH",
    "yXH8QAl71vLq",
    "6lNbN0xS4XAY",
    "QIuhupEZ1y_S",
    "GqietlVA2BUa",
    "Z6im-o4g4pK6",
    "8POt4f4D2LcH",
    "xumXllAg5A6N",
    "kKZFF5-Q6d5c",
    "32s_izI76icw",
    "DHNDapES6-4D",
    "NqN2REVg6xM7",
    "uXIKUeun7Tz6"
   ],
   "name": "Univariate Analysis with Python - Exercise",
   "provenance": [],
   "toc_visible": true
  },
  "kernelspec": {
   "display_name": "Python 3",
   "language": "python",
   "name": "python3"
  },
  "language_info": {
   "codemirror_mode": {
    "name": "ipython",
    "version": 3
   },
   "file_extension": ".py",
   "mimetype": "text/x-python",
   "name": "python",
   "nbconvert_exporter": "python",
   "pygments_lexer": "ipython3",
   "version": "3.7.6"
  }
 },
 "nbformat": 4,
 "nbformat_minor": 1
}
