{
 "cells": [
  {
   "cell_type": "markdown",
   "metadata": {},
   "source": [
    "## <u> varibles and constants</u>\n",
    "\n",
    "- To decleare variable we can either use let or const. let has the flexiblity to change while const variables are unchangeble.\n",
    "- There are naming rules for variables and constants. Note that javascript is case sensitive, we can use the dollar sign or dash anywhere while naming. The best practice is using camelCase convention while naming our variables. \n",
    "- user_name is allowed but it's bad practice in js (unlike python). variable names should not never start with numbers eg. 23userName would be a bad naming convention. other special characters are not also allowed except the ones mentioned above. Using javascript keywords like let should not also be used in naming variables."
   ]
  },
  {
   "cell_type": "code",
   "execution_count": 4,
   "metadata": {},
   "outputs": [
    {
     "data": {
      "application/javascript": [
       "\n",
       "let age = 23;\n",
       "const name = 'Michael'\n"
      ],
      "text/plain": [
       "<IPython.core.display.Javascript object>"
      ]
     },
     "metadata": {},
     "output_type": "display_data"
    }
   ],
   "source": [
    "%%js\n",
    "\n",
    "let age = 23;\n",
    "const name = 'Michael';\n"
   ]
  },
  {
   "cell_type": "markdown",
   "metadata": {},
   "source": [
    "## <u> Operators </u>\n",
    "- Operators are the normal mathematical symbols like addition, subtraciton, division, multiplication. In javascript we have the following presentations + add two numbers, - subtracti two numbers, / divide two number, * multiply two numbers, % modules which yields the remainder of two numbers, ** exponetation to raise to numbers to higher powers, = equal sign to assing a value to a variable."
   ]
  },
  {
   "cell_type": "code",
   "execution_count": 7,
   "metadata": {},
   "outputs": [
    {
     "data": {
      "application/javascript": [
       "\n",
       "let currentResult = 0;\n",
       "\n",
       "currentResult = currentResult + 10;\n",
       "\n",
       "alert(currentResult)\n"
      ],
      "text/plain": [
       "<IPython.core.display.Javascript object>"
      ]
     },
     "metadata": {},
     "output_type": "display_data"
    }
   ],
   "source": [
    "%%js\n",
    "\n",
    "let currentResult = 0;\n",
    "\n",
    "currentResult = currentResult + 10;\n",
    "\n",
    "alert(currentResult)"
   ]
  },
  {
   "cell_type": "markdown",
   "metadata": {},
   "source": [
    "## <u> Data Types </u>\n",
    "- The two most important datatypes are numbers and strings(text). We declare text using double or single quotes but there is a special case where we use asterisks.\n",
    "- Asterisks or backticks enable us to specify strings with variables/consts in them. See the example below. This is known as template literal. Anoter advantage is that this approach allows for line breaks if the string is too long. Works like tripple quotes in python.\n",
    "- Just like python to add line break in a string we use \\n."
   ]
  },
  {
   "cell_type": "code",
   "execution_count": 10,
   "metadata": {},
   "outputs": [
    {
     "data": {
      "application/javascript": [
       "\n",
       "let age = 23;\n",
       "const name = 'Michael';\n",
       "\n",
       "let output = `Your name is ${name} and your are ${age} years old.`;\n",
       "\n",
       "alert(output)\n"
      ],
      "text/plain": [
       "<IPython.core.display.Javascript object>"
      ]
     },
     "metadata": {},
     "output_type": "display_data"
    }
   ],
   "source": [
    "%%js\n",
    "\n",
    "let age = 23;\n",
    "const name = 'Michael';\n",
    "\n",
    "let output = `Your name is ${name} and your are ${age} years old.`;\n",
    "\n",
    "alert(output)"
   ]
  },
  {
   "cell_type": "markdown",
   "metadata": {},
   "source": [
    "## <u> Operators </u>"
   ]
  },
  {
   "cell_type": "code",
   "execution_count": null,
   "metadata": {},
   "outputs": [],
   "source": []
  }
 ],
 "metadata": {
  "kernelspec": {
   "display_name": "Python 3",
   "language": "python",
   "name": "python3"
  },
  "language_info": {
   "codemirror_mode": {
    "name": "ipython",
    "version": 3
   },
   "file_extension": ".py",
   "mimetype": "text/x-python",
   "name": "python",
   "nbconvert_exporter": "python",
   "pygments_lexer": "ipython3",
   "version": "3.8.3"
  }
 },
 "nbformat": 4,
 "nbformat_minor": 4
}
