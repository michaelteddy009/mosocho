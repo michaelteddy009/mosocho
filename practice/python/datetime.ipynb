{
 "cells": [
  {
   "cell_type": "markdown",
   "metadata": {},
   "source": [
    "=> Naive dates are those that don't give details about timezones and are easier to ue compared to aware dates which take into account the timezones."
   ]
  },
  {
   "cell_type": "code",
   "execution_count": null,
   "metadata": {},
   "outputs": [],
   "source": [
    "import datetime"
   ]
  },
  {
   "cell_type": "code",
   "execution_count": null,
   "metadata": {},
   "outputs": [],
   "source": [
    "#to create date. make sure you don't use leading zero eg for month(07)\n",
    "t = datetime.date(2019, 7, 24)\n",
    "tday = datetime.date.today()\n",
    "print('Date :', t)\n",
    "print('Today :', tday)\n",
    "print('Year :',t.year)            #to grab the year"
   ]
  },
  {
   "cell_type": "code",
   "execution_count": null,
   "metadata": {},
   "outputs": [],
   "source": [
    "# to get the weekday we have two ways with iso being extra by one\n",
    "\n",
    "print(t.weekday())\n",
    "print(t.isoweekday())"
   ]
  },
  {
   "cell_type": "code",
   "execution_count": null,
   "metadata": {},
   "outputs": [],
   "source": [
    "#timedelta is the difference btwn two dates and time\n",
    "\n",
    "today = datetime.date.today()\n",
    "tdelta = datetime.timedelta(weeks=7)   #can take hours, weeks  etc\n",
    "print('one week from now will be {}.'.format(today + tdelta)) #we can also - to know 7 days ago"
   ]
  },
  {
   "cell_type": "code",
   "execution_count": null,
   "metadata": {},
   "outputs": [],
   "source": [
    "#if we subtract a date from a date we get a timedelta instead\n",
    "\n",
    "bday = datetime.date(2021, 1, 18)\n",
    "till_bday = bday - today\n",
    "print(\"It's only remaining {} till my birthday.\".format(till_bday.days))"
   ]
  },
  {
   "cell_type": "code",
   "execution_count": null,
   "metadata": {},
   "outputs": [],
   "source": [
    "#to get timedelta in seconds \n",
    "\n",
    "till_bday.total_seconds()"
   ]
  },
  {
   "cell_type": "code",
   "execution_count": null,
   "metadata": {},
   "outputs": [],
   "source": [
    "#Another naive format is using datetime.time which works with time\n",
    "\n",
    "tim = datetime.time(15, 30, 45, 1000)\n",
    "tim"
   ]
  },
  {
   "cell_type": "code",
   "execution_count": null,
   "metadata": {},
   "outputs": [],
   "source": [
    "#datetime.datetime gives  us access to everything\n",
    "\n",
    "dtime = datetime.datetime(1995,1,18,11,20,30)\n",
    "print(dtime.date())\n",
    "print(dtime.time())"
   ]
  },
  {
   "cell_type": "code",
   "execution_count": null,
   "metadata": {},
   "outputs": [],
   "source": [
    "# .today and now are similar if we dont pass the tz info and utc for this case is also same since thi tz info is lacking\n",
    "\n",
    "dt_today =  datetime.datetime.today()\n",
    "dt_now = datetime.datetime.now()\n",
    "dt_utcnow = datetime.datetime.utcnow()\n",
    "print(dt_today)\n",
    "print(dt_now)\n",
    "print(dt_utcnow)"
   ]
  },
  {
   "cell_type": "code",
   "execution_count": null,
   "metadata": {},
   "outputs": [],
   "source": [
    "import datetime\n",
    "import pytz\n",
    "\n",
    "dtime = datetime.datetime(1995,1,18,11,20,30, tzinfo =pytz.UTC)\n",
    "print(dtime)\n",
    "\n",
    "dt_now = datetime.datetime.now(tz=pytz.UTC) #most used\n",
    "print(dt_now)\n",
    "\n",
    "dt_utcnow = datetime.datetime.utcnow().replace(tzinfo=pytz.UTC)\n",
    "print(dt_utcnow)"
   ]
  },
  {
   "cell_type": "code",
   "execution_count": null,
   "metadata": {},
   "outputs": [],
   "source": [
    "#pass change utctime to timezone. astimezone cannot be applied to naive time only timexone aware like \n",
    "dt_mtn = dt_now.astimezone(pytz.timezone('US/Mountain'))\n",
    "print(dt_mtn)"
   ]
  },
  {
   "cell_type": "code",
   "execution_count": null,
   "metadata": {},
   "outputs": [],
   "source": [
    "#to make aware time from naive time\n",
    "dt_mtn = datetime.datetime.now()\n",
    "print(dt_mtn)\n",
    "mtn_tz = pytz.timezone('US/Mountain')\n",
    "dt_mtn = mtn_tz.localize(dt_mtn)\n",
    "print(dt_mtn)"
   ]
  },
  {
   "cell_type": "code",
   "execution_count": null,
   "metadata": {},
   "outputs": [],
   "source": [
    "#it's important to format dates in iso format using .isoformat\n",
    "#strftime = Datetime to string\n",
    "#strptime = String to Datetime"
   ]
  },
  {
   "cell_type": "code",
   "execution_count": null,
   "metadata": {},
   "outputs": [],
   "source": [
    "#to print all timezones\n",
    "\n",
    "for tz in pytz.all_timezones:\n",
    "    print(tz) "
   ]
  },
  {
   "cell_type": "code",
   "execution_count": null,
   "metadata": {},
   "outputs": [],
   "source": [
    "# Example changing timezone on naive date\n",
    "nairobi = datetime.datetime(2016, 8, 24, 12, 34, 23, 199)\n",
    "\n",
    "africaTime = pytz.timezone('Africa/Juba')\n",
    "australiaTime = pytz.timezone('Australia/West')\n",
    "\n",
    "africa = africaTime.localize(nairobi)\n",
    "australia = australiaTime.localize(nairobi)\n",
    "\n",
    "print('Africa : {0}\\nAustralia : {1}'.format(africa, australia))"
   ]
  },
  {
   "cell_type": "code",
   "execution_count": null,
   "metadata": {},
   "outputs": [],
   "source": [
    "#changing timezone on aware date\n",
    "\n",
    "nairobi = datetime.datetime(2016, 8, 24, 12, 34, 23, 199, tzinfo=pytz.UTC)\n",
    "nairobi2 = nairobi.astimezone(pytz.timezone('Canada/Yukon'))\n",
    "print(nairobi, '\\n', nairobi2)"
   ]
  },
  {
   "cell_type": "code",
   "execution_count": null,
   "metadata": {},
   "outputs": [],
   "source": []
  },
  {
   "cell_type": "code",
   "execution_count": null,
   "metadata": {},
   "outputs": [],
   "source": []
  }
 ],
 "metadata": {
  "kernelspec": {
   "display_name": "Python 3",
   "language": "python",
   "name": "python3"
  },
  "language_info": {
   "codemirror_mode": {
    "name": "ipython",
    "version": 3
   },
   "file_extension": ".py",
   "mimetype": "text/x-python",
   "name": "python",
   "nbconvert_exporter": "python",
   "pygments_lexer": "ipython3",
   "version": "3.7.1"
  }
 },
 "nbformat": 4,
 "nbformat_minor": 2
}
