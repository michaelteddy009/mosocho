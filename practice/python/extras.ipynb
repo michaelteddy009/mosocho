{
 "cells": [
  {
   "cell_type": "code",
   "execution_count": 8,
   "metadata": {},
   "outputs": [
    {
     "name": "stdout",
     "output_type": "stream",
     "text": [
      "0mike\n",
      "1mike\n",
      "2mike\n",
      "3mike\n",
      "4mike\n",
      "5mike\n",
      "6mike\n",
      "7mike\n",
      "8mike\n",
      "9mike\n"
     ]
    }
   ],
   "source": [
    "for x in range(10):\n",
    "    x = str(x)\n",
    "    x += 'mike'\n",
    "    x = x.zfill(0)# it dictates the number of characters we would like to output on a string and adds zero on extras\n",
    "    print(x)"
   ]
  },
  {
   "cell_type": "code",
   "execution_count": null,
   "metadata": {},
   "outputs": [],
   "source": []
  }
 ],
 "metadata": {
  "kernelspec": {
   "display_name": "Python 3",
   "language": "python",
   "name": "python3"
  },
  "language_info": {
   "codemirror_mode": {
    "name": "ipython",
    "version": 3
   },
   "file_extension": ".py",
   "mimetype": "text/x-python",
   "name": "python",
   "nbconvert_exporter": "python",
   "pygments_lexer": "ipython3",
   "version": "3.7.1"
  }
 },
 "nbformat": 4,
 "nbformat_minor": 2
}
