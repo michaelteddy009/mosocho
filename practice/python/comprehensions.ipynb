{
 "cells": [
  {
   "cell_type": "code",
   "execution_count": null,
   "metadata": {},
   "outputs": [],
   "source": [
    "nums = [x for x in range(1,11)]"
   ]
  },
  {
   "cell_type": "code",
   "execution_count": null,
   "metadata": {},
   "outputs": [],
   "source": [
    "#first comprehension\n",
    "my_list = [num for num in nums]\n",
    "my_list"
   ]
  },
  {
   "cell_type": "code",
   "execution_count": null,
   "metadata": {},
   "outputs": [],
   "source": [
    "my_list = [x * x for x in nums]\n",
    "my_list"
   ]
  },
  {
   "cell_type": "code",
   "execution_count": null,
   "metadata": {},
   "outputs": [],
   "source": [
    "# using map and lambda. We can assume lambda here since it will be covered separately\n",
    "my_list = map(lambda w: w*w, nums)\n",
    "\n",
    "for x in my_list:\n",
    "    print(x)"
   ]
  },
  {
   "cell_type": "code",
   "execution_count": null,
   "metadata": {},
   "outputs": [],
   "source": [
    "# using filter and lambda\n",
    "my_list = filter(lambda n: n%2==0, nums)\n",
    "\n",
    "for x in my_list:\n",
    "    print(x)"
   ]
  },
  {
   "cell_type": "code",
   "execution_count": null,
   "metadata": {},
   "outputs": [],
   "source": [
    "#another example\n",
    "\n",
    "my_list = [(letter, num) for letter in 'abcd' for num in range(4)]\n",
    "my_list"
   ]
  },
  {
   "cell_type": "code",
   "execution_count": null,
   "metadata": {},
   "outputs": [],
   "source": [
    "#note how zip makes a list of tuples\n",
    "\n",
    "names = ['Bruce', 'Clark', 'Peter', 'Logan', 'Wade']\n",
    "superHeros = ['Batman', 'Superman', 'Spiderman', 'Wolverine', 'Deadpool']\n",
    "\n",
    "for x in zip(names, superHeros):\n",
    "    print(x)"
   ]
  },
  {
   "cell_type": "code",
   "execution_count": null,
   "metadata": {},
   "outputs": [],
   "source": [
    "# Dictionary comprehensions\n",
    "\n",
    "my_dict = {name:hero for name, hero in zip(names, superHeros)}\n",
    "my_dict"
   ]
  },
  {
   "cell_type": "code",
   "execution_count": null,
   "metadata": {},
   "outputs": [],
   "source": [
    "#set comprehensions . Note that using curly braces in comprehension will give the set result\n",
    "\n",
    "nums = [1, 1, 2, 2, 3, 4, 5, 4, 4, 5, 4, 3, 4, 5]\n",
    "my_set = {num for num in nums}\n",
    "my_set"
   ]
  },
  {
   "cell_type": "code",
   "execution_count": null,
   "metadata": {},
   "outputs": [],
   "source": [
    "# Generator expressions\n",
    "\n",
    "#gen way1\n",
    "\n",
    "nums = [x for x in range(10)]\n",
    "\n",
    "def gen(nums):\n",
    "    for x in nums:\n",
    "        yield x * x\n",
    "        \n",
    "gene = gen(nums)\n",
    "\n",
    "for i in gene:\n",
    "    print(i)"
   ]
  },
  {
   "cell_type": "code",
   "execution_count": null,
   "metadata": {},
   "outputs": [],
   "source": [
    "#gen way1 modified\n",
    "#note that for generators we use () instead of {} or []\n",
    "\n",
    "my_gen =  (n*n for n in nums)\n",
    "\n",
    "for i in my_gen:\n",
    "    print(i)\n"
   ]
  },
  {
   "cell_type": "code",
   "execution_count": null,
   "metadata": {},
   "outputs": [],
   "source": []
  }
 ],
 "metadata": {
  "kernelspec": {
   "display_name": "Python 3",
   "language": "python",
   "name": "python3"
  },
  "language_info": {
   "codemirror_mode": {
    "name": "ipython",
    "version": 3
   },
   "file_extension": ".py",
   "mimetype": "text/x-python",
   "name": "python",
   "nbconvert_exporter": "python",
   "pygments_lexer": "ipython3",
   "version": "3.7.1"
  }
 },
 "nbformat": 4,
 "nbformat_minor": 2
}
