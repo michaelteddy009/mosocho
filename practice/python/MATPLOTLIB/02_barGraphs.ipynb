{
 "cells": [
  {
   "cell_type": "raw",
   "metadata": {},
   "source": [
    "It's important to note that sometimes we have alot of data we would like to plot making it convinient\n",
    "to use a horizontal bar graph. Difference being plt.barh and instead of using width as int the case of vertical bars, here we use height. Also note that we can change the lables on the x axis as follows \"plt.xticks(ticks=\"current\", labels=\"New\")\"."
   ]
  },
  {
   "cell_type": "code",
   "execution_count": null,
   "metadata": {},
   "outputs": [],
   "source": [
    "import matplotlib.pyplot as plt\n",
    "import numpy as np"
   ]
  },
  {
   "cell_type": "code",
   "execution_count": null,
   "metadata": {},
   "outputs": [],
   "source": [
    "#make the y and x axis for the plot, the dev list are for different developers\n",
    "ages_x = np.array([x for x in range(25, 36)]) #change x axis data to an array to enable offsetting the x-axis\n",
    "width = 0.25   #normally bars have a default width of 0.8 so we share this among the bar plot numbers\n",
    "\n",
    "dev_y = [38496, 42000, 46752, 49320, 53200, 56000, 62316, 64928, 67317, 68748,73752]\n",
    "py_dev_y = [45372,48876,53850,57287,63016,65998,70003,70000,71496,75370,83640]\n",
    "js_dev_y = [37810, 43515, 46823,49293, 53437, 56373, 62375, 66674, 68745, 68746,74583]"
   ]
  },
  {
   "cell_type": "code",
   "execution_count": null,
   "metadata": {},
   "outputs": [],
   "source": [
    "plt.style.use('dark_background')\n",
    "plt.tight_layout()\n",
    "\n",
    "#make the plot and use the show function to show the plot\n",
    "plt.bar(ages_x - width, dev_y, width=width, color='blue', label='All_Developers')\n",
    "plt.bar(ages_x, py_dev_y, width=width, color='yellow', label='Python')\n",
    "plt.bar(ages_x + width, js_dev_y, width=width, color='red', label='Python')\n",
    "\n",
    "plt.title(\"Median Salary (USD) by Age\")\n",
    "plt.xlabel(\"Ages\")\n",
    "plt.ylabel(\"Median Salary (USD)\")\n",
    "plt.legend(['All_Developers', 'Python', 'JavaScript'])\n",
    "plt.grid(False)\n",
    "\n",
    "#to change the x-axis labels from ages to something else \"ticks being current and label is the change we want\"\n",
    "#plt.xticks(ticks=ages_x, labels=np.arange(len(ages_x)))\n",
    "\n",
    "\n",
    "plt.savefig('plots/barGraph.png')\n",
    "\n",
    "\n",
    "plt.show()"
   ]
  },
  {
   "cell_type": "markdown",
   "metadata": {},
   "source": [
    "# Load Data from CSV"
   ]
  },
  {
   "cell_type": "code",
   "execution_count": null,
   "metadata": {},
   "outputs": [],
   "source": [
    "import csv\n",
    "import collections as c\n",
    "\n",
    "with open(\"\") as csv_file:\n",
    "    csv_reader = csv.DictReader(csv_file)  #reading as a dicttionary\n",
    "    \n",
    "    language_counter = c.counter()\n",
    "    \n",
    "    for row in csv_reader:\n",
    "        language_counter.update(row['keyOfRow.split(';')'])\n",
    "    \n",
    "print(language_counter)    "
   ]
  }
 ],
 "metadata": {
  "kernelspec": {
   "display_name": "Python 3",
   "language": "python",
   "name": "python3"
  },
  "language_info": {
   "codemirror_mode": {
    "name": "ipython",
    "version": 3
   },
   "file_extension": ".py",
   "mimetype": "text/x-python",
   "name": "python",
   "nbconvert_exporter": "python",
   "pygments_lexer": "ipython3",
   "version": "3.7.1"
  }
 },
 "nbformat": 4,
 "nbformat_minor": 2
}
