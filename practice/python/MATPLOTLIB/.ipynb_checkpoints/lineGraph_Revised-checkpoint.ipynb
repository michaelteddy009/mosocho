{
 "cells": [
  {
   "cell_type": "code",
   "execution_count": null,
   "metadata": {},
   "outputs": [],
   "source": [
    "import matplotlib.pyplot as plt\n",
    "import numpy as np"
   ]
  },
  {
   "cell_type": "code",
   "execution_count": null,
   "metadata": {},
   "outputs": [],
   "source": [
    "x = list(np.arange(0, 51, 0.001))\n",
    "y = []\n",
    "for val in x:\n",
    "    result =((2*val)**2) - 3\n",
    "    y.append(result)\n",
    "    \n",
    "plt.style.use('dark_background')\n",
    "#plt.xkcd()\n",
    "plt.tight_layout()\n",
    "\n",
    "plt.plot(x, y,)\n",
    "\n",
    "plt.title('Just a Test')\n",
    "plt.xlabel('Variables')\n",
    "plt.ylabel('Output')\n",
    "plt.legend(['sin'])\n",
    "plt.grid(False)\n",
    "\n",
    "plt.show()"
   ]
  }
 ],
 "metadata": {
  "kernelspec": {
   "display_name": "Python 3",
   "language": "python",
   "name": "python3"
  },
  "language_info": {
   "codemirror_mode": {
    "name": "ipython",
    "version": 3
   },
   "file_extension": ".py",
   "mimetype": "text/x-python",
   "name": "python",
   "nbconvert_exporter": "python",
   "pygments_lexer": "ipython3",
   "version": "3.7.1"
  }
 },
 "nbformat": 4,
 "nbformat_minor": 2
}
