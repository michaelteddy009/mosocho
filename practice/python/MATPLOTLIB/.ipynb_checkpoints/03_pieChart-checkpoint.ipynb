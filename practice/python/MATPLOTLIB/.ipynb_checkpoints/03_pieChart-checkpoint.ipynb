{
 "cells": [
  {
   "cell_type": "raw",
   "metadata": {},
   "source": [
    "NOTE: It is advisable to use pie charts with data not exceeding 5 variables."
   ]
  },
  {
   "cell_type": "code",
   "execution_count": null,
   "metadata": {},
   "outputs": [],
   "source": [
    "import matplotlib.pyplot as plt"
   ]
  },
  {
   "cell_type": "code",
   "execution_count": null,
   "metadata": {},
   "outputs": [],
   "source": [
    "plt.style.use('fivethirtyeight')\n",
    "plt.tight_layout()\n",
    "\n",
    "slices = [60, 40, 30, 20]\n",
    "labels = ['Mathematics', 'Science', 'English', 'Kiswahili']\n",
    "explode = [0, 0.0, 0.1, 0]\n",
    "colors = ['green', 'red', 'blue', 'yellow']\n",
    "\n",
    "plt.pie(slices, labels=labels,colors=colors, explode=explode, shadow=True, wedgeprops={'edgecolor':'black', 'linewidth':1,},\n",
    "       startangle=90, autopct='%1.1f%%')\n",
    "\n",
    "plt.title('Pie Chart Example')\n",
    "\n",
    "plt.savefig('plots/pieChart.png')\n",
    "\n",
    "plt.show()"
   ]
  },
  {
   "cell_type": "code",
   "execution_count": null,
   "metadata": {},
   "outputs": [],
   "source": []
  }
 ],
 "metadata": {
  "kernelspec": {
   "display_name": "Python 3",
   "language": "python",
   "name": "python3"
  },
  "language_info": {
   "codemirror_mode": {
    "name": "ipython",
    "version": 3
   },
   "file_extension": ".py",
   "mimetype": "text/x-python",
   "name": "python",
   "nbconvert_exporter": "python",
   "pygments_lexer": "ipython3",
   "version": "3.7.1"
  }
 },
 "nbformat": 4,
 "nbformat_minor": 2
}
