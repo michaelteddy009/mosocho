{
 "cells": [
  {
   "cell_type": "code",
   "execution_count": null,
   "metadata": {},
   "outputs": [],
   "source": [
    "# the general structure\n",
    "#we use else when the try doesn't through an exception to continue running the code\n",
    "#finally runs no matter there is an exception or not.\n",
    "\n",
    "try:\n",
    "    pass\n",
    "except Exception:\n",
    "    pass\n",
    "else:\n",
    "    pass\n",
    "finally:\n",
    "    pass\n",
    "    "
   ]
  },
  {
   "cell_type": "code",
   "execution_count": null,
   "metadata": {},
   "outputs": [],
   "source": [
    "# put predifined errors first then generalise with Exception\n",
    "\n",
    "try:\n",
    "    f = open('textfile.txt')\n",
    "    var = bad_var\n",
    "except FileNotFoundError as e:\n",
    "    print(e)\n",
    "except NameError:\n",
    "    print('The name is not defined')\n",
    "except Exception:\n",
    "    print('something just went wrong')\n",
    "finally:\n",
    "    print('Execution ended finally')"
   ]
  },
  {
   "cell_type": "code",
   "execution_count": null,
   "metadata": {},
   "outputs": [],
   "source": [
    "#To manually raise exception\n",
    "\n",
    "try:\n",
    "    mike = 'Ochara'\n",
    "    if mike == 'Ochara':\n",
    "        raise Exception\n",
    "except Exception as e:\n",
    "    print('This is a raised Exception.')"
   ]
  },
  {
   "cell_type": "code",
   "execution_count": null,
   "metadata": {},
   "outputs": [],
   "source": []
  }
 ],
 "metadata": {
  "kernelspec": {
   "display_name": "Python 3",
   "language": "python",
   "name": "python3"
  },
  "language_info": {
   "codemirror_mode": {
    "name": "ipython",
    "version": 3
   },
   "file_extension": ".py",
   "mimetype": "text/x-python",
   "name": "python",
   "nbconvert_exporter": "python",
   "pygments_lexer": "ipython3",
   "version": "3.7.1"
  }
 },
 "nbformat": 4,
 "nbformat_minor": 2
}
