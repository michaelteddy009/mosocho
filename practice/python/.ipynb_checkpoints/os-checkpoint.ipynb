{
 "cells": [
  {
   "cell_type": "markdown",
   "metadata": {},
   "source": [
    "# OS Module\n",
    "=> It's an inbuilt module so we don't need to install anything to make use of it. Main working to is interract with the underlying operating system."
   ]
  },
  {
   "cell_type": "code",
   "execution_count": null,
   "metadata": {},
   "outputs": [],
   "source": [
    "import os"
   ]
  },
  {
   "cell_type": "code",
   "execution_count": null,
   "metadata": {},
   "outputs": [],
   "source": [
    "#get current working directory then change to another\n",
    "print(os.getcwd())\n",
    "os.chdir('F:\\\\scripts\\\\practice\\\\python')\n",
    "print(os.getcwd())"
   ]
  },
  {
   "cell_type": "code",
   "execution_count": null,
   "metadata": {},
   "outputs": [],
   "source": [
    "#to list directory we can use listdir(). Assumes the current working directory unless path specified as an argument\n",
    "os.listdir()"
   ]
  },
  {
   "cell_type": "code",
   "execution_count": null,
   "metadata": {},
   "outputs": [],
   "source": [
    "#there are two ways make directories the only difference is that makedirs enables inclusion of child-item in the file tree\n",
    "#os.mkdir('os-demo')\n",
    "os.makedirs('os-demo/sub-dir-1')\n",
    "\n",
    "os.listdir()"
   ]
  },
  {
   "cell_type": "code",
   "execution_count": null,
   "metadata": {},
   "outputs": [],
   "source": [
    "#to remove directories we have two cases as with making one.\n",
    "#os.rmdir('os-demo')\n",
    "#os.removedirs('os-demo/sub-dir-1')\n",
    "\n",
    "os.listdir()"
   ]
  },
  {
   "cell_type": "code",
   "execution_count": null,
   "metadata": {},
   "outputs": [],
   "source": [
    "#we can also rename a file as follows\n",
    "oldName =  input('Input the file name you would like to change: ')\n",
    "newName = input('Input the new naming of your file: ')\n",
    "os.rename(oldName, newName)\n",
    "\n",
    "os.listdir()"
   ]
  },
  {
   "cell_type": "code",
   "execution_count": null,
   "metadata": {},
   "outputs": [],
   "source": [
    "#assume we would like to print all the information about a file\n",
    "stats = os.stat('os-demo')\n",
    "print('Size of the file is {}'.format(stats.st_size))  #to get the size of the file among other functionalities\n",
    "print(stats)"
   ]
  },
  {
   "cell_type": "code",
   "execution_count": null,
   "metadata": {},
   "outputs": [],
   "source": [
    "#to get the modification time of a file\n",
    "import datetime\n",
    "\n",
    "modTime = stats.st_mtime\n",
    "print(datetime.datetime.fromtimestamp(modTime))"
   ]
  },
  {
   "cell_type": "code",
   "execution_count": null,
   "metadata": {},
   "outputs": [],
   "source": [
    "#to view the entire directory tree we use os.walk which returns a tuple yielding directory path, directory within that \n",
    "#path and files within that path\n",
    "\n",
    "for dirpath, dirnames, filenames in os.walk(os.getcwd()):\n",
    "    print('Path : {}'.format(dirpath))\n",
    "    print('Directories : {}'.format(dirnames))\n",
    "    print('Files : {}'.format(filenames))\n",
    "    print('\\n\\n')"
   ]
  },
  {
   "cell_type": "code",
   "execution_count": null,
   "metadata": {},
   "outputs": [],
   "source": [
    "#to get enviroment variable we use os.environ\n",
    "print(os.environ)\n",
    "print(os.environ.get('F:/Inuse'))"
   ]
  },
  {
   "cell_type": "code",
   "execution_count": null,
   "metadata": {},
   "outputs": [],
   "source": [
    "#to join two paths together or to make one.\n",
    "file_path = os.path.join(os.getcwd(), 'Advanced')\n",
    "print(file_path)"
   ]
  },
  {
   "cell_type": "code",
   "execution_count": null,
   "metadata": {},
   "outputs": [],
   "source": [
    "#The following list the basefile and the base directory\n",
    "print('Basename: ', os.path.basename(file_path))\n",
    "print('Directory :', os.path.dirname(file_path))\n",
    "print('Both base and directory :', os.path.split(file_path)) #gives both the basename and dirname\n",
    "print('If path exits :', os.path.exists(file_path))     #checks if the path exits\n",
    "print('Does the directory exist :', os.path.isdir(file_path))      #checks if a path is a directory\n",
    "print('Is this path a file :', os.path.isfile(file_path))     #checks if a file exits\n",
    "os.path.splitext('temp/mike.txt')     #splits the file path and the extension it's got"
   ]
  },
  {
   "cell_type": "code",
   "execution_count": null,
   "metadata": {},
   "outputs": [],
   "source": []
  },
  {
   "cell_type": "code",
   "execution_count": null,
   "metadata": {},
   "outputs": [],
   "source": []
  },
  {
   "cell_type": "code",
   "execution_count": null,
   "metadata": {},
   "outputs": [],
   "source": []
  }
 ],
 "metadata": {
  "kernelspec": {
   "display_name": "Python 3",
   "language": "python",
   "name": "python3"
  },
  "language_info": {
   "codemirror_mode": {
    "name": "ipython",
    "version": 3
   },
   "file_extension": ".py",
   "mimetype": "text/x-python",
   "name": "python",
   "nbconvert_exporter": "python",
   "pygments_lexer": "ipython3",
   "version": "3.7.1"
  }
 },
 "nbformat": 4,
 "nbformat_minor": 2
}
