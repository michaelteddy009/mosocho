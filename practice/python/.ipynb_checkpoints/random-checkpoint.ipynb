{
 "cells": [
  {
   "cell_type": "markdown",
   "metadata": {},
   "source": [
    "# <u><i>Random</i></u>\n",
    "=> Note that this should not be used in encryption or password protection and python advice that we should use secrets module.\n",
    "<br> => The methods covered here are random(), uniform(), ranint(), choice(), choices(), shuffle(), sample()"
   ]
  },
  {
   "cell_type": "code",
   "execution_count": null,
   "metadata": {},
   "outputs": [],
   "source": [
    "import random"
   ]
  },
  {
   "cell_type": "code",
   "execution_count": null,
   "metadata": {},
   "outputs": [],
   "source": [
    "# to generate a a number btwn 0 and 1 exclusive \n",
    "value = random.random()\n",
    "value"
   ]
  },
  {
   "cell_type": "code",
   "execution_count": null,
   "metadata": {},
   "outputs": [],
   "source": [
    "# to generate values within our desired range (exclusive).\n",
    "value = random.uniform(1, 10)\n",
    "value"
   ]
  },
  {
   "cell_type": "code",
   "execution_count": null,
   "metadata": {},
   "outputs": [],
   "source": [
    "#to generate random integers\n",
    "value = random.randint(1, 6)  #note that this is inclusive of 1 and 6\n",
    "value"
   ]
  },
  {
   "cell_type": "code",
   "execution_count": null,
   "metadata": {},
   "outputs": [],
   "source": [
    "#to select a random choice from a list of choices\n",
    "greetings = ['Hi', 'Hey', 'Hellow', 'Howdy', 'Holla']\n",
    "value = random.choice(greetings)\n",
    "print('{}, Michael.'.format(value))"
   ]
  },
  {
   "cell_type": "code",
   "execution_count": null,
   "metadata": {},
   "outputs": [],
   "source": [
    "# to generate 10 random results of a list of items\n",
    "colors = ['Red', 'Green', 'Black']\n",
    "results = random.choices(colors, weights=[9, 7, 4], k=20)\n",
    "print(results)"
   ]
  },
  {
   "cell_type": "code",
   "execution_count": null,
   "metadata": {},
   "outputs": [],
   "source": [
    "# To shuffle a list of items \n",
    "\n",
    "alist = list(range(1, 53))\n",
    "random.shuffle(alist)           #shuffles the list in place\n",
    "print(alist)"
   ]
  },
  {
   "cell_type": "code",
   "execution_count": null,
   "metadata": {},
   "outputs": [],
   "source": [
    "# To select randomly 5 values from a deck\n",
    "alist = list(range(1, 53))\n",
    "hand = random.sample(alist, k=5)\n",
    "print(hand)"
   ]
  },
  {
   "cell_type": "code",
   "execution_count": null,
   "metadata": {},
   "outputs": [],
   "source": []
  },
  {
   "cell_type": "code",
   "execution_count": null,
   "metadata": {},
   "outputs": [],
   "source": []
  }
 ],
 "metadata": {
  "kernelspec": {
   "display_name": "Python 3",
   "language": "python",
   "name": "python3"
  },
  "language_info": {
   "codemirror_mode": {
    "name": "ipython",
    "version": 3
   },
   "file_extension": ".py",
   "mimetype": "text/x-python",
   "name": "python",
   "nbconvert_exporter": "python",
   "pygments_lexer": "ipython3",
   "version": "3.7.1"
  }
 },
 "nbformat": 4,
 "nbformat_minor": 2
}
