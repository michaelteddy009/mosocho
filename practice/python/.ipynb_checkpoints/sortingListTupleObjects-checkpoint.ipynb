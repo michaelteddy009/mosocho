{
 "cells": [
  {
   "cell_type": "code",
   "execution_count": null,
   "metadata": {},
   "outputs": [],
   "source": [
    "li = [9, 1, 8, 2, 7, 3, 6, 4, 5]"
   ]
  },
  {
   "cell_type": "code",
   "execution_count": null,
   "metadata": {},
   "outputs": [],
   "source": [
    "#to make a sorted variable of li\n",
    "s_li = sorted(li)\n",
    "s_li"
   ]
  },
  {
   "cell_type": "code",
   "execution_count": null,
   "metadata": {},
   "outputs": [],
   "source": [
    "#we can also sort the original variable without making a new variable\n",
    "#note that we can't make a new variable with the sort method since it sorts the list in place\n",
    "#to make it a reverse sort the we pass reverse argument example: \"li.sort(reverse=True)\"\n",
    "li.sort()\n",
    "li"
   ]
  },
  {
   "cell_type": "code",
   "execution_count": null,
   "metadata": {},
   "outputs": [],
   "source": [
    "# to make a new list sorted in reverse\n",
    "\n",
    "s_list = sorted(li, reverse=True)\n",
    "s_list"
   ]
  },
  {
   "cell_type": "code",
   "execution_count": null,
   "metadata": {},
   "outputs": [],
   "source": [
    "# note that a tuple doesn't have a sort method leaving us with sorted as the only alternative.\n",
    "#it is important to note that this results to a list in the long-run\n",
    "\n",
    "tup = (9, 1, 8, 2, 7, 3, 6, 4, 5)\n",
    "s_tup = sorted(tup)\n",
    "s_tup"
   ]
  },
  {
   "cell_type": "code",
   "execution_count": null,
   "metadata": {},
   "outputs": [],
   "source": [
    "# if we are using sorted in on a dictionary then we will be given a result with an operation on the keys"
   ]
  },
  {
   "cell_type": "code",
   "execution_count": null,
   "metadata": {},
   "outputs": [],
   "source": [
    "# Assume we would like to sort list based on their absolute values then we do something like this\n",
    "\n",
    "li = [-6, -5, -4, 1, 2, 3]\n",
    "s_li = sorted(li, key=abs)\n",
    "s_li"
   ]
  },
  {
   "cell_type": "code",
   "execution_count": null,
   "metadata": {},
   "outputs": [],
   "source": []
  }
 ],
 "metadata": {
  "kernelspec": {
   "display_name": "Python 3",
   "language": "python",
   "name": "python3"
  },
  "language_info": {
   "codemirror_mode": {
    "name": "ipython",
    "version": 3
   },
   "file_extension": ".py",
   "mimetype": "text/x-python",
   "name": "python",
   "nbconvert_exporter": "python",
   "pygments_lexer": "ipython3",
   "version": "3.7.1"
  }
 },
 "nbformat": 4,
 "nbformat_minor": 2
}
