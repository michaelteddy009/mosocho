{
 "cells": [
  {
   "cell_type": "code",
   "execution_count": null,
   "metadata": {},
   "outputs": [],
   "source": [
    "'''LEGB => Local, Enclosing, Global, Built-in. This is the order how python checks variable.\n",
    "-Local are variables defined within a function.\n",
    "-Global are those variables defined and can be used anywhere in the code.\n",
    "NB: note that within a function we can make a global variable by defining as follows\n",
    "        def test():\n",
    "            global x \n",
    "            x = 'local x'\n",
    "            print(x)\n",
    "            \n",
    "    This makes it possible to use the x variable as a global one. We shoul also note that this is used very\n",
    "    rarely in coding and sometimes if you fing you are using this alot then you should know you are doing something wrong.\n",
    "    \n",
    "=>If we write a function with a name within the builtin functions then we try to use the built in we will see an error.\n",
    "=>Enclosing is a function within a function.\n",
    "    \n",
    "'''"
   ]
  },
  {
   "cell_type": "code",
   "execution_count": null,
   "metadata": {},
   "outputs": [],
   "source": [
    "#to see the functions that are built in within python\n",
    "import builtins\n",
    "dir(builtins)"
   ]
  },
  {
   "cell_type": "code",
   "execution_count": null,
   "metadata": {},
   "outputs": [],
   "source": [
    "#we try to explain enclosing here.\n",
    "\n",
    "x = 'Global x'\n",
    "def outer():\n",
    "    x = 'Outer x'\n",
    "    \n",
    "    def inner():\n",
    "        x = 'inner x'\n",
    "        print(x)\n",
    "        \n",
    "    inner()\n",
    "    print(x)\n",
    "    \n",
    "outer()\n",
    "print(x)"
   ]
  },
  {
   "cell_type": "code",
   "execution_count": null,
   "metadata": {},
   "outputs": [],
   "source": [
    "#look how we can use an enclosed variable outside the innner function. nonlocal is used more often since it can be used to\n",
    "#change \n",
    "\n",
    "def outer():\n",
    "    x = 'Outer x'\n",
    "    \n",
    "    def inner():\n",
    "        nonlocal x\n",
    "        x = 'inner x'\n",
    "        print(x)\n",
    "        \n",
    "    inner()\n",
    "    print(x)\n",
    "    \n",
    "outer()"
   ]
  },
  {
   "cell_type": "code",
   "execution_count": null,
   "metadata": {},
   "outputs": [],
   "source": []
  }
 ],
 "metadata": {
  "kernelspec": {
   "display_name": "Python 3",
   "language": "python",
   "name": "python3"
  },
  "language_info": {
   "codemirror_mode": {
    "name": "ipython",
    "version": 3
   },
   "file_extension": ".py",
   "mimetype": "text/x-python",
   "name": "python",
   "nbconvert_exporter": "python",
   "pygments_lexer": "ipython3",
   "version": "3.7.1"
  }
 },
 "nbformat": 4,
 "nbformat_minor": 2
}
