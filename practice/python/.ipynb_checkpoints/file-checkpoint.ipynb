{
 "cells": [
  {
   "cell_type": "markdown",
   "metadata": {},
   "source": [
    "# File Notes\n",
    "=> We use open() to create a file object. First argument being file name then second is how we would like to operateon the file like read, write etc."
   ]
  },
  {
   "cell_type": "markdown",
   "metadata": {},
   "source": [
    "## Reading From File"
   ]
  },
  {
   "cell_type": "code",
   "execution_count": null,
   "metadata": {},
   "outputs": [],
   "source": [
    "#create file object. Note if opened like this then we have to rember to close the file explicity.\n",
    "\n",
    "f = open('delete.txt')\n",
    "print(f.name)  #to name the file\n",
    "print(f.mode)  #to get the current mode of the file \n",
    "f.close()     #to close the file"
   ]
  },
  {
   "cell_type": "code",
   "execution_count": null,
   "metadata": {},
   "outputs": [],
   "source": [
    "#Now here we open the file using a context manager that will allow us to exit the file without closing explicitly but will\n",
    "#automatically be closed. We can still access the file object f outside the context manager but we will not be able to chnge \n",
    "#anything since the file will automatically be closed.\n",
    "\n",
    "with open('delete.txt', 'r') as f:\n",
    "    f_contents = f.read(100)                      #to read the entire content of the file or specific number of lines\n",
    "    print(f_contents)\n",
    "    "
   ]
  },
  {
   "cell_type": "code",
   "execution_count": null,
   "metadata": {},
   "outputs": [],
   "source": [
    "with open('delete.txt') as f:\n",
    "    f_content = f.readlines()                  #reads the entire file but each line exists as list\n",
    "    print(f_content)"
   ]
  },
  {
   "cell_type": "code",
   "execution_count": null,
   "metadata": {},
   "outputs": [],
   "source": [
    "with open('delete.txt') as f:\n",
    "    f_content = f.readline()\n",
    "    print(f_content, end='')\n",
    "    \n",
    "    f_content = f.readline()\n",
    "    print(f_content, end='')"
   ]
  },
  {
   "cell_type": "code",
   "execution_count": null,
   "metadata": {},
   "outputs": [],
   "source": [
    "#ideally it will be useful to read the entire fill using an iterator.\n",
    "\n",
    "with open('delete.txt') as f:\n",
    "    for line in f:\n",
    "        print(line, end='')"
   ]
  },
  {
   "cell_type": "code",
   "execution_count": null,
   "metadata": {},
   "outputs": [],
   "source": [
    "#we can also read the first 100 lines then the next 100 like this but if the number exceeds our characters nothing really happens\n",
    "\n",
    "with open('delete.txt') as f:\n",
    "    f_content = f.read(100)\n",
    "    print(f_content, end='')\n",
    "    \n",
    "    f_content = f.read(100)\n",
    "    print(f_content, end='')\n",
    "    \n",
    "    f_content = f.read(100)\n",
    "    print(f_content, end='')\n",
    "    \n",
    "  "
   ]
  },
  {
   "cell_type": "code",
   "execution_count": null,
   "metadata": {},
   "outputs": [],
   "source": [
    "#instead of the way above we can also loop through the file while reading\n",
    "\n",
    "with open('delete.txt') as f:\n",
    "    size_to_read = 20\n",
    "    \n",
    "    f_content = f.read(size_to_read)\n",
    "    print(f.tell())                   #to tell the current position that we are at in a file\n",
    "    while len(f_content) > 0:\n",
    "        print(f_content, end='*')\n",
    "        f_content = f.read(size_to_read)\n",
    "        \n",
    "    "
   ]
  },
  {
   "cell_type": "code",
   "execution_count": null,
   "metadata": {},
   "outputs": [],
   "source": [
    "#We can seek go back to read the beginning of a line using f.seek like this\n",
    "\n",
    "with open('delete.txt') as f:\n",
    "    f_content = f.read(100)\n",
    "    print(f_content, end='')\n",
    "    \n",
    "    f.seek(0)\n",
    "    \n",
    "    f_content = f.read(100)\n",
    "    print(f_content, end='')"
   ]
  },
  {
   "cell_type": "markdown",
   "metadata": {},
   "source": [
    "## Writing To File"
   ]
  },
  {
   "cell_type": "code",
   "execution_count": null,
   "metadata": {},
   "outputs": [],
   "source": [
    "# if we try to write to a file that doesn't exit then it will be created\n",
    "\n",
    "with open('delete2.txt', 'w') as f:\n",
    "    f.write('Test')\n",
    "    f.write('Test')"
   ]
  },
  {
   "cell_type": "code",
   "execution_count": null,
   "metadata": {},
   "outputs": [],
   "source": [
    "#in the above example we can use seek to overwrite the texts already written.But note that seek doesn't overwrite the entire\n",
    "# line but a part of it. like for the case below\n",
    "\n",
    "with open('delete2.txt', 'w') as f:\n",
    "    f.write('Test')\n",
    "    f.seek(0)\n",
    "    f.write('win')"
   ]
  },
  {
   "cell_type": "code",
   "execution_count": null,
   "metadata": {},
   "outputs": [],
   "source": []
  }
 ],
 "metadata": {
  "kernelspec": {
   "display_name": "Python 3",
   "language": "python",
   "name": "python3"
  },
  "language_info": {
   "codemirror_mode": {
    "name": "ipython",
    "version": 3
   },
   "file_extension": ".py",
   "mimetype": "text/x-python",
   "name": "python",
   "nbconvert_exporter": "python",
   "pygments_lexer": "ipython3",
   "version": "3.7.1"
  }
 },
 "nbformat": 4,
 "nbformat_minor": 2
}
