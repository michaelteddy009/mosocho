{
 "cells": [
  {
   "cell_type": "markdown",
   "metadata": {},
   "source": [
    "# <u>Regular Expressions</u>\n",
    "\n",
    "=>Raw string are those that are prefixed with an r before a string and they tell python not to handle backslashes in any special kind of way. <br>=> Metacharacter include (these are characters that need to be escaped) [. ^ $ * + ? { } [] \\ | ( ) ] . Meaning that these characters in the search should be specified with a backslash to help in escaping.<br>We can use findall instead of finditer and the difference is that findall will return a list of strings.We also have search, match"
   ]
  },
  {
   "cell_type": "code",
   "execution_count": null,
   "metadata": {},
   "outputs": [],
   "source": [
    "import re"
   ]
  },
  {
   "cell_type": "code",
   "execution_count": null,
   "metadata": {},
   "outputs": [],
   "source": [
    "#see the difference below\n",
    "print(\"\\tTab\")\n",
    "print(r'\\tTab')"
   ]
  },
  {
   "cell_type": "code",
   "execution_count": null,
   "metadata": {},
   "outputs": [],
   "source": [
    "#example of use case\n",
    "sentence = 'This is war. War we asked for in the fire fire fire. We won the war'\n",
    "pattern = re.compile('')\n",
    "matches = pattern.finditer(sentence)\n",
    "\n",
    "for match in matches:\n",
    "    print(match)"
   ]
  },
  {
   "cell_type": "code",
   "execution_count": null,
   "metadata": {},
   "outputs": [],
   "source": [
    "'''\n",
    "\\d => digit (0-9)\n",
    "\\D => Not a digit(0-9)\n",
    "\\w = word character (a-z, A-Z, 0-9, _)\n",
    "\\W => not a word character\n",
    "\\s => whitespace (space, tab, newline)\n",
    "\\S => Not a whitespace\n",
    "\\b => word boundary\n",
    "\\B => Not a word boundary\n",
    "\n",
    "\\b => word boundary\n",
    "\\B => Not a word boundary\n",
    "^ => Beginning of a string note: when used within a character set then it return it's a negating symbol. \n",
    "$ => End of a string eg r'ask$'\n",
    "\n",
    "[] => Matches characters in the brackets\n",
    "[^ ] => Matches characters not in the bracket\n",
    "| => Either or\n",
    "() => Group\n",
    "\n",
    "searching througn ranges [1-5], [a-z], [a-zA-Z]\n",
    "\n",
    "    Quantifiers\n",
    "* => 0 or more\n",
    "+ => 1 or more\n",
    "? => 0 or one\n",
    "{3} => Exact Number\n",
    "{3,4} => Range of Numbers (manimum, Maximum)\n",
    "\n",
    "'''"
   ]
  },
  {
   "cell_type": "code",
   "execution_count": null,
   "metadata": {},
   "outputs": [],
   "source": [
    "numbers = \"321-555-4321, 123.555.1234, 256*555*7952\"\n",
    "\n",
    "pattern =  re.compile(r'\\d\\d\\d.\\d\\d\\d.\\d\\d\\d\\d')\n",
    "matches = pattern.finditer(numbers)\n",
    "\n",
    "for match in matches:\n",
    "    print(match)"
   ]
  },
  {
   "cell_type": "code",
   "execution_count": null,
   "metadata": {},
   "outputs": [],
   "source": [
    "#using a character set example \n",
    "\n",
    "pattern =  re.compile(r'\\d\\d\\d[.*]\\d\\d\\d[.*]\\d\\d\\d\\d') #character sets only matches one character\n",
    "matches = pattern.finditer(numbers)\n",
    "\n",
    "for match in matches:\n",
    "    print(match)"
   ]
  },
  {
   "cell_type": "code",
   "execution_count": null,
   "metadata": {},
   "outputs": [],
   "source": [
    "#Using quantifiers \n",
    "pattern =  re.compile(r'\\d+.\\d+.\\d+')\n",
    "matches = pattern.finditer(numbers)\n",
    "\n",
    "for x in matches:\n",
    "    print(x)"
   ]
  },
  {
   "cell_type": "code",
   "execution_count": null,
   "metadata": {},
   "outputs": [],
   "source": [
    "#accessing data using group\n",
    "\n",
    "urls =\"https://www.google.com, http://coreyms.com, https://youtube.com,https://www.nasa.gov\"\n",
    "\n",
    "pattern = re.compile(r'https?://(www\\.)?(\\w+)(\\.\\w+)')\n",
    "matches = pattern.finditer(urls)\n",
    "\n",
    "for match in matches:\n",
    "    print('Domain =', match.group(3))"
   ]
  },
  {
   "cell_type": "code",
   "execution_count": null,
   "metadata": {},
   "outputs": [],
   "source": [
    "urls =\"https://www.google.com, http://coreyms.com, https://youtube.com,https://www.nasa.gov\"\n",
    "\n",
    "pattern = re.compile(r'https?://(www\\.)?(\\w+)(\\.\\w+)')\n",
    "\n",
    "#forming a pattern from the groups we captured\n",
    "subbed_url = pattern.sub(r'\\2\\3', urls)\n",
    "print(subbed_url)"
   ]
  },
  {
   "cell_type": "code",
   "execution_count": null,
   "metadata": {},
   "outputs": [],
   "source": [
    "#to ignore case we would do something like this\n",
    "pattern = re.compile(r'start', re.IGNORECASE) #re.IGNORECASE or re.I"
   ]
  }
 ],
 "metadata": {
  "kernelspec": {
   "display_name": "Python 3",
   "language": "python",
   "name": "python3"
  },
  "language_info": {
   "codemirror_mode": {
    "name": "ipython",
    "version": 3
   },
   "file_extension": ".py",
   "mimetype": "text/x-python",
   "name": "python",
   "nbconvert_exporter": "python",
   "pygments_lexer": "ipython3",
   "version": "3.7.1"
  }
 },
 "nbformat": 4,
 "nbformat_minor": 2
}
