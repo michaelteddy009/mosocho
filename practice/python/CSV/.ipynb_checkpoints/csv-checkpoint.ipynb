{
 "cells": [
  {
   "cell_type": "code",
   "execution_count": null,
   "metadata": {},
   "outputs": [],
   "source": [
    "import csv"
   ]
  },
  {
   "cell_type": "markdown",
   "metadata": {},
   "source": [
    "# <u>Reading CSV</u>\n",
    "### <u>Using reader</u>"
   ]
  },
  {
   "cell_type": "code",
   "execution_count": null,
   "metadata": {},
   "outputs": [],
   "source": [
    "with open('names.csv', 'r') as file:\n",
    "    csv_reader = csv.reader(file)      #we have the option of specifying the delimeter\n",
    "    \n",
    "    next(csv_reader)            #to skip the first line\n",
    "    \n",
    "    for line in csv_reader:\n",
    "        print(line)"
   ]
  },
  {
   "cell_type": "markdown",
   "metadata": {},
   "source": [
    "### <u>Using DictReader</u>"
   ]
  },
  {
   "cell_type": "code",
   "execution_count": null,
   "metadata": {},
   "outputs": [],
   "source": [
    "with open('names.csv', 'r') as file:\n",
    "    reader = csv.DictReader(file)\n",
    "    \n",
    "    for line in reader:      #now each line is a dictionary with key and the first line does not have to be fieldnames\n",
    "        print(line)"
   ]
  },
  {
   "cell_type": "markdown",
   "metadata": {},
   "source": [
    "# <u>Writing CSV</u>"
   ]
  },
  {
   "cell_type": "markdown",
   "metadata": {},
   "source": [
    "### <u> Using writer</u>"
   ]
  },
  {
   "cell_type": "code",
   "execution_count": null,
   "metadata": {},
   "outputs": [],
   "source": [
    "#open the file we want to copy\n",
    "with open('names.csv', 'r') as file:\n",
    "    read = csv.reader(file)\n",
    "    \n",
    "    #open a file we would like to write\n",
    "    with open('copied_names.csv', 'w') as wfile:\n",
    "        writer = csv.writer(wfile, delimiter='-')  #define a delimeter to use like , : \\t etc\n",
    "        \n",
    "        for line in read:\n",
    "            writer.writerow(line)\n",
    "        "
   ]
  },
  {
   "cell_type": "markdown",
   "metadata": {},
   "source": [
    "### <u> Using DictWriter </u>"
   ]
  },
  {
   "cell_type": "code",
   "execution_count": null,
   "metadata": {},
   "outputs": [],
   "source": [
    "with open('names.csv', 'r') as fil:\n",
    "    read = csv.DictReader(fil)\n",
    "    \n",
    "    with open('copied_names_dict.csv', 'w') as fi:\n",
    "        \n",
    "        #we have to provide the fields we would like to copy \n",
    "        fields = ['CUSTOMERID', 'GENDER', 'AGE', 'INCOME', 'EXPERIENCE SCORE']\n",
    "         \n",
    "        writer = csv.DictWriter(fi, fieldnames=fields, delimiter='\\t')\n",
    "        \n",
    "        #write headers\n",
    "        writer.writeheader()\n",
    "        \n",
    "        for line in read:\n",
    "            \n",
    "            #delte \n",
    "            deletes = ['MARITAL STATUS', 'LOYALTY GROUP', 'ENROLLMENT DATE', 'HOUSEHOLD SIZE']\n",
    "            for column in deletes:\n",
    "                del line[column]\n",
    "            writer.writerow(line)"
   ]
  },
  {
   "cell_type": "markdown",
   "metadata": {},
   "source": [
    "# <u>Extra Notes</u>\n",
    "\n",
    "=>To write to a csv using DictWriter we use must use DictReader to read the file we would like to parse.So it's important to<br>use writer with reader and DictWriter with DictReader"
   ]
  },
  {
   "cell_type": "code",
   "execution_count": null,
   "metadata": {},
   "outputs": [],
   "source": []
  }
 ],
 "metadata": {
  "kernelspec": {
   "display_name": "Python 3",
   "language": "python",
   "name": "python3"
  },
  "language_info": {
   "codemirror_mode": {
    "name": "ipython",
    "version": 3
   },
   "file_extension": ".py",
   "mimetype": "text/x-python",
   "name": "python",
   "nbconvert_exporter": "python",
   "pygments_lexer": "ipython3",
   "version": "3.7.1"
  }
 },
 "nbformat": 4,
 "nbformat_minor": 2
}
