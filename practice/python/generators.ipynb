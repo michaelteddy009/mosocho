{
 "cells": [
  {
   "cell_type": "code",
   "execution_count": null,
   "metadata": {},
   "outputs": [],
   "source": [
    "def square_numbers(nums):\n",
    "    for i in nums:\n",
    "        yield (i*i)   #this makes the function a generator hence not holding the values in memory\n",
    "        \n",
    "mike = square_numbers([1,2,3,4,5])\n",
    "\n",
    "next(mike)\n",
    "next(mike)\n",
    "next(mike)"
   ]
  },
  {
   "cell_type": "code",
   "execution_count": null,
   "metadata": {},
   "outputs": [],
   "source": [
    "for x in mike:\n",
    "    print(x)"
   ]
  },
  {
   "cell_type": "code",
   "execution_count": null,
   "metadata": {},
   "outputs": [],
   "source": [
    "#alternatively\n",
    "my_nums = (x*x for x in range(1, 6)) #we have made a generator \n",
    "\n",
    "for x in my_nums:\n",
    "    print(x)\n",
    "    \n",
    "#we can also convert the generator to a list though we loose performance on this\n",
    "miki = list(my_nums) #nothing is added since the loop above exhausts the entire gerators values\n",
    "print(miki)"
   ]
  },
  {
   "cell_type": "code",
   "execution_count": null,
   "metadata": {},
   "outputs": [],
   "source": [
    "#range returns a list of numbers but xrange gives a generator"
   ]
  },
  {
   "cell_type": "code",
   "execution_count": null,
   "metadata": {},
   "outputs": [],
   "source": []
  }
 ],
 "metadata": {
  "kernelspec": {
   "display_name": "Python 3",
   "language": "python",
   "name": "python3"
  },
  "language_info": {
   "codemirror_mode": {
    "name": "ipython",
    "version": 3
   },
   "file_extension": ".py",
   "mimetype": "text/x-python",
   "name": "python",
   "nbconvert_exporter": "python",
   "pygments_lexer": "ipython3",
   "version": "3.7.1"
  }
 },
 "nbformat": 4,
 "nbformat_minor": 2
}
